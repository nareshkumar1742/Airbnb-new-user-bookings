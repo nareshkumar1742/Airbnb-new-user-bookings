{
  "cells": [
    {
      "cell_type": "markdown",
      "metadata": {
        "id": "qKjrQm6l6vhy"
      },
      "source": [
        "**Sessions EDA, Feature Engineering**"
      ]
    },
    {
      "cell_type": "markdown",
      "metadata": {
        "id": "UrgDIDHY67Y4"
      },
      "source": [
        "Before going ahead with sessions dataset please do see 'User Feature Extraction, Analysis, Engineering.ipynb' python note book."
      ]
    },
    {
      "cell_type": "code",
      "execution_count": null,
      "metadata": {
        "id": "xAXKW8oPrgxG"
      },
      "outputs": [],
      "source": [
        "!pip install -q kaggle"
      ]
    },
    {
      "cell_type": "code",
      "execution_count": null,
      "metadata": {
        "colab": {
          "base_uri": "https://localhost:8080/"
        },
        "id": "Am_xvqzZrwCT",
        "outputId": "d779a6ca-4a34-4fc4-931a-1a33c99d0a3c"
      },
      "outputs": [
        {
          "name": "stdout",
          "output_type": "stream",
          "text": [
            "/root\n",
            "Warning: Your Kaggle API key is readable by other users on this system! To fix this, you can run 'chmod 600 /root/.kaggle/kaggle.json'\n",
            "Warning: Looks like you're using an outdated API Version, please consider updating (server 1.5.12 / client 1.5.4)\n",
            "Downloading test_users.csv.zip to /root\n",
            "  0% 0.00/1.03M [00:00<?, ?B/s]\n",
            "100% 1.03M/1.03M [00:00<00:00, 34.7MB/s]\n",
            "Downloading countries.csv.zip to /root\n",
            "  0% 0.00/546 [00:00<?, ?B/s]\n",
            "100% 546/546 [00:00<00:00, 450kB/s]\n",
            "Downloading age_gender_bkts.csv.zip to /root\n",
            "  0% 0.00/2.46k [00:00<?, ?B/s]\n",
            "100% 2.46k/2.46k [00:00<00:00, 1.99MB/s]\n",
            "Downloading train_users_2.csv.zip to /root\n",
            "  0% 0.00/4.07M [00:00<?, ?B/s]\n",
            "100% 4.07M/4.07M [00:00<00:00, 37.3MB/s]\n",
            "Downloading sessions.csv.zip to /root\n",
            " 83% 49.0M/59.1M [00:00<00:00, 84.5MB/s]\n",
            "100% 59.1M/59.1M [00:00<00:00, 108MB/s] \n",
            "Downloading sample_submission_NDF.csv.zip to /root\n",
            "  0% 0.00/478k [00:00<?, ?B/s]\n",
            "100% 478k/478k [00:00<00:00, 155MB/s]\n"
          ]
        }
      ],
      "source": [
        "!mkdir ~/.kaggle\n",
        "!cp kaggle.json ~/.kaggle/\n",
        "%cd /root\n",
        "!kaggle competitions download -c 'airbnb-recruiting-new-user-bookings'"
      ]
    },
    {
      "cell_type": "code",
      "execution_count": null,
      "metadata": {
        "id": "cMG3aIMDr5eS"
      },
      "outputs": [],
      "source": [
        "import pandas as pd\n",
        "import numpy as np\n",
        "import matplotlib.pyplot as plt\n",
        "import seaborn as sns\n",
        "import warnings\n",
        "warnings.filterwarnings('ignore')"
      ]
    },
    {
      "cell_type": "code",
      "execution_count": null,
      "metadata": {
        "colab": {
          "base_uri": "https://localhost:8080/"
        },
        "id": "aQVzfpkiA_bo",
        "outputId": "5566c26d-03bc-412e-8ebf-807036260a4b"
      },
      "outputs": [
        {
          "name": "stdout",
          "output_type": "stream",
          "text": [
            "/root\n"
          ]
        }
      ],
      "source": [
        "%cd /root"
      ]
    },
    {
      "cell_type": "code",
      "execution_count": null,
      "metadata": {
        "colab": {
          "background_save": true
        },
        "id": "a5LA0Bu1r70S"
      },
      "outputs": [],
      "source": [
        "train_data=pd.read_csv('train_users_2.csv.zip',compression='zip')\n",
        "sessions_data=pd.read_csv('sessions.csv.zip',compression='zip')\n",
        "test_data=pd.read_csv('test_users.csv.zip',compression='zip')"
      ]
    },
    {
      "cell_type": "code",
      "execution_count": null,
      "metadata": {
        "colab": {
          "base_uri": "https://localhost:8080/"
        },
        "id": "Wr74wFkBum7R",
        "outputId": "e43d3c44-5fe2-485e-df67-733b9cd12ec1"
      },
      "outputs": [
        {
          "output_type": "execute_result",
          "data": {
            "text/plain": [
              "(62096, 15)"
            ]
          },
          "metadata": {},
          "execution_count": 6
        }
      ],
      "source": [
        "test_data.shape"
      ]
    },
    {
      "cell_type": "code",
      "execution_count": null,
      "metadata": {
        "colab": {
          "base_uri": "https://localhost:8080/"
        },
        "id": "22kPF2HPvKVq",
        "outputId": "249ba369-55ec-43be-c8e8-2501bba44a6c"
      },
      "outputs": [
        {
          "output_type": "stream",
          "name": "stdout",
          "text": [
            "/content/drive/MyDrive/Airbnb trail\n"
          ]
        }
      ],
      "source": [
        "%cd /content/drive/MyDrive/Airbnb trail"
      ]
    },
    {
      "cell_type": "code",
      "execution_count": null,
      "metadata": {
        "id": "rto3fZmTvBwZ"
      },
      "outputs": [],
      "source": [
        "X_train_data=pd.read_csv('Train_feature_engineered.csv')\n",
        "X_cv_data=pd.read_csv('Cv_feature_engineered.csv')\n",
        "X_test_data=pd.read_csv('Test_feature_engineered.csv')"
      ]
    },
    {
      "cell_type": "code",
      "execution_count": null,
      "metadata": {
        "id": "-ULojxK6ve3v"
      },
      "outputs": [],
      "source": [
        "X_train_data.drop('Unnamed: 0',axis=1,inplace=True)\n",
        "X_cv_data.drop('Unnamed: 0',axis=1,inplace=True)\n",
        "X_test_data.drop('Unnamed: 0',axis=1,inplace=True)"
      ]
    },
    {
      "cell_type": "code",
      "execution_count": null,
      "metadata": {
        "colab": {
          "base_uri": "https://localhost:8080/"
        },
        "id": "RPXLD2Lxu5tv",
        "outputId": "f6b00cf0-7c52-45b9-eeba-30e375d1529e"
      },
      "outputs": [
        {
          "output_type": "stream",
          "name": "stdout",
          "text": [
            "(62742, 94)\n",
            "(11073, 94)\n",
            "(62096, 93)\n"
          ]
        }
      ],
      "source": [
        "print(X_train_data.shape)\n",
        "print(X_cv_data.shape)\n",
        "print(X_test_data.shape)"
      ]
    },
    {
      "cell_type": "code",
      "execution_count": null,
      "metadata": {
        "colab": {
          "base_uri": "https://localhost:8080/"
        },
        "id": "oIdcy6dgsDX_",
        "outputId": "01cc22c0-5296-40b6-ed2f-2506124b941b"
      },
      "outputs": [
        {
          "output_type": "stream",
          "name": "stdout",
          "text": [
            "<class 'pandas.core.frame.DataFrame'>\n",
            "RangeIndex: 10567737 entries, 0 to 10567736\n",
            "Data columns (total 6 columns):\n",
            " #   Column         Dtype  \n",
            "---  ------         -----  \n",
            " 0   user_id        object \n",
            " 1   action         object \n",
            " 2   action_type    object \n",
            " 3   action_detail  object \n",
            " 4   device_type    object \n",
            " 5   secs_elapsed   float64\n",
            "dtypes: float64(1), object(5)\n",
            "memory usage: 483.8+ MB\n"
          ]
        }
      ],
      "source": [
        "sessions_data.info()"
      ]
    },
    {
      "cell_type": "code",
      "execution_count": null,
      "metadata": {
        "colab": {
          "base_uri": "https://localhost:8080/",
          "height": 279
        },
        "id": "HqLb6Vt2TThv",
        "outputId": "f8ecc88d-3d1f-466b-d814-4cc61a6283fb"
      },
      "outputs": [
        {
          "output_type": "execute_result",
          "data": {
            "text/html": [
              "\n",
              "  <div id=\"df-1590e17f-b4a2-4477-a8dd-fdc02447cd46\">\n",
              "    <div class=\"colab-df-container\">\n",
              "      <div>\n",
              "<style scoped>\n",
              "    .dataframe tbody tr th:only-of-type {\n",
              "        vertical-align: middle;\n",
              "    }\n",
              "\n",
              "    .dataframe tbody tr th {\n",
              "        vertical-align: top;\n",
              "    }\n",
              "\n",
              "    .dataframe thead th {\n",
              "        text-align: right;\n",
              "    }\n",
              "</style>\n",
              "<table border=\"1\" class=\"dataframe\">\n",
              "  <thead>\n",
              "    <tr style=\"text-align: right;\">\n",
              "      <th></th>\n",
              "      <th>secs_elapsed</th>\n",
              "    </tr>\n",
              "  </thead>\n",
              "  <tbody>\n",
              "    <tr>\n",
              "      <th>count</th>\n",
              "      <td>1.043171e+07</td>\n",
              "    </tr>\n",
              "    <tr>\n",
              "      <th>mean</th>\n",
              "      <td>1.940581e+04</td>\n",
              "    </tr>\n",
              "    <tr>\n",
              "      <th>std</th>\n",
              "      <td>8.888424e+04</td>\n",
              "    </tr>\n",
              "    <tr>\n",
              "      <th>min</th>\n",
              "      <td>0.000000e+00</td>\n",
              "    </tr>\n",
              "    <tr>\n",
              "      <th>25%</th>\n",
              "      <td>2.290000e+02</td>\n",
              "    </tr>\n",
              "    <tr>\n",
              "      <th>50%</th>\n",
              "      <td>1.147000e+03</td>\n",
              "    </tr>\n",
              "    <tr>\n",
              "      <th>75%</th>\n",
              "      <td>8.444000e+03</td>\n",
              "    </tr>\n",
              "    <tr>\n",
              "      <th>max</th>\n",
              "      <td>1.799977e+06</td>\n",
              "    </tr>\n",
              "  </tbody>\n",
              "</table>\n",
              "</div>\n",
              "      <button class=\"colab-df-convert\" onclick=\"convertToInteractive('df-1590e17f-b4a2-4477-a8dd-fdc02447cd46')\"\n",
              "              title=\"Convert this dataframe to an interactive table.\"\n",
              "              style=\"display:none;\">\n",
              "        \n",
              "  <svg xmlns=\"http://www.w3.org/2000/svg\" height=\"24px\"viewBox=\"0 0 24 24\"\n",
              "       width=\"24px\">\n",
              "    <path d=\"M0 0h24v24H0V0z\" fill=\"none\"/>\n",
              "    <path d=\"M18.56 5.44l.94 2.06.94-2.06 2.06-.94-2.06-.94-.94-2.06-.94 2.06-2.06.94zm-11 1L8.5 8.5l.94-2.06 2.06-.94-2.06-.94L8.5 2.5l-.94 2.06-2.06.94zm10 10l.94 2.06.94-2.06 2.06-.94-2.06-.94-.94-2.06-.94 2.06-2.06.94z\"/><path d=\"M17.41 7.96l-1.37-1.37c-.4-.4-.92-.59-1.43-.59-.52 0-1.04.2-1.43.59L10.3 9.45l-7.72 7.72c-.78.78-.78 2.05 0 2.83L4 21.41c.39.39.9.59 1.41.59.51 0 1.02-.2 1.41-.59l7.78-7.78 2.81-2.81c.8-.78.8-2.07 0-2.86zM5.41 20L4 18.59l7.72-7.72 1.47 1.35L5.41 20z\"/>\n",
              "  </svg>\n",
              "      </button>\n",
              "      \n",
              "  <style>\n",
              "    .colab-df-container {\n",
              "      display:flex;\n",
              "      flex-wrap:wrap;\n",
              "      gap: 12px;\n",
              "    }\n",
              "\n",
              "    .colab-df-convert {\n",
              "      background-color: #E8F0FE;\n",
              "      border: none;\n",
              "      border-radius: 50%;\n",
              "      cursor: pointer;\n",
              "      display: none;\n",
              "      fill: #1967D2;\n",
              "      height: 32px;\n",
              "      padding: 0 0 0 0;\n",
              "      width: 32px;\n",
              "    }\n",
              "\n",
              "    .colab-df-convert:hover {\n",
              "      background-color: #E2EBFA;\n",
              "      box-shadow: 0px 1px 2px rgba(60, 64, 67, 0.3), 0px 1px 3px 1px rgba(60, 64, 67, 0.15);\n",
              "      fill: #174EA6;\n",
              "    }\n",
              "\n",
              "    [theme=dark] .colab-df-convert {\n",
              "      background-color: #3B4455;\n",
              "      fill: #D2E3FC;\n",
              "    }\n",
              "\n",
              "    [theme=dark] .colab-df-convert:hover {\n",
              "      background-color: #434B5C;\n",
              "      box-shadow: 0px 1px 3px 1px rgba(0, 0, 0, 0.15);\n",
              "      filter: drop-shadow(0px 1px 2px rgba(0, 0, 0, 0.3));\n",
              "      fill: #FFFFFF;\n",
              "    }\n",
              "  </style>\n",
              "\n",
              "      <script>\n",
              "        const buttonEl =\n",
              "          document.querySelector('#df-1590e17f-b4a2-4477-a8dd-fdc02447cd46 button.colab-df-convert');\n",
              "        buttonEl.style.display =\n",
              "          google.colab.kernel.accessAllowed ? 'block' : 'none';\n",
              "\n",
              "        async function convertToInteractive(key) {\n",
              "          const element = document.querySelector('#df-1590e17f-b4a2-4477-a8dd-fdc02447cd46');\n",
              "          const dataTable =\n",
              "            await google.colab.kernel.invokeFunction('convertToInteractive',\n",
              "                                                     [key], {});\n",
              "          if (!dataTable) return;\n",
              "\n",
              "          const docLinkHtml = 'Like what you see? Visit the ' +\n",
              "            '<a target=\"_blank\" href=https://colab.research.google.com/notebooks/data_table.ipynb>data table notebook</a>'\n",
              "            + ' to learn more about interactive tables.';\n",
              "          element.innerHTML = '';\n",
              "          dataTable['output_type'] = 'display_data';\n",
              "          await google.colab.output.renderOutput(dataTable, element);\n",
              "          const docLink = document.createElement('div');\n",
              "          docLink.innerHTML = docLinkHtml;\n",
              "          element.appendChild(docLink);\n",
              "        }\n",
              "      </script>\n",
              "    </div>\n",
              "  </div>\n",
              "  "
            ],
            "text/plain": [
              "       secs_elapsed\n",
              "count  1.043171e+07\n",
              "mean   1.940581e+04\n",
              "std    8.888424e+04\n",
              "min    0.000000e+00\n",
              "25%    2.290000e+02\n",
              "50%    1.147000e+03\n",
              "75%    8.444000e+03\n",
              "max    1.799977e+06"
            ]
          },
          "metadata": {},
          "execution_count": 14
        }
      ],
      "source": [
        "sessions_data.describe()"
      ]
    },
    {
      "cell_type": "code",
      "execution_count": null,
      "metadata": {
        "colab": {
          "base_uri": "https://localhost:8080/"
        },
        "id": "YlsF83LrTnyQ",
        "outputId": "c7da313f-0420-4e5c-a55f-d30116897c71"
      },
      "outputs": [
        {
          "output_type": "stream",
          "name": "stdout",
          "text": [
            "Shape of sessions data: (10567737, 6)\n"
          ]
        }
      ],
      "source": [
        "print(\"Shape of sessions data:\",sessions_data.shape)"
      ]
    },
    {
      "cell_type": "code",
      "execution_count": null,
      "metadata": {
        "colab": {
          "base_uri": "https://localhost:8080/"
        },
        "id": "hFCE9BBiTXAC",
        "outputId": "0bda23ed-d0aa-4d44-a3db-886262f0402e"
      },
      "outputs": [
        {
          "output_type": "stream",
          "name": "stdout",
          "text": [
            "Missing values in session data\n"
          ]
        },
        {
          "output_type": "execute_result",
          "data": {
            "text/plain": [
              "user_id            34496\n",
              "action             79626\n",
              "action_type      1126204\n",
              "action_detail    1126204\n",
              "device_type            0\n",
              "secs_elapsed      136031\n",
              "dtype: int64"
            ]
          },
          "metadata": {},
          "execution_count": 16
        }
      ],
      "source": [
        "print(\"Missing values in session data\")\n",
        "sessions_data.isna().sum()"
      ]
    },
    {
      "cell_type": "markdown",
      "metadata": {
        "id": "qmB3ULeyUlO_"
      },
      "source": [
        "Here we could see some null values in the dataset for user id. We have to neglect those because without these user id information we cannot merge it with train users dataset."
      ]
    },
    {
      "cell_type": "code",
      "execution_count": null,
      "metadata": {
        "id": "8iLgWO1BU7Nm"
      },
      "outputs": [],
      "source": [
        "sessions_data.dropna(subset=['user_id'],inplace=True)"
      ]
    },
    {
      "cell_type": "code",
      "execution_count": null,
      "metadata": {
        "colab": {
          "base_uri": "https://localhost:8080/"
        },
        "id": "gRUQtr3HZJdc",
        "outputId": "14852757-1d7c-484d-9ed6-f9c5abbbdcf8"
      },
      "outputs": [
        {
          "output_type": "stream",
          "name": "stdout",
          "text": [
            "shape: (10533241, 6)\n"
          ]
        }
      ],
      "source": [
        "print(\"shape:\",sessions_data.shape)"
      ]
    },
    {
      "cell_type": "markdown",
      "metadata": {
        "id": "Yo--U0tbZt_n"
      },
      "source": [
        "Now we split sessions data based on id in train_users dataset and test_users dataset so that we can process on train_users dataset."
      ]
    },
    {
      "cell_type": "code",
      "execution_count": null,
      "metadata": {
        "id": "GtvvOKD4sG0m"
      },
      "outputs": [],
      "source": [
        "sessions_train=sessions_data.merge(X_train_data['id'],left_on='user_id',right_on='id',how='inner').drop('id',axis=1)\n",
        "sessions_cv=sessions_data.merge(X_cv_data['id'],left_on='user_id',right_on='id',how='inner').drop('id',axis=1)\n",
        "sessions_test=sessions_data.merge(X_test_data['id'],left_on='user_id',right_on='id',how='inner').drop('id',axis=1)"
      ]
    },
    {
      "cell_type": "code",
      "execution_count": null,
      "metadata": {
        "colab": {
          "base_uri": "https://localhost:8080/"
        },
        "id": "2BMDdRWAqRPF",
        "outputId": "7f258255-c92d-4cf3-add7-e9a62236c8e5"
      },
      "outputs": [
        {
          "output_type": "stream",
          "name": "stdout",
          "text": [
            "Sessions train shape: (4699402, 6)\n",
            "Sessions cv shape: (838555, 6)\n",
            "Sessions test shape: (4995284, 6)\n"
          ]
        }
      ],
      "source": [
        "print(\"Sessions train shape:\",sessions_train.shape)\n",
        "print(\"Sessions cv shape:\",sessions_cv.shape)\n",
        "print(\"Sessions test shape:\",sessions_test.shape)"
      ]
    },
    {
      "cell_type": "markdown",
      "metadata": {
        "id": "wtvtFa3t-Rvg"
      },
      "source": [
        "Here in sessions notebook we will be dealing train,cross validation and test data individually because the feature extraction needs a higher RAM if done combined."
      ]
    },
    {
      "cell_type": "markdown",
      "metadata": {
        "id": "XZU9y1L7sKWX"
      },
      "source": [
        "#Train Sessions#"
      ]
    },
    {
      "cell_type": "markdown",
      "metadata": {
        "id": "D5F9d5rGv9Tb"
      },
      "source": [
        "Let us fill the nan values in action,action_detail,action_type,device_type with 'unknown' string. "
      ]
    },
    {
      "cell_type": "code",
      "execution_count": null,
      "metadata": {
        "id": "TiZoYX7esHg-"
      },
      "outputs": [],
      "source": [
        "sessions_train.action.fillna(\"unkown_action\",inplace=True)\n",
        "sessions_train.action_detail.fillna('unknow_action_detail',inplace=True)\n",
        "sessions_train.action_type.fillna('unkown_action_type',inplace=True)\n",
        "sessions_train.device_type.fillna('unkown_device_type',inplace=True)"
      ]
    },
    {
      "cell_type": "code",
      "execution_count": null,
      "metadata": {
        "colab": {
          "base_uri": "https://localhost:8080/"
        },
        "id": "s4CacDUfxCio",
        "outputId": "5e0cd1f9-03cf-41b1-82a8-d0d1ee4b31b2"
      },
      "outputs": [
        {
          "output_type": "stream",
          "name": "stdout",
          "text": [
            "Number of unique action: 324\n"
          ]
        }
      ],
      "source": [
        "print(\"Number of unique action:\",len(sessions_train.action.unique()))"
      ]
    },
    {
      "cell_type": "code",
      "execution_count": null,
      "metadata": {
        "colab": {
          "base_uri": "https://localhost:8080/"
        },
        "id": "vfCRcimLmTDd",
        "outputId": "104ca9c7-238f-487f-85f0-a1c47ac73c94"
      },
      "outputs": [
        {
          "output_type": "stream",
          "name": "stdout",
          "text": [
            "Unique action: 324\n",
            "Unique action type: 10\n",
            "Unique action detail: 129\n",
            "Unique device type: 14\n"
          ]
        }
      ],
      "source": [
        "print(\"Unique action:\",len(sessions_train.action.unique()))\n",
        "print(\"Unique action type:\",len(sessions_train.action_type.unique()))\n",
        "print(\"Unique action detail:\",len(sessions_train.action_detail.unique()))\n",
        "print(\"Unique device type:\",len(sessions_train.device_type.unique()))"
      ]
    },
    {
      "cell_type": "code",
      "execution_count": null,
      "metadata": {
        "colab": {
          "base_uri": "https://localhost:8080/"
        },
        "id": "IZWu3O7ZxPW5",
        "outputId": "d07ba6f1-8f12-4ac8-e2cd-8ee1fbcc521d"
      },
      "outputs": [
        {
          "output_type": "execute_result",
          "data": {
            "text/plain": [
              "{'10': 1405,\n",
              " '11': 252,\n",
              " '12': 1138,\n",
              " '15': 478,\n",
              " 'about_us': 157,\n",
              " 'account': 4504,\n",
              " 'acculynk_bin_check_success': 5,\n",
              " 'acculynk_load_pin_pad': 5,\n",
              " 'acculynk_pin_pad_inactive': 4,\n",
              " 'acculynk_session_obtained': 5,\n",
              " 'active': 72619,\n",
              " 'add_guests': 48,\n",
              " 'add_note': 482,\n",
              " 'agree_terms_check': 1801,\n",
              " 'agree_terms_uncheck': 75,\n",
              " 'airbnb_picks': 120,\n",
              " 'airbrb': 3,\n",
              " 'ajax_check_dates': 31341,\n",
              " 'ajax_get_referrals_amt': 9545,\n",
              " 'ajax_get_results': 311,\n",
              " 'ajax_google_translate': 178,\n",
              " 'ajax_google_translate_description': 470,\n",
              " 'ajax_google_translate_reviews': 416,\n",
              " 'ajax_image_upload': 6442,\n",
              " 'ajax_ldp': 15,\n",
              " 'ajax_lwlb_contact': 19243,\n",
              " 'ajax_payout_edit': 414,\n",
              " 'ajax_payout_options_by_country': 399,\n",
              " 'ajax_payout_split_edit': 3,\n",
              " 'ajax_photo_widget': 8,\n",
              " 'ajax_photo_widget_form_iframe': 11149,\n",
              " 'ajax_price_and_availability': 96,\n",
              " 'ajax_referral_banner_experiment_type': 4149,\n",
              " 'ajax_referral_banner_type': 3759,\n",
              " 'ajax_refresh_subtotal': 267620,\n",
              " 'ajax_send_message': 17,\n",
              " 'ajax_special_offer_dates_available': 1,\n",
              " 'ajax_statsd': 1044,\n",
              " 'ajax_worth': 34,\n",
              " 'apply': 4,\n",
              " 'apply_code': 188,\n",
              " 'apply_coupon_click': 939,\n",
              " 'apply_coupon_click_success': 14,\n",
              " 'apply_coupon_error': 912,\n",
              " 'apply_coupon_error_type': 905,\n",
              " 'apply_reservation': 5094,\n",
              " 'approve': 3,\n",
              " 'ask_question': 26476,\n",
              " 'at_checkpoint': 2181,\n",
              " 'authenticate': 21094,\n",
              " 'authorize': 513,\n",
              " 'available': 2907,\n",
              " 'badge': 28,\n",
              " 'become_user': 66,\n",
              " 'booking': 1,\n",
              " 'calendar_tab_inner2': 33186,\n",
              " 'callback': 5932,\n",
              " 'campaigns': 34184,\n",
              " 'cancel': 248,\n",
              " 'cancellation_policies': 9262,\n",
              " 'cancellation_policy_click': 559,\n",
              " 'change': 522,\n",
              " 'change_availability': 20,\n",
              " 'change_currency': 316,\n",
              " 'change_default_payout': 7,\n",
              " 'change_password': 61,\n",
              " 'check': 59,\n",
              " 'clear_reservation': 45,\n",
              " 'click': 8626,\n",
              " 'clickthrough': 124,\n",
              " 'collections': 51911,\n",
              " 'complete': 920,\n",
              " 'complete_redirect': 1646,\n",
              " 'complete_status': 11144,\n",
              " 'concierge': 46,\n",
              " 'confirm_email': 29342,\n",
              " 'confirmation': 2,\n",
              " 'connect': 4607,\n",
              " 'contact_new': 731,\n",
              " 'countries': 113,\n",
              " 'country_options': 71,\n",
              " 'coupon_code_click': 376,\n",
              " 'coupon_field_focus': 1166,\n",
              " 'create': 71907,\n",
              " 'create_ach': 12,\n",
              " 'create_airbnb': 1,\n",
              " 'create_multiple': 759,\n",
              " 'create_paypal': 21,\n",
              " 'currencies': 133,\n",
              " 'dashboard': 63096,\n",
              " 'deactivate': 1,\n",
              " 'decision_tree': 1156,\n",
              " 'delete': 2400,\n",
              " 'department': 69,\n",
              " 'departments': 22,\n",
              " 'desks': 1,\n",
              " 'destroy': 78,\n",
              " 'detect_fb_session': 33,\n",
              " 'disaster_action': 6,\n",
              " 'domains': 1231,\n",
              " 'edit': 47816,\n",
              " 'edit_verification': 15968,\n",
              " 'email_by_key': 1,\n",
              " 'email_itinerary_colorbox': 79,\n",
              " 'email_share': 189,\n",
              " 'email_wishlist': 224,\n",
              " 'endpoint_error': 886,\n",
              " 'envoy_bank_details_redirect': 1,\n",
              " 'envoy_form': 4,\n",
              " 'facebook_auto_login': 2075,\n",
              " 'faq': 4600,\n",
              " 'faq_category': 3188,\n",
              " 'faq_experiment_ids': 908,\n",
              " 'feed': 10,\n",
              " 'forgot_password': 286,\n",
              " 'founders': 33,\n",
              " 'friends': 380,\n",
              " 'friends_new': 288,\n",
              " 'glob': 470,\n",
              " 'google_importer': 15,\n",
              " 'guarantee': 169,\n",
              " 'guest_billing_receipt': 2,\n",
              " 'guest_booked_elsewhere': 134,\n",
              " 'handle_vanity_url': 2841,\n",
              " 'has_profile_pic': 9,\n",
              " 'header_userpic': 71849,\n",
              " 'home_safety_landing': 41,\n",
              " 'home_safety_terms': 16,\n",
              " 'hospitality': 32,\n",
              " 'hospitality_standards': 41,\n",
              " 'host_2013': 24,\n",
              " 'host_summary': 853,\n",
              " 'hosting_social_proof': 3668,\n",
              " 'how_it_works': 33,\n",
              " 'identity': 23080,\n",
              " 'image_order': 241,\n",
              " 'impressions': 4221,\n",
              " 'index': 391619,\n",
              " 'invalid_action': 31,\n",
              " 'issue': 353,\n",
              " 'itinerary': 768,\n",
              " 'jumio': 122,\n",
              " 'jumio_redirect': 2364,\n",
              " 'jumio_token': 4037,\n",
              " 'kba': 4084,\n",
              " 'kba_update': 6535,\n",
              " 'languages_multiselect': 2509,\n",
              " 'life': 19,\n",
              " 'listing': 651,\n",
              " 'listings': 24743,\n",
              " 'load_more': 4,\n",
              " 'locale_from_host': 4,\n",
              " 'localization_settings': 652,\n",
              " 'localized': 5,\n",
              " 'locations': 24,\n",
              " 'login': 1182,\n",
              " 'login_modal': 1203,\n",
              " 'lookup': 115621,\n",
              " 'manage_listing': 13195,\n",
              " 'maybe_information': 3,\n",
              " 'media_resources': 5,\n",
              " 'message': 1,\n",
              " 'message_to_host_change': 2063,\n",
              " 'message_to_host_focus': 3277,\n",
              " 'mobile_landing_page': 234,\n",
              " 'mobile_oauth_callback': 144,\n",
              " 'multi': 266,\n",
              " 'multi_message': 44,\n",
              " 'multi_message_attributes': 43,\n",
              " 'my': 5947,\n",
              " 'my_listings': 325,\n",
              " 'new': 4785,\n",
              " 'new_host': 6,\n",
              " 'new_session': 19,\n",
              " 'notifications': 22102,\n",
              " 'office_location': 58,\n",
              " 'onenight': 13,\n",
              " 'open_graph_setting': 4219,\n",
              " 'open_hard_fallback_modal': 6,\n",
              " 'other_hosting_reviews': 515,\n",
              " 'other_hosting_reviews_first': 23396,\n",
              " 'overview': 286,\n",
              " 'p4_refund_policy_terms': 66,\n",
              " 'p4_terms': 31,\n",
              " 'patch': 196,\n",
              " 'pay': 881,\n",
              " 'payment_instruments': 8886,\n",
              " 'payment_methods': 7004,\n",
              " 'payoneer_account_redirect': 35,\n",
              " 'payoneer_signup_complete': 16,\n",
              " 'payout_delete': 3,\n",
              " 'payout_preferences': 2002,\n",
              " 'payout_update': 256,\n",
              " 'pending': 8769,\n",
              " 'pending_tickets': 554,\n",
              " 'personalize': 380524,\n",
              " 'phone_number_widget': 3497,\n",
              " 'phone_verification': 11,\n",
              " 'phone_verification_call_taking_too_long': 27,\n",
              " 'phone_verification_error': 106,\n",
              " 'phone_verification_modal': 840,\n",
              " 'phone_verification_number_submitted_for_call': 89,\n",
              " 'phone_verification_number_submitted_for_sms': 393,\n",
              " 'phone_verification_number_sucessfully_submitted': 393,\n",
              " 'phone_verification_phone_number_removed': 40,\n",
              " 'phone_verification_success': 311,\n",
              " 'photography': 288,\n",
              " 'photography_update': 4,\n",
              " 'place_worth': 60,\n",
              " 'plaxo_cb': 1,\n",
              " 'popular': 731,\n",
              " 'popular_listing': 76,\n",
              " 'populate_from_facebook': 3927,\n",
              " 'populate_help_dropdown': 3472,\n",
              " 'position': 298,\n",
              " 'preapproval': 1,\n",
              " 'press_content': 14,\n",
              " 'press_news': 14,\n",
              " 'press_release': 44,\n",
              " 'pricing': 5,\n",
              " 'print_confirmation': 2,\n",
              " 'privacy': 467,\n",
              " 'profile_pic': 8236,\n",
              " 'push_notification_callback': 1322,\n",
              " 'qt2': 34086,\n",
              " 'qt_reply_v2': 4762,\n",
              " 'qt_with': 846,\n",
              " 'questions': 3,\n",
              " 'rate': 177,\n",
              " 'reactivate': 1,\n",
              " 'read_policy_click': 564,\n",
              " 'receipt': 156,\n",
              " 'recent_reservations': 1029,\n",
              " 'recommend': 219,\n",
              " 'recommendations': 8105,\n",
              " 'recommended_listings': 8513,\n",
              " 'redirect': 13,\n",
              " 'references': 5633,\n",
              " 'referrer_status': 1629,\n",
              " 'relationship': 162,\n",
              " 'remove_dashboard_alert': 520,\n",
              " 'rentals': 6,\n",
              " 'reputation': 44,\n",
              " 'request_new_confirm_email': 3643,\n",
              " 'request_photography': 36,\n",
              " 'requested': 28374,\n",
              " 'requirements': 167,\n",
              " 'reservation': 9,\n",
              " 'respond': 8,\n",
              " 'review_page': 223,\n",
              " 'reviews': 85744,\n",
              " 'reviews_new': 4010,\n",
              " 'salute': 156,\n",
              " 'satisfy': 7,\n",
              " 'search': 172482,\n",
              " 'search_results': 355605,\n",
              " 'set_default': 1,\n",
              " 'set_password': 730,\n",
              " 'set_user': 3743,\n",
              " 'settings': 5756,\n",
              " 'show': 1106585,\n",
              " 'show_code': 33,\n",
              " 'show_personalize': 22793,\n",
              " 'signature': 1489,\n",
              " 'signed_out_modal': 389,\n",
              " 'signup_login': 3188,\n",
              " 'signup_modal': 792,\n",
              " 'signup_weibo': 2,\n",
              " 'signup_weibo_referral': 10,\n",
              " 'similar_listings': 260594,\n",
              " 'similar_listings_v2': 11369,\n",
              " 'sldf': 1,\n",
              " 'slideshow': 26,\n",
              " 'social': 32,\n",
              " 'social-media': 3,\n",
              " 'social_connections': 124173,\n",
              " 'special_offer': 1,\n",
              " 'spoken_languages': 217,\n",
              " 'status': 1909,\n",
              " 'sublets': 13,\n",
              " 'submit_contact': 135,\n",
              " 'supported': 666,\n",
              " 'sync': 3,\n",
              " 'tell_a_friend': 1180,\n",
              " 'terms': 825,\n",
              " 'terms_and_conditions': 164,\n",
              " 'this_hosting_reviews': 2732,\n",
              " 'toggle_archived_thread': 244,\n",
              " 'toggle_availability': 1,\n",
              " 'toggle_starred_thread': 97,\n",
              " 'top_destinations': 112,\n",
              " 'tos_2014': 2,\n",
              " 'tos_confirm': 2299,\n",
              " 'track_activity': 2,\n",
              " 'track_page_view': 53378,\n",
              " 'transaction_history': 713,\n",
              " 'transaction_history_paginated': 871,\n",
              " 'travel': 5,\n",
              " 'travel_plans_current': 16956,\n",
              " 'travel_plans_previous': 172,\n",
              " 'trust': 456,\n",
              " 'unavailabilities': 29112,\n",
              " 'united-states': 17,\n",
              " 'unkown_action': 43937,\n",
              " 'unread': 26,\n",
              " 'update': 175660,\n",
              " 'update_cached': 297,\n",
              " 'update_country_of_residence': 5,\n",
              " 'update_friends_display': 74,\n",
              " 'update_hide_from_search_engines': 96,\n",
              " 'update_notifications': 654,\n",
              " 'update_reservation_requirements': 16,\n",
              " 'upload': 260,\n",
              " 'uptodate': 1795,\n",
              " 'use_mobile_site': 2,\n",
              " 'verify': 11842,\n",
              " 'views': 11,\n",
              " 'views_campaign': 1,\n",
              " 'views_campaign_rules': 2,\n",
              " 'webcam_upload': 380,\n",
              " 'weibo_signup_referral_finish': 5,\n",
              " 'why_host': 68,\n",
              " 'widget': 57,\n",
              " 'zendesk_login_jwt': 10}"
            ]
          },
          "metadata": {},
          "execution_count": 25
        }
      ],
      "source": [
        "#printing unique actions and their number of occurances in sessions train\n",
        "act = dict(zip(*np.unique(sessions_train.action, return_counts=True)))\n",
        "act"
      ]
    },
    {
      "cell_type": "code",
      "execution_count": null,
      "metadata": {
        "id": "PD6cIUNfsNid"
      },
      "outputs": [],
      "source": [
        "#Code Reference: https://www.kaggle.com/svpons/feature-engineering\n",
        "\n",
        "#Action values with low frequency are changed to 'OTHER'\n",
        "act_freq = 20  #Threshold for frequency\n",
        "act = dict(zip(*np.unique(sessions_train.action, return_counts=True)))\n",
        "sessions_train.action = sessions_train.action.apply(lambda x: 'OTHER' if act[x] < act_freq else x)"
      ]
    },
    {
      "cell_type": "code",
      "execution_count": null,
      "metadata": {
        "colab": {
          "base_uri": "https://localhost:8080/"
        },
        "id": "y759bwOlsQgn",
        "outputId": "93f0be71-52aa-48ca-8aea-5ef875b6bbcd"
      },
      "outputs": [
        {
          "name": "stdout",
          "output_type": "stream",
          "text": [
            "Unique actions in sessions train: 247\n"
          ]
        }
      ],
      "source": [
        "print(\"Unique actions in sessions train:\",len(sessions_train.action.unique()))"
      ]
    },
    {
      "cell_type": "markdown",
      "metadata": {
        "id": "m_ky7L1ow-YS"
      },
      "source": [
        "There are many actions which have very few occurances. Let us change those actions which have few occurances to 'Other' string. Here we keep threshold as 20 which means we keep those actions which have occurances more than 20."
      ]
    },
    {
      "cell_type": "code",
      "execution_count": null,
      "metadata": {
        "colab": {
          "base_uri": "https://localhost:8080/"
        },
        "id": "_eLyskCCymn3",
        "outputId": "3f7e8e67-d16d-41b5-c3f0-71b6de2ae2e0"
      },
      "outputs": [
        {
          "name": "stdout",
          "output_type": "stream",
          "text": [
            "Unique action type: 10\n",
            "Unique action detail: 129\n",
            "Unique device type: 14\n"
          ]
        }
      ],
      "source": [
        "print(\"Unique action type:\",len(sessions_train.action_type.unique()))\n",
        "print(\"Unique action detail:\",len(sessions_train.action_detail.unique()))\n",
        "print(\"Unique device type:\",len(sessions_train.device_type.unique()))"
      ]
    },
    {
      "cell_type": "code",
      "execution_count": null,
      "metadata": {
        "colab": {
          "base_uri": "https://localhost:8080/"
        },
        "id": "gZhFCPXG3wkR",
        "outputId": "cc088627-4d79-48e1-c6ec-935fc51b2121"
      },
      "outputs": [
        {
          "data": {
            "text/plain": [
              "array(['unkown_action_type', 'click', 'data', 'view', 'submit',\n",
              "       'message_post', '-unknown-', 'booking_request', 'partner_callback',\n",
              "       'booking_response'], dtype=object)"
            ]
          },
          "execution_count": 27,
          "metadata": {},
          "output_type": "execute_result"
        }
      ],
      "source": [
        "sessions_train.action_type.unique()"
      ]
    },
    {
      "cell_type": "markdown",
      "metadata": {
        "id": "LursgmIe_Ddf"
      },
      "source": [
        "###Feature Engineering###"
      ]
    },
    {
      "cell_type": "markdown",
      "metadata": {
        "id": "5TddEZFAx-5b"
      },
      "source": [
        "There are a lot of features to be extracted from sessions data. Types of features that are about to be extracted are listed below:\n",
        "\n",
        "\n",
        "\n",
        "1.   Total number of records we have for an id (1)\n",
        "2.   Count of occurances of each action (247)\n",
        "2.  Count of occurances of each action_detail (129)\n",
        "2.   Count of occurances of each action_type (10)\n",
        "1.   Count of occurances of each device_type (14)\n",
        "1.   Total sum of secs elapsed (1)\n",
        "2.   Mean of secs elapsed (1)\n",
        "1.   Standard deviation of secs elapsed (1)\n",
        "2.   Median of secs elapsed (1)\n",
        "1.   Number of actions less than 60 seconds (1)\n",
        "2.   Number of actions within 1 min to 10 min (1)\n",
        "1.   Number of actions within 10 min to 2 hrs (1)\n",
        "2.   Number of actions within 2 hrs to 24 hrs (1)\n",
        "1.   Number of actions more than 24 hrs (1)\n",
        "2.   Percentage( or ratio) of presence of an action (247)\n",
        "1.   Percentage( or ratio) of presence of an action type (10)\n",
        "\n",
        "The numbers in the bracket shows how many features does that information contains. Overall we will be having 667 features.\n",
        "\n",
        "\n",
        "\n",
        "\n",
        "\n",
        "\n",
        "\n",
        "\n",
        "\n",
        "\n",
        "\n",
        "\n"
      ]
    },
    {
      "cell_type": "markdown",
      "metadata": {
        "id": "EwBhy3aKWeIg"
      },
      "source": [
        "![image.png](data:image/png;base64,iVBORw0KGgoAAAANSUhEUgAAAkIAAAGzCAYAAADDgXghAAAgAElEQVR4AeydB1gURxvHscaYmG4SE9OLJmqMvSU27KJgAQsoKhZULGABe++iiIACFkAURMEuUgQVCwiCiIIVrCgi2LBQf99zuwcccGAJ+SIyPg/e3ZbZd37v7Mx/3ymr8fz5c8SfYCDKgCgDogyIMiDKgCgDpbEMaCD+CQKCgCAgCAgCgoAgUEoJCCFUSh0vsi0ICAKCgCAgCAgCIISQKAWCgCAgCAgCgoAgUGoJCCFUal0vMi4ICAKCgCAgCAgCQgiJMiAICAKCgCAgCAgCpZaAEEKl1vUi44KAICAICAKCgCAghJAoA4KAICAICAKCgCBQagkIIVRqXS8yLggIAoKAICAICAJCCIkyIAgIAoKAICAICAKlloAQQqXW9SLjgoAgIAgIAoKAICCEkCgDgoAgIAgIAoKAIFBqCQghVGpdLzIuCAgCgoAgIAgIAkIIiTIgCAgCgoAgIAgIAqWWgBBCpdb1IuOCgCAgCAgCgoAgIISQKAOCgCAgCAgCgoAgUGoJCCFUal0vMi4ICAKCgCAgCAgCQgiJMiAICAKCgCAgCAgCpZaAEEKl1vUi44KAICAICAKCgCAghJAoA4KAICAICAKCgCBQagkIIVRqXS8yLggIAoKAICAICAJCCIkyIAgIAoKAICAICAKlloAQQqXW9SLjgoAgIAgIAoKAICCEkCgDgoAgIAgIAoKAIFBqCQghVGpdLzIuCAgCgoAgIAgIAkIIiTIgCAgCgoAgIAgIAqWWgBBCpdb1IuOCgCAgCAgCgoAgIISQKAOCgCAgCAgCgoAgUGoJCCFUal0vMi4ICAKCgCAgCAgCQgiJMiAICAKCgCAgCAgCpZaAEEKl1vUi44KAICAICAKCgCAghJAoA4KAICAICAKCgCBQagkIIVRqXS8yLggIAoKAICAICAJCCIkyIAgIAoKAICAICAKlloAQQqXW9SLjgoAgIAgIAoKAICCEkCgDgoAgIAgIAoKAIFBqCQghVGpdLzIuCAgCgoAgIAgIAkIIiTIgCAgCgoAgIAgIAqWWgBBCpdb1IuOCgCAgCAgCgoAgIISQKAOCgCAgCAgCgoAgUGoJCCFUal0vMi4ICAKCgCAgCAgCQgiJMiAICAKCgCDwxhFICvdiQMcOtDNewJn7/4J5D89jOawrHToOxeNU4r9wAZFkSSEghFBJ8ZSwUxAoJQSyniYSGriPfftCuPMks5Tk+jWzmfmUi2EB7Nvnz8U7T14zkTfwtMxEVvWpg4aGBp+0n8rlp/+Cjc+uM0frO+ka3/Vawe30f+EaIskSQUAIoRLhpuIx8naEN/NNTTF9ib9lTkd4VDyXFan86wQeErRp1Uv5VeH7CSu9uPHsXzfqNS+QyiG7EXykoYGGxvv0XXCQ56+ZUmk47Xrgaup+qmClQZ3eNsSnvh25fhTpTrNPyqFR7jPGbz5XdKaeJXPp9CEcFk3NuQcW23pw+lICGUWfycXt8/i6jAYalWtjc/TuC44Wu99WAkIIva2eLZCvR7iMbi5VmIpK80V/H9c1IeaNbSwzeZxwk4sXLxJ7I5HUrAKZLVUbUm8G0PPHF/s01+dt8Dz3pkYP7rN6oBwJUNj7s5YdD0uVN18ts4dX6lM2+37+Zjihb8XTyxM2T9GivIYGH9ceRnCS+hv82f1YtllOpn2tX/nmy4/y1WkV+fKbn2k3cD4nbqQUCjXrXhhD6leVzm1rsoXCjyw0CbHjLSAghNBb4MSXy0Iya40a5assCm88v2gykUtv6tNl5h0W929CmTJl+KqFCREPXo7A23rU88v70Pq5wkv7VqNSV/ZeelPjLM/xWdZPagQ1NCrRc5aPiAgVUXBjfZbwQ1n5Pv61+0puvKluLSIP+XdlJYVhVKcKGhrlaTd7v9qoTnryacy0ar5Umf++6VD8YguT0+nsn9mDChoavFvHgEOifyy/O0rFbyGESoWbFZm8j+PwJlLFUfadRpivdMHd3b3QvwPHL725DdDzWIy1fpXy8nGDQZwo5eMcn8d6o/1reYnHzw2Hsq4Ivyp87nEwgvsv6jP4D++L1OQ4/Dzccd8ayPWHYuBGka5ISybM2wN3951EXi+ssS8yhTduZ+S2qXwmRbnqYhN0R619j8PX88tHGmiU/ZDGnQcxa+WanLrMdeNKjDrU493sSJmGBn8OdeSe+sASSSfs+bmyBhplqjLWKUzt9cTGt5uAEEJvt39VcpcrhMq9p8eRktwdnnaVsdq/Sw1/1cZGhCSpZLMUfpWFUDmJR3PdTRRS35dCMiLLJY/AIzYYNZbKctnvBxAUr16xP4s9iPmChXgGXeDhs4ID6rNS4rAx1qSMUgyV/6ojOy4WMuL67nH6/vihdM0fDK24V/KgCYv/IQEhhP4hwJJzuooQqqzDvotv7ACgl0B6B7OetaWK6/OmIzhdSP32Egm9FYeoCqHG2msp5brwrfBpqc1E8kn0f5PH+9QeblNoFOdl+Dw950HTD8tK9YTGB7+y4FB8Iac9wGF4U+m4ir8aceKuevFVyMli81tAQAiht8CJL5eFYhRCzxIJP7aX5aYDaduyJS1btqS15mBWbD7A2ZsvCs9nkHz1LAF797DdxZoh7dtI5yvSaNmyLcPMV7L/8GnuqRnrEBewnj5tW9Lyr8Z89WllqeKqUOVL/mwm2yCl0aYnqwPjcpGk3sB2TF/pGkZzt1LIuEvp+NshruhptqRlGwOcjqupNO+fZZZeO1q27IPzkdvSOc/jz7HJcoKcB10TXHzP8UxtSCaTm+dD2O4wn/6KPEj57cjoaWvwP32ZfyJLi0UIJUUyracmLVv2Yl3gdZlfxmPOH93DzDH9ZXtbd2HMUlci4l5CamWmcCkkAOsZI5V5zc5zwc8hs7eQqPJQnxS5k0FtWtKy9UC2R6jr93yO36rJUroDpm0lWente7GRbFs9jXaKc1u2pOPQmew4FMlDtf5QnpTnI5XYqCBcV06hp7Jct2zZjYmLnAg6d42X7aR7eCsG/x0OjO2hKCuyLXqDZuNx+BSJLxDtVwM2oNWyJe36L+eCdGwWV4N3M3l4LyktvUm2hMflLqqTlRTJnP6K67RnsefpPLlR/Ei7foyxHRU2GLI1TMky9T5RAduZOKy3bF+7Hphbb+PczZcbaZ1+/zondrswemD3nPxl5zPvpw62fpcK2FTUhoQj1nz/gWLM00cYWx0r6tAX70sKYcSPFWUhVOVrLPyuFXrOMcfR8ri08jWxDLxV6HFix9tJQAiht9OvanJVPELoVrAXI7rXp2IF5ZOWSj+8hkY53q/5N3M2h1FYff/o3Hbaffsh5cqUkSuoPOfLgz7LVahCve5TCb6Zdw5H4Gz9nFB37gyoggO+G83en5v/xGDa//audK3qnacTl5a7K/+3aLdJfCjZ8wGjV53Kvxuu+9L0Y7mSnuEWx8MbgfRpLK9Dkm3Pl7UmF5htl3k/jo1TBvJD1XfU5rnce5/RefRqLtwrwriC1uRsKQ4hlBW3n4ZVFHkrg4ljGMlXw5iq34qPyhf0U+XqfzF786lCxduzu2dYYNiBahXlcUvZbAr9bNCP4Gw1A0Rvn0k5yQ9Vmbn3Sk4+c788YtWgZhLLL5pZEJtyj/2rxtPwm/cL8C1boSqaQ6y5dL9oGfP8zlmsxvbgyw/V21zh42/pM9WVIiYgQdYDDjvM5O/fq1JOMSU7f9kuX5Fa3Udz4GzhnS8h68bK51XR59SD55zaNJWfP5C7PeX03sNgZgDZujH1vCe135Gv1W3evpzt2awen3blB8mOD5m14wIJFwIZ26MRlcvlt68sH/3cEau9MUUIvkwuHXamT4NvqaAcoF0gj/ny3GTOjmxTXurz6IrB8j1YrhaL9l59qXMKPejeCYZnC6EPf2bhYTUPN8qTb/hYUUOy/R10rI8UmqTY8XYSEELo7fSrmlypCqHeBNxUc8gLNsWf2ETrau8VrODzVX4aFX9gnMMJ1E06u7J3Ju/lP76Q3zW6LOGaiqKKWD+JrwtU4Pkq9LKfMmhDaG5OEkPo0lCeHluz51yuFqE1YrZNo3oFRXpfYbo6PDeN7G83DtL6W4WY+Y7R5svo9/f3BVhU/cWUs6rhnZRYFvduomzY89maJ99l+U1rLtH3s5u47Iu++FNVCDXrtfG1BrlnXfXh768VefuAXoNN0Wn0bYG85Wn0Kjdmtf+NgsY9vcbing2KPlfKdxkqlC8vTf3+UXs6l1UigDGe86iiOKbcD8z3ji14DR5ha6wpXeOn+nqMM+pF5Tws83N+hzYjN5MbR8mbZObdSCa2rvESNlei+eA1XFOxNTelFPYvHEzVIu2Q7froJ112nlUfVQt1niSVlQ+/6sPiRZP56b38eamMnrlvjuBJvbCTBp8qxFtZdJccyNmebdfjM+7UkgTulxgYT6BDzc+KzGeFj9uxpZBVlhNPe9DmSzkSm6cs5M9zmfJUKK8Qbx8xxPF4tikv8ZmC81BN+V6p3ppN5/I+CL1EAnkOuR+xifpVZCH/7tc98Lle+M3/JGYHXasqHu7KUF/PsdCykucC4sdbQ0AIobfGlS/KSK4QKlupLbZ7Qjlz5oz6v7MXuJuSt9LISI5kzN/KxvGdj2nddyrbAk9wLiaGmJgYokJ8WGUxmJ8qK59ev+3EzosF16pJithGv659mL7CATdPb06dlc9XpBEdcYJNy8by4xdyBEejQh1WH0vIyVjakyRiz8cQc8Yfg7Y/SRX6J3V64X4iN42Y81dIfqLy9J8YQtfXEUI26oVQ2+8U03or8F4lObrzeXNd1uwJlhgoVkPevvMId3PQpeJnZcQHyobi09+6s2i9F6FRSnujTrF303K0a36ljHRVQs/6aIHGLAdAIV9kISRHMmq3mUFQYX49E0Vs/EO1g6llIaSIqJSlQlm58ajwWUMmLHLlpNLHge6WdKj5SU5D+nP/ZdxSQa0w79L2OVSXogVl+bBBL6w2+xKlPD8ixJsFQzpStbyicf+UzhPXcTr6PNdv57UpxmuezKxIIdResqNCuewIThVa9ZzKzmMRki/OnjzA7AEtqJwdmfm0GevUvach6yFuU7srp+uX45tG+li77yP8nNJHkcFss5+LZvXsdWqqMta94AJ/cYdt+eN9WbS882l9TOY5cCj8rGRLTMw5jno7M7ZLYyopy8IvA1aToGYoSqjzZOmYcuUq847E8T3ajFnCoVMKe87g67kVv9C4nCnlCiHU8AVCqLYUUSqXE8Wp/GUrZqz2JFzySzTeG+bS/LvcaFqDMRu4n787MfMeDoOU65CVr0KTgXPZFxSmzF8U/p5r6F//a4ljhc9bsMDzOOdjrpCckq+AFFKGpc1pcUzSksf+VajfC//b+Y0o6uSC+w4u7ZfzAFKzn22R440yE44zsIHM4Jdm07iUcw8XTFdsefsICCH09vm0kBwphJA8ILDIpzlFRV3mM0a6ncmTToTTOGUl/jHdZ28lSU0lDumcWGPCF+8qGtIPGGR1+JUbdcVFA1YNV0aN3qH76qA8dsg/EvIMlo5UiRoVOLjYhdAHOULgsyZDOXy18Iun3zyEzm9yBO2LxoPwi1X/hPv4kje6teSo1RfNTTmr/rACWcveIAshWZi9yLeN+9uibtRNrhCSG/PP/uyFa0jBiM/tQ7bU+kh5rV/64Z9nVk8KG4e1k0Rd2WrNsA1Wc6Ws2yzTVSyYWIaKNYYTqmYNqFcRQlJ+3/+GASv2kZy/3XxymWla8uxCxdToQQ4R2chyPp+d206zanJE5cfOEwm7o77hTgjdRNtvZN/X1FnETdWGMiOeJX1rSeWi4qeNWBGgLooFPIllkW49ufx83Bq3qILj6RRCKHfadyW0prgXOYvp5YRQtljUoPpfQ9hzpqBfruycz7fKh5iyDUwIz29aQhA9qslCoXqPmVxSU+xTzmxFs1pFNMpUpM3YnTmMX/rLvRD6Npfvg2qtTDjzckOW1CafGn+YfrWUor3Sbyzye0E32+NoTDp+Lfnms3piSQ61UN/ijUIIvcXOzZu1VxBCGhr0sFUJaWfdYbG2XIG/W28IEWoqwdxrxWPerJpUoXzbbxE31bcruYer+ZZxZgvNpKhBBVpO31tQTKXGMUZl+nxw4UMu4F8SQuV/bcfGsKLXIIh2n031MhqUqfgFZp5FV8Tha0bwiUKEVm3I2jA16kANp+xNryKEvm81g2v5BQOgKoQq/dYdj+jCWqFbzO4or+GkUa4Vm0JUOpzSrmHWUxYEP7SbwtVCevlCnExkMaDRkPXHCzbKrySEKn5FvxV+arthFXwiXSbzpRSFqUz3sbvzHZfJEauR0us8yn5Yg+VHH2cjVfvpPV1bjtb80omdV3L7x56e343mR4pulXI0n1T0mJjnp52pJ5Xt9xm0UaULV3nFXCFUnlr6C7lS5L0GLyWEqshR2o8aDsDvumq/rUo2084ztrF832q8p8PefLNKFWONfvpU8YDzLsNU6waVJMi6yeTev0i+/bnZVC6rikXV4wr5nnHNF+3acjT4t86zihzPV0gSys3JOI5qp4wGVaT5sHUkvMiWtGtM7i1HoyrV7M7euNeouIo2Sux9gwkIIfQGO6d4TcsVQmXKVeXPZm3Q1NRU/9d5CFvCchcyy7x9iA615HU2fu1ogufBAPz9/dX+HQzYjkmjr6TKsMwfxoQUNU0LyHiazNnwY3nS2uMwjYaVFJGJcjQf6lZw4PV/KYS+laMC3w1d9YJxBM9wmaolcSj/YV1mbNzHwUKY+fsfxMmij9xgl/kOM/fzr+R6WQjJs2M+qFqTloX5VVOT0bN3qLVbFkJy9OqnUWuLeNXAc7wmdFB25TVj/REVIZMZz5zesmCuVn8YYfmjClKu0nCfJHdraVRox7aoguLjlYTQ93/jdrkQxQXcO+5I4w8VZakiXYZvy1uWshJZbCQvMvpe9ZYs33YwTznMW8YDsBnWXh67VOlPlgXIswYVWYr2nJETLdWbsZ6Ag+rvDUV6+zfMpplUtsvSwsyL/O1zdteYRoWPGLXj4gvLwcsJIXliQ4PpHkWkd591g2UWGuU74XU2r1+eRW+jwSeKdCrSdfpu9ekkHqffn8qp7+2WEa9GcKs/Ud76JMaLDt/JEck/uy/mdeduRblN40dJbGrwZfPRhMa/hKjJus00feXK+983x+mNfQVNUQTFvtclIITQ65IrcefljhEqV7k3Aa9Qyzw+40bTb1VnrsiV1Yu6YcpUMyDwlrpGKpNoX1csRhjSq2trqn0gV9QF0ytP8yFvphD6cfgLFl7LuovlEGU3iHJcSMH8qeNYjZF2BbtwiipushCS/aMYLK1ukHpR5yv2qQqhX0fbqhVLchoZ7J2jrXy/VXM2HFUNx6XhN89AHrhc9iOajbDi1HWVBjX9HkfWT6fhZ3LX2jsNRhKuZnD4Kwmhn/7G9XxudCZ/Ph9EbOKvL2Uh1NXYM+9MtycXmahVcMD7i/30G3N35C7RcGi1oXKMkTp/FratDI0MXAoIzlwh9DGjd8Tkz06B368ihBpNdysgvHITTGHTuFZypK5iF3bkH6j8JBqzJtXl/Z/Xxcw5iGQVFffgZiTWRm35WCrrZWg3de8rl8Mn0Z60/1bmVbfbQm6+opBS5OVakCPNqlWS7fy6FY4huQ90uXlV8y0znqn9lYP8v2/KhrMFxzeqOUtseksICCH0ljjyxdlQFUI67H+Fd00lBNlRT5o2XlilXsj2bwZz/G4+IZSZgMt8I6pXKUz8qKZVnuZGb6YQ+mHYShKLqqjT4pjdTR7Q/eKGVTXPnzN+Y8HBuEX5V1UINda2z1lXp6hz8u9TFUK/jLIpIo109szqXogQgow7RzGs/aXcEGmU44sfa9GoUSPpr37dGnwizcpT5PdbxjqfzBn0q2rPKwmhH/9iUxFvB74f7kKLLxTXq0gBIZR8ipHNip5Fpd53NVnqnT3tMp3ds7rnDMpVf7yqf3O/NxvmnjdCBagKoVGe0apY1H5/FSHUcNqWIsTJY1zGtCxcCAHnt8/hx4rK+7biJ/xWt4HStw347adq0vu6FPl/90c99sW+upBQzNzq8L3Mp95rRIRuBm2gzU/yOKayXzVl4b4XR9RyoOaJCLUQEaEcMKXjixBCpcPPed41Vu4VV5ZOCllPw8/lCurznxqja6CPvv6L/gayYONhHucRC+kEO5jxYfYaJBU+oU7ztujo9c+Tnl6XFlSTQtvlilUI/d5rPteLiJLnmT5f2KwxZdfYC4VQxg0W6sovhSxXqRqtuvfNk8fC+BmNX8mp+MIjHOqKa14h9HorSxebELp7kuEtf1AKodxGP69A+ALdKR7k18jZefu/CaGHZxjbRhZtFT/8gQ69XlSm5f2jpq3jQk4kK4MDi3SVQug96rTs9lJ+1h84Ca/QgmHZN1kIXd6/lFqfyDMK8/oz18/vVtfExvdytitf6TPjuh86f8hjhGp2nvlKY4SSz3jRsabcfa/xXm1m7nq1hwnSrjGptzy+rVJNbfZdVTsb5JXyIw4uOQSEECo5vvqHluaNCL3KKzYy4vbTsqYcbm5otLaIp8oXmPjoLENbyOH1MlV/x8TBjxsP1DT6V/egJU1FLluoEDLR/k1qbKs2GVr0u8akwdKfS8d+1nl8kTOyruyazTfZ6wj9UyHEI+zNWkvXLVe1NTsLTsB6AayX3/3GCKH0RBzHtJW6ier0moi9vSWje7fhi/LlKV++PB9/XQ8Dk+ms9QxG7fAhZZb/b0Io/Saz9BUz2DSoUkOPE684Wy/bQ6dcxyuF0OdY7MrtMsve/yqfb6oQenLVH50aH6Lxzk8MmrkKu+XmdPnjJypKvn2X35r3YOIsK3wic8dOvUq+pWPvnaRfC/le/aTFUELVL7VUINmkyN10r6uMQr77OxPXB7/6Wloqs8aqilljBRi/7RuEEHrbPZyTv9cXQjyKYkhTWcC8U9+Q4JesoHIurfzy7PwO2v4oh9ab93NAZfRInkPTL3jSXvE2aI1ChFDaVcbryE9vlevq4XcrT9gpT1o8iqR/02+kxk6jlh4qY1zzHgeE2JvwuRSJ+grTfyyEMvBZMZiKijETFT9n7NZXGwBdwLgiNrwpQujpxV10qKpYCPFHloQoVUXqY27FxREXF8eN28lqu8LyZ+3/JoRIwWVSV0nElPnwVxYF5K5Zld+mon7HH7bheynKWYYmE7YWnOVY1Mn59r2pQihk9RCpLFf5axzZ8Z6nSQlclXx7jcSHah5o8uXthT+fXWBYJ3lGYpk63dh7I1+3upoEHkTtRqeecrZbpd+YuOHEa/HPuHWIfrXkyQI/NJ1YYHV4NZcWm94iAkIIvUXOLDor/0AIkcou8y6ymNCoRq8FewoVMbINKYT5BBERk1cxPTvvheYPshCq09sStZPPn8fjbtGLatIK0oV0jZHA/P7KGS5VG2EXWkR8ISOeOV1k0aSh8Q3jHAtOWYbHHNk8i4ZfK0PrGtWLQQjB/ZNONJVmLGnwXYtRBN0qehjzvcun8fc+V2DcSNF+BVUh1LTHugIDcF90vmJ/cXSNPVQMTFYI2HJV6T97TxEDrou26P8nhOD6vsX8Is3iqsDv3WcRpbIagDorr0eeJDDgcp7XUGQ9iGBUPXm21LtftsL2WMEuL9W0sh7F4bcjhDspBbtf3kwhlMXBOT2kSF+lnzqwIftddKqZKpbvyVj1bSHXM1WaYnMib/2R/xL3zu2mW115hmq5j/9g2uZXm2Sgmt6jiM1oSuVAg3rdX697WTU98b1kERBCqGT56x9Y+0+EEDw840Gz7HceVapKe/0pbPEN5frtuyQmJkp/1y5GssdpBXpdG1LtvV+ZkD+q8iQG41ZydKbsB98xeLYzkVeV59+9wXFPOww6/aGyoFwhg6VJYf1w5RRsjXdpNnARp+IUNsQTfvQQJy+oPtlnErx6cE6a737ZiBkuvly9Ldt8IXQfM/p24KPsV3dIqyoXjxAi/TaW/RoqBWQZqtXWYr79Dk5fuJ7DLPF2HKF+XswY24e6P39NrUbzKfzVkOrdryqE6ndezkWlP7L9UuAzOYX0fEG04hBCWY/PM0WnltRglin7GX/+1Yb27dvn+TMYvwCP3d4EHAvjthohoMjh/1MI8ewCk5WrlCsGVP/UtC+Wmw4QHXsrx0cJty5zbN8WTIdpUbP6l/yl5ZBP5KUTuGpozms+3v2qHiZzFStLX8pJIzHxFmdDArGbN54WDX7lkw/08IktKIzfTCEEd46vo8Hn8vidDz6vSct8fm3fvgdTrFzw9vYhOOrqa3afZ3JkyWBpXScNje+Z7lL4rLmnVwLo01DZHVbhewwX7eHW/UckFVX27z8krZAg0zXvFfwsrUL+DjrLD6ldfV393Se2vg0EhBB6G7z4Unn4Z0IIUglaN4lqyqcmabBkhUpU+eADPlD+vV+5knI2kaJb6xMmOuef9ZJG4NLsik4eYPnu+8rzq7xPxezXIVSuyhefK9brKSwipHiVw0y+VpmWLqdThUoV3qPNAp88RFJvHEb31+xoj2Ll7Aq8L9lchcrvKGfBlK9BfwNDfqyuWIX3i2KJCCmMeHTej74NlKF7yd6yvPtelRxmH1R5j3dUXmz6VaulvOSE35w8KoRQ91/kdYTKlc/rk2zfqH5++G0vdp/P2zFZHEJIYVDa7WCMGyqnWav4J8/g2rLlqPBOJX5ra4BLcMHoyf9VCAF3QrbS/sfcFcM1NMpT+X0VH71fmYrZQllDgz/7OReMiD66xCIDZTRDme+K776X6+cPqvDuO7krPGtU6UVgnlW5ZXe+qUJIYV2M10LqvK+8Xwrxbbly5an0XnW0x1lxLkllfn1OaS36yw3/ZXwtjQ+sRL8F3oV0pabjv2SAcu0mxf1ckY8+/YxPPvpQhXduvZRT9n/szJbT6qLHmey3NJAfWMr/xLwi3lJftPVib0klIIRQSfXcK9t9nzWD6so3e5nO7JEhSCkAACAASURBVL5QyAqzRab7jOPuS+hY5wtllCN3tohqQ1emwi/omq0m4o6aazy5ybqRnZVveS94ftXaXbDbsY+xveVXI9Qf6Kq+qygljgUG8hvIVa+t+K5lc7RALq4ctqflT+qnSr/7618s8DzDo8t7+F0xxkXjfUavCiuQhuLt8y2qyo1ZNcNl3M0XVSl4grzl/qUjTNT9iw+yZ8upbUQqUbfVAOyPXHnlp9HnsfvorFx/JT8L9b9/ZFW+haQUb59v9LE8I+iboVZFTp/fObWj0v/1cVBdUJFMzu2ypO1v8msS1F87r88r/toVjyjVtYggettM5VTsL5lV2Nvnh/wt21CtEU7RasqZ0hn3wzbS4AP5mu2GeORdR0jFYfGn9zKsSz3eUeubbJs/oLmWCe7hhbzF/MFl1pj346ePip5Z9eXP7Ziy6Qg5E89U7AhZb6pkW4lhHi+e+aR4+3wdaTydBt3nq3v7/GZ+Voq4OpM3FRGpecxGY2V3s4Ym2/O/5+XZDTaZ9+Yb6QWu2TyK+ixL3aHWXH/FWfQZN/zRrC6P1flSb1Ehszyf4jKmU5F1kPqy9wuLvQsKb0jExuBPKb1yn/fE99qrCzgVF4qvJZCAEEIl0GmvZ/JzDqwaRY0aNailNY3we4XEiF8i8cfxMfjs3MDk/p2oVaOGlGaNGrXpOX4uGzd7cSziWhEVLpD+gDBfLxaM7ZtzfgMdY2w27yTypiJS8ZwNFr2ldI3tggod/Jjx8Dp71y1Cq00D2YbGHZlouZmYJPUN4/3LoThbmtOupmxz/SZ9WLB+O2GxyrEI8UH0a/kbNWq0Z7X/9YIkksIZqylfa+CyvbxSHZ+aTOSRvdjNH4tmrWxmNainNZDFdi7s8QvlzoOCY0YKGlFwS9bza9iN7K70Q27aCl+r+6vZxJiDcfne3XA3lNGt60nHD1l5oFDBAFmccpsp++0PQ/aqvIojMcKD1tXkiMFntbtht/NowZf6nj7BHtc1DNFqQCWpgS5D5/Hb84jdhJOb6fp7DWr81gVntQviPWP3/BGSrX92M+P4ncLLctr1Iwzp+Ac1atTBZPnhQiIMSqYpCZw86MXKKUb8pcKuqd5IVjpswftQJEkvdHoaV08fxs1hAX2b18nl36wDE5esZdsufy7dKOz1JXB532qaKq5dtyvrgl8cG8y6e5Jx7RX5+4MpLicLFI7U2IMYNKhJjRp1Gb/heBEiO52ANeNke5uMIeiGarddKr7LB8svwi37Li0N5+EXWvCFzaFHfdmwbAoNfla+46vMn6w58uI85DE6K5HVfesrRa4ufmpFSRbRnkv5+zf15VtdmZe2/TWgQCRUce3M+MPoSC9T1uBn/ZUv/YCTx27xo0QTEEKoRLtPGC8IvCkE0tgxr6fUgFX4sBXrw5KLNuz6Adr+KnfntRhgV0QEquhkxN7/A4H74Rg0kaOpv3Wdh5qhTXmMCNs4WhnR+5Z5L/GakDwnA6e3TOJ9KTL3BRO2vTgqlv/8V/0dH7iCz99RRLeqMt4p/FVPF8e/BQSEEHoLnCiyIAj89wQeYjemqSSEKn+uh9+1wqM0ClvjfKyoXbWCtERC59H53gH232dGWKBCIOvqAdr/rugSLkMrg40UHs9SvDwwiU0W2SuP18Uu8BUjQkBqnC861eXXsNTRt+fVXkGsYvhLfU1lp0U3aWmAMt92ZfcrrLj/UsmLg0oEASGESoSbhJGCwJtO4DnbZ2nLXRplKlKzSX8WrHHFJ/AIQUFBOX8HdriyZMIgfq8iN3Qa7/3BigA13ZBvenZLk33JYfSpL0eEylf6hu5DpuPovifHp7J/A9jutIpR3VrwgXLw/+etJxGV/JID6fLwTGGTWQdp4sX7P/bER+37CvOc8No/suKPoPN7Fanc/j3StWiR99pXESe+6QSEEHrTPSTsEwRKCIF74dto+438rif1g1XzDa4t8xUGC70LzsAqIfktPWY+xW/JsEInOKjzdeXvOuES/PqrTN8LsqfWRxpoVKiKiVPkv4b6jOsUvlDMVn2vLiuPqC678a9dUiT8BhIQQugNdIowSRAomQQyiT3hyejujfjs4w94R+0suXK8/+En/NCwK4vcgnlYdA9aycTwNlqdlsT+NdPRrP01H1WR1xPKL4DKVKjMR59+QWv9SeyLTPxnFLKSsNaXZ7lW+duM6LwvLfxnaSvPznpyicmt5EjXL/1tufc6watisUQk8l8TEELov/aAuL4g8LYRSH/MlXOh7HJezqD+uujqZv8NYObyLRyLiCHx6evNkHvbUJW0/DxPusHp477YzB2r4ldddPtMYP22g0Rduln0jNFXyPCjcwcw6aNLr9GLCU0s/vKSkRTFSqNe6OqasTfqBYP7X8FucWjJIyCEUMnzmbBYEBAEBAFBQBAQBIqJgBBCxQRSJCMICAKCgCAgCAgCJY+AEEIlz2fCYkFAEBAEBAFBQBAoJgJCCBUTSJGMICAICAKCgCAgCJQ8AkIIlTyfCYsFAUFAEBAEBAFBoJgICCFUTCBFMoKAICAICAKCgCBQ8ggIIVTyfCYsFgQEAUFAEBAEBIFiIiCEUDGBFMkIAoKAICAICAKCQMkjIIRQyfOZsFgQEAQEAUFAEBAEiomAEELFBFIkIwgIAoKAICAICAIlj4AQQiXPZ8JiQUAQEAQEAUFAECgmAkIIFRNIkYwgIAgIAoKAICAIlDwCQgiVPJ8JiwUBQUAQEAQEAUGgmAgIIVRMIEUygoAgIAgIAoKAIFDyCAghVPJ8JiwWBAQBQUAQEAQEgWIiIIRQMYEUyQgCgoAgIAgIAoJAySMghFDJ85mwWBAQBAQBQUAQEASKiYAQQsUEUiQjCAgCgoAgIAgIAiWPgBBCJc9nwmJBQBAQBAQBQUAQKCYCQggVE0iRjCAgCAgCgoAgIAiUPAJCCJU8nwmLBQFBQBAQBAQBQaCYCAghVEwgRTKCgCAgCAgCgoAgUPIICCFU8nwmLBYEBAFBQBAQBASBYiIghFAxgRTJCAKCgCAgCAgCgkDJIyCEUMnzmbBYEBAEBAFBQBAQBIqJgBBCxQRSJCMICAKCgCAgCAgCJY+AEEIlz2fCYkFAEBAEBAFBQBAoJgJCCBUTSJGMICAICAKCgCAgCJQ8AqVCCD27cxGf/Se4++w/dFDaPYK8A4mOT/kPjfj/X/r+5bMcPxTNkzyXzuR6aAih4dfJzLP9TfvxjKgjhzkedfs/NCyVmJDDBEbEv9iGzIeEHgog5NL9Fx/7j494zoXDx4i6lPSPU3q1BFI4uWsdlg6eXHyQ8WqnloSjn93hkO8hzt3+Lyur4gKVzqVTQfiHXieruJJ8QTqPbsXgfTiGvLVsFtejT+EfduPl7EhN5EhgCBcTn7/gaq+3Oy3pEt4HTnAr5d+q/TKJiziKb8jVN7x+fT1+/8ZZb6QQunzEDSNDQwYa6NOvnz4DBhoyZPxigm+lFmSQlUFaWjqZRdxpdwLW0LTuYI4mqJ6eRXpaKunKE28d2sB4c0ti8t5Bqif8s+8PTqLXoDPLvK/9s3T+1bPTOOlkh+2mo6QV03Wi1i3AsPtSbuZJLxWv0SMwne7N0weRzDWbxc6o+2Rlpku+lF2ZyJY541noFZHnzFf9kZWhmuZLnJ2VSVpaGhmSEXeZ10ubAXN9X+LEvIdkZWaQllp0uVSckZmeRlp6UQ16MpbDtOk8xSfvBdT9Sj2PiVYnhjtEqdtbzNsSsdHWZ459aJ50FflOTUtXNjiP2Gk1m1mOJygqh3kSeMGPmH3L0Ozaj8XOe7jysLhSfcFF/+Hu1KuHmD7OnP1X8j4OqE02IQCtFt1Z7JtPfN+PYoHZNLaezLddbSLFsTGLUOd5mC3byuvL6hQcTHvTZozX/61BvrjPkgY6K8hby2awfakZbcfueDk7kk/Qs8tw7I7fywWZfhfnFeYYDBiIoaEhhmNsOZOYnrv/Fb49DHOgYePB7Luar5ZV1D2paUW2ZYrLZNcZhTd5qbhO6UuLYW7FVo+/QvZK5KFvpBB6knSLyNOn2bVsDL/X6su24NNEnrvMI3UC+pYfgwxnc/JR4fwTjmygQ0sTghNVj7nKMqM+OETJqv+Gry1Go+dxpoh0VM9+5e8PwxnSpg9rg/7fT9CvYukz3I160dN4I09f5bQijr3qsZrR/VZxK98x/lMmMW2BP0+TT2E+bCI7LqeRFLACQzNLZcV7j3WTjJjulrehzZfMC3/G71vEwImreGm33j2MqaER/tIJKSwf2J/RVsdfeJ38BzyN3Mkg/aVcz78j3++g5cMYveZgvq2qP+9jO14fvbkBqhvVf39+icn9dDF1jla/v1i3puIywJilG/MK1ceRW+hjZK0Uvk9wXzCRCdaHX+5J/CXs2zGhM7rWx17iyDfnkOdX/DA1MsHrwks8ZSUG0bezPrYn8h17L4Jpw8fhfCz/nfRv5TOLY2stGD7HhdevsZ7gPG0Q3c33vpwAKYasJBxxoI2BXYH7znfNrJe3I+Msg/uasS5EJeePTmM4eiQzPI4RGRlJ5NmrPEotXIoUlZVHEU60bTeOwyrJS8dfD2So3gwiX1D5nt0wkSGLPIq4xHM85g6l83hPIYSKoKS6640UQtkG3jxgS4eO07mi3JCeEIX94hmYm89gc8BlsjIT2TGvD199VYsew2ex/aiikkjh6HYHzM0tWOwWyEMg+djGfELoKSccZ/Bn9ao01RvJar8I7l0+ideegzzMSuesfyC7dh3AZdlUpq7azJWEuxzbvhaLKcs5dF5ZejPvc9DDDnNzc1ZsP0z2w+nN0H0snGKB+UwbQm+oPAE+PM1QzR6Yr3Bi9TwLpjl6czftKWd2b8U7TNlcpt7G22MzQVcfZyPg5ml/nLxCZWHy5CY++3cRlZxF1r2zrF8yFXPzqbiekJ9/7p72Z5mFOeZzHAlTXjs2wg9nT09sVsxn4faT5MbUnnLCw4VNPlEqldRzvMYaMnCSB+k84YjXHnZ4eWE7y5ypNtuIK6BEnxLp58YUc3Omr93JjRS5Ysh6GMfWNfMwn2LF6kkTGGFoh+LZ6vnNUFbNn8qshfYs0B/K1EUHSU+Nx3u3LyEng1miXZ9qP9Vj6KyVHLuRSIzvNg5EyRV/emIMm1fPlfxq7xMhRxgexOLr5sHu3ZuZZW6BtevxPILn6fVw5nT4g2q/NGT4nJUcv5MBT6/h6bhI8tuqncdRmizzTr/LzmkG/PRVdboMn87WkDCsRxjSb/wqXK3nMGXpRqLuKsPlWY847GUvpbPU/SDJqg93Dy6z3KQbX335JwPGLSHw/APgAYEblkvHW673RbHlXrg3A+p9w/dNumBu40bcs0zunNrLYnNzpsx1ITpRkejDQoTQM8I910vpzXfw4a7i4TTziiSEzDZdANI5s3cD08zNmb96P3cUSWXcwy9gD3sC/Vk/05wplhu5ID3uZxET6MZ0RdmxdOaCJAIfcXiDlZT+SrdcrnfP+TFvqgWLreyZ0m0Qy13P5JTV9KQL2IzWpGr1hhiOX8nhc7c5F+LH/pCbPL59Hq8tvhzYascUixnsirjGnehDzDefiq17SE7X6fPbUWycbYG5+SL2hOVt9G8c9aLPn9/xW+teWLoGkpL2hJDdMoNZVju4JmmH55w8vBuXbe4sWLSA9UGxOfaR8Zgw7w2yzzb4kJB7M0jHXDvqxWbvECQPP76Bn8t+YhUVyLOb7LBfiIW5Oav2hEui7vnNCBxnmGNuvowDp+9K58ce3ovnNnfWLJqH/b7TZMcLMu5fYu82Ty4+yuDe2RNs2bIHL8clmE+Zz67IfF2eiccY0LUXZis2YWVhwXJnP5IUD4DpCRxw30Nk/HN4EsfWpbOkfDj7ns25jsKIrPuXcbaag7n5FDbuVQrih1dwWqW4d6aw+ehFmcez2+xct1RKY7VbqJTGhUNbmWJhjsW8LVx9riiL+/E8GC7da+nJF/FYNl2qb5z2Rsj1yKNr7Ni0iz3bXZhvbsHSbcd4nEcb5Aoh6aJPbrDdXr7mys1Hc+7Vx1dPYjl/OhZTpzNr1kJ2hhb2+JDK+aCtUpmeY72NuIfyk3HWkxvsWTUL81nLsVpsTtuBa7mjqG/iT7NhjgXmy9Yww2w0vaYdkPOew2Mqm49ekreRTvQBZyltK8eVaPcYh3NYsnKf4vaNwGjqHLZcLjwKmfHgstIvFmw+dJFHtyLZ6uZFrNQMPCPcax/B0cmkRLvRvt1ALNfL3BwPRJL2JAGn2QZUr/obusaz2RumiPw9J8TdVvLRgtU7UVRfKRePMqb5z3z9R2vGLXfk3MMMHsQEYjXFnCnTHQi7rrgJMpRCSI6A3Q7bzyJ1bVJu7kr9tzdaCF3ebUW79lO4lAlpl3wwMdDDbOUmPFyt6Nu+JzM2H+WE+wzq1e2AuY0XoReTOOe3FSe3Xfj7ezC4nx4TPc5xP2ILnfJEhFK57L8erXo16TNzLf5nr3F52xSadxzMlfQMXEZp8UntvmzcugmL/m34s7EOix234jDfFK1uc4l+8JCDqyZiaLEKP39v5k8ewxj7YyRfC8ZMeyy2Ht54+wRxLVmlpn18Bv1mf1C//wy8dm1ilF5Phi7wYvuSITQ3skMhfR6GutCxsR67ruT2TR+xG0kdreVIVW3CEYYa6uEQdp4dM4dhvmozfge8CbmSRMIpDwwGjMdxux+7HJYyot98Ih9kcGhlX97/oRXT12xhb2isSqWZjK2BFtpTtqlsk4WQofkOIAnTtvX4qtUINm1xYlTvjujM3Jmn7z3u2C6cXDzw9fdm0lA9+i8/SEZmAvZm/egxdiEeW5wx7vQ3nY3WkXAnkmkDtBkyzwEv51V0+7MxI1cFk3X/KN1a9mZ1wDm8LHryR4tuWHv5cCn5Bit61qOffTBZd0Mx19Zn4lJHPDxWo99dm4nrTvDszkF6ffY5HYwtcXddQdfG3ZjjkRsNSUu6ivPIztT5uwe2u324dC2cRf0HMma2LR4ejgztrY3Rgr25lXfGI0I3Tqf5H/UYa+NJyJUrrB7emWrNBuHk6c40wy5ojnXmQVY6h1ZPZuAkSw74+7Bk6jiGr/DhSXYj8DQBr+Um1K3VlaWu+zh//RwrJw9Db8xSPDzcmT5AC93JG4iLjWKudkMa645jm38wF88ewt7FDX9/PyyNjegz0oUHWc9wNMsfEUrjkMscdIcvZq+/P7YTTJk0ZyePMm4w3aAP5q5niTvng52zJwH+u5mg058xy4+SlXmd0Vq1+b3XVLy2uTPTWIfei7dx5rA7E0aMYcMeX/YHhnDnyX22W0/GwNQGf39vlgwzYYH9EeLP+zC0tw4TrFzxWDOHv2s0Z65HTE4lmplym93LhlCzXg+Wuvhw/lY8NuN6031mIHcjNvDtJ3UYuXwjLpZjaPxrPQZNtsHd1Q79tvqs3HeVjAcRTDI2ZoaNJ/57nBjTYxzbT+YKhaSLIUzqWJdmBlM5cDwUpznG6I2Zg5uHB3OH69PVaAWxjx+wekQzPqnfl5VbdnPkQnYYOI0ov71s2LAdf/89mOtqYWofmKfL7uB0LZoOWiRHJG8dYmT9QRy4lkzQyvGMmW2Dr483h85cJ/XGEcYNNWa+/U78vdZh0nMyfpfvcsC0I9WrtWS+w1YCI3PHv6We90CrSQu2xKVzedNEKn/akGlrXNgwx4j6ncYScCP3fif5JANa1eavQQvx2rwWg1aamLlGwtMI9Bpp4xAQyfZZMzA1X4uPz35OxsTnPsikJ7Bh2XgGzNuAn683wVHxZD66yOpxQxhnvRV/X1dGjDBjje8Z/DbPobeFDT5+BwgKu0b8qS3ojbRgw14f9vuGkZiWReAsbVqOtOJe/EnGDhzAmLn2eHjYYdS1PWMcj5ORcIjm1X+i5YhFbHNZQee2XZiyPff+A1kI6UzzJSvtMstG6TFoluLe28hobW0GLd5D0p3TmA/tz6iVTtiM1+b7Wp3wOKfSJZVTurKIDTnI+rXu+Pv7sGBwD4Ys3EFq5n2cxxvRx2AaW7xcGd+9BQ17ruHOgxjm9NLF2Nwad3cbejRoQI/pB8lKv4btOCOZh88mRgw3Zc3hy1z0WYtumwGs3OzB2rmDqPmTDm5ncx9IeR7HdBNdWmn1orfeAGZsOMSDbKUr2XgPl4nmkl98ffYTdvEOCYEr+Lt5V/ZLQzKSWK3Vn4WbL/A8dgctatem3xR7dm1ZRZ8unZi17STH3OdSv6YmM+13czr2Ihvnm6AzbC4eHh4sHN6T7iMsOX/zArYDW/Jn58G4HDjMlQvHWb9pMwd8/XE0H412XytuZWSxc8Ewuk3ax8M7oUzUHoPtVrlNuqraJuWwFV/+WyH0PIEj7uuwt7fHxe0YiSq6QeEaSQh1mCqFOU/aTaRxlwWS0lfsO7pyEPVGOHAzdh/aXccRID+UwdNEwo4ewH2rE8O6/I22ohKO2krnVvm6xjLOM6VbK5YGy50mN3bOpEMvE+LS03EdN5BeExViAK5un0ytnlPkqNTjEIY268emA/sZ0KIJuhNW4u7uzpyB7anRcjoxseEsNDRjkcM2TsXm64x5GM7gVj1Y5n1DSjfZ3w7tVmYEBu+it6Yenpfv4j3PEJ1Zu1WECZzYMIm/+9tKERXuBWNqYoTL6St4LzfDdL4d+0PleNn+CV34tbU+67e442Y/lfrf/sSSk3cIWTOaFv1sJaElXTjnvyzSU1NJTVN9wskWQl5AItO0ezLe4ZR0xqUdC2jWx4Y8w6zSHhEdFsBWd3emDWhLs8FbuJ9whB6N++AeLdcSZzcuZoyRPSd81tG25XiilJXHDtMxWCw6RPqDYPp2GojLpQzu7ptJ5wHTkEdBJGHVvxWj3MKJ3TObBl2ncUkpNCJtJ9JOIUgv+DFYsy32UXIe3EcaYTLLOw+/WLeJdBo0V4oMPji8jAZtR3NS8ZSv8K3HfFo1H0m4qquu78Wgczd2SOUpBcuBfTCcL48RenDcjua9LIm7cxqDpo3oMWaZ5P9FQ7vwY/0xxKiMb31wwoUu7S2Q4hHRW+jasCtbr8rXfXbaiQa1hnBYIVRn90Rv0U55B8+IO32CHVvdWT5Wl8aaM4nPfM6GiQZ5u8aeRmPa9FdaGS/Ezd0d6zGd+bZJP07duca8QX2ZIEWEUogOOsg2981M6NGWLiNcSc+8wYRePTFzUUSMICvajb/bm7J1xxbmm41jictezj/IVIRQ6f/bj/SYYivlb36/JtTpMY5NVrPp2HuZsqskGbs+Q1jsfFppu/yRdGINrbvNQX7OfoL9BAP6Lwridvgm2rYwJkzB6Hkoup06MCtQjq56jjRg2PzdRG2fwx+1/mL2ui24u9nTs8bndF+Zt0vQy7QLBnbH4Gk4Oo20sTuufGq/sYcObbVxOHUJR9M+9Jzpl8cuKb+pD4k+5sNWdzcmdv2DNubOeboOjizoR0cTKylax53jTG5rwsEbDwheP4OxFgtxCzglla2LG8ZTs04bFjq54b7Fhq6/fM3grcc4OKsXmqPWyBEllaunXtpJv/ad2X4tjfObZtFaax6SvEsNpXeXoawNVukjSTxKv469WeIrC7hDywzRXrwHUs5ipKmPU1A03ksWMX7icnYdOpenrJOZzBb7mQw2t2RfwDlJ5CWfcKDWD00xX+2Ku7sz+k3rozXGmf27bTGcsIDt+09K98ajszsZPHYiqxx3E3NPvp8OL9Sn53Q7jjvPpm3HcZxTDk0IdzLnz7bLuBx7BL0WericlvtyXKYZozPLXyXnshDqPfsgN8OdadZwKMeUA47u+iykgc44vANc6dt7AEcV93b0elppj8w5RiUh+WvmU66EBbLd3Z15Bn/RZIQVifHH0e2oh91JOfoeu28l7YY6E37cgb/bmXBceW/vXDaJ3rMDiD/jQt0cHk7oN22AznhHrKcb0XOWcizgo2D69xjDhlCViBCQ9vQhd+NvcTHYk97N22DmfFKly/c+nrPmSH7ZfShaEqePj62mS+d++EuuvM86fWNWbr/MkwtbadN2OPuUga+DVmNpMWgzSdcO0rvNaEIVWUnwp0+D1tiGK3sVru+iVe0+bIt7TtSaoWhNclReO52bMWHs2eqO3fTB1Gs4muhnmexdNAytSXtJSTzNXH1TFtl7FGyTCgAuvRv+WyH09Bbea5awcOFCrOx8uaPyYKRwiaoQClhmQovetjkh9BDb4bQyXc/Vsx50aD8KP6mFfsDueRMZPmEm1iuX07dNM/TmHVEvhB6dYmyH5iw6Jhf26ztnKYVQGpvGGWE401sqFec9ptB02FIk+ZJwlFGtB+K6bxd9mzZCZ+RsVllbY7vWnh2+EUjtYNp1dm1chqGBIZb+53NLlmKMUGtdbAJlKXHXbzVtWozi7KOHOFsMQt9iKSO0DFgblPsErDj5uKMpTfuukbvGkoMxMTbAKUahJtIJ2bcJEyMjJtnuxmW8FjVb9mbpqlVYr7bDwc2T6KSn+K0yof1It5cc86MqhO4yTacv0zfJA28veq+mraGDihB6xrG18xgxahJLrVYyumcLWg3zIPl2INqN9PFShPGAC5tXYGpkz9H9Dmi2nsR5pZjZP8mMaYsCZSHUeSDOMU+5unUCmv0tlONLkrDSb8XoraGcdZtEQ90lOSL4rMN0tHst4cJFP4Z06YzzRUXFncFu0/FMne+Tp3GLchxF2wGzpKf8W3tnUq+LRY4N13cso2trM84o6xqFvc9jttJLszPbJTX2EEtDfUZZHpbyknTSmfYD1hAXH4ZeowZoDZ2R43/PA2EoI/XSsbf819Cu9UQuKzx10oH2TXXxU7Z3aefcaNbMhKD7T9g7qQs9Fsii+7y/LQbDzLC0smLaoK407TKX2+qE0JMoxjT4ib8GW7BqlTU2axxw8j3B/cdXmDagPxabTnFo11IGGE/DdtVKhnb6i+7jtpKeeQ0zPT2mbpMV2bPTG2nccBiHFKLv/nlcVk2h94BpbPHcPQ/aAgAAIABJREFUgkHdn9EaN1/On70DHsci8F5pQfveVlLDqeiyW68/gqVOeccI3fBfTrNOM5WMU1g7YYAkhOJPudK57QSkIXn3guivp4elNLAvk+2jBzFq0W4itsygTs0mTFy6Cmvr1div30jgpewnHAXWZ2we3YG+K/3IuOlPhwZ9cT+nfHq6eYCe3XVxibyC/YRBDLIMlvyQ+999dlrNZ+iwqVhbrWBY299pN31znrJyaJ4umqNXy9vuHsOs9Qi8r8jK/fLxPcwcPxSj2ZvZtWI0tf9oyRRLhZ022G/cxPEbiXhP1UFn1ua84gRQFUIxLnPo1NtSjvCmhDOwj2IsikoEJDGIfp31sVYOIDnmYEI/a294fBajNnrYBso8Yo54MdN4IIMWbuKmigBX5PeCrwdTBw1hwjxPIgIcqfNDY8bOtZKZOm7g8Gm5y/FOyD4WmgzDaNRqrqRC1t1zbLWcjoGOKT7n7hBsOYje02zwt5lMu14zcsb5nXGbRWNta+LijtCv5UC8ohVCKB23xRb0mReYi1wZEdKdfZBLR2xp2syMaGUXclLAMlr1m8ixqCBGajWl6yATTAaNZInrIfVjQXnGkU2rGGI4iZWrVjJBpzHNxtiReDOIHp374RghQ7jub0eH4S6cClpDi86msqgA9llPR3d2IDfDN/D7d41UeDhxLCIK64n96bHgkGz7k3AG6o1n/clcgZqVZzZOJo59WtNt+nYVIaQ4NROFX2YYD8R4tRdnD9rStXM/jkhdtg+x7zuMFUohpKlpwkFF/x3gv2I0f/XfyPXo3Wi1GE6wIhAVtxPtBh1xz+7ZjT9Au+ZD2HEtheBl+nQ0s5fOvRXswuARY1mw1IoFJrrUaz6OmGeZ7Fk0TBojJFW3qTfYvXE5gwwMWean0ibJlxf/A/+tEHqBCy5sX0SjxmO5kAkpkdvor6XD7E0HCPTdzNBu+izecYH0hMP0aqvD1I2HuJgQywq9DhhYbCQq+gQTdNvTycKP2xEuNP9zUN5ZY89ima+vie7sTZy+do/YbeY07TCIy+lprDPSRcdUbpzOuoyhht5M4hS2xgegX6sLTicvsmveGEyXbSEsKoqoqGhuJqWSlnKH4BMniIg4gGmfdgxddyI3hw9PoVOnJn8bLyfQZzdmg3rSc+4uqdKMP7SGelWq8LOBFQmqY02Am0Eb6dxqCI77A9i5dARf123J+tMJXJamn0dgZzGYtsM3EBLoiN6o6ew6FE5UVBQXLidIT4Q75w+kkf56NRGh+6wf2Z8B82QbZEOf4TakJz1N3IA7jG/bmXH2ckQoesdiGvS0VkZrFEc/ZsuYnnQzXEBETCQrx+pQr+8GUtKvsqBXG3pNtCEwcD9mXZvRSs+G67GHGdr6b8ZYe3HUx5Uetf5gwMIjUtdY1+Y9WBPxhHvHrWmr2QsHn1PcSbnNcp0/6e8QTJpiEGGbXsxYs5NAfw9GD9DHYnMEadf3ot24KWvOKaCl4zHUiLFT9+Rp3K57L6Z1Oz02Bp4i/toxzDr3ZsJSNwIDd0oh+REr/VAd85hx6zBGXdowxvEgl+5cY2FvHQyUs8buHl1Dw66LuJL2kJ1zTBi3yJmTkv/PcS0h7wjHBxHb6dlYB6tdIdy8HclMI110p6wnMNCfFaMGMHCGG4+ysji6aih/607kcPhF9q0eTX09c46dOYfHzOE0+cuC6+lPsRupTScL1Vljj9mxajy6M9YTdkZR/qK4mZAC6Zcw6a7FuHVHcF6gT8sxNpyJjmBJv+50MtxIKglM7dmQP3tNZ7f/AZYN18VgugtXb8YScjyEyKNb0NHsw9LtR9i4cjxGS7cRqSzft5OecydoHV2btWPuZl8CPFfx97d1sXDOO0MtKdyV1i30sNp1khv372Fj0pNuMwK4GbKeZvWHc0ohOu8eRKtDB+YeVYQHMnAdoENf8x08vhbIsJEjsfI8KuUp6txVUvJEiZ+ywbAJnebsgIxkHEz70tPUksDAQGymjKKP8RriU5NYMqgbOnOVjVrOHXgHy4G6dB66hrMXz7C8bwP+mrBOfnhRHhPnuwLNHkNx2h+I68Jh1PxOG+8rj7l55hTBYeHss5tEk+7zCDq+k6Gjx7Jm13HJzrMxN3iWmYmnSStamzoWiAg9V3SNNW7O5rg0zjqY07T9XDki9CgYnU7DsTmmIvYUs8aad2ORr/zAFGBliNaSXfAokj4NtFi57zyXz50iJCyCHUuNaDFwZu5M18ynxJ05Scip02ydOZpuPRYSfS0KyxFGLN56SGYaFUvyk2fcvhTBidBwDtjOQKvtWPxjYjl5IoTTJ7YxuIk2dkdiObqgF61GWXHncgADtHthZrOTwABPJvXRY4prOOm3/OlQWxvXSEXLncaG6aPpPEV1hmUK9uN7oWm6j7QnZ7Doq4XxcsW9t4epAwcw3sqbq6G7MNLszoQ5c1lstYkzt2RBE+0yg75jV3ArJ2Cdgpv5EP7SWUhYTAwuYzRpMGghD57Fs2hgT7obWeJ/9AAzejfjlw5W3IwPZohmZ0YtcONwwBb61KuNpqk36U/OsXjoYBUel7n3NINj66fRrMUQXH0D2bHamO8+b8+GiNxQ8d2Yo9gvsGN/YCA+7ivo3nk4TqoD1zOfciEqTPKL1xIjWg1bzLnzxxjdvxdm9ns56KW4X/5kpuc1Ui9soe7PfzB8qQc+e50Y0rkr83ZdIP12EAObdmXOpiPE3bqIlWl/uo6xlsq3/cSh9B1nx+2MLGI2T6JF1+HsCznHMdcpNOg+kn3h0fiumkTDP4ZxJiUDzxn9+GvEVh6n3JbapPAIH8z6tmeIo0qblHNviC9vtBBKPBOA9eqd3FZ2p9wI3YHFWGOMjSfg4J89NuE5Jz2tGGk8EbfQOzy7cwrrCaMwnrkcG/v1OPte4dGtMGxXbiVOpctX4frrJzyZaGyMlc8Z7kb5YrfOg3uZGYRsc8V5z1mpdNw5tZNlrr5IcaNHl3Fb7kjIrTTFyF88HRdibKywZxz2ey7x4NYJLMYZYzxyJMtd/UlUfVJ7dhM32404bXBg5khjRlu6cy07EvH0DIbNG2FoE6KmRD4j1NOWEcam2K5zwtZ5M2FXLrF91iSMjUdissSJMwmKUFomFw5vZ/oIhT3GTJq7iZupcPHQVqzdVAdJZ18iBf+1K7DyOKkyTiKd09tccNmp6O54zG779ewOlie+J5wNZJVL7gBHRSqp92JwmmnCyEnzsFm3HtutoZIISbsVhtW0URhPXo6T4wZcXI9KjcO9yL1MMRnBpAX2ONs4sisglqyncWywdeLoNYWYuceOpVMxHr+Ek/F3Cd5sjetx+ZHozmlvFowegbGxKQ77wmWxk3SGjattOKEYRUgmkdu3scs7WiU/CiPj2b7IHGPTJYQlZfAs9iiW4xXpmGC9/SiPlBGqbCqKCv30zrWMMh7PtpPnOOzmiru/PMA0Je4E1uv9SVCc8/QWuzcuUfrfBKutp/NeN+shfk6LMDaexaGLj8lMjsZ6hql0/AJrb+4qK/jUhEisx49k/DJ3riXGs8dxFiONp7HGdgNOjr7cz0zjhJcT6/fL3Vk5dqYn4rd+BWOk8jcSa/f/sffeUVlled7v3H/ete5ac2fddd95Z6Z7pvud6a7u6VDd1dWVyyqzoiiISgbJUVABUYIKKAYQUUBBMiKKmFCCopIl5yggOeecwwOfu57nIZZ2lVVdXVL9Hv+Q55yz9/799mfvc873/PY+Z4vbcZiY0CAe5vcwN/QSH2dLTA6dJeByIBH3C5mZaeCIqgKqh89jf/AAx8/fpkMEXVlR2IrLMbXAI6ZAOhFW3L8vOmM6379D4qTnW01yKObGJjh5hBDiGUhC/soIJqIBngU6YWJ2isTqDnIf3+Ta01oGm3Px9rhHq7iZR2sIDgggvkEsHmcpjAglLEo6xNZXk4G75QEp14OuZDUuf3tqmrzblwl8ViLFMFDD9Yt2krSWHneQvmMwRvytYELjF16xWCTGRFsRl2wOYWbnSmDgFYISCr8SvRkj/d5FjE2OcjkwjECvezT095Lk5SyxYXrMncRqaQRZPNH7/EEzyX4zSw9K+8apivHHNybnK2XCTHcJwZe9KeoX0ZnzmCsB8dKJwpNNhAbdI2N5HUdqCfYOIalaerGqTbtNcMoL8cxfbl4JI7u8mrt+p6R1drxMbuP8OK+4mtNdRF22lxyzOHKVvCbpscnWAjxOH5XsNzFx5mlxI5l33CTbpubupNX20lYUha2ZuA8cxv9eoaQP1D8LwftOiqRf95THc/yA+LyxIuDefB/pr8Lf/RqF7WK1KiLv6QOC4uYnY0uwT5EdfR3fh9Jr6VhDJq7HzCXXLefw55L5hv2FD9HcvANTO3vsbC3QU7EnobiacDtD9h4On48+SttwdrCGIGcbTC1PEhDozdWoVEkZop5SfKxMMbE9TVDoNTyvpUtGDvrL4zlpbIyFixeB/sEExUr78NQKHid5XCp+dWGC1EBXjE3MuHQtFE+vW+QuC7WJJrtIDDqPuYkJZrZuJFQuzD2b71/T3dy87DDfLlfIaZK2X1vBQyz3m+F0KYQQj0CSy/qZ6S7CJySY4ABPTE2McQ9Pmx/pmCD7vicmJkeJye+WvNgRdNZGUuYJl3s0j0svVrNDtQTbHWS/YwDVXd2khLtganqUy1eCCboSRef0LGVPw/GLqqC/NQtbi79wT5p3XfizyiNC/6c0UH/hDbbIaHCzfPlF//+U2gv1/MEIjJWgv12OI3el89R+MLuCIYHAXyCQecWWLzc78WJ0lNHBIuy27sXK1h3X015kfjU8/hfKEHYLBP5aAqs6IvTXVu7Hkr/kvif7j4XQOT8Z8cfit+Dnj4zAZCNeTicJSF75ecsfWS0Ed/+OCEwOVhPqYI2qigoqGgacuZ5C1+AwY6PLw+l/RxUWqrIqCQhCaFU2i+CUQEAgIBAQCAgEBAI/BAFBCP0QlAUbAgGBgEBAICAQEAisSgKCEFqVzSI4JRAQCAgEBAICAYHAD0FAEELfkvLc3Cyi2e9vMs9EUw7uZ4Kp6Ft8T/TNPRqpJeCICUZHPHnR/8rrT5LlGeKuniU0uwV6y7h0OpCSv2YCorjuotmvfDvjzd1dPSnnmJ2dZXbudcxWj5eCJwIBgYBAQCDwtycgCKFvZDxNZ10VTX3S78Sk+9qwQfEMX104+BuLWZZguL2OmpZuiaAYzg9jzR/UeNI4/42AZem+/qeIZLeDyKvak1pczdCK760s5Gzn9M730L5WDPWxrHtXiQcvV37vZiHlm/xte+LGpq3aJM1/COxN8nyXNKLRbmqq6xj+tkje1NhEJYfkdmFzfeVXkd80u5BOICAQEAgIBP5+CAhC6BvbshNXxc8wCZd+u6QhI5rLIc/4LgGcBVNJTnvZZukr+Qz7ZOkdZL804fm3FhdDeOpqYOL+dSujd+Kutpb9t8qg8Slya3R5VPvd38YYqkzkis9Nqpe+M7ZQpe/171CmD9u3KJK09GHX77V8RF1EBgQSnSu8PfX9ghVKEwgIBAQCPz4Cb1kIici5HYjloeNYaZlx5moG7Q25XLTWRV1dE2ffWHpmYbY1ByerC/j6uWOiroyGdQD1E3P05EVjfeAE9vvNsTx6h76Jfp6FnkNJTR01q1PEVw8zNztJTpQv+9Q1UNd0IrV+krnJTiIv2aCqro6JtScFkuGifsLOnMP+5DnsdFVQMHWWfDa/NNyFj372z7zzmQwWfpHkJMTg6fOMsdlxooLPcOSsG0eN9qGkbcfTF+KPrYk/bBiOvo4GigpyyMlrcy1N8l1qSe/ozH6I6rs/4yf//SGqdhdJS76D/Bp5jp4+i7HGXgxcb9M+KR6ymaUx+y4muuqoq+tyMbYQye75Plae4MMHv/wv3nlvI0fOPGFooodnYW5oqKmjpG5NeGoDc/RySX2lEIqrn2FONERKmCemquqoKpsREl/B9FgtnraWhEk+LjZOhKstR688l1gbyL/Daf87vCh4huflYBoHerjj74zNufNY6qqjZuhEaq1UHXWWPMVRZx8qe3chK6eA7e28pQ8Nzo7w/LYrSspqGFteJKepn6HGXC7ZmaOuoohVQDx9ffV4q67lJ//2MzYo6hOQ0wHTndz2dkBFXR0t+wtkNovFnIjSmBAOKKmwd9dOdigaEpLfzcx4HdcvHkdNXR1Vg9MkVPWDqIUbx49y/IQd+83siS97SaTXVSKzxOtozFGZeAsLJVXUVA4SEFOBePizs/gpTvPs/Z8sfLxTCr8l2Q9NE1eKl33Lbr5ZhD8CAYGAQEAg8CMj8JaF0BzRTqr843/u5FZWHR2NmRxS0OX8vVKGhhrxsNDgUEghkw1RvPfT36Hj9YSm+kIc1VQxcUumMs6V//nPH3I6Mp/Wti4SPK1RNvegZmCIimh3ZHQukpVxm136Vtwv66K/t5/xySFuHT+IltVNOoeGyAq2Yc8hXwYm2jkq8yG/UnCioOoFVy33ss4sjP7+ahx2foSmRywtPQM8v2zDlztc6Jsb5YLWJ/xS9jg5VZXcsFJmq5kvjZVPUN+txJX0CrL8DvLeBh1SOpYWUZseHeS2hSwbDU5T1dbFUOldPnrnfYx946krjUV50zaOxTQyWv8I3d26hJd1MtT6HF1lfdyfLgmqieE6HFV2o2pzm7bOPiJP6rDN8Ax5tQ3k33dnwxoVbhS9wE9v07KIkAGJ7RNk+x7gk732ZFQ1UBHvw/bPt+P9NA/Pg0oons9gZrqDM5v/yM8Uz9A6OUXyucPsd35AbbIHm7ZqkNPRyknFP/M7pXMUVlfgZ7yL7dY3mBip4pC8KvbXcqlM9OTdPyoQmN83P6dojvI7Z5CRMyGmuI7SxChiklNJiYkmp7aLoeZEVOSVOJvYQkfCBTav28GNgiZ6x0Z4eMoUDbsQWoeGyLx+Chljf8ryI9m9QY/wnCriPU14Z50tFT1tXDZRQPnENaobGnjiacXnMgdJqcnF4rc/ZY2+N2UtbQyPVWG2fifH7tQyXHIDecX9RJV3M1CfxAEZXW6np3FeeT/nrucyMNDH8NjKccfWlAB0zNwoEYTQj+xyJ7grEBAICAReJfCWhdAMD532I2d0TXKznCz04/1fvsteYyssLS2R+/xd1ppG0df4hD3rTEmbX5Lnhf8JVFRciIvwQlbeEekSkp0cVfiCP6xT5bClJRbacvz6v9V4XFLGNe9TmBla4xdbxuTYC8w3/4E/79DHytISU5X1/Mefrajqa+SkkjoO4dKn/7rHF1m/L4hBBvBSXYt5hHRNpVx/B7YpXaJ/bhA3YzWMr0r398SfR9HGjZLc+6graxDbNkF7zBnWK1mzbMkaSQskn1JG7kiAdGisRDo0li75YvsoHtbmHAoqpvDecX7y888xthazMObT/3qPg1eXL8ExhLehNiYXxftaMdywm2MR0jW/xdvHNGUxDn+Kn8lWzOaHxuS/NCG5oQ7PXRs5EJQ73xuGOKuhhu75DCofeaCo7Mzz/FRcj7piaXWJRympnDh8EJ/cIcZyLrNjlwH5HU2c0lHH+oZ4SVFoeuiAvL0PvT2lGO3S4mJqD2M1d1m3zpCH1QtDcUNcMdZGyWb5mlkw1VmGn7sjlof0+OBXX+L0qIPpqlAUtquSKvlKfQ266z7g423aknY1VdnK7z8y52n8TeR3WPK8d5LKu058ouRFQ30SOz9UI6xwfi2VgQxUdylwLuYR9ns2cfa5dP0mRHUc3qGG2+MKsi7o8c5vP8VUzNnKgE9+9Qss7meTHx6E1f5DnPKKpGVUmFQ931mEPwIBgYBA4O+OwCoQQubsNgmVrG0z8eIGX/xuM6duJFNUVERFVS2dPWOMVTxg64dKhFdKVyR95KTPdkNfnt+7jJz8Seok96leXDS2sUXHlayCIorLKqhv6lhcgLOj4hlWO5RxvnKdI4rb2HUomNyiIkrKq2ho6mNa1Ij9bhXsQ6VzgWoee7FZ7xoD9OCmuAbzSOlNP8//BDKKUiF0wVgVg8vSRUk7E9xRO+FOUUE8eps+Y5eWAWZmp3hc3PrKW1ZPT+xmu22opDPNlN1h2xpDkiQLQg/gaWOF5bVSqp+48Kf3lbiRkktRUQkva+vpH1kemejHU38fRufTYa6Nw9tlMfebXwl8ogSTHTs4m5BNgOGWpYjQl8akNDbhq7ER5QuJ8525HguF3Ry6UcPcUBZ6exVQMD+EQ3wROQGnsTI2xFjnFFXihW9TLyK7KITUsAipkJTREH0KRSd/urteYKW4kQ17ddA/YIl/YuUif/HaZSEHlNmkGzxvd4LOssdYyMhz/GYyhenh7PpcBofYNibLAti+TY0syYt07VjLrmO3hQ+5heL2qqSprYfuggi2rVnDXh0DDOxO86R6jNnedPZ8vBOPlPnJRdWR7NquRlhGMsf2bOLcc8mS8jBTy+Edqrg8qqY8+CDvrlMlIj2foqJSqurq6ZkP4E101xFkq8ZmK5/F9e7Ezk+P9NLU0sX4d3jRb77ywh+BgEBAICAQWCUE3roQumujx+Z9vtLV0adbuWZ3HKsjznh7e+PtG0xG6xhzdbF89t+/Z6u+HRedDrFdxZDQ3Faq753l83U2vJTqI+qeBWF10JKTl7wl+W89raC7tZjrVy7ideUsett08XtaRH5kCBZ6NlwQ2/D25naOOJLSjNWWnVgGFEqapvLheT5Wvko/E8Se1uLznUaEPM0n/rId6yRDYwOc3ieH2gVpZKUt7gy7rE+TnvAAIxk5Dh4/jsOpizzOalqaIzPf6NUPT7P+ix04h8RS+fwGm/6syTPJ8k/9uBwwRte7GNFAOVeOmmFx5pKUhX8MNX3LX6Pq47zqHjQcpBGWiqgL7FXWwN7VlSMHjdA+GEzjSAcX9nyATqj0rbENf1ThcdMMLVkh7JLX4PBZV5z2m6Jndo4iSURqAn+Dj/mHf/hvbtTOMFF4mZ/9609QP54g8bznyRnWblIju60BOyV5jHyl0bDae3Zst7tMS0MWpppyaFmd4LjjaW4lljKxLJjSkXUT3V07MTzhwrkTzly/H46DuiJ6h88THHyeDZ/KcPh2I3N92Zjs2IDqES9S6ocoj77CQYsjnL0sba+7iXW05ASyTU4Bq2PHcTztQWKpWEmOk+J7BDl1Q1xcXTHR08fCJY6+gQJM1r6PQ+L85OiZakzXyWIXLl7xOQ+bo5bYOrhLOPtfj6e9u42YW754eF3GzlAFHZd7KybHV98+yjsf6pDSu0rOYsENgYBAQCAgEPjOBN6yEJqjrbyQ9PyGpRWbZ3rJjAnDx8cHH79g0htHmKqKRn6tNv53ogm+6seTcumK1yMtlaSklTOy7LM+7RXP8RPn9fEhPK6M7vYX3A0Sb/sTl1E/L0pmacyPw38+XUSmeGXvKcozsihtEK9EDCPt1aTk1kkiVTN9dUQH+3MntZSWukoysquZYpqq/CzyaqSrUU90VpFZWk3xwwD2btfDOyKCiHBPdDdqcGXFiszAzACZd0Lxv51IY1sz2akFdEneap+muqSI/NoBiQ+zA/VE3gyUsvCP4mXP8ojQFNV5OeRVLLxuNktd3mOu+vjgez+JTok4nKYqK4mCpkEY6yQtMZf2+WGeluIkfH188At5Ssv8SJLYaP/LHGLvpNEtNjXWTlxsLPnt0sVgJztf8jw9j/6JMV7kZlHUIJ0kM9r2goyyOnpLHmK0SxEn/wgiIkI4pKnAweB0yRCgpELAQEMOgVd9uP4gg/5ZmOwq567/VYKjEkhJy6OsRWqrJfcZgb4hZM2v4lxflCCpm7hd7yRUUxblhuJufXzFnINdUVNUxSdT3C/GKEy8I2EW+qxQuqrz7AAFz5Oo6J4fppsboTgtk/L51bmnu6uJCvCV5PG//oSWrg7iH4ZKtsNiMuifF9oLdRhpKSUuIU/KaGGn8FcgIBAQCAgEfpQE3rIQejNmI4U3+fJdNZ7Nj2y8Wa63kyo35CSbN1tyLyWFlPjrmGzT5Wps9dtx5ge22ppwFfUtqnhHp5CS8ghHfWWsQ9NeGRr8PtxKu2SBopIlkSkpJN8LxFhDnasZwuvw3wdboQyBgEBAIPB/EoEfhRCa7qrgZlAUtQM/gkkZcwNk3LyKjbU11vZnuZfT+DcRAquzk05SkRyOwxFrrK0duBFbIo3I/C2cnewlJcKTI2LOR9x5VtiyIvL0tzAplCkQEAgIBAQCf38EfhRC6O8Pu1AjgYBAQCAgEBAICARWAwFBCK2GVhB8EAgIBAQCAgGBgEDgrRAQhNBbwS4YFQgIBAQCAgGBgEBgNRAQhNBqaAXBB4GAQEAgIBAQCAgE3goBQQi9FeyCUYGAQEAgIBAQCAgEVgMBQQithlYQfBAICAQEAgIBgYBA4K0QEITQW8EuGBUICAQEAgIBgYBAYDUQEITQamgFwQeBgEBAICAQEAgIBN4KAUEIvRXsglGBgEBAICAQEAgIBFYDAUEIrYZWEHwQCAgEBAICAYGAQOCtEBCE0FvBLhgVCAgEBAICAYGAQGA1EBCE0GpoBcEHgYBAQCAgEBAICATeCgFBCL0V7IJRgYBAQCAgEBAICARWAwFBCK2GVhB8EAgIBAQCAgGBgEDgrRAQhNBbwS4YFQgIBAQCAgGBgEBgNRAQhNBqaIVV6MPczBST0yLmVqFvgksCAYGAQEAgIBD4vggIQuj7IvlG5czQ3VhNQ/vQ16YeaKwg8/lzMvMKKSkqICPtOc8LKumf/G6yRNSajLnRCR5Xj32tXenBWeri/VDbshNr78cM/4UckwOdNDR1MDH7FxL8rXd35WKtZcOjiq9n+cZu9GRz2MSOOyWDb5zlzROOc/+cA7aeScy8eaZvTjndS3F2GmnpudT3jM+nn6CqKIvn6Tk0D4u+uYwfIsVMIwH7HYnK6/7erBWH2GPsHMLAihJF9LU20tLz+l47WHYPXaPzFPS9rU67wtnveaOPiOP/0OAbAAAgAElEQVQ2hD5JwdfajqvPWphqfIKh8VmyO8bpaW2mve9Nzv8lt/KDzuLmf48o7/McdXnExNKh7/hrjpGuFhrb+1glPfM71kPI9vdGQBBCP2CLzvUVYPCLf+MXe5yo/ZqrSmXUVQ4ZGaH45e/491+9j7qhEUZO/pS/7h492cnzRzFUDvxlkSSqvc+WL9S5Xvz6G8QKBNPV2MjK43SvlKnpmaWI0EwvGY+jKeuVXsJKfI35/Rfa5I+uyP3DbbQkIP/BHq4XvA7Kd3Cj/Sly6xS5nN77HTK/mmWy8yWPY7ORNssYV43UUbSO5Pu6BY805nPpgAlaBgYY6phy+VElc6IB4oMd2K2pi5GWPDLazuS0fLub36s1+R72zNVwcuM+AhJbv4fCpEWknVFirf45+leU2I3rrvfZcvzeir0LG72Z3nz8hRmpPQt7foR/JztIeJxM9Stirh1P5b14RifgtVcPl4haxqtu8sVGc9LrX2IntxHVswnfqsIJDoYcPneNByePYWhyg5FvlXs+8ewAGfGJFLZMSXY8OLSF99XO8mNugu+CQcizugkIQugHbJ/ap1dQ2KvLzh2aXIpt+EbL9dcPIaN3atlT7xyDXe20dfQwPZ97uOw2cu/9nuMxL+gdmZTsnRrqoa29k5EpqTgS1Ucht0WX8NJXL2WTA120tXUwLL1OMVzzCPmPFfB4XMXw2IKVWUaqY1B8/zdY3y+hZ2SC/uocYp5m0jc9y5RIhGh6nK72ToalLjDc20nXwEKUQurszNgAbW3tDE4sPQ+Kxgdpb2ujo3uI6UUtJ2J8bILp+WSzomkmRQsSYo7psXGmm5JQXavJzexWujs7GJhcOC62JaK/q532zoFF4SGankE0I2JsoJuOrv5Xn0g7ElDapsnVrPlb6/SwxK/eoXkwkipM09vZTltbFyPz9sTltbW10TMwviQaRZOU3TnNn95VJ6aqi9HJIYIOGqBlH0l/XxedfcvbYY6RHmmbLgT85kTTEqYTI/20d/Ywj1QKUfL/ADftNVG2jVzcNzc5RVf2TRTWaxMv0XKDnFPYie6ZZyujUHNT9Ha00dbexcjUPLPpUTrb2ugaXKnOp0f6JH1jMR0w3Ncp6Vtj81lnZ2aYmRYxMdRDe2cvy2kxN0FXRzt9vaWc22HEtdQOib8jvZ0SZv3DE0vMFmsCs9OTjI8vHJtjanKa2Xl7c7NTjE1NkeGmxXZzN5qHeunoWmjnKV4kx5JQ3LRY2nBPB+2d/ZLzZSA3gPUyh0luHKCzo4vx5V1GkmOOmelpZqbH6e3sZAHHQHc7bZ29ixxnp6eZnZtlcrSf9valckTivKIpBrs76R2Wspyb7/P940t9fnZiaL7PDy72+UkJ63aG589ZZkXMiNlOjdApOa+kJ8fIi3DWvr8V54cV9A0tb68+btrsJyg1kzum54hI6GK8+habZQ6S1NRPUXI86WVtTI5PMrUsLCkaH2dy3rXR3g7a2rsXIz+5fsc5E3SPJC9/3E4lvNoPRaN0tLXR/ZXzfFTcvh29TM3OMdGexJ416zHxzaFncJym/EQepZUtljU91i+5JvSNLTg1K2kDkWiC3s4OVpx/8/20vbOPSdHixWKxrYUfAoHvSkAQQt+V3LfNN9uHr5k2znFFJJ41Ya9NGN/0rF7it58tWsdpnoW58S4ir7qgv2cvyrsUMD0RQN1AN1HHtPjFv/4Lf966B6eHmdRXPcf9iAmqynLs3Xeegu4JaH30qhCaHSMn7jqH1BRRVt6FhoEDzytruOthwn/+y8/5aJMmvg8q52s5SIyjAe/82//ivY27cIjKoe7JFfbbe9LaVYOTjRYalvYY7NmFgsYRvAODOX54H5t36+Gf1igpo684GktTbVRVFVE57Epq4wijPUW4HDuAqpoKBkdCaVq84/fha67H4ctpkrwZbgaskT+NOJ4wU5OAhfJp8kpTUF+zlj3GRzDT3MEXajYkNYzB9CBxlx3RUFZGaZc2rjeSGJ2F4huubNyqxWFzXXZt3oLhxRj6F246YivzQiiocISxtiIuWuqxV1UVDe2jRJV2Mjs1ROKti6iqqKKiYkl0UScdFXEcMhbXSQVH37TFGwi9ZdhorOPf/uXXbNl9iLiiesLttfnDOk3sjxggs3UXDrcLmJwcoij1NieMNFCRl8PI5iadY3P05gSyQ1kV0wMH2CO7hX1HA2gYWbhRAINF2Mruwin4EbGR93iSVi0Rdtn+x/hc1mPxaTvDVYuNuucWt0VjvSQGn0ZLWQ0V7UM8qBxhtLeSixb7UVJVRUH1KLeTpQK9oygW4717UFJWwPzyPRq7usm96YGRtgrKittQsfbkRec4DU+usnmTJpYHDNktsxF15wi6p2FuuAa/k4Zs2aWGqYEhWz9QIiK/g6b0BxxRVZFwvHg3/1VBKhZbReGoKOsRJx5Jmy5GZ8sWjt6skPSFVK/DHL2ZRKb3fj57fxuH7C3ZuWkHBy88Y1g0RcxJfWxvZotPGHLC3NDcthNFRTO8I8toLwlj7Sfr0Ttki7bcFpTMPajoXy7derluosxeJW0M9Ey5nlxE5h139ioroqqkiJXfU3pnoCnaE2N5HWwd7VFS2IbugQA6JmbIcDvInh0q6O7T49TtXNrqMnDQ0UJVVRlVPVcyagYZ6XuJ72FzlFVVMLD1p3F6ls6Ce5gaaKKquhsNO09yuyagJwvbbTvQO2DFvr2ybFM8SXp9M9Gumvzs3/43H25W4ez1gkWhD3NMjA5JROL44CgTU7MMl4SyScaSrLZ2gu2P4/MgmwcuxzhwKkYq6kZLsFTYz628RorjgjGU34OqkiqWTndoGZpmZmKEkfEJJkfHGB1ZzgmGOmu5d/kUWqqqyO7UwT+hhlmmKIn2RWmbLMrq+zh9J55Yr0P8+mc/5/dr5Dnhn0xysB0H3O4wg4jG1EiO79dCWVkRWe2DhGe2M0sXvlp7UNc9iLHOHtatNyQsq53xoVZuOdmgqqaKhtl5CruWnQ+SniH8JxD47gQEIfTd2X2rnBOVd9i115K07jnGCwNZt9WK7N5XHklXlCkVQg6I7wfVN6z50xYzsnpEMFaDjfw6FE8mMz2ai4nMBq4UiceoJigvyqBAMhzSjN12eSz8SpnrSmDX1pURoZHiMDZ/vh3PTHGQepzIE0p8tMeDrq4i9DepE5z1leB1fw5m29ZyIatP4mN1mBUblI9Q21WJ6daPUTidxNRML2d2fMjvtp2iYWya4uu2fKDgQXt/HccUdnLkRpEkWvPgtAlbTYN4cseZ9ZZ+vA5Dvq8F6/U8GBzrw9tuHx99okh0yxj1MWeQs4xguCuLXe9/iqFfBtMz3bjoKqDinsbLxEts2mhDqXjErCMBNVkF/HN6KAo5zM/eVSehZZSxsut8tmYft6uWSdGOBJR36HIjpwr/Q9po2MVKbhaVt21Zq3aOyspElPUMCSxYmJUyiNcJbVS901e02cJGZ3IAMhutKJQEfyYJtVTid9vseTk0TWP0Kd7bakdJdzfZudnUi6c5daWg+MFugvJG6E1z5ze/3UpQXgfTXelort+Iy3w0RVy+qCEepT9vxcTCieNHj6C4SYkTwfHcdTvAl7suLwqfAi9dNhs4I43DwHh1LGZ71LhfvaA4x7lhvZutNrckorwx8izbN+4nr60KJ6VNGAUXAmMUFubz+Po5Nn2sy9PGcZjr4qKWPHsO3yT77jl++Rt57tX0M9UQxea1qoS9GCAvwIov9hynbhx6ym+j8IESd7OL8FQ34bhf7gKm1/8dLcNMQRGn6EYGyhMw+PQj1jtEMTbRwikVY4JzWij0MeT999VJaRljqOgGm9/TIaWjhxuG61H3TmW0+gHbPtbgdukgc6Nt5KSUU58bxKd/2syF+EZEI2WYy2zANrpmmQ+duG79LR9reNEl7j5JPshs1iepSwSjhWhu2YNLUgsN9+344zubuFU6ABPVHJfficPjQp7a7uDXHxtT1DcHE3UcU9mCnn++pPwUZ0P26LsSE+yF+u6LtC4ENAYLMZXZwamYWmCSa0e1kT0SyXB3Kqrv/BLjgCJmZrs4vVsBowvZMJyF6vZ9BOZ+85DwcHEom7ZZkdfWxFkVVayDC2l+dpGNu49QMQM9ie7s1D9HekIo8ttVCCsfgblWTslsxNw/YxmXV3/21JWTnlEtOZDracgm3TO8LHuM8pYdeGX1wlQ7yTml9HUVc1BJFafoNknaRIfdyBwOZLS/AJ0vZHEML0cs4rL9DvPxWitK+ho5u/E3bDpwg37RJFHHDZHXDaIkJQLVjccpXRlkftUxYY9A4DsQEITQd4D2XbIUXLXk3d9/zB7x0/DubfzqP97F8s5CxOX1JUqEkPZJydBYpIkCasfuLiaMc7NireZNRoZzMd26Du8i8fwfET31WVw6ZIKKqhIf/PJ9rK+VM9f5qhAqD7Bhm+wRpPEa6MkI4KMvHCiry8FwswZBmV+Z2Nqbxf6tX+A+L4Rqwo8io2FHXWcZ5or7cE8RX5hnuKGjjoV7ksTPlvgrfL7pHMVlcaz/7W9ZL6+GiooquzatQcHwKvXdTdy6ZI+WohGe9/IYXRiqEdekKY7dW824E3sfN79LnLl0GueHqdywMuFsbD30ZqK6VpsHFdKbeuTFY2iee0KMpxY//e8vUddURUVVgY//KI9vcjNZQY7s1vZHMqVpOAdVRSvCihZEjfiul4iqvAGBTxM5tPM93t24FzUVFZTlN/L+1pO8GBqkICmMQ+rq7D8WQnX/CG316bhYGrFPy57ovEaml+na9iR/tiwKoTECzA3Qc3oq4SJ6+YCte5zJ7R2jqSCWY1qaqKrs5Ff/exPXikbpSvNgrbwzNZKbZQuulso4JTQvtr2oKR6VD3dzs1z6lN7z2JnN27U5d9qezXuWhFDGWUN2m3gtzqOZmxwgP9oXAx0NTF1v09RRyYnPf8Xv18uhoaKCyq6N/FnRlLjkBxh+uZuoloW7NWRe0edjsxAW7kMVvsdRUXYm6tolditfkIqvmRcYaVoRml1HhJ05mnZx8z53473HnPC0ZjoKkzhrYYS2yUmevehYHBparJzkxyzxp83Qtvbm1q1wTrv64WATSOqTQNRNnSU38QIPHXZYXpb605ePzUYzEps6uLVfBv3gVKoeOPDRPjekt19p6UM5fqzfZkueZKrcIL52qlg9lEaapCk6cFNdi1lEiWQzyWs///PfP0JVSw0VNUW++OMmLj6ro+a2LbLGzpIHFHHCiBNK7PKMJMZJid1OEdKiWuPZ++//wmeSPq/Cnq2fsMbMlarmNmK8nNinaYJXVCHthRH86b9+w5Y9GpJzY+e6T1GzjqCrMQm9Hdu5US8t7tERS+zOpTA9kInKdq1vJYRy25o5r6mJlX8xzNRxeJcqXrHpXDHX42hYPtV3nXj3p++goCH1YfPH76IbJI3GSq1/9f85pobbiPM/g7aqCru++D0fGJ8hKcyNPTssqF7qNjBRjImC8qIQSj6lgsKJUBqyAlkjt5/U+ZHouepHaHysyaOqCtzV1mP3VHplqrx+kf2aV2gd7CExwBW9ffqcDIijfXxh2P6rvgnbAoFvT0AQQt+e2bfPMdPAMTVNLK5k0N3ZSWd3L9Fupnyi7EXvzBglqfFkVH8lAgMU+5qwUfOE5CaTc1GPj5RP0i6x3oer7m403DKYGc1Gf8t6fF+KD7xAd9dGTMJKmRiq4ODm7RzwK2KuMx65TdrcLFmam9KZ6MEXXygSMz9/NcXDlC+1/OnuzkdnnQoB6eJn4mX/+rIw2roW93zprbDmhjWb1Wyo7Sxj/24VTseJ008SoqmIkfNjScaGx5f4eMMZqlqL2b95KyfC8xmbnGRmbvmVEkYrItn77jYCV4ivfgJMd/DxGhlcfR9Rlv4Yq627WKt+kvSOOeh5juJnqtyQTJae5a6bHernksiNdGTNenuKukeYnFq4WM6RePEIMioeSKbPDGShtEcshJY9VXckoLhdh9D0Ilx0FFE//oiBSfF8ijnxA+uyf91c0ZBD5dCdxX0l1x3Y+LExuSt0lS9b1xyiTCKOJvDfr42azQPJUMZUxX22qV8gMeU6m7fvxS+nl4G6WHb+aSf+OUN0Pb/IZ9vsKRGjFjVy1kIJp4SWRXuM13BMYQtW96RP5MX+dijsO8vzZyFs+kKDREklu3DYuwtT95RXh5/mWjilsZe99te5bLGT7Y636ZPMHZFWVNSZhubnH2MTIxVfLQ01RF05whcbj0pECEwRdFATTbs7ZES4IyN3CknKyTL01S0JyW8j0VWfz/e4IA52Tbc/RfNDBQLSliaiZ/ua8CdlW2rGJqnMTCO3cqXwHi65ycY1a/hMy4KIyjaSPExR2KzIibOxkvrkuGmw2dhVKvJ6cji6fj+JzR2Em2xC2+85XZk+vP+BNvGSbjxOTUkDjZl+rN10iFSJqT68bVVeEULnlT/H+Lo0YlVx9wzr1hnwvHWIycmFvgQvb1jzyUdKJLSLeTVgvWkdhyOziXPYg9yx61Lew8WYbfsMg9AcxicnJSJ5eTearo5m146dnA6/jbHMTtxiK5mYnEQ0f25M1cagtnEDARKxO0uMpQV2Z1MQDWWxe7MGwUUrh6qWOsfSr+Gia6zfYkFOWzMu6mocupwjOZjte4D3v/icz+VMiW2ZZiT7Cms27OZmWQ+Tk1PLhtuWylr5a5Lbtvqs2e1J1+QoyWdV+VLHkdzkULZ8JktEnbimk7x4Wc9QTzHG8oo4PZJGkpOdFNlhE0xv4zMUPt2Nb7b0rc+qe6fZuNWeyr56zu7+HMtI6UNieYgbxipLw7305KAv9yUH7lcy3FzK42eFDAqjZCubR9j61gQEIfStkX37DAPZ15HbtI+HTUsTJnvTfVn/mRKPqso4Jvspey+9OsRS4mfGVu0TkjC6qO8Fpw/os0NJDwNVbfYf9qSsZwpmewixUeMLOS18EzK5d8WW7YraHLVzYN/aXZwIKmG2MwEFGb2Vk6Wne7l70ZZtO1UwMNBBW9OGR+Kb0VA+WuvVCcz4ihCa7uPmCS3WbFfjclIF1XeOI7vPnrrOcg4oqnPuiVQIXdNWwfSsNBLQEOfJp+udqJ6epu6JP+ZmxhiZmmJqas31xGoqU69hZmSM8T5djPd7UCKeG7HsX/VdK/7hf/wHto87YKoEkz/8O58cCZfOrepIQeVLDW4WisXMLPfc7FA9ncLUYBPXbI5iZGSIqdjW2avUjkG2jx2y6pcXhZCqkjU3ilcKIWVZLUKK+mkvfMIJfSMMJL6aci4mn6GOEjxsjTA2MWCfWEQ9yyEuwAkjYxO0FPSwc31I97J701RnAUd3y7BD4wTpVS2EWhuzz/7hkhBSdSW37gWe9vrIapjgaGeDwifK3MgboivNky93nJAOA4gacbFSxTlxmRBCRE1qEErK4rbbh6qJA/ezOkHUzZ3zB9ihpI6Bhgb6jv7SPjLPdKw+CxdDI0xMdJHXOUxYWjPtDYkcMTfH2EjcLqacD0xinAlKojzYs0MRfQMNTN1v8KK2lpu2Jijt0sJARxMtazdyW0eovOPCVvnTi0LISNMC35wBxprSOKq2nZ2aphy1MmXDh4rcSi3j5pUTGBuboKu5j+PX05gQNWO+cSM6l7KWtbxYADZz5JOf8a+/PiCZI1d5+wD/+NMvCU6XhhCy3LTYtv/CohCy3XSApOYObpltZd/lJJjs4vrJQyjtUEZX+xAXQ3NoKAhhk4wVz+eFkI+9OkeilkdlO3BXW4vpvBASDdZz7+JR1A1MpH3JyofywTmaHpzgo//8E/sOWqC9VwnNA0G0jE7zxF6BXSfC5ieMT1H6/AYmOsbSvKYW3Hz2grL02xgaGWOipYneUXcK2nuoirmCsakRJpL+ZsOt9A5mO5+xb8sWAl+IO9UsMdZW2J1OBFE/voc1+VR2Hx6Plvu+Ep94Szw0tnn7YcQRIbd9mlh5SxlPVd/lN//wf/OZQZj0pYvJDiICz6Krqi/11fwc6XVf94apiLrE66hvV8Lw4HGOGcqxycyFlol+4q7Ys327ouSacjQkicGRQR6eN+fj9UqciczjqYsmcof9mWaKrOBzaGyTx8BAF3X9g/g/F0eBmji5+wusH1RJKlR+zZ1DOlfJL36CubERJgZaaJs7kNI8RMl1a375/gHK3tabq68iF/b8SAkIQugHaLipwR6aG7sW3zqRmBSN0d7USN/YOH0drXQMrBQB4jSTg120dvQuviHGeA9F2ZlkZpfTtzDNQ3zPGO6iJDeLlx2jMDdGVVEOeUXVtLd20j80yZxojLZW8Rtdy8ZuJE6MU1OcQ2ZmLo3d8wWKJuho6WBw2VsuC4hmR3soy8umsmOQKfFbLuK310RTdLV30DcmFnlzDHW009UnvTJNjw7Q3LL0JlGX+PtImZkSezVtQwx21pIt3s4upVs8o/kr/+Ymh6htaJ6f1DxDZ0sjHb3z83pmxmlv7lis00h/D+0Lx6b7eJGfJbVVXMnQDEwN9dLaMSB9Wp+doL29ZzGvxOzMGO2tHQxOSJ/bR7tqyZH4mklJcw/T4/1UFIh9z6KyQRz6maOjulhiI7ewbnHIaHkVhrvryMsuomtonOHebjp6pBG5uakRWtr6pO061klBThYllY10tnYxMjGLaHyA5rZepG+RTdPX3c7SWzVLFnoayiX+VHcvRfqYHaWqKJvMnPJXnpRnRropk9QpixdtSyJwsquRvPm6lr5sX+ynXbWlZGZm07DIdYCK3Cwys4romm+vSTHXtj5pnrkpOju6GZD0BZgeaCY3K5vKhg76OnoZGx2hvrJIwiy/oklS/87ccPQMbEltXNah56s40t5Cc/OAJCAnGumjuqGZkfluMt7fQevC23+iCXpauhibmWG4q5WO/oU74xh1hdlk5lbSLw7oTA3R0tqNtGuLGOzpoGd0mXplhv6OFrqWv40lGuZFkfgcySQzp1LSF1/eOMxWNUvSK8vIylk6F0d72mjrHVoRQBxoqCRLwjaH2rYBBroapGVlF9M5svBgNEd7XZl0f2YedZ1jksnena2tDM5P6B/t6aanV1ov0UgHRXk5VLQuteFSr1j6NTspre/EjLheHXQvXGPmJumobaCjb/k1Z4KG4jypD1kldA4vRcCWSlz5q6e+nKzsQhpa22jv7Z/vN1PUleSQmVNC9+h8/Sb6KCvIobSpl5GBTtq6pW0qHkpvq8iX2HzZtvA9sGl625rpmZ+cPTXUT0/XEMP9bdLzMSuP5n5pX5kc6qGxuYdlI+orHRS2BAJvSEAQQm8ISkgmEBAIfN8ERLzMTuJx+jd/SuL7tvzXlFceYMJnuy34cXn919RYyCsQ+PsmIAihv+/2FWonEBAIfM8ERloryCmqlHyW4XsuWihOICAQeAsEBCH0FqALJgUCAgGBgEBAICAQWB0EBCG0OtpB8EIgIBAQCAgEBAICgbdAQBBCbwG6YFIgIBAQCAgEBAICgdVBQBBCq6MdBC8EAgIBgYBAQCAgEHgLBAQh9BagCyYFAgIBgYBAQCAgEFgdBAQhtDraQfBCICAQEAgIBAQCAoG3QEAQQm8BumBSICAQEAgIBAQCAoHVQUAQQqujHQQvBAICAYGAQEAgIBB4CwQEIfQWoAsmBQICAYGAQEAgIBBYHQQEIbQ62kHwQiAgEBAICAQEAgKBt0BAEEJvAbpgUiAgEBAICAQEAgKB1UFAEEKrox0ELwQCAgGBgEBAICAQeAsEBCH0FqALJgUCAgGBgEBAICAQWB0EBCG0OtpB8EIgIBAQCAgEBAICgbdAQBBCbwG6YFIgIBAQCAgEBAICgdVBQBBCq6MdBC8EAgIBgYBAQCAgEHgLBAQh9Bag/7AmZ2kuziUtr4GZNzQ82JCFn48f8bltb5hDSPZjJyAaaiE1Ppu2kdk3r8rsMCWpzyhqHX7zPD94ylma8pNJK29+I8tzo21kJiVRO7jybBlve0Fyaja9029UjJDoFQLT1JYWklXZ88qRH8OOwfpK8jJeMvG3dHaygydBVwl+mMGg6HWGJqnMyyC7qpex7lqSk4r5Sjd9XaYfxb7B1ioSs2uZfEveCkLoBwE/R1VMMGZ6+hgYGKBreYZnVX2vtzxYjY/zQUk6PT099PQNMDAwx/duGa+7Rc3NzTI7O/f6siR7p7hpqYWMbjCjX5Nq8VBfObZKyigfdCEuq2Vxt/jHZGsu52wcCEttWLFfsjE3x+zsLF/nyauZJsi6cQGrM8E0LVxhpruIDnFB38AAw5P+lPWuvCG9Wsarezozw7F18KJy5NVj37RnbvabeH5TCW96fDmvIR56uXD+Zg6vvf69aZF/Rbrxsjus/6MKUTULDSEtrCH1FjZOIUvts9zGVAWHN/wB8/sVy/eust9T3DBYg8yxm2/UN2fqHqLw6ad4l6w8W1qjTvD5emXSB76/6q3oa6M1eBw/RUTW3/rhQ9rvZue+3Zn619d6CO+jpiieTv3mor7mWrKC2TeX9L2lKPE7jba8G3+71hkj/rw5stv18LubysBrL3vdnNWVQ8Ulk8aUK6z57CClK7vp91bfH7qgkrvn+EjZm84f2vC8PUEI/SDgZ4g5pMpaWVsycnO57bafDzfYkNf7movR9DDV5fnkpISx7YNPUD15j5ycfGpbX39XL31wHu3jj7+mFpPctTdlr9kNxr4m1cKhqRfXWbfZjrqFHZK/c3QU3Mdc4U/8P//X/8LML2/FUfHGRGk0BjrurJROryRb2jHeQehFK97513/kf3yiSb4kqCAiydOCvQdcSc3J5uIBNWR1/Ol+nQJcKumVXy3PrrBP/ziFg68c+sYdz0NOYuyW8Y3p/uoEg7nY6+nxuFdc0gTXjh/C6nLiG0ft/mr7XylgpvIBO78wILFj5YGqWG80jC9Q/boL7lQVx+TXYPfkzaItK0v+obamuH1ABkWXqDcyOFMfi8bWrYTWrkze/iLb/XYAACAASURBVOgMW3fqkPM6DiuTvvFWdoArB07FSdOPlWOnZ4pPwmseMt64xDdJ2Imb8WGuZXyPiu5NzAJhzkfQckv/5tRtiVjpm5L+Gtbp7iZYBL6BmPpmK98qRf0tD8zUvPjK6fGtyvj6xG0c3a7IxdTXX+elebtx36+GnkcuzekByGyxoWLq60v9sRxteHKZjTqBdL8lhwUh9IOAn+HxUUO0D9+VWBtMv8wX220p6P+6O3wNB5XUOBndPu/hJIVPQ3F0dORsSDTtIphsysFC7n3+7beyHD0Xzsv+GYYbs/A654iTSyBFbeKne9FfFEJtxXG4OjnieN6X/M5pmGgh1HYXP3/nM/QdfHjeuHBSzlKVfIfbMbexklPisE/WSmpD9Xha7uY/fvIB+kcvkVolvchWZ9zllKMjTlduUNm/MtYx11eJX8Q9IjwtkNmtL73BTL7AZJ0SrjFNkvKnSyOQ+2QPD+qXzvbxjmpiI1NJjrqGs9Mpokta6K/P4ZLjKXzv5EpCqxNNeUQ9SmZwdpbq9BSiop8ScdkZpwvBFHWJxzZGSImMIaNSokLorSngQXIlzVWJ6G94l5+9v4fj7g9onYSpziIJT8ezXqTXD0n8EvVUEnzpFI6OZ3mQLvV1CcgkL57ewNnREfeAeCTmgPHWfK6I2+X8DV40N5HgZsZvfvpTZE3suZ1dTllqMok582WNtRLn6yJp69CYAmk4fqqTp/ef8Cz2HpccnbhwN50hiY6eoCAuDCdHR85deUzH62LLoj7i70SSXiGNQtalRRMeXy6JMM50VvPsdjK1hTHsXaeO5407XHA+iU9ckeT4UG0hD6KykGrKEVLDfSR+haVWMjNZx0mFNRhduo7fxbO4vNb+ch4JiLX/3EADyQ8f8DAiCDfPMGrGYLIhh6vivngmiLymhX4npTo33MyT+ylkPn+Mh7MjriGJiHvYZOsLHt5+xP1Ab9wvxNI/B/3VabifdMTxpA9p1eL2muO+5Q7kD50jIsQDp5NBFDXPlz/TR8odfxwdnfCJzZf0ndmmJ2hvWo9D2H3cTjnjE5YheYDofuqC7G5DUioriLsfR8u41Lf+yhQi4jIZWnYqT/VUEXbpDI4nzxNbsnT+FkX5Sthde1xC08vnaK3/E//57g4cLt6lqaebtOgnFDZK7/7NRc845+iI49lgCpqljzBtFWncfRLP/RAvnE55klbdL3ViopOY0EuSsv3vFa4cvpnoJC70ouRYQFwmaY89+fPP3uHLPfsJjMyTCO/OgidclNgKpLBVaqulMIfYmEySHvrj6ORKdIG4HiJKE58TH5/Og5DzOJ3yI6d5YVh0grwnYRI7l+4m0z8f0RhuzCXA2RFn32CO7DdF/9JXrh2TXTwN88bR8SRBiZXMzvQRc0yDX/77z9lzwJGI/KXzqyP/CTof/JxfrFHAKeAeLdMw111CsIf4XDxNZMFSWgmY2WGyn8dxN/oe59wvEVnaB6IOHgWfx9HxDA/Sauaj7JOUJ9+XnENnQ+PoWAiKjjYTGXQex5NXuWpjjYm2zysRi8aMe5x2dOTCtUS6xZeWoQbuBZzH0cmFmDzpA0JzeSp3YmMJ8HHDPboYmKH0SYiE1dVb6YzPiSiIu8SHv/wdm1SsuR1XQF7iA+LLWiXVGGkoI+FhDiNzA3gdWBJCsrInKKipIDIihc75876rOI2H4rTSniH9f6qLOAljR65EZElHBkS9JCc+4v6DW5x0u8LTlwvCeIa65wmkJidy86oLpzwjaRgYoOiBP6dOepBeu5AO2kuf4iY+11x9yG6bhOl2YqJiKeqUXq8nO8sIv5tGz/QklYnSvnH5eiILQf65sVYeeTvj6OKN1zkbNhuE8LYGTgUhtLzD/M1+z5LoqM9vf/UpKqqqbPlkHfoXHn19hGasjP17lDkRKY6xjHLfwQotnWMEh4VxbL8q8ibeVLVU4mGyjd+uNSDwTjKV5QXc9L7Gw6ex+B3VRdHEjdYZiHE0+0pEaI6iCA/2yRvjERaGz+n9bJK34mlFC0k+pvz2j9txCIyhvGv+ar/IZZCzamoc9Mpc3CP5MdbJHRcT/vC7bTgHPKCstZck71NoKlviExaGi402W5QdyG5fEjQLBQwlurFdTodc8cWn4wlb/6xKQKb0Aj/X+gzNjV9yuUAqQMR5BrOD+cU/v4v2qauEuB/ks999gJaVO9eDL6OxSQOPuFra4k6xZosWL6dnuW0hzz/9Sg6P4CBOGsix1jiA7vEGDqyXxTqkVOJG8e0zfKzhT3NLGQ6q63lP5iA3IjNpKU/A3tiQk9ceEht2HmXTcyQXl3DV9TBGLiFER0WTW7n8GUZEdX4UXkG3eBx7l4Py6lh5ZjDcmYet1h6MTvsQ4uVB0N1onl5zYf0f38XQ9TrPq6pw36eMusNTGK3kuLE2+jaXCAvzwUR+KyaXk5gZKmD7r3/NB+rHuBF4EbnN2zhyu4za3CD2mjtyKzqamKeF9L9uDstsL55qMig7i6MP03grf8BP391PnQgaY92R3etBbfUzNvz2XXZaexARcJL16+TxSmuhLsqVz76woXF2kqfeh9mibE1ImC/O3tfIrC7n/Kbf8eG2w1yLCERrgyy6Z54uG+cX8TJvgccdCQ9rn2xGmh+x4//9n2zSP8PdqESqi2Iw0TvAxeCHRPq7YaLmRFbrsr7X/JTPf/47thxw4064L/tkFTkcVEB75lV+8k+/QtXmMpH3cyl65IPmPj3OXA0j6MxRZLYY8qCinThrWX7zm11cvHmHixZ6bFNyoLxvjMrH1wm8GUlslD+Ke1U5/awRhtPR+K+fI2N8gfBwX3S2yGMXkUdL4iXklfaTXZ6Ojsw2ziSJReU0N82VkT8Uysh8cFfUX09cqC83Hj7mgc9R1isf4XnrALmhZ1DcYYRPWDDupwJJSEnAfp8sH2ww5NqDNLq6C9H+TA73p/VUxl5CWcsE96AwvE8cZKusOfENoxQEGfL/vfMlJy5fw9NKkw3yRynrHSY51AElW0+iYx6SmFXHUheYIPHSYcyOuxMd/ZCkokrKc8KRee8TlA5d4GlGNXkPPZBX3M+VkDB8HUzZJmdIQv0IOT4H+KefbMA59Bah7odZJ2NNel07Vw1l+V9/UsfvbgQelrpsVHanfmqKnGBH9lmcITI2Bhf7gxh7JdPbmscROUUOOvoQEniajb/9EAPP3IVTH0RD5N0PIigiitj7Xsjv1cEr+SUFoXZ88u6fOHgxjNTqpfOrvyYP223v8dFec24+SaO6IA5L+X0c9woizN+JnTIqnI98sTQEKmrlmNJ7/Otn2rjfekBGbRm+FpZYnw4kNuYGNqYmXE2roTU3hqCQcKJjIzmoq4yW53NmZ7sItFZHwfwUYdcCMNi8Bhmdqyyf0FDzJBC1zRqcC7yGx5mrPIhLJfZmBOEPYogKOominC5P6kfI9Nbgn36xFhuvMCKzXxLv44Kh8WkiY2PxsN2PnV8cFTl32C5uF4srPM8vxUXpQ1S8kiWsmqO80droQPPsGFcPqS9GhGR3nqSk6jnan27jSo5YoIziZ6bCTot7S2J4pIbLVppo2rgTFhbA/t270TkTxfBYDcZbfs0vt5rhdSeGgsURhykidNbym9/t4XL4dY4qb+H3GxQ463MNvxMmyGseo2x4ltoYH7TkjLgYGobvWXM27zpMQlEuR3crcMBPLPag0Pcgm7RPctPnEqZGp7gbG8sVe1MsrzxidKqb4EP6qGnZE3orACOZT/hUxY95ab/UR36gX4IQ+kFAz/DEzhCFfW5U1NdTlX4L5bWyOMdW/2XrEiGkglNsJ4yksXvDTtxT5k/Dpjh2/0GWiJpJKm7ZsdkwfL4cEZ0vi0h4FM11Zx3+sEGD4jERcSfNVwohUStOWrKouC6Eqds5tmEjVmGVzFRHsHmnHaWvahaxUsFZRZVDl78ihMQPQllhyG6xRTKiMFOO0f/P3nuGVZmleb/z+bznOufDed+Znumenp6erukwFbosy5yVnHOUnKMkQUEUSZINiBJEUDAABjATBERRiaKCAiKgIqDknDa/c+1AsMqudrqrbaf78bqq2PsJa93rt9az1n/d697PUpHH41Sz1K7xWmyWbib08rsLbuKTndfCUVSzoFI8o3mZh9xXuqTclc46RC8LsJKTI7lubtYJvffS2bjcHCmKerYqb8TzknTl/so2M8x25tB4IwYVHSeap6Y562OJ1rYzUjsaMlmrupv67mZ2ahqy+1S95Hh9bhybrdIknUd+rBPqvjckx+8nuPHZl9ocPZdL3rmDrPnFt/gnX+XIoV047U3mVs17FgKnB3hyr4zLeRfYoaeAlnMaJWei2agczLxvYGISuouxUVLktGTSN0m8rTlOccW0FRxg0zpzbsumdM3ng/hi1W6etFViuV6LA8XSgSFvnyuqfldpqjyFsYs/GRdu0/neOpMW/fmlMNYaxtDy/C7+oX5YublwouElN8Lt8ThTD+3XUF5hTE6T2LUxTfw2a6wPV/GsKB4ltRCaX9fhuXEDEWWyNjgzwdjIE3aprMDttDRGqO5oIIb6B96d1c3zOM8OPXnUXE/zpuUquis3kFIvdaPcDjbgs9X6HDufS+7ZSNb828/xuPxcarjYp9NegOZKXVIrpe2g+eRetDVDKbl2jI1rbLgtOTzFAUtd1H0uyu4bJNJcAZ2jV7mwUxPNHRnS45O12GgoElzSDRNvqCovIi/vBOab12ASWwWDJZitX8/haqkQa8nZyQb7cErOR6GubU/D5BSX9pij7JNJb3sJpurGpNUutE9xJsNdTRQWXCX3eBDLluiQWnSb7Wa6eJ6RLXvNTDItmqUg0gddF1nbnHyEvYIpKdduE2Kkh3nk3PLPS7Zrb8Tq1AOqT/myRn+/xBvG22LM9PXJbh6gJDsMI68orpc+XhgAJaWdoOSwHy47Irhw5xHS5vGS7eomxN4Qe0NHidFYi2lciYzZC7YpquJ+pILbqYFs0t4nWwrqJ0Jdj5DjNzjiZonhThnj0SpsVxqRWVCE85bVaLjGkpuXR/w2HX69YhvnzuxjvXoA0l5gjAQfZ8yj3112nh7s4G5ZAXkXU9BdvQ6H403QdwMTJU3ZsrHMNNmfq34aGERclnwrPWjLUoMDzE2TLnmZoLD1kJSP+IqZl+wyVsU0UuqFmn6cxrf/uRqvQ2fJyzuHg+LXfGt9hmnGaHxwm7y8XHZbyLHC6jT9nSWof6vH2SdST/aDpBBsjA8t8gj1E++ui/qeIpllIsbHpxjubuVu4RXyMqOQW/I10fc7qUh0YaX+QamXZqYB+w3fouR8QMLqsJcqP1nqy+vxDgI0txJ7Q+wTmSB+63qskqT9c8f1VJw19/FKNELCIiGkqBhA68wE53xN0HQ7R++LEsw3GpHdtDCJ6Ll7nBVLtpIvW9PrL45iiaI9pc/q8NRSx+PEU5n9c38mOOOyBZUd0jHlWc5efrfcV9qvD5ejr6lDwr0nHHbVQjd0rt28IUhBAc/j5TxI9UfVKp63I20EmdizP+Mi3lobkLON4WJeHkk7tfnZUg/u1l1FW96Q4w+lsv3h2TA2mCULS2Nz1fC3+Ve2NOaZJSveAMGKX6Iec/MPF1cmhIKudsGbKyhs1CGtQeZv7izBfKkuOY3D3E92Z73lCcksqPP+BVy2uhEUE8leRzV+K2fJo7H3CKHJJjx1lbCdfwjeEq6kjn9mA4MPjrNBwZM7b98Tv8Qg+0xM8U6s+Z7dHYVH2LLBC8ljNXwXI3klgm9Kl56YbsBjtRrR174f/zBYHIOKpg0PxNlNP8R4tSahl6Uu5bHaM+isMuX6y4XIwZ67J1Bc50KluPcbqsLKSIfgMmk+lzytsNmVQ+P1OSE0xRlvO8z8L0nsnWq8gKJhFA3djWxX0WVPtlSYPcmNZZN1msRlfD7YEiWvK5LrS+Mc+PlvFNkVGUlUdCzxh05QI1kTmaQiOwk3Qwv8Y68sdLyMcPN0GGYOfsRGRmAhvwZ9r5NcSdzNWvWYd2Y708/zMNq0mZMSJOPE25njHFtEfVYIW5S2yQYPaL8Ry1L5MBrbK7DeZELafakQuXo4EHVfqZ3DjWUk7HTHzGQXt569OyjPVZTozT0clY3ZvTeII8dPkpGaxM7dsbgYeXOjdQqeXUZ9rQ032sUVMUrybh+cjtTwrDAeJfVQnj4vx3bFRhJqFqU/2UiAxhr8rkg5Pk6NxnnrYbrnMmWEolNhbHXYIeUhtxptnxzeNF/GSFmdHMlKxizX/bT4j2+V2RMVJeF8MCWd+/MzVJhtK0BnrRnnn0o7zSfpgSio76EwLxUNRT8eS5YFOgnU1cF839xAO8YRFw3Mjt/g4k5N9MIuSK0ar8FWcRN7rlVTEOePg89uoiKCUFuxEutDtdBfjJmcHMcbpe3/+RkfVpsFUnguGnUtG6pnYPrJKVR1HNizwwdtowheLlr1HWm9S5SzA67BMUTsceCr3xtwIj8fRz1Ndl6Zk8JiU6Y5v8sJDYcMaYD8hFgImZGUm4+3uh4ex6QiHboIsVDCOech1Zl+bLY8hqQGuspwcTYno1HK5HlJDoF2Njh4JNLyndiaxrLz7HSzwmT7WTr6n+KhpE/kFXEtvSFwyxq2ZUo9o+KJjp+BkcTbVpayBzXTBGle9BCkpklA0hUSXO2wC5MN/oP3MV2py/FLV7HasBx5Ux+ioqKI3X+Q03n3uJO9h5V6IUif5mmOB3m/K4RG28j0d8dhRzCR+3Yht2QNHieamHlxDp3NKuR9LyBnmixXebTDpPFeecHGrHZeCIIv8LdHx/KobBlXLITaCTAzwCXlsaTu++8m8PWvlmK1I5yoqGj2HzxCXtlTbqdH4eLiTWhkBLZqK1lvn0NfRxGq327l0nNpO2g8GYuT8aGFGKHZLsIsVdCJWVjqE3U/IMTZE++AUCJC3Vn51TccqOriXtI25B0ypZ7S/gos1nzJBlM/CauY/QdJza5kZKyJbUr6hJ4XTwCG2W+0GstjUu9Z541jOL5PCMnvkAiUsftp6GnaEBzmjZLFYRZ33S8KDrL0WzdqZQGiw3fj2ajryp1nD/AwMGXvpe9O5iY446qAfoRU7NadCWOlYoy03G9KMTIw4lBZJeHW6lgdk3KFPqLVNfFKfoBosAILeXPC9u5Ex8SXu62P8VL6hjWG3tLyxh3kWFYF3Y25KCtu5XSj9OFpunKATZZCjNB81/m3+UEaLL1GwYeb5eUUno1FfaMBpx708bo4AUVVf2oW+1zFEEYeYCanhNfZdhC9Jd7GFCPH/dwpL+d4iBMq9gd5OTXL46w9fLvFjYLqRu6k7mbpckduPH1O+VFnvt6gR+XwNLm+lsibH1v0q7FJbh7wRUXJk7zycvIzQlHS2caN9kkG7x/i65X2lHRLO4C5+hjtaeP+3VxMly1HxekwtfUvGF90SX91FlrLtDl0pYbX/T1kBTiiaRhEUXk55w9tR9FkNxXiOKS5f6Ixnj2qJnefOb/7ch0JBZW0DfSTvccCJdu9FJeXEOtlgc72UywOL3pTlszKL824LfahDt5FT3kzvgXS3xrk2Olj6H2ahrwQ1sqb8XRqinRHIzTcsySxAJOPT7NSIYCa4X7O+Vpi6BRN6f18fFWX8VuVQ4jnUbcSPFmuuoPSBy203z6Nq7kLmbcf09TURFNbD+MTI7Q11FLXUE+6hwXqRnHznh7o5bCHBmvcj9L4rJ4oE02UrVNpf5SHyXo5dmfmU3rxFJmXSnnzuho39Y04p9ykpbuDGBMdjHbnM9l9FytNTVwP5FJefoM9Zvo4x5cy1XcPrd+rcPiWVGacj/Jkk/t5ertbqKl9yOPiNPSWaJP5YIBn12IwcEmmY1H9iAOyc7av5R/+4efsu9pK38NctP/pf/MblzR6Z0HUkM36L/S5+EzcMQ1zwMsBs/0VNF6LZtVaX1rH+0j10kLOLobS8nySM7Mor68gQOErnHOks8qa+CDMNGWdpqSee4n30GC1e6KER7SJBip2J+l8eh7VVes40STtBF/fSkTD1pfzZY8knJ+3v2V6se0dxWz5/HMUvY5wpzgXF1MdnJLv8LwggZXfOlItUQYzVJ8MRFHLjszicoqzD6Kj4Ehu02tyHTfw2TdmZJfe4kyIO/JKO6l5UU+oykbsIvJobizDXmUTuvvuwUgpOj/9GVq7MrhzOxd3RXU8km7Rdj2MNRv1uS0JO+phv8kq/u//5zN2XlzwXImL3FuRgeY38sQXNfD01hGWL9EipbyF7DBHtugGUlBeQsahTKqedXE/eRdbtrhxtfIZI4O1bF2uRsz1RspTfVE08uDCnXKupoejoexG0csxyo848LXOQanw7ijEwkyX1MeDvGl5TO2jegoS/FFc40zFfF8yRceTx9Q+rOdm6g6WbNrJ4zft7DfUwXhHOo+au7iZ6MVaHR9yy8u5kRKKro4LN1+M8eC4F//4y83E5BRSkLmX9RquFDR1kOahwb8sNye7oIRTkU6sMQ2naaifS8GuuIamUyt+Tpqa6egZZ+TROVRWqBCYeoM7hcdQ+Oxz9MPnhCrQV8O2tWvYllDIs4YCjDZtwuLwI2b7xMuPm9h+ooSWt4tV3SxFUeasNdxB+aMWnpWeQG+NMfEXblGefxIzXVPCLj6Rxf2IhVArnlpKmB2okrTG2f5adug5E3WiWPo8P2ulf2qQTAd11KyjeNLSwH43Tb42SmNkqoXd6msx8E+hvLwAL5VVrNGKXeTtnOH2sQDWbLQnq7iMi+nZ5CRGo7BSl4iL1TTdzUDt2y8Ju/OK2wdt+dY4WSoqRb1k7PDB2fckDySsmugYGofJJ1itUsT/tPhZEnE91oGNNqGU3ikhdKscSzYG0iUaIdZGDf3wctqKD7FquRuPxF3qzCv2Wazgf/2vL9hX9O4PF2beVONroIJddBbl5UUE25phE3SRsdF6LOSU8cl6t/2K+4l0q5Uo7JJ6KqvT/PnNyiCpmO0sQEVRmZjKLmrSg1BVcJe00cLT+1DRduFivbiuZshx28A//MP/hVlUGSKmOL/HDwfPVFnbaOLlwAiMNrBdWxV996PcrsjHT30Zv1Hav4jv3EDxcf4KS2MfhfMsTy8fx0XyU3gbrD1DyK2WLud0VV3Ad2cKzYsm2hKTJl+RcfgIF6qk4WPTfY2c2O0q+Vm9b9RJmvqlywqzA00k73HExu8o9Z2dFBzbh62NG7GHDxGbdpYX4zM8ysskIeOuzDUuK/BsPzeTQrC1scHBJ4ISWRDcSEsxEbFnaZ4LepBd/qoyG1d7G6ytrSU/bRcHE79ZNBNG1M+15CCsrf0pbBgC0RsuRvtKrnXfk0DN67kIRFmCkx0cD/fDxsZakqaNoyfZj/slAXdZhwMk5QxKzEMS7y27RfxnuKWc2H0ZtIhnOOOtpB6NJ++pFN6DM8dJu1hN16MbHEjIoHtmhoqsdJLP1Uo8ZtOvq4k9nEer2IPQ/4RkXxts/II5mpRITNodabDsm4fsFx/ffYKX4yK66y7j4+4gscfGK4kHLU2cifKQfN/mm0Ld63fCEhnveEBcoCs2TntJiEngxKl7koDUzuqLeDtaY+sSzs0nbxG/aOBR3lHsrB05WVZH6al0jl+SegH6ntxkl4v4tQlOxB6/Je1AR1tIikik7Jk0v7qiixy99JCGW+m42Iiv3c6JK+IA6AkubDdFxePEIk+VFGBXxRnMXPZS/FoEUy0cDvDmSL50eXbmdQ0H9x3n4Vtxu5qg5MJZMkraedNQRGzcBWkHNdZGuqzOInLKGR7t5tLhfWQ/kIqzl7eukZFyc36pQpzreEetlIfzXo7EJJCZU81Adx2JcQeomG9A0zSVncdf9ny4+R2lsX+REnpxE9216njuDsPLxoqdafmSPIaeFBMdJW7jsgYyO8ydc/uldbVNHEgvfXbqslM4eiSZ6CA3rCz2UlAvjUR4+zifEEdb7HdHEXcwkRM3XzA73kJW7H5SUuNxtbHCd1+eJC5krOEasQdTpe0OaDjtw6++MmVupVBmgYTdg9wEnG1t8N9/mIjYE9xuFze4t1yK2yF5HoKO5tM7I5K0wTg/J2y8jtP+5iWn446SXy8OSx+k4GQEVjY2WG+PpEgWyNpUcprIY6USwc5AI6cy0qnq6uVOerCkzHYO+yh82LkQI8MgN+KCpDx8wrn6WLqs2lFxDntrGyJS7yFilMLjUZK87J2jKWuUsik75MtaeXuigrywdvYmp1Y82RjjqJMpSia+RHrZYu0fRXm7TKiMvCI3VfraCxsbeyJOSMVH+62zeFla4x0TT/z+I5wofHfg7ai+RKCdLc7BccTsT+T0LXG/KKLydBzW1k6cuPfuwD7+uppoR2tcwjN4PQ1txSfxtrLBxs6bkyVP3n39hKiXCylHyChZSGOovZqkoG1SJo4eZD3uZba/geQddth67CEu4ShxmRWSZ3a8/S4R3rbYeO4jOf4Ix9JK3g1CZoTyzBjsbWzYFpZF68AQTcWZONnasiv6EAcT4rnZNkBLyWmi08vnly1FI6+5mhgs6XvFr1MJza2B2V7O7D/C5WrZD8iH20iP8sLGKYikI0kkHr3B4OwExaeTOF7wnN7mW8TF5tAhWw5/mOzIZ78z5f57fik73HqHfTscJX3tzmP50onl9CtOxB8lt1bmtZ9vwNNUnIol4Uq15MjL+5cJjb0m9WYPPiUxIYGCNnF7HqE0NRw7GxvsvMIpalxIp7PyFObuO7neIl2imx3rJv9YuISTuLxB2Xck9TT+ooJoByts/EKkffDx24sm6/MGfZQPghD6KJiFTAQCH4fAVEcZu/32cbtV5gv/ONn+RXOZfX4NpSX65Mjc6H/RzD4k8dkRcvZsZfO2E3+1jvtDzPxzrskPd2OT3sHvlK+PaGNdzIIK/pykhXt/bAKiAU57mqC7PfM7Qu3HzuhvNz1BCP3t1q1Qsr9DAqLxIXpHFoIlcYNjsgAAIABJREFU/xYQzHZWstNxL0XPFi+T/BVLNvqMcBdXDhd8P/j/r2jVj5p19ZnDeO3JWYi3kaQ+TE74XsKP31vkdfpRsxUS+1MIDDUQ4rSNxMLvxvv8KYn9fd4jCKG/z3oXSi0QEAgIBAQCAgGBACAIIaEZCAQEAgIBgYBAQCDwd0tAEEJ/R1Xf3/aE23cbpcGWH7vcsyM8rrzPg9a5t368a4Bo6BX3y+7w4oM3/RTReu8SKcdzeNg9Fy37bprCN4GAQEAgIBAQCPwxAoIQ+mOE/obOVyTuYJX8biSvivnY5Zp+hoeWCpbxte/NeaL+NKor15L69AfeCrjozje1Z9BW08B93zEqOj7FmJhp7p09QnDCjf92AON0ZxXhAdEUy34htqjYwkeBgEBAICAQ+JEJCELoRwb6h5J7mReO/d7ji15//4eu/BGPjz9lp6U/hbJfj1an7kFeO+qd18T/Sbn138ffwYmC+feVfEAq0y3sMNHHKanuvRdPPM1GX06ZrA+M96uOM0PO+8R70/qrHey4g6t5MI8kL/iD63F+bPU9+b2fsf8x+6aeF2Kj70h23Xt+C/vHbhbOCwQEAgIBgcB/i4AghP5buP60i0fbawhS/JKf/tdavONSqBULiMkOLp/YT3BwCOnFj76/6/hMP6U5xwgODiU5v056fvAFty9f5WbhBSKDQ0i9UDO/zDXWUUdydDDBIfvJfyh+p8M4RWl+/Oc//Rp1211cLGuiMjMCeRUfci6mExy+n+v1c/v4TPO05DTBwcEkZBRL3xkx+pLrhTfIu3CC4AMnqO2WeWpEveSH2/Prn/4MNZdAzlS2g9jWkwcktp4tbJS+y2O2j9KMw5I0U3KrmJh6SaCZAe7pTTDbxfkzWZS1LCyTTTSex3jzZsLO5BIdso/UnKr5vdj6xe8OCg0m+EAaDf3TjD27j/fG3/HZKlXCUi9LXss+2nKXZPE1IUe5+0wqIFrqSjl/4xpJCbEkFonflzNJ9RUx02DScxfSn6/V2T6KT8QQHBxN3r02yWFR71NOHAgnODiK3LtSRSnqbeJSQQE3rpwlNCSUrNstMNXDmX3W/Ns/fo6pRxTFdS9oe3CP66WNiETDlJcVcK3oBgn7QjhwMp8e8TuYRtq4dLGQRtkuhC3VhRQ96YKx11w/X0Tr4Cgv7hZRWFTI6eRoQiNO8eStTGVN9pCflUhwSBjRsbEcz31348/5MgkfBAICAYGAQOAHCQhC6Afx/Dgnxzufcsh0Pb9bo0HM6Vwan9cQbWGFS0AMx45FYaSpjWd8CRNz75CbHeXBpTQS08+Sc/YAGjomRBa/hJ5CtP/PT5CzCSc5IQiFZZrEXG+l/+lVnCxM8Y5K5FhMAGryZiQWN1JxJY7lv16OVcBhSmpf8Ch7L//ybyvZfiiVgzvNWKrqScWbYR6cPYStpT8nc3LY7+vE9uQCetuLkPv6l6ww8uPwmSs09sreCi0a5G7SDpb/7nOswlLIb2ig5MYpjqadJSczAu0Ntpy910R52gEcLfdyJvss1+48ZWrqBbstjHGLv8G5ZC+0tsVS82rh59BTbVfQ/fnPUXGOJe1YHEYbNQg695Cehny8bB0ITc3hVEIgRl7x3GuoJVJvBV9sMSE97w51JScwMrAlNC6ZxL3bUFUxI6f2NXnhWvy/v5Zj56F0zlc84cr+EOydQ8nOOUvoNjsCM8oWmNNLdqA7BobbSDx2mMjQ01SWXWS7w1Zcw45wLH4vWlv0ib7axPjT0/z+15+h7hHDkVhfFNfpc/xOM6VpO/nyV2vxjMygqrmL84EOyJunMiXqwE31v/hMxZ3EpANYbNmCc+Jdxl9cZsNyPY7L3n+ftVsXw6Ry6LyJ4ld6XGjp4qL9Bn75K1UiU5LYri9+U3Uyb2fGuXHAHRWHPRyJ9eKrn/8Sm8QyRqTv2PxxGq2QikBAICAQ+DshIAihj1TRjWluKDlESd7u/LYgjCUbXamRvfOu4dgO1q73pH5RqMv0UCfV90u5fu0UZpvXYbq/htn+IozXruNwrVSUnHGyxS8ij+x97mwwOTz/8rMz2zVY7nMeJuqx3mxB9lPpCFmbtpu1igFI3u06U4uJpgNJhXcI0FvPFptYrl6/TvpufX72jRu3666jt1GLA2XSDVDfwdRVgIWyKlnSl2MzPvCKquJirl9LQ3vJJvacrqAs5RDODhFcLn8iWw7sINRWmZ/+9nM2bT/6vc31JhrPob92E8myTfjqM7xRcNhDrL8NX62z5vSV61w7u48vfrKKIw96eZRgg7pfusSsHAdllLznNp4dYp+JFvo7L3I2xp6NVqnSV+4P38dg2VL0/VK4fv0aMc5b+Nlqf57L3o498+Iqapv1SKqRelxmx0e4GunKMtWQ+b2zCsKMWeqSSuvjLOTWWyLdXWGKw04qOOY0w+ubaK534q5sRevSXle0HDOYEr3AS0cDt+PSrSjqU91Q3pnKm+f5aCpYceqRtOJzI62wOVEBXbfQXWPBpZZuLnoqzm+AOF6VgcE6Hx73dxC5dSM++eK66WGbjjKBRYv3sXqntoQvAgGBgEBAIPADBAQh9ANwfsxT1Yes2WwdLhErz8768LXWXiR7TgKtZ8JR3bKdJ3NxwpOd5Ib54eDlT/BefxSXrsD2cB2zvQWYKihxolk8es9weft29kWd44ifA2qu5+fNvRZmzKZdF5jpvY/RGmNO1UkVV3VqEIo6kdIN9MYfYmexg+TrN/HRWMYKbTfJklHovkgOpZfR1XwVbUVrMure3UJCnMlU8wUMNitwWrxSNP2SlBhfbJ13sXevD2t/s4oA2a7uLXfPs8fZCsugYzT3vCDSSYcVyjpobvXgZuu76UpihOSVOSOD8vSkF5u2erHHcyv/+Y0WgcHBhISGEx13koaeMcrCjVH0SJRsKXHEQA6zmLldoMc55GKJUWAup+Pc0PSRbrg621GA5pL/Qt7CV7IcGR4RRdLZ+7JNJWGi4Qwbxfu/NS+4VS7stmO98bH5uK57h23Z4JNO26MsFBTcKJQIwVHS95jicbERmvJQXGlDqWzX0UvBbjIh1I6nviEBOdLltqc5Aejvy6Sr+RoqYqEq3eWCvEjL7wshLxUMoqRlGKy+gJuiP/Ujw5z20+BrFQv8XF1w8Ynlwdu5xjPfDIQPAgGBgEBAIPABBAQh9AGQfoxLmnMCWKtsSd6DRrqb8rHZoM2elOtUVeXjZ2WEXWzBwl5go4/x3bgap/03eNFajp3yJvQjK6HnKprLV3K0XuwRmibbwR7fkOs0lqagoWpCUn4VVTdPYa5ozP78dhhvwG2jKl5H8mnrGuJ+0k5WbgmUbqA3WoWBhiOJ5c1cigrA3iOdx+3ttLe30z06wWxbHhuX65BU8f2AXdHrUqyVN+Fz5j5tbcWYqG3BMe0ur5uLMV2yEe+jd+l+1UL902aqzu5htYY9Jc8b2WWkhXNKJWUpvigqeFHSurDB2mTzeRR/8nOMws5Rdf8yrvLqeCeV8qTgGPbWvlytey6x7UXXoMTDU7BThVU2MZIYqUfZu1ml4kTWrSruXjiKiYY5mVXtZAeZss7+rDS+auYVhxxd8Qq9QJOsnD3jsuU+cQWPN+NvqIm+ZxIVVaWcSszl5vnD6KvrE3fpHlV3LmCvakjYhUZGGk6wbLkFl9vEommYo94a2J59DB23MFmuSkROFZ19o5wPsGWL2TGmRK3YKynjflKqeB5lbENhZzLDA0/x1jTELe4yNSVZqC/9JWpH70PXTRS+0OVcUydZjutQ3J0laYL9d09jtcaH6tetHDDQwsRtF8EhB8ivlnqD+u5mYKDuSol4Eybhn0BAICAQEAh8EAFBCH0Qph/hopHnHPN1xNxtH7X9IvrrrrLbxgwLCzuiTpfQv3gDU2Z5XXuFQBtLbAL2ERF9iNTCdhh+REJ4BKWvpR6h6oyTnM2TbtT58Foi9hYWWNh4kiwJDBbbPMPDy0cwM7Pj+NUGWu5dIWp/njQYerKd5PiT3BRvjDfTw/WkEKzF91tYEJh9j/G+BvaLN/lsXbReN49hksqz+7Ewt+X47We8rMnFzcYKz50xHAw5TOHtBvLPxkjSsnLyJ7f6FbOzfWQfOciJMrG7pJ/TIWEk5tXPv6p/squO9LBIjibGYm9hhk94Lm8kzplJGm6ewNHOUpKezfY0XsxA8+UEIk/ckAWLj3Dr9AHMzcX27yL3vtStdP98ElEZVfMbMU72tpAVs0OSjricUVcfzpdI/GGs6yFJvjZYWDhxMLuKKWZ5disDF2sLLCxdOHBZev30q9uEhqfxsEcc1DVBaU4CJyrEP3eb5NbJcMzM3bl0v50HV8+w//gdZmZ7yDh4iLP3pK6ijntZ7D9XLNnktffhVTzNLPEOOkD8wX2k3GmDwacc2JtITfcgVZlRHLwk3cBy9HkF6ZFZvOp7wUFLPZS3OuPp6YGVjjPx56rorL/ODo8Iqt6+05jeKaPwRSAgEBAICATeJSAIoXd5CN8EAp88gakn51H40piTVT3MzIxzcYctaloxyPat/uTtFwwUCAgEBAKfEgFBCH1KtSHYIhD4AAKiiR4KjkVjqaGDnp4O5juPUNXcIw0K/4D7hUsEAgIBgYBAYIGAIIQWWAifBAL/swiIZpiZEZbB/mdVmmCtQEAg8KkREITQp1Yjgj0CAYGAQEAgIBAQCHw0AoIQ+miohYwEAgIBgYBAQCAgEPjUCAhC6FOrEcEegYBAQCAgEBAICAQ+GgFBCH001EJGAgGBgEBAICAQEAh8agQEIfSp1Yhgj0BAICAQEAgIBAQCH42AIIQ+GmohI4GAQEAgIBAQCAgEPjUCghD61GpEsEcgIBAQCAgEBAICgY9GQBBCHw21kJFAQCAgEBAICAQEAp8aAUEIfWo1ItgjEBAICAQEAgIBgcBHIyAIoY+GWshIICAQEAgIBAQCAoFPjYAghD61GhHsEQgIBAQCAgGBgEDgoxEQhNBHQy1kJBAQCAgEBAICAYHAp0ZAEEKfWo0I9ggEBAICAYGAQEAg8NEICELoo6EWMhIICAQEAgIBgYBA4FMjIAihT61GBHsEAgIBgYBAQCAgEPhoBAQh9NFQ/8/KaHZmBtHs/yybBWsFAgKBHyAgEj/TwkP9A4SEU3+nBAQh9FErXkRn80MqKyt51jnw/pynhmiur6GysoaGp0+pr6umsrKaZy8H+JO6sJkODu/yI+JC8/vz+87R2YmXJAdYoWroRk59/3fOQm9nJ28HJxYdH+P54yoqq+vpXXx40RU/+HF2mt6uTt4OjP/gZZ/Myekhnj2qoqq2kcHp71o1wvn9u/BNvP/dE5/c95mxfjo6uhmb+Timid5UsNfZnqwnwx8nw08ll+4qfK0DuP506C9k0RBZMQHsSKn6w+nPjlGQsgs5VX3Crn5YP0BfDf5u/pyq6v3D6f6VzojGB3nd0cnI9H+/R+yvu4SzbQQP+/5Kxv+Fsh1qyMXeOZrKt6K/UA4flmzD2WCcg4/x9gOqZrLtFh7Weyh78e7A0X7zJM6uCbRPflieP8ZVghD6MSh+SBpjr8iI2oO1mTnW1pY4+YaRffvl9+8caOLwXleszXX4/D9+xZItBlhbO3M0+/F7hVB3UyU37rTwB5v/9DO8dNWwTnjw/bzec+TZuQDWGmynqnuY8elFqU70UJTkwW/++Td4ptVK75zq5er+nZhv3Yq1nhr6rhE86pt6T6o/cGj6Ge7yG9gaWfwDF73/1OirJxQU1vInD60zA9wtvsXDjncfxPfnBky+5UpCDB6OVmxVUcHIOZKqrrFFlw9w2FUXlR03Fh37VD6O8rD4GtWvpLQ6Lu9lydcqXH71AT3Wn1iEF5WFlDyStfFX+RivXkZc1V9KEPyJRv5Yt411cLPgDq2D3+H5shDVJTqcqB78sXL6Tjp9xDpqo76r8DvHF76O159BRcWQtLo3jM8MUllYyuOXIwsXyD611ZVTVP1K+u1NMZrrtYgqevO96/7aB94Wx7Hsi02cav6QkXKUmpulPGiVtru3t5JZs9SG8rd/7VL8uPn33T/KstUOFHZ+WLqi/ucUFxTz6gO7vg9LFe7HmLLaJJAPMWO84QJbvjYkt/ldI55khbF6nQ9PPqR6P9SwP3KdIIT+CKAf5/QUZXEu/H6dK/e6pFPw3uePuffw9Q8k34qbriFBVxZ1RDOj9PT0MDAmc0VMj3M+xIQvVCN41juEVIJMM9DbQ9+gbICeec5OU32ckx++J69p+nt66B0clZ6bmeBGgDYbLYNoGxljZr5PF/HwXASWpmqs/M/l+CRLZ5/d5cls2uDMXUkf04qbujxWR6oX8pmdReKJn52kv7dv3vswNtDLwKhMMImGuH/jGrcedcKsCDEd0dQYvb19TMjynxXNMD09IxOCs4hEM8xMT1CdtoslS+0oe9nP+JTs4mkpo5G5m8XWTI/R29NDz8AwU/PabpbxzhK0127BLbWGgeGFh3G0v4ee3qHvi8vJHh7cfYxkSOsrRvkXv8Dm5OOF8jJIkvdW9IPyGRvsp39RmpKLxock9Tc8b9ssM9PTzMjWIGdFIqZnxAbOMisS/zfJYF8f4+JD06OSMvQNjPC9ibBoUlKP/cPf6TkmR+jp6WVsWsT08ANc1/wGi+Rb9I+MM/KyjrzcAl7Iqh4m6evpoW9owTMnktkyPtxP38BiwSdiuK+Xnp4+Riff71KaHu8j0eRbNngcpWdwmKlXN7FR3MThqjfStvAdvTwsZt7/Hkk7Oyup+7llWklbkDXM2Ukpk97BkYW2OjMmZSyBJkYpkpybEbPoG2RyoVHLlolmGR3so39YZtDkML39w/OTDtHMDDNz98yKFrVDELdjMd+RsQmGH2WwaokacUVtDM21bXGlvypGf+1WTld20d/Xx+g7XkQRQ3099A7MPX9TzDVj8a3isk7KDkyPDUrymivWQqPrJ36bCQbBCxOJ8aE+enr6kWY1Q3P2LjbIGVLwepD+vvuYLtuMZ2I5A8Pj8218ZqKPwy4arLA4xtv+Eaa7b2GsYsKBopcM9PZ+x24Y7euhp2+B04I90rYrbsMjA33vtCcQIa7n3v6Reb7i+yRl6xtgdGyUkdG59jfDYK+4b5r7vpDDRGc9ly5e5/mQCJG4bmZnmRjqp2+uH5u/VHy8DqtVm3HcXywp75s76ShtcKW8Y5TevgHefWKk/WHf0EJfAFI7enr7GZvvPL5Tb/P5LXwYFbeN/pEFvuPD0rayuIKRPrc9vQNMzD1GM+OS53xo/gAgO9bTN7So/1rIS/ypv+oYGxU8KGofpq+nj8l3+k7RfN85Iw55mJmm6+Z+1n6zlmO1bxmaWNQoZX0wMxP0idv2nL2zIvGjhGhilL6eQUk/LWYjHmt6BxZEddUhGxTsQmkfHfxe+5idEvfNvQxNSDvhiaeXUF9rxZUnffT19jEqY9B4Pho5xQCejE4zubizEz9/k1PzTN8l8Od9E4TQn8fvw+6efMY2RTmsDvw3lkxGH+GkrU9ATqskj7cPionytkNXXx9lUwfSbrfT+/Q6Zms+4x9/8S3aVpHcbXzB7awEHK0MUFcyJPp8LRPTHQSafV8IjXU+JTPcB30DfTS19dmTeZv22gJsv/53fvIfX2Lsc4CG+ZWxWYbevqZv5AXhxqa4H7onsankkD0rXFKkwgAR5wLtUbJJnffQzA4/4YCpCe7b/bE21kTD3JeU7DRC7QxR07TjzP0uYIBkP38OXWlD1FmClZUxttu8MNRSQs8+kkf9E3SUJKBre5BW8fMz2crBUB+OXLnBDqM1/NNPfouijidXG4YYfH6PSHcL9A0MsHQMprR9gPH+Zk6EeaBnaICB30Hq51ckRyg67Mwvf/qvfL5GDb+Dtxgf6+FyUiS2Orroq+uwLfg4zUPvdpXzFT5YgfnX3+B58dn8IRgl3U+Xr5VtCXC2QXmzLjHnHzKDiNbqawRYm6Kvr4e+8TbO1YrnTK8JtXImLrdJkkZjfgrGvucZoY8MRyOMttrgYOdK4oVrHPf3Qt/QANudyTxf6HcY72/lQkokjgYGKMnZkJDbIOmk+lvK2G5uhK6+NtsOJnMsyJtlP/8//Hq1Iu6p12mrPIe3RwAPRmGs8zGpQR6StqWma0RwZgXDs1AZ74epljXbPKxR2aiDf/IdRidGqc5OkrRNAwN7Tpe/x6sJtN5IQ+mzn/CzL1ZhGnSUhmd3cFv5JTouO7E10UJRy5+bbWMgGqT4ZDhauvoYGBizK6OM/sUiqbsMB7NtnKqRzujLjvvheaqMka56ju52xsDQgK17j/NyCobbKonxsELXwABzu0Butg0w+7oUGytDjKwt0XUNpfz1XOJTXE31Q8NlO9sdLVFWNiPsaCZHo7ajra6Je0oJo6JxTvl7sf3gLUn9jNRfxNgpkWeT4zTln8JDXxcDA2uS84o4E2TIv/zTL1gub0zM2UcLbaLzFhrL1qHn7IuLqSobzXdx68Uooql+7mYn42ZnhJaCLmGZpZSejcRw+0mkj10HUV6O7MlpoKchD2cbUwwMNLEISuJB92JxIBNCoaXih4PGG4mYmhpioKuFa/wl2l42EK25nJ/8yy/YpK2Pvr4yn/3zv/LFKiV2HbzOnH/uRVk6Sl/+O//869WYuKfS3FKOjcoGVG182aangarhdgqbRmB2lIK0GCxUddHXtCTkSAmDc6OupNR9nHG3xt09EE93S5Q2GhJ/7hETE4PUXDyOh6MJ2opa+B+9wfDUDN01F7CzMkVHbQu///xrXOILGBvp4VLcDgx1DdDVsSfxag3j85MyENeDp6svNUOzPDixDyUNO3xdzFFTUMEj+SZD8+P6JMWZgfz6X/6V3y1XwP/gdVorslj71UYcfHdgpi2Pmmc8z0ZmmB16yalQT/T0DdAzcCa99CljY4PcOrkPc30jDCy2cfHJILNjfVw9FIixngG62tYcvHCXUem4Lq3z6UHunA5HU0MTXX0X0gsf8OJZJUdDtmNgoIWC3W6KWkeYGe8hLzaIrYaGGFjv5vbLGUZf3yfMz0HSfnVdd5FX38/ESBup0TvRNTTE0D6Ohz3zhVtoY8BgbTrrlm/EZtsObHRUMHLfx6PBSZqvRKPrfAzJdHrgIWF7fDhTU0+GrSI//clPWa1qwv7iheXSqef5WLpa4x2wF0c9TRRtfCnpGIfuu9ioG2Nmbo2tYThltfWcj92JoYE+Wlo6+CYV0T8Nj5JdWL5Enm3+Pugqa+EefI634mfzVQ1p0QEYGOiyxcyLCw2DzL7IR+7rdZh5+OFgqoacdTD3X4/RfnU/iuohVFZdx9kogHuy1dmSw0HY+pyWjTfvFP/P/iIIoT8b4QckMFSNtao2e3LbP+Bi2SUyIRSY+xpErfgoK2MfcZMJkYgn50NZsdSM4u4J7idvY4N5MgOzs4x2NVOSX4t4fvnqUghblO2o6X5JmLXRdzxCo2Ru34qcwQE6Z0QMtVxCfYkCcWVt1MTbomAfwZv3BlW+JcTQEPdDFRIjL/hosNw5SdaZznI11B01q0TmtcZwNQ6f/xvaofkMjXcQqLqEf1cL4vngONVH3VhvFcXA1Bv26ujieewxMy8vs/aLpXierGNipIUdahtwy27g5Y1wlikG0ijucCYa8XfUIbayj578Q8gp7KBhYpbZqRfsNTTAPrJUMvspP+qKkuthik6FYWkXRNPiSZ4M8exgDTaa+uy5+ILZ2VkeHvfg9/Ku3OueRNT3EHfFNRiEFMlm1u9WXUWKN1s0/HnUu7hjGiHNR50vNIJo7h+jPm0763X9eNxyDzuFTbiffoxINE35EUe+2rCdxu5mfJS08T8pHTgfnotkjVkaw7whbN1nrLA4Qo9olgfHwtDVjKNj0WAwZ83Qy1qu338i8QY+OB7Ius1BvBh7y35LefQi8pkQjVBbWU7tszrC9dbiea5eUta3RdHIyRlyr3+Qk+5GqNkco0ckoqfuNHJfqZDy4DW3g7X57dfm3O0Y4VVRPBuWuXHvaQVem2xILe2YM+H9f2cnOOuqiHZwliQ/3pZh8V//iUVcGaNTb4g00ME2rIAnBUdQUXHhnjhmo7cM7U16xBS8WEiz4zpqG/Q5fEcqD67HWGKeep3KFD8st8XROTcITb8mwswIy70FEiFYnebBZutDNDZcZvPnv8cpuYIpsYdyPuVpzvpr8e8bfWnsGaMywZGf/3QLJx91M/b8Ils2WJFb30aS41a2Bl6V3DVYfYI1WlE09zexR8ma6Jwn86mJWi+husWc9NpBqRd07kxnKUpfLcfmSBlj468J3qqOTsQtZsY7uHWjkn4R9JcfRVXekBMXMzBab0HhW5h+ehFTRQfO3SvFU12TSAmTEQ67bUXd9zwLUkgqhEwjyxl6eR2DjfpkNgzBTBveenq4nayj5048ympmlA2KEImacFPSIyT7qbRe5uycHScz0BIVzwtST1nvXYzXL8coooCRiT4SLBQx2F/Ai8I4Nqg5cat7BgYqcFy5hcjCtrlUgDfEKn/OMoMY2semab8Wh5qiPfnNLynPv0/PFIxUp6O2UZML9U+INpfHOasJhu5hLK/IgcouHp7cxRaNfbyagrHHmagoGnP64YL6H7h3FIUN6tzsmeVenB0/+70Fpa+G6L0Tz9K1Nlx9MSd2YXa6BW81PfxP1EnKO1iRxlefrSW84BlTfZWYKaixO+8Jt5J8UTI6xJtZGKxIRFnLiayrOXgZm3Fh0dJNTcYeNioE0jQK0625aCvpkiRpvFIEnWUpKKw34nzzIFNvmrh77x7V5Xd40CJei+uXLGNqhJYw0HQJw9Ve3H4z13/0cMBKB4t9VyT9TVXaLtYYxVJ67SAbbIOpn1Osi0gv/jhYk8byr9YTktfIzMRrws2VMIguojJnFys0o5CsPfRW4GajT+KTKWjIQFNekwvtonfa62TzOdZ8sZRtadVMzwxyIsAIBf9LDHcUsfqXn2M9z6K/AAAgAElEQVSfcp9Z0TjndlmwRSeGV1MiRlqvobNUnoibz6k/7sbvP9fiUtMAE51lmG9WICT/OW8fl3P3sfi5nuZUoAkbPHMZfl3Ext+twCOzmunpXpLtDTDyyqLm2hFU1ffS0vecXWpb8Mh8CpPNbNfSxO/s08XF/tE+C0LoR0P5AwlNNOKqpIjjkZofuOg7pyRCyICgq93wJg85RUNOPZP5DvsrcfhWnfS6AaqPe7LRIlUiRkTTg1RcTMTZ3AgDpRX8Ut6a6q4XhH9XCE024m6ojHNOiyzTIQ5rauJ74i7VCfYoOUbx/hDJToINxEJI6tm6EW7KCpdkmRCaIWeXC+r2mcwvovRV4Kaynthq8VM8SpyDHWZB5ZI8uwr2scJ0Fy3DXewzNsE3vYHp9lyUFJy5JhkHRWQFm+Kc/YC2G/tYoxmKxPciaifcy5SD1f30FMRLXKiS47230F36GUuVDDE2MkJXaQ3fasXytKOF3MOBGGy1ISL7HsOLl3KGa7HVNCD4stgzJSLDUg2T3RfmKyI3xI11RumLBh3pqec3j7BJxZjUyu75a6UfBkj0NsMo7Lbk63hNGlu9d5KXnYj+enPK5zqz9qus+9aZwsd17NAwYu8Z6YDadP0wW2xPMkwnEbpr8TgvPT7S0Ujmvp1sNXfhcG4lQ/MuepiZ6Obmyf3YGhqhvXkZS5X20tR2D+fV8hx/tDB4QBuB6qvwvijtSHqK96OmYcntljpc9dXZeWNuVb+bcDk1gi4+4Fa4MZq70qVFe1mKx0ZXSl8M8uRKBl52lrgEJFHXPb+29h0WU2S5KqAbek56vKMIK8UtJD+VdvxFe3awe1cWp2Od+cm/r8LEzBgjEx2W/2YTsZcXedk6bqClYEpyhRRe2VFnLBLzGep8wsmo7eiaOXCk4Cnjb+9jtvo3fC2vj4mREXoq6/hGPZoHDy+iqWjPxWcLg6PUoAkyd1ujuSNf8rX1VAQGGnuQNL2xagw2WJF68xFJbtbYhErjbyYacpAziKJ+dIyWovP4O1pj5xlHRec4olfXUJe3JGPRgC1J+FUxBussyH0q9SzmRPuhG1iIaHqK+vwMPK2NMNJYzy9WapLf9ooUJxOcD5dyI8EDXb+r9DSc5bc//TVK+mYYGZmgtHoZBp6Z815X8eAav80U8+i7NBZF8c//+CU6W7diZGzIxiUr8E6+T9ftBFQ0LLgjaQ7PcFMyIOz8ghdAymOSU7utUPXOk359W4qRshlH70qXK8sTXbBOPsf1PWb86rMlGJmbYGSiy6pvvmbHFalHU3pjF3Gm63G72CD9+qYYA011DlS8prX8HNttjTHW2sQvv1Xi/NPnpHiqYXnoGvV3TmGkYcqZ+lec9Zbnn7+Sx9zECGMDVb74XI+0+ws90mBFCuoKupT0zlAW442u40lpWMDbUnS0fTj/dFGbFD3HW82AXZnSJey3t9NQ2uhBneSSHvZt88QvrZjD7pv5t2+VMTc2wkRPif/6xpKLtS94cDURa/OtuMZk83pkhBx/Nf7xvzZiZmqEsaEGv/+dOvFFc88OFB/czhqto/OeNjGEqdcPSYzwxsjImHVffYFWQCHTYz3cTInB1tya3UkFvHldie6Kr/h2i660/SpvYJ3yLuq6XnExJRQrXSvC0krpH58TTlK8c//vr0xhk7I/1bJH/naSP+uNkriWFcQm44NIeqqRR+x0N+NY4zQ8yZQIoTxZSNhcOhON2SgqulMoi9qozwlnmdJ+njUXYbDekquSBYqXbDdWwu50o+y2UZL1dfBMKaMmyRVVzwNIzRgnyUMNrYOlTA23c/bQLgyNTJBf/jmbnC7Q97IQ/Q1O3JZ1o80nQtDT3MPVrATU1XYj9jXXJm5HzSiW8oIUlLd48Xh+cJmz+Mf5KwihH4fjH0lljCu7t/Kl2Hsha6gjr9t48uQVL5uqKa1q+c5atVg3PMJBU4/AS50wXInpWmWCZK128P4x5FdZcatrgnuJ7qwyOyHJ/3H6Lr5Z5cODoWEaMrezUt6M+50vCLM0wDGpbsFGURdR5hpo7bgmPTZWheU6TeJvt1MTb4O83T7eH0s4TpSJKT4p0k6l7Vo4S1c6Uyvp41vx1lbH4eiiGKH+ClzkVxFWJk5tiGhrc/T9iyR5vroSwgrT3bSNdBFuaIRPmlQIyW+25nyTOMEpzoiFUE4db0r3s2yjn1QIdRRhpKHAwZpB+m4cYMumnZIHhqkGnLYoYR9TQv/ICGMT04gWrS9Ptl5BdZkawXmLZq/DtVgo6xFyQ+rDKgo2ZrlphGxpoocwM00Mw4sXrUmL6Kg8z1aLbaQ/mF83XODKIImexmgHSgfXkapUTLwCKCm7gN56RRJqpW6p9rwQVigG0PTmBcHq6vikSweNa/scWGVynBG6iNBehdvZRXUmbhKPc1CRkyOybEGAFRy05vdbw2gd7Kc03pPVcoG0vG3EW+5bHDLqJbb1dDynraueIJ01eF+ReiV7b8aipGLG3a6XRBqrYbpPKt7oKUF/lQ7pda+5FWqAsudRiRCcaStm2zpHiubD2gZJ81ZjnU86fQMvuXOrlq6xOfeMONspzrgpoBlxWcqnswjzzes4VC0dWPMDfAncc4GSzGA2yLly/9UAIyNjiESL0wB6bqG7ToeDd8Qj1xDxTgqoR1+ZZz708BSblpuQVlpOgJ4mlqH59Mrqf3ZmlommHOQ3WZH9ZNHgKLl7gsxAC5Q8ciXfnp0MQUNxB5IhfegeuussOX6nmdNe5hjtlJahOTuQbzbv4uG8O2aKy2HGrHA6xKvnBahutuDsYk0gTvnVTXRWGXGqRhxZJiIr0g+jsFKelyWwYqkDpa9HaL8eybrVilx9C52XD6C8dAOb1+hwpOINvC5E/VsFDtxoYmRkhIlp8UC44NcSC6FDbsaIPUJvHmWy+Vsdsus6GRkZZUoknjjN0pkfibzyVsokWvIZ7pu0iLz0nRGQSTICzFHwlvUJPaUYKBgQd1PaE5QdccYi+TK1J3z5RtWe0hd9kvqanhV95yf5bzigswxl77MScTJw6xBb1plw9Ph+Nq2wJ79tkFclB9m8RpFTtfUcsVBH3tAGF+fdXLwnbZuXgi1ZpR7Fs95hRkYnZHFA81XO4P1kVOW0KZYIIQ9ULWVe6a5iNLW3f08I+ShoseesVFz33k5l8xpH7kp0VTchbh7sPHWfc2HWbDJK4MXAiCTma3HfwdRzdhtqYhB8lZvHfVgpt4fHbwYl8UyS6xZ5z+vP7uGbpVZUS9rIKG3NN/GTF8co5TPS10qIuTLKPrJnQlw7Q/V4GyngeOQMewzUsIu8LGu/U8yKg3Jk/2Y6y7BbtoXQC8+Y7H3OrbJHLP5dykD1MVZ+o0PGQ7FSmCbJSQutgCvUXA5nhWKopD+ffJKDmroaqc0z8DQDFTltri3oS0lOk80X2LJSkWiZuMvxN2Sz42l62ovQXm1GbqO4b+7jgI0mGt6XpNZN1mG3UZPY4lYepTixdLMjj8TlFz3Baf1GAi/d5qStJoY7TtE/2EmSlzYbHM/R/6oQ+d/LcehOjySdrB1mKDofpyIvASWlAFrEzfxVEVaaW1gvp4RF3M33eudliP6sP4IQ+rPwffjNM32NHAr0wVzPGAcHe9x3xnD9XhPnArT4rU6UdA13cXKjj3DU1MU/Rzxwz/Ag6yBmiuo4ODiw1dyG0JxqiXjqrshEbd0GrPyTuVV8ESddI6zc/NjrYcw6QxcqOtoIszLAKendYOnumst4aGhh6uCAtdlWXOIu8noGqmLNkbP/vhDqqD6Hh7MZS3/5Sz5frcmeA5foHWwnzcsOfW0LbPQtcPNPpFG8UDz3r78C18VCyMbiDwqh7fNCyGZeCJ3ea4J9ZjUMthJha4aqiQO7PW1Zsmo9B2uHmOksx1FhC9pWIZS3DfL0+lm2W9nh4OaGm5sbibce0VJ8Dl8nZ9zszdF0CKfs+aJf78z0k7HHjmWbDAjNqmWi6yGB9haom9jjYGSJo0ccdd2LpiB9DzBf9h/8f//5/7P33lFVZnne713rzrvWve9a773rvndmet7bPdNxunp6qrorWZaxzAFUREBJh3hQMggIBjCAqAQRREAMCCaMYAIRyVHJUSTnnHPmc9cJBENVW9UlY1c//iHnPGc/O3x+O3yf397P3qsxt7bE1MQE7+tpczxGvQTazhFCmRfZYeFAXu8A6VeOobBpB8YSr5iKGUHxMs9MSfgptNZvxGivA3qKK1iqHcIgrXIhJLNZcdxlTM3MsTDQQdfmOGmNs3mqTb2MhoYaxpaO7DPQRWHDQaqnJil9GoDalu2IjfUxOnqW3MY2Ev0tWLJSheN3n1MX78dmBU3S+qE18y6mm5TQMTZGX0cHm4BoJF1T3GEVNtpOC6E4dq+2ITYvD29nW8wtzNDTMcQnroKmxFN88qWI6KbZjlsyAL986M6ar1ZjfeoOdZUJGK9fgW+OTAg9ObAHe8eHDHRVcvW4DdrGFlKbWR64xIvO6ZWjkorUx5PTjmxYo4793v0or/yCHQGRFD8IYbeEiZEOqla+lLT1URV7l71z7H8quoihqgdsWG3ArbcKIX022nyLEFqmg19KOx2F4RgrrkfH2g5LHQU+XeNCWWct5z32Ym5hgYFIxOHQDAYHmvAwVmOpkpjA2GlP6xwhlCsTQjfdHNjukkBPQwY2ahpomdni4iBm5abtSGbBGcpG5aP/xj8sk795M9VH+lU3xJI6LK3Xh7ibPqNGpdMtvlYa7HBNgol2nvg5omtsLgtr5UlKzTBdSV6sV9AhWardB3jgbMKCFap4XppbdycpiTzD6sWrMDpxh/raJESKmjNCKMnfGHXvR4x2V+F7Yj9i7V3SNOwcz71mr078VL/iT4vUsLYzZtN6EceuZtNen81eDS3UTXbjsn8Xa7bsIDS7iED9bWw1sMTG1hZn99uUd4/RU5mFl7kVxuayOmF75gb1M+KT14SQDZsMpoVQHFuV7QkrnSt6B3niZsnCZcq4BaVRm36dDctNZ4WQhQV7Ql/SU5WFm7E5xhayvsMxJIKa0iy8zUyxsDBCSWRNUGIdA20vOGNlg7GZzB7Wp4KpmLPGf7K7nEB7HRR26GKkb01gWCR3Tx9Ea6sGlocOob1NCbXDsXTWJrPHygwLc0NERjbcKWygMf0Ge6xMMJLaeTdnwgqoznvAfgszLEzE6GkeJrV2kOrw/Xy0xBz5sjlpb9uTG8yy5SvQsXBArKuM0g5bEhsHmewowElbAyU9Cw5a6vDxsg2ESDxCA2U4izayaoc5N7Jmp7nHKx+yYcFnrNO2YJehNurqu3lc0Q11T9iySJvwEtmTfHthFLbK29AyNkasK8LM4y4N41B03oblf16Pxf496G3dwg7jCzQNDJJ37Riam7ZieeAwO7WVWWf1gN6meBQ+X4a6qQ3W+mos3m7Jo4pu6iK8WbP+AKVSJ+4Yt+3W8n/8wxLu17zu1Z0eaP76v4IQ+usZfo8YBijLSCI+PoHCGtmT1kBrHRX1HW8q3clhmmrraO2VudSlT3YlmcTHx5NTNuuKlTx5N73MICG9mL5J6G8sITE+meLKGuqaWxkaG6O9oZ6mrjk9iTzHA00vSYqPJzmrdGYwH2yvp6axXf5WwGzRBtoqSE5I5Hl2FpnPUnieVy3zYo11UpCSQEJyET1zNJD0zokhmmqqaJe+DjBJR2MDda2yhjTW30ZlQytjk+O019fT0j3C1FgfNdWN8sWXU/S01dPYLRv0J3rrSUtMoqC8jubmRjrkG+B01BWTnJBJc69s8OyqLSQhPl7KKb++nZ6GClIl3xOfUd0zzXK2XFODrWSnJZFZLrPHVF8TzxIl4fPoeB3ZSA8lBXnkZKbPpJFX2jzHdpN0NddT1yrrGSeHuqhramZI+gA/RlX+M2m+CivnepMmqC9II+FZLrXNrdQ29zLJOO11VTTJ92vqrH8pvS8+KYPG2ZWgM4Vor84jIT6d0oo6GuvaZryL7RX5JMQnUNwoX7U13EVBWjJZFS0MD3RTV1vPgFxz9NYVkRgfT2pe5Ux5+lvrqGnukvofpsYGaKlpZaCvk7yM5Dn1cIh7LjZYHrtPz1z9Isnd1DBVmWmk5FbQPzxIc201nfLXnvpbW2hukc8VjnSSnZ4oK2NK0UyYmQIyQPHzFNKyS2lubaK1t4/OqhJp3Y1PzqJhuhASWVBfLC2HpJ1k13QwMdZPbU0jvfI3VWbjnKKntYGaZlkeRrvbqK1pkbGbHKKuqp6OflmBOipySEx+RmVTC3VN3YyO9FGckyrN7/Oi2hleo101pKckU1Q/R2yPDUjj6pGXu6e9ZaYNDLZWkJSQSEFZNXVNTfRK+/kJmuvKKG2eW0fGqX6RJeMTn0Z505yRlwk6JXWuTe5qZpAXOWnysFk09o4zNdxJTU3DzFs5U8PtZKYnk/Nibt2V2ataUhezK+gfGaSxtoEOOdvBzkbq2uXlGumStnkJ46TUAjpe8QS24qP9Dfp+98l7lkRaft1MXzLcXkVyQgJ5pVXS8ra9iEZ3pTbeEZkUFuZxWlcDdeMg6WLYif4GMpNl7Tgx9+WcBdAgaVe1NXUMTEwx2NFMbUOXzGs7PkBtXcubth6V1K8Usl80MzzUR211k/wN1nHamppo6pb1C2PdtbK2L2kHxVX0dreSlyDJQyJ5tbOuk6mhFrJTE6SME7KLkd8+W7UmesmT1OfUQvnC/yHKJW3meT6VdQ00dgwx0tdIiqSfiU+itEneDiS+loYSed+SQG55G73tVaRJ8pCQTnXbMEy1ccnOjL3+Ca8sIJfsC1bb3Ex9ZTEJCclUtM0+LI12VpOckMyLqgaamhvpkq88H2yuJC0pmTJ5nywpgMSDunGdIUFxeSQlpFDRIheVo33UVjW8wnawpYxkSR3ILJlZDjHU2UpzUxOVxZkkJOfQNjjtvRyjNi+V+LRsymsbqGvpZ2JMUsdaaa4uISUhiYIGWf0a622nuqZ15q3hvEArVmm4Uvf6+DJL/K/+JAihvxqhEIFA4O+YwEAdkQ/vU9gx1xv0d8zj777ozbgpfYrW+fS/SGKkOgHjzSIsD3hy+rQ75nrmuPknSF/2+Is3/50GmOoqJfxhJJWz2ulHJTFccp0lX2txp+IDac8DJditW4fJ6bRXJoR/1EIDghD6sYkK8QkEBAICgb9bAiOUZySSXTPrQfkuFP21edy+cI7AwHPce14x4z36rnuE394fgcn+BlKSs2nse929+/7S/M6Yh5pJiU2itO1Nb/533vc9fxSE0PcEJgQXCAgEBAICAYGAQOCnQ0AQQj8dWwolEQgIBAQCAgGBgEDgexIQhND3BPbhBx8mytMap2vy16F/QIYzbnthcTzyx5urnxwi4eIRFLfqEHhveu+JVzNWG38Na7sg2iZHeeTnjFPQnNfwXw36w7915nPI9DCRs9tL//C4hDsFAgIBgYBA4CdBQBBCPwkzzi3EAEEGS9jiem/uxe/1OdLTiIWa5791K/Oml1kk5ry+D8m3JzFSGs6mpQZcy2ikf+45THNueRF6lKUr91M3McRZC1U27ZftxTMnyA/4OElNbibPCuWvGzfHo/SFMhdkm4j8gPiEWwQCAgGBgEDgp0ZAEELzadGJYXp7emcP2GOSgd4e+gZnF4JN7yc3OthH//QuopL7+ubujSF51XWM3p4eBqcPxZspxyBXzNaj4fWQkcE++gZe3XthfHiAnp6+Vw53lGz0JslH/5As7NPTFqw0DJa9Ejk5Lt2ccDr6ybEBruzbzleaZ2nuG5xZ3Dg60EtPb//M9+nwTI5T9fg4C1dbk9Q0MrM54VBfDz19s694vrztwTrFIzRMDBO0R3JwadxMFBPSPPfOHCQ4MTE++wbB9NuZ8tCT4xNIzwqV7L401oGXjjIKJsF09Q8x0ZKM1gptLj9rob+vj9ffqB7ul+Tp9XfmZ7KBNM89vQxP7+w8PkxPTy/TZ+BKtjiQ/Zugv7d3Jn4Jm/7hVxcfTgz109PTP/Pq9Wwq8oNqgeH+3lcP8JQEmhilT3J4rDypscE+qT1ffbN0kn6JPafrjzTycfp6ehh4JR+SfErK3M+o/CWRydFBenp66B8cnSnNbN6ETwIBgYBA4KdHQBBC82TTvspUjuoqo6yqiuXhG1Q0NpJ+5yzGemps3qCOp2SDxClICnRjh7Y9ThZabFDagcf5UII8ndiqqIzdySf0TcFoSzaeB0xRVlNDxeIgD4tkO3PKijJMqOk6lmzQw852Jxu/0ebkzWwkO8B2vojDfa85aiqKKNmeJr9zFIbaCTtmjZLSNlQNXEksaSIm0JYNZncY7HuJi/VOnEKzZwbFpuc32Pr5b/jZbxeyzcibkpZO8p4Eoq+xHVVlJfT3nOPFnA14JjoKcNVeyD/+y0esFu3lfmEpTy55YLBVBRUFNfZ536FjZJKqeydfFUIuCdJDJCuTrmJmoI2qqmRzLi9yaioIcrTC9qzsuJIkLytWidxlZ+k0RKNrcpxU+cGa5YkX+fJ3v+Lf/rAY8Z4LVFc/Q7R8JaqmezHTVpQfgCk5+HOQpEtu6G5XQXWLLl43k5n70oRkD53s8DOINbajtsOIkMxWehoKuOS+HzU1ZdYa7OdxeT9M1BIo1sN2ryNiTSW26O4j5N51ThhrsEnJiOupkk3jpyhLvoWFsgpqampYHblN/St7A7XiZ22HobUzB6y02LBWxKknNUwNv8RewwAdPTG6qvtIfNFEUVwQYm3J4Y9bEFn7U9Q5AsPNhJ60Zp2SCno7DxNX3sVwVw0hh82l9WWHaA/3C5oYHeziyfnDaKhuR83oAAkNo3TXpeJoLWa7mhq27o9fOSZgnpqJkIxAQCAgEJh3AoIQmg/kY3Uc01JB91Ak/WN95MemkJGZRUJsrvTMoKbHJ1izXp/cwSnij+vyiy92kdXSS0GIJb/4zSL8k+vorY9BY4EGt7NfEmKlha7rA+nmbzlXDrJI+SiVM46MYa4ZreDz9Xspah+iPt6fNSu1uF/eTUVqDPn1fSA5f0djKyaXcsi948yqdY4Udw3RVJDNs+flRAfZs3SzGfaHLLELeETTwOyeElOTo4QdM2KtyTVGxsapjzrFNyvUCSvrZWyghuMaa1lnf11+1oxk3J+iMcGbZev2kDM8RlagGZ9ttie3fYSRhmT0VyzD8kIuldF+bJjjEdI8kcZgfSRbl23EN7mBsbEOrtrtYNVOd66472Wr6DRdQwPcdtnKb/+oT2JDP5W3XVDf7Uuj3ME2NdnLeXM9NOzvMDw+wVR7Gkqff4WW11P6Bho5prcFNY8kqlIDWb/SjizJXjitCegobcNrzvlBku3t7VRUuJQtORlU9q8+K5H0YomwGSbIQYM19g+ZpArbz36Fwr5wOgdbcFX5in9bt5eS9n7ygmxZaXic4sIoREoqnEmXiNcOTqkoYuIdM+Mpk5xIv3/zUv6kcZKa/mHK759k5aoD5JWmse1Pn6Dk8pCBsXGa4wNY9Y0KoUWdjA3Vc0pvE5v3BxN59gDrtztR1DVCa1Eqz1/kEbLfFBXTq1JhU//4BBu0HYl4eAlTrV0kzJxaOsJVNyMUjssOfZwup/BXICAQEAj81AkIQmgeLDzV+BRlRVX8cmengmCEvMhLWBlqoblpCb9aqU32wCQxx6zZYXVTmqvOBE+W6h6gUDLvMVnG/jU78Au9g96KL1mwRg0dbS12KK5g4Upb8mc22Brkstl69M5JPCqScboAE7UNHIhpYKKtAJ8j1miJ1PnqDwuxCojjvLM2yp7JsrDy/1MuWPPLX/2cX64zIEm24fKc3yd54LaLDZZ3pNciXMxYrnFpZjfjF9es+VzvOA3Ts0RAa8oZvlFw5OV4P8FaGzH0lB1iKZmSu2y/iy1WDyh8ehaFTdNTYzrouKdQ8MiDhStdmd4AvjvpJIu17El6Ho6mujGXIhK45uqB7yFnrj16gre1LUdC5p7PNUiQpQHaB+QHSbYmo/mNLrek5/HAQx9HNI5GEulvwM9/vxyRnghtbRU+/4/VOIfNOSZhtJvs+2cxMdTF9MRlKrtGmOip5obfQbS0Raxd8DFrLR4yQQX7Ni/DNVUCbYKz1iZs3xcv5dSd7M0Kg71cv+jKov/1K7aI9NHS0mH9gt+h5PFgxuMG9RxU1cb5unxReUsy4kWahEZHYbxeREimbJfoaE9rFm87OyM4q+45sULXHCNNA8THZQfbyozWyL5Nn/Dvy7ahq6WF9rY1fPS1JXElVSRd90Cka4BjUDSdI2M0VSZxzM4MfYMD3Muc3TF5jvGFjwIBgYBA4CdHQBBC82HSnmz0V67G/LLsRMb+2hoivPfy1TI7Mjq6KArdx9er1cnokwghS7Yah0gPLGyVnNCubkeWZPf80RfsWaFGYEQ8R7crYuAaRnNXN739Q4xPTMzxKAxxZecKVpieQ3LE51TZbRQXbiE4LRnnjWvZey2D7sYszDZvxNQ/ifsnDfhK46w0LAPt1Fa1EnXWhjW6J/A/aoL6Tp9XzvmRiJfwY2JWm8vOaCq46MDX6+xlB6IyxY3daig4XJ1zOja0JJ1mqcRDNTrMo30qLDMJlK+NaWD/DiVMz+dQEX2G9QqHpWuELtppo3UihYasiyxfpEei3BGT7mXCCn0vOkba8dbbwZKlyti5JVOZfw01PU22mdgQ8cp5NIMEmeggcoySWbktiR1LNQjOkEV439sR9aNPeR5+kAVLbEmrbaO7p4+R4XEmJ+couek6MtaEt4kWmyxP42m4Db3Dt+hsr8XHTIk15uGMU8HejYs4+FSykHwEP3NDttpGSu9ui/Vkuf4BoiLPs+Gb9ZxJraG7u5uBkRHGpheGSUM2cVBFgS37wqQ27U3xZ+EyU5JyEhGv0uRimkyZ5l11YtEqa4rlzrr7B0So7vPFz1aHNTr+MnsOSo4fKMRNTxlFkys0dHfT0zfI6Jy1Q2Nd2RhvUMLwehsAACAASURBVMTAJ0NeyilehLmx4UsD4qvaKUx/Rtm3njA/DUb4KxAQCAgE/nYJCEJoXmw3SmaYLxoblDC2MMXG4TzREdfZpaKFkZ0jrrbaLFE24HnPBDFHzdm8M1gqhFqij/GVmg2ZUiFUjO3iTfjE1tCQfp09VqaY2NphZ7eH0zdypOFlRRnixi4FFn2jib2jFSrfbMX8eDS9Q+3cObgLNTUj9h47jNK6zez0y6W3NoM96mpoGJpiaHSYe8kveRJozWqjUIaH6nDfroyOYzhdc3RBZWwga5asxvjoVWrqX+C/T48t2sZYmOijZnCUxJJXd5VtTvJh8RpbaTkG6lKwFGmhIrbAVMMAEztfSnsmqAp3Z9X6g9RPDHPBRgMV50TpuTq3jpmwSUMXCwsxytoO3EmVva1WdNGU//N//+/YPG6GoUw2//wXrDW/+Nq6lkmKb3qw4qt12By7R0tdKprLdnDpuUwIhXs5sNXpKUNdlQTutsPMygo7OzvsPC/wonu2wOOthQTY7cbGxhIVkRne9zJIDnZBY/N27I4cxVB9i/QQwXHKsV+/EMdoyZTZCGdM9dm8W3ZSettTNxbu2EN2ayv3Q05goGsmS8vOjcSXc8+VasV5x2p+s2Q79pa72LpjB/tvFjLanYnGYjXOp8hOnp/sKZdy36y1EwszA1T0jpBY1k1fxVPsdLayTWyOlclewrIrqM58yiFDU8wlZbOzw/1+CrUFybhZWWO7eydbdB249ayC57e8sNptg7GGIRb7rlNXm8KOP36JQ9jrR6rPS6MREhEICAQEAvNCQBBC84JZlkhrSTpPop6SXyMb+HpqC3gaFUPuy3Iq6xsZnJiir7meyrpO6VTJeF8LL6saGJQ89U8N01BaQat8YW1HTSHRUVFERT0hvaBxzttak3Q31NHQUENuWiwxiUX0Ty/xGe0kN/4p0en5lEkOZZUfzDfRWUVi9BPiMyukh68OtNdTViNbgD3W1UB+QfUrB/xJ1sVU5SbyJLmQXoleGGnjWfwTop4kUfnGyasgOWC1tLyBAfmrTSPtVcRFR/EkJocOidtKMoPX1UJ5RRNjU5N0NFRTNX0Q4UQv+WlPiYqKobB5+mBJmBhs50XxSzqkcEaoLyygomHuYZSyeJkaoPB5InEppQwMD1JbXk2n9BBY6GltpLJRfpDkcAtZidFESZimZNEqOylVGsnkQBtZT59IWaeWTG8bMEzZs1iiEp5TUllDVWMvU4zQWFFKU5/k7bsp2upqqZQfJCizZb18b6YhytITZGlFJVPdPnfKtIFD2zWw8nhAVtwTEvKrZLadHKCqtIqOaYhSaO1kJEjylUBZ1+ybh6NdVcQ9iSI5q1J+4Cv0N5UQJ60vUSS/qKGntY5U6fcY8uR5bHzxTJqn6LhcJOvoYYiqklKaeuRGkiMV/ggEBAICgZ8SAUEI/ZSsKZTlJ0Cgjj0bFDE7k/UTKItQBIGAQEAg8OETEITQh28jIYd/VwSGKEhOIad87pYIf1cAhMIKBAQCAoF5JSAIoXnFLSQmEBAICAQEAgIBgcCHREAQQh+SNYS8CAQEAgIBgYBAQCAwrwQEITSvuIXEBAICAYGAQEAgIBD4kAgIQuhDsoaQF4GAQEAgIBAQCAgE5pWAIITmFbeQmEBAICAQEAgIBAQCHxIBQQh9SNYQ8iIQEAgIBAQCAgGBwLwSEITQvOIWEhMICAQEAgIBgYBA4EMiIAihD8kaQl4EAgIBgYBAQCAgEJhXAoIQmlfcQmICAYGAQEAgIBAQCHxIBAQh9CFZQ8iLQEAgIBAQCAgEBALzSkAQQvOKW0hMICAQEAgIBAQCAoEPiYAghD4kawh5EQgIBAQCAgGBgEBgXgkIQmhecQuJCQQEAgIBgYBAQCDwIREQhNCHZA0hLwIBgYBAQCAgEBAIzCsBQQjNK24hMYGAQEAgIBAQCAgEPiQCghD6kKwh5EUgIBAQCAgEBAICgXklIAihecX9X5PY1GALmc/zaewbf8cMDJAXfZPg+8m0DL/jLfMWbJSqohzyKrvmLcW/h4T6mstIy6pgcOrvobQ/UhnHusjLzKGyfeRHivD7R9PT+JK0nCp+aDOdGu4g//kzanrftW/4/nkU7hAIfOgEBCE0LxaaoiI6lL1WllhYWGBu5Up4cgWT35J26aML7LGwwMLSCisrK+k9Fq5BFHd/2x3fEpH88kTFHVYvVickt++7A0p/nST/njurN6rgGBBO7aDslqmJbjIeBGNvbo7FoYvkN8t/eIcY3x5kiq7qHIJO2GNubsuliDyGXgk4SLSvM4fdbtI8NveHVo7pb0HtaNLcix/k5/ascI55XKRiYL6yN0JK6Dm8r6XyLkPzVEcRp4/5klwzRFm4I5+tP0z5xPzkdbSzhMuuB6R1283vITV9o/OT8I+ZSkcyqiu3cPRx448Z61vi6iPq4hkCwvPe6DMygnfz+SY36t5y17tcmqx/gvrihXhldr9LcCGMQOAnSUAQQvNi1nEeWqmzaLUlj54+JSI0kJ2bNmATkMjbnsM6K/OJf/oUf+NV/O7rrVx58pSn6YV0v+1pfbiY4+bGPPiOvnii8j6b1uhzvaD/HUo7ynnxagxDK14J21UajfuZICKjH+NqoMwXSgco6n01QzlXfLA7Ef3Kfd/+pZPI8xcIun6fJzc8WP/nr7C7mT8TvDMjlE//2//Gf/+dAYWvaK42PE3U0TuVNRP2w/nQhL+NIcHFMhlSF+GJsroNWfM2xgxx67A5uk63eRftNVmfiKGymBsFfVRHHmXJ1uNU/gAh9PjkUY5eyntnMwyUPkZvqzLmnld5+vQpN/098Y/Ofifx9koi/XkcNTPlcesrV+fvS2cq2goanErqebc0G9OwMTpB8fd23/QSaCPG2CsBGOPyASf8o2QNPv/aXpZu9+WH+kcnG2PRX7OSMznvWIZ3K6kQSiDwN0VAEELzYq5xHtsboWMdyrR0aI7zY9ViDcIqv/3ZvTzYig2GzrTL8zjeUsxNHzfc3P1JKukERkgPsOeTX/wvFMwOcT29EhgiK/wCbm4e3HxaIhVak9UP2Lz2LUJotI34y764ublzO7ZEmkptcijb/vwrFqqZcflx9oyXZmpinOkxsjP2JL/94xYi62Y9VN1VaRis/pJf/0kJV7+71Eo6+4FaHp3zxM3tFJHPa14jPcX42PT93Tiv/iMrDjyUhRkqx83YGLGmERsU9/GqfmvnlLkGansvce+8L97n71HbJ6c62U36rUDc3Ny4+ihHNl0w1U1yRAwFtTJvWGt5Lo9Tq5hggKL4p8Q9fcB5vwukVTdREn0Ddzc3AkLj6XjFCwXNuU/xc3PD69xjGmbmjwZIu3MRN7eTROYUk33Lk8W//GeW6zlwKamQztoCHkcn0iZXuzXZj/B0c8MjKIxqqVIZJDMmmaT4GK54ueN1I442uWNkoC6HYE933NwCSa/89kGqszQFHw9JnbjGy5Y+qnNSiX1Ww9R4N2lZqSSlxRLg5smN6GKGBpp4dMWHkyGRNEvSGWkh5n4sFV3jlN13ZqnycaokJhltJz7sHG7unjx4ViW1SXdNLhHx8dy56o/n7VSmkTcUPGLz5x/zn8tE+AZHI6mVE63T9TSA5Bdtr9l9gCt2aizU9GduqcbGx2fahuSGkeZ8znm54+l/l4pOCcBBMh5dk9brS7HFTDJAqu9u/vPn/x+bLY5wI6Nams7LxJtS+18Kf8a07J/oriDc1wv3k974+/lzJ0siIsbIjw2VhvW7G0+XtCqO8DIplvjYSEICznL3URSx0Wl0yO3X+TKFB8kFs9NQnenobVHF3j+MYA8PLoSnIqllU93lRESk0CC18RhluUlkFBcTdtKYX/7sT+g5nCImr2mGS3NROvcf58qEYHcFjx7EUCaFM0FZbAJ5JbUUpyaTnlfDi4xrLP/3j/h6ixnB4c9Iun6YlapOhN27xknPAFIq3pREo+0lXA/0xN3zAhnVvTPpSj5IhdDaVZzJkV0fqM/ioqSPOXmWlBpZm+mvzicxJp7YiKu4e/gTn98ij2OArMgQaT3x9T/DpWuy8o815nNFUie9rpHfJOkIpqhMiyc+LorLZ3y5lzG3LxjjZextabvzvRxNy+AA5UmJ5OY+50qAF54B96jtl7fvgQYeBvni5uFNZIGM31D9C5Ki44h/cgM399NEZda/Uj7hi0DgXQgIQuhdKP3VYcZ57GCEptklaUcpja7vOaJvVrLnrkS8vP1ffqApa3WcaJyCgZeRGGgaYO98Cv/je9iqoM6FpDJybh1n6X/8nu37vbmXXURq7E18A0O4FuKO6go9zic0QssTtqx7TQj1FONivRM9Sxf8/d3Q36yI/YU4ap9HoLPw9yzWtuNOfOFspz8ni4m+VixQcmGuhuuty8JKaSV/WqKNX0gkdeUp7DEyxGzfCfxPH2LHhs0cuZ3zymA3E2XXMwy/XonTgzLppZI7nujvDiQ1JoTN6+zIe2VGrwd/szX8Zrku/mf9MVdci7rjbfoGG/A7YIam8UH8/b0x2arATq/HDA+XoPe1Ai5h5dK4ky86sdgglBHqOPDnf+M/VxhxNiSUq76nsNQ6wPkrl7kV+ZzuOa661pI4fALOc/PaFex2aGOw/x5DjPDE3571qpb4+nlwyDeAIF8PlD77dxQtjnLr+Usqwg+xfL0O+SOTZAa7o7fdDHd/fw5YaqJg4E1pSznWq77glyvF+Pl6oK6wDl2fZEYGKnDTt+aQ2zkuB98mt/bVwWua22hdEha7rTlwOoSQ4EdUtHdx1UYPJau7TI2WobfhY77QcOKslzOblyxh9fY9+AadwUKkgs6pBAbbU9n62Vau5A9QG+nKsm3u1E32knr9KoFBV7h27gg7tmhzq7iT8rt7+MdffYahkyeBjzKZHpuaS2LQXP41XyuYEnIriarCCIy0DXFw9pbV041qBCTIRIo035NVOCl+jfjSt3v0hmuScdBTRf+AJz6urpwPf0JS5C3OX7zCtStebFUV4RFVSE6oM4v+8BEajj7cz6smLdibnYb7Cbp2jWO7jXG8nMzIYC2exjvZaX2cYxab+Z+/XoVfSgH3j+3HwMABX39/zHVV2GF3ndapTnzW/gf//vl2TgZdIfJ+AJtXbiUwTzJpO8xFsTIq++/Meq66szFY/QkLd+znUoAPhpvXYHIhhY6CEL7+Wo+IWskA3sdZe2VMQuKIu7iXT363BIuj50kunnVjVT1wY9liPbJHYDjDl9/+wy85GCkRG9Xs3mzAxagMfI200T38mLI8ifD8kjWae7kdlcOzm478/o9LsHcLxN1akxWbrEmbM5c82lXBLd9ALoVeJ9BxFyrae8lqm36kkQkhg3WrOVc8SHf2fcy26uF4yg9fZzPWbjImrLCT+gdH+PP/9XvELmfwdBSz5BsrUhq6yLh4GC293ZzysOfTf/o92kdi6WpMxdrInCMng7l00gUTHQ8KOju5or6AX3+kyBHvi0TlNUxXYSrjQjHdvgf/K5cJfZBK+1A1Los+4uuNu/G7FIDVNmV27r9JW38nKdcDCAgO5aq3HSvVrHlcM0x3ohcL/sevEDmd5pSLKUsWiblXNG8u2JlyCB/+tgkIQmhe7PcWIdTzHH3F9ThFfvvsvkwIHZI+ZScf0WS5tufMU3SQ5Xa+Ed9lYqoY601ruSgb5xnubSQvLY2E+LvoLv4G84A8plpjUHpNCNU/PMHyxZrEyx/LS2868vHC/dQyytVd6zANLXwrma7sm2xfosLZpDefvOI97VE1uyW9r+KiNYs22FAqjyXGYxefrvOg+fVYJ7q4vF8DBYtztEzAWGsWew0seCR5aCy6gcJ6R+Y+P0I7XiYqbDv0VBpTd7QbisYHSXkawubFW7kr72NbYjz55PPd5FYVYL1RHc9HMs9G+rVjbLAIY5Qa9q/+jF0hsnKW3zqLkeZhHjx7MeMFm8nqRB+VRXmkJCRw1k6DJYonqG3OxXzFCjzTZSJlfHiQsZEyDm5bwQn5tcaHzmxUNaewuRQbZQUsgmVeNwYy0flyI/4PYnFS2YblOZkoKAo9yCJREN19Lzi63ZITQRG8lD5Rz+TklQ9j1THoWVjhdTmGSvm8aai9ERoOD5gce8lOhc3svSMDEqypwBarUOn9rU+9+HzVMcqq09FdocWNokFqIl2lHiGJZBlqryf/WQoJsdfQ/PpjbB5VUHX/EJ+v3kvZtBNvJifjXLXZxc7jKdIrCYfUWSY6ybR0u2i+neU612aZTlZycPNiLG69vX5JvAfpgftZquA64wkd6OtjqLuF/JxnJCTcx0RhOWpuGTCVg8nG9VyTzhJVYLzqazZZniUuIYFgx2384uu95Jc8QXmNERGSet4TxfLVe3iadh+V1cqcSZVV/onCG6z/RIWHlVUEaixCzV1WtyQixs9UFTXXSHqqolDbrMutkjmTjp3piDYocfBerbTsLdEeLNjoTFLSZRQ3WhDdIBFC/Vxy0sTmYSU0xaK80ox0eZubQdibi6maOp6Py0iNO4vIQIR96FMaMkPRMXehaqCf86a66B9LlHqBPbR0cLwma/AFoQ58temIrI0MZmKksgk/uXdHFv8EHdUvyUhJ5EnwQb5esILLpbNeaIlHyGD9WoKKWnjkos03u67K1yEN46umiK57FOUPjrJivQFZ0im9amxXiLiamIOvrhZ7giXtagrXdSp4RJeRc1rMH5aqczU6nvhIf1b/+nfsj8nljulqNu69OVPk6Q9lDy6xc/sBbicV0iutW7U4KXyB+GK2NMhk4WXWKejwsH6c4fYq0iX18oEfKz9bj1tyJ71pp1i1YjvxUkdYKwfXbsf9ruyBajoN4a9A4C8REITQXyL0o/wuE0LalleZnnHpfh7C1tVaPKydvvJmQlIhpHsEyfNNuNlWlB2uzwQKO2rGql13Gex9xs413xD4QuLCaONW4GHEuxxwdNzDqo8XYhtcyFTLm0KoOMiBVRusmfZHNcb68OWKw1SMd3FObyWGF1Jn0pr+MFKfgr3mdo7PWcsz/RtMcO+wGVt2XZNeeuaqz1qRx8yAmBHsyILNXq8JoSFizh9g7a7jFMoHh4LLtvzqX5dgemAfFjvW8st/W4Ce5x35VJIk6jZOmmqg7/Vcmk5Xih8iJ1cir3mxabVY+lQt+aEvO5iFy/aSU5WH2Ro1vJ7IXOmZoSfkQqgapy1LcXoy661oyHnEUaud6Oxx53nT9GAxSUniJUzMduPk5Ijx1hUsU/OiqjwenYXruPxyziLfoXysNyzCJUE2ddDw0AUFNXNyKp+jt3kLronyaYuJUmyXqxL4IAYnVRFHb72UluXFA29W6wfJ1nsMVHMrwBV9kRiPx4Vv96RJJnjairl83AHRDhsepxVz08kczb0PmBwtYaeSJm5POyRzXVzW1cDcQzbA10T5sHjtCUqq0l4RQstUT1LbV89ll8NYWtnj6GjFio//A4cnVVTcc2bZDp/X7Ccljf8uHfRd4qVluG28mW17b0g/S/6742zKCoPrczyL3fgbKbDU6MpMW5gJLP0wScRxc5aqnp0VT/Tw1PswJtZ7cHJ0QOGrBeh6ZTLVm4juqpVIx+KJfHSXfsISNUucnJw4dMSFkxeT6OnMZ9fGVSjo22BtJcbCL5qanGusXCMiTKZfoOYJ2l9q8qi8gnN6KzC7LhuEJdlpT/Rlg7oN7gdsUdHxolU+SyPNamcaIkVNfJJkHoiO5DN8vfIA0TEXWb/eggQJegn7Q1rY3C+FsvtsXGJEwhtPAyOEHTBBc5czfqfcuBMTzqGDp3DfY89u50hgHP+dOhgck6wR6uTQtu04XJIJydzr+1iufhrpBGRPLg7mWgTkTstQ6KtMx9nchj37HXG03MEfF6wltHy2zsqE0Dou5lcTYruNLSckYkvyb4LrYk2MTzym9L4LGzRsKJE6kmrx2GLCzfQyIpx0WLxKk/32u9E1OElhUw/xh7bz209Xs+egE04HD+Pi6UtyXT1XTdYh8ouVx/3qn/YXT/HYY4po9wlSKgs5seMb9kbK2uVEUQhr1m3n2vN87hzdwy6Hgzju28lnv1+Hb1oX3SlebFTeSaZ0HWErZ1SMOBM2/fj1ajrCN4HAtxEQhNC3kflRr4/z0FqDlVucyCgsJCvpHrbb1rPTLZqRqRZOmemz78bsQuHppHNO6/K1ih2SIbwh2otl6/W4FJdHYdJddimpciKymqmRAqy2rMDqSjp1zc8Rb12F6GwybY1ZmCxZjYlvFpNNj1m1aDvBc94aG6l8jIbiZvZcjKOwMA03sRqGJyIZpYeT2z5H3W+6Q5TlZqg6Dr21X7DRxp/slxUUF5bR2jPboUqeClO87VmzwZ60F3W0ZV5m47rteIQ/pzDnKQ47VLC5kDa7OHxyiEgfS3735234x2RT+bKY8upW2uqKiY+OJPzOHfz36vDrX67B7VE2s28ot+CquwkVF9lbY+1xHihaOFFQkYGl2hZ2+TymsDALPwttNBxvMTTaxVlDNQwcQ8gvjMdm3QK+1L7OGFXYrfiE3fdkT4+97Q2UVdZQFR/I6rWbOZ83PZiM8+C4Fn8SHaOiuYmwg0YsWnOYxuEWThltQNH2InkFqVy5E05WaSHuOqvR9npIVVsvtWGOLFmrS/5gP7fsDVHW8ZDaPzrIibXqRyioK8Z69SYcggukkPNvHWOBeiCto31UVVZQ21DKKeMNbHJ7RGvhXYzMTpLfMzsSjw92Ul1RQV1jFo7rN7HfL4JgeyOULO8wOVqE1qpNOD2UjLrDBKooIjooW4NV+eAEHy86QnFFEqqfK3E5f4Cq+458quBGddMzNL7ciMPlDFoq4zFc9p9Y3H9J6e19/Gnjsbe8nTTMXXsxilruFJU3UxbpyfIN+gTH51OYeJudSmocf/DqwNSQfAklhW0435DUvUISw4MJiM5hSF60psRAFBdtxDsqg5yYh4SFX8B05WpMvaJobszFWnkNW48kw0g+Zoor2H31GXWdTQTZ7sbM8TYVzc00NzfTMzrBUGk4ats2Y3rAGWefSxS2S0bzWpzVVDHcf1ma/pVjpmzcGUDzaAvuSp8iOp823QRhrJqDip/yf//zpxyNeM172/kMta8/Zr1VEFn56XgYKqF+6B49Lc/QX6fOkevJFMSGsOrPv8PgVik0JqCxUAmv+7m0dL+6Yrrr2Tn++D//gd+scaNjvJdgpeX87JNNnH4meUIYwENjGzscJS8iDBKgu50duy9RXtvBs+DdfKZwHKlTrOs5ZrpK+GTNupwaYv354o8a3ClqourJSZZ9tYQLc1ZrT9ZHsWPRV5wp6KEyzJ2NK0y4n1FIQWwQKlt0uZjZRu0de77eKCZf2twrObJKnyuRybib6rHFwJ4jR04S9lymKpvj/VA0dCAyp1pqg7YOiQetHz/1BSi5RcxylX/q72yitKKa+ufXUNq4mdPJGfgo/ImvtjmTXJBJoLUe23YGUFL4GNEXKzgVU05z8W1Wf7UB17g2uhKOsWSlOinS5tqI2zotzkRWUPn4FKq7TlL2KuY30hcuCAQkBAQhNC/1YIqiO/7oqWsiEonQNnfkypNcpA8xk42cd7LD7YF82mROfmqiz+PsG0q7dIAYJSP8LHqaIkRauwmOKJA/UY+TF+6LjqaIM0+LaMiLwNpIF1Ob45x08uBObA2TPQW4ufiRLF3BPJtAU04ktgbaiET6HD0TRYc0nX4ifA7iHyPzUkyHrk8LQWObMlp6BujrihCJ7AnLmF3nIAk33pKHq6Ue2qb+1AxOUJ10AxNtbUTaxpy+lvbqm0yjDZxxMEJZTQuxob6Uy16PcKn3azrN0YpEXI/eQPpgPX2RXh6cP4Wv5Alb4vl5EYnnpVu0TEJfWQL7jfUQiXRwdA+naVQ2sg7UpuG2SwNd+8Oc9PTkeFAGE7Rx4/gBrufIFvM+v39GmgeRniVB0fkMT8pHZUm52ks4e9QCHZEtnq5eeJ+8L/XaTHYW4bPXDJFIm6M3khgYm6Qm4TJGGloce5BNc859jrmfpVrirBuq4doRC7RFInY6eJJaL/E4dXD5+EluJsumGesyHuJ8LpXO1lwcrQ2k+dnjdpnKoUnyzu9h2bbDlM3ZY6CnNAZHY4ktdHHyeEjH+BDp189x6momU+MNnHU7RViuZFAcI97Xi8CwXCmz1txHHHC5R2NrKb6HfEipG6Et5y5O7vfonJqkOjEUY20R1ofd8PBw5UZhK80Zt3A8+VA6TTtjCvmH/vJEbPW0MNkfSufkOLn3Z+tpSGThrPidc2NbyVOcrIykZTzgepWCtv45Xq9xSuOC2amjjb7xURJKW2gqfMIhAxE6Di64njiJn1RcTZF72xuRpO7HVTAx0MQ9b0d0RBImIg6FZTNQm4DR1g1omFhhZWmM2MyBu4WtjDTlcNpaVu9sjl+iRDq12MeDU44EJsjnmeX5feYn5lef65M1vfp6uhx95QScccPttDfmIi1MHAMplQvVqsTrGGlos9fFGw83Z0IyJFJlmLiLR9DQMuVm8muiariKY7sNMA6UTTFmX3PFyN5Pvg5vkMiA0/jdkT0stWWHI1bXwtEnmryUOzifeiRrNwOVXD7vQ3T1bCWZmugh9pIb2jr6HHb3xMXLh+TGWS/0VGchfs6HeVIjUTlDpIa4YagtQiS243paldQm7enXOHLyInXSdXOthB8/R1phEf57dFirIsbKyhJNsQlHLj9jgHEKY0Ox05L0KyJ27fajvH+A5HPO+ES8+bBXFHNRGk4kMiHgYTbDY7Uc37qIrRaO7DHTQ882kKJ2ScIT5D8IwFgkwsrVk4POZ4h42cdAyUOOnvCXt4tuIjwCiStqozb+Asb7zlE17didtpnwVyDwFgKCEHoLFOGSQOCDItBfyqn9BwhNfWNO5YPK5oeYmRdXD7B5oyU5/VNScXhcZyWaPnHvntWpPq47abPB4fbsIul3MqtmnAAAIABJREFUv/unG7LhCYpblfFIbGFqaorEACs+3nqM6jfWkH1PBBNl7N3wOdb3Xt2+43vGIgQXCHwvAoIQ+l64hMACgf8CAqN9tHR2Mnci8r8gF3+TSQ63lRDsbME2FVVUVUQc9LxB2WvTUt9ZsJ5C9ukZEZAwvaDoO0P/3fw4NdpN0k0vVNW2oaqqitjBncdFLTNbbPxgEBN1+Fvp4BkzvXrxB8ck3CgQeGcCghB6Z1RCQIGAQOBvlcDoyDDDIz9ASk5NzZmy+1st/fvL9+TYCMPDw4zPziS/v8SEmAUC74mAIITeE1ghWoGAQEAgIBAQCAgEPnwCghD68G0k5FAgIBAQCAgEBAICgfdEQBBC7wmsEK1AQCAgEBAICAQEAh8+AUEIffg2EnIoEBAICAQEAgIBgcB7IiAIofcEVohWICAQEAgIBAQCAoEPn4AghD58Gwk5FAgIBAQCAgGBgEDgPREQhNB7AitEKxAQCAgEBAICAYHAh09AEEIfvo2EHAoEBAICAYGAQEAg8J4ICELoPYEVohUICAQEAgIBgYBA4MMnIAihD99GQg4FAgIBgYBAQCAgEHhPBAQh9J7ACtEKBAQCAgGBgEBAIPDhExCE0IdvIyGHAgGBgEBAICAQEAi8JwKCEHpPYIVoBQICAYGAQEAgIBD48AkIQujDt5GQQ4GAQEAgIBAQCAgE3hMBQQi9J7BCtAIBgYBAQCAgEBAIfPgEBCH04dvor8phd9lzQkKiaR19t2hGm3LwOLCXE/4J9L3bLUKo/3ICIxTcf0T8s9r3mpOh2gyuXrlFZf97TUYa+XBTDpdCIqnqm3z/ic1bCiNkPbnLjbjKd06x7UU8F0KT6fopYOiv5taVO2TUDr5z+V8JONnJ46u3iC9se+XyfH2pSbrDlchnDP+YCY60EBfygOKmoR8zViGu70lAEELfE9gPCz5F9qVjbFmniKqaGmpqauy/mcrEWyIriAhku5oayps2sGr1BrapqaFt4UZO25uhJ0cHaG/vYeQ7OsmKcHe+/NKM3HcZvCab8DXRZ4uBO9FJZbMNfmqM7vZO+kckeRgj8pQNor23/+aFUs71E6jt9KZ27C2G+AuXJkcHaW/rZvQ72P+FKH7En3u5pK6D/Ym4HzHON6PqjPdk6eKNRDS9+dtff2WKod5uOrtlg2T3c38+XWBAVP34Xx/1PMaQf9MdNfFJqkfelmgP3sZKrLWNeO3HKQa7u+jqfXOIzQ+15z9XOlH2ZvN/LY6/ga9N0WxYtBnP+NYfltnxlxgt2YB9SP4Pu/973jU1NkRnewdDcvYxjptYZOBG1/eM5zuD92Rju0CDqxmd3xns234cH+qlrbPvrWPJt93zyvXJUbrb2+n/Ph2Z9J42+r7PPa8k+uF9EYTQvNhknEfW2ihqnqS6o4OOjna6Bt7aUzI62EtLSwsx3jYsWGbN88YWaUV/WzaHX4SyUcmRnO94mKiK8GXNGnsKB94Ww2vXhvPQVdTEL/O10X2inN1b9LmQ1iu94dkNH5z9Y/mBz3WvJfpf97Us+jKObjdp/gFj7XD+Xbatt6fw7Wac50JNcsfYnCPeSe813d6UMygoapAkqwY/elqRrnbo7HsgjXck7xLfrN1NSvePnsx7jbAs5ioHToTS9FZxPcBZWxFqzq/baZyb+8wxPh7/Rt6Kw46wVNmD96I930jtPV9oiWf7BhHnsn5gzyHphxS2c+RG8XvOqCz6qaoH6CipEyVXPgmuGmy0CeAdnevvlsfJMpzX7eJW9g+TVzVPPFgnOsMPk1HAYB622zYSWPzWCvv2Mky8wGHbevwK3hTub7/hw78qCKF5sdE4jx2M2LHrHG1DQwwNjTI59d0JF4eeYL2SK43SYBMUPw3GaqcYQ/O9hBe0wWANZy1W808/+w8UNPdwO62Z8dFG7p5xQSw2ZM/ZCLqmoOHxmbcKodaCaI7a70JsuJNTD3OYYISEQHN+92+/4auNepyMKpFncIDIi3v495/9kq/Wa+J7I4Xs5AiCHxYzTgdPAwK4di0IB3MxtifvUlKZQ7CjGbtsPcmqlym0wcZcztiYIBabcfpOtqwjmewm7qoHRkZidh0PpmquUJvsIva8m/Q3m2PXaehrJzLAjVt5LdI8NaQ85lpQEsMTvTwIv8jZ27fxsTLCwMaFpGpZRL3Vz/Cy2IlYbMW5Ry+k99U8vYnfqVMcd7DB7XoCpVmJBF9JQOosG28jyv8oRmIxlvv8yW8fh9F6rgT74el9AkO7Izx82SNj0lvBcVMF/uUfP2KT1h7uZ7cwNd7KPS9HxGIxds5BlHS92bG0l6bibWOEWLwL72tJSHLaUfQYt4BzBJw8jKGBKecfFyLTZVOUJ1zDZqcYsfkxEl62y+0x+6c+MwwbYzG2+0+wW1ETl8AMJsaHeX4/gF1iMeYHz1He1Ud22FUCrmcjk7cdhJ/04/6zhtmIJJ+GarjscZSwFxLlMU7M5dN4XH4uDTNU9hT/6/fJj7vAthVrOezvxy7DXRy/kIhME42SFx0kZWe4352UGtlAl3/nAn4+3hy22c2ZyCIGmnI5sd9cWv4zj/OYS6gxJ5y1f/o9//qHb7A6GExWQggb1qpz5KQP1oaGHL+SQJ+8zbQWRHHE2hCx4T7C0qp4pSn1V3DFy42oClk9KIsI48bNTOkTs5SnkRFi6yMk1EqGs37izrlL823hfI0qSUXoK+PmqZOc9jqGrf1xUuunO/spXj4K5fKFEE4ft8PQ9DixxaWkXPXExMCMS7GlUlYtObGcD46X1qn2/AgOWxthYGCAgdiBsPgigg4bsEbfhTNOthiZuZBS1Utt1k2W/uG3/PpPa7A+FEz1HJ1Qct+FRet24n3qBMYGJpyLKpLacaKvlrt+rtK2bnc2ks7hTp74e3M3W9ZjTLXlcdbHn4z2cboKI3AyFyMWO/Iw683p096KBA7tFiPeeZCI7HrGRruIv35aGrfxiRDKJEaebCP6rKyt77MwwsbjNi8qcwlxMmeXjQcZdbJMDzXn429jilhsis+trFmvsoROaxKaG7dg6uLLQbGYPR5XqOqdgqkJmori8LQWY2hoz41E+dThcAOhp/chFhtz+kYag0OV2G1S58TDGmjPwfOADwml8jaJJJoRKlLDsDcSY2hxmEhpe+3mXsAF/PzP4mJmiIGTP7kt0zaVmkz6X1dpEh4HzBCLDThx9xlDQy1cN1fiX3/2c1btMOFiZhXPTxmyepsx3j5HMDBw4HbqNMthMm6dxUwsZufes+Q1j8JkMw99vfD18cB+tyMRL+YInal+Uu96YWBowlEXF/S/MeReUT/jPTXc8j8o5X70UjwDQy3cOBVIRLZsKnC8OQ9/lwsUtMtcVEN1z9i77c/8479+wfadx0iqGoLeF/i77JHGsd/7Ic2vPagNN+bi5WQh7YvP3Ukk4qQVH/3LP7FgszbHH2YxNNjMAx9JP2bIwVORSHud3hICz5/B67QHxpL+SLSFj/7lH/lykxbOd9Nn2/HkBJ1lyRy3M0FsaMG5+NJX2+Ys7g/ukyCE5sUkk8QeNuQPv/2SraqqqKra8zhvTsN4Sx7yr7qyTukYEidy5sVDbN1oTVhyGtHXXFj1jTZXMhopuneEz7/agf+jLGraesh7fIPwuCzKSuLYqaGK/Z0SmpPPs+41j1Dr8+toLNfCOyyWtJgQNNdvwiE4k8aSMDYvXYOp9yOKG6c7mHEaCsNRWrAaa+/7lFS3cvOIDkvFNxijGrs//pxF2h7EJj9i16o/85GiGfdjErjkoIOy3QVaWgvZZ2yAU3AyZWWpHN4uxjfqBWUPT2Jk4kRi8UsKy2vpn+OVyb/hg7byUVJelPCirJ7BoRLsVn2C6R2ZOMvzP4K+2hl6pzrYp/Jnfr/VkfiUVIIOiVhjfZaqilSsDcWcuPmMsuI49m01IiS1kmfumvzr/7MQt1vxFFW1kHp2P0vWu9Ay0c1Fe20UzXxISUvjsqOIlWoHya3IQGfZ7/hM05XHmfnU98qfBcf6SL96hIWfbuP8kyzqW4twNVFH1f48aWlp+FursELdhZI561v6C++grLidI5cek5Z4BxPFlZj4J1MccYif/2oBB0OiiA45wqol23lYM0J7UghayvZE5ZaR+9AXHaM9xEkHb1ll6SkIQ0NxM4evxpD64BwKnyzG8XIG1Tmp3Ah9SllZCefM1TA8fo3k4EOsXLebFxMwUXmXdYvUuZL72jPkRAvH9Dag5JbC1FQ37hs/5p8VDtIwPkGO3z707YIoz73B+n/5HUZeD0iMOsfGL5QJTGmgIsIXTcMDRBeWkX7XE0V9D14MDxNutJRf/HozIdEZFOXHcEBPF9cwiU1iMDcwwfVeyUxHOdRZhauOMivUDpOeW0FL9hUWffxnjDzCSIk8x9bF6/FKbmG06inizSZcjs+nLO0WJgY7uZw5RyS2JSFa9CnOSR1SULFONpha3qSxIpY9OvpcSS7mRfFLWgcHifCzQ9nyLHllZdw7thez3SHU1Sew/Z//X1aZniElu5C2wdk5qSf2m/jNLxUIikkmxEGdX/zHUg6HRBJ/wwOlTbpE1Y1Q+v+z955RVWXp3u8Z436599s7xh33PbnrdFd3V1dXsLJZRFRyzjkHQVAQFQNJxQAqZgUDYkIUJKokEQURkZxzkJxz3vC7YwcErS6r6rRvd3Wd5RhVe7PXXHM98zefOed/PnOuta77sFJxH1UNOXio6xF4N5W7+2z59GMrsl8NELlXk9+usiXm0VMubjVEwSKQpp4G/I3VUbI8Qk5R3RttoSben99/tIoDN1JIC/dDfrUxMdW91KREci/tJTVVGWwyMcTzVjZ395uxbutdSblrog+zXsWL9KxEXLTdiMwqo+rJDextnYksXgizzbRl4aanwdZzsWQ9uMet6HgykhOIffCE6poi9jkbon/kMXNzjez49D9YZnKYtMz7bFq/hI+UnYhNy+CqlyVaHqF0dJbivcmGPVeeUlPzHH99awIjC17XMT3ZGK78lPUuZ3me/Qgf841o74tndKCGm3ejeFZSw8vIIBTltvGyvZsYfxs0XQ6TnvWYyLDrFNUXsVvXlF3HwznisZXNAdF0zLdJYLD6OdERURTU1JB0zp0VlsG0DL/CY90XfKDkSfKTVHysVNngGSmd/Mj63cGyeCzXGHD4ZjLZT29jq67O5pMplCQGs37ZKgKic6jtHeF5kCV/+s16zt7PJOb4Vlas8aB4SERp9H7UbA+RXV1DeuhB7C2OUdVbytY//jNf6e8jNbeQ1sH5ONIs+Te92aDtQERaNvdObePbP+sQX9XOy7g44tLyqKlIZaumOkFJz7mxSQet7XckQr7k+i6WKvtSPS6V/qLRHhKO2rJk7SZinpfQUZuFp6kmrqdiyM5OYo+RBpqe4ch0E8y0c8LXEcsTiVRVVtDU2kVrzk20l36J66UUSltayE6/x+20fGqqHuGywQDfiCrof4rCJx8g53yWJ8+zyU6+hO7SJThfSKS4uVs2wYLpnlqSbt3gSWktpYlHWaO+idjqRapexvuX+CEIob9JrUgjQkZOF+mdnGRychrRj4SExEJIUfsIndO9HLRWwfT0S5ml/QSpKuIaWsBE7R3WK28nZ36pYqyDlHtXCAzyR2PZUqyCX/Iq+zKKbwihWR4EWbHM7iLzK2oZfvaoWl5gbLwaJx1zgp+8JdKmKnBWNOHcE+ngmXDEASW3e0xTh5fKcvamdkhsu+hmjYpbouT76LOTrLbcSXTEMVb97hNsfQIJDDyCwZf/htz+KFoLH7LPcwtexy7zouXNDUwt2ffZY+eB/8lr5L8SW9nAXo2V7EioleRdcfUortaXGJrrZK+pAe5XpbNxXt1HWdGFIH93vvvDl7jsE1/zAOof/wvaIcnknLRFwTaQ+WGgIMwfZcNgGhqeYvOdAheKZI22LwPV7ywIjU3ASduQgw+l5ZNVgORjJC8CFfmtlIrHyao7aH6twp1GWYrGWFZ9akpE8fx28zmeBzqgoOf3eokjJ3QnS9VPkRp7hHXaB3klPlVUxQ4bXc4WtJLkr8sH3xlxKDCQQB97fv9vKzmSKo2IiZMWhPkhpxyA1LIpIh1c2Hc6W7KHq/JxFMcDA3FV+4rvXM4y3F+Gs4IOpx9Vk3LQFb3NYX9xWbMs4iCaugHkV+YS7OaHw5YgErNeErRrC4eTO5gsuYyakiFpEjcY5ZyxA6eupXHCRYtP15gTKLbVy4rf/stG7jX0cH+7Kup7bkugdKef4Hf/8S2u/uI62Y/Kp5+gtSNm0d6GOWJ8NmPgESVJPyFeGlvvymPJZHic8+46eN6vpPz6Fj74oyK7jwQSeGQHSz/8DJuzhZJzJP/rfYbTRjmOPpf68LPDPnjuiKa/u4zLPlvZ4necmPwWmK3D87sPWWbiIbHb22odv1ltSlpeCg4bFDhf/P2oQYqPDkrbQqSXyTjLN8t2UioOs81W4mSgit+TNupjAlE1OEZp4UPM5e3JGYOxJ+dQXbOd2qlJrntZoOPzSJLHZG4oGjae1E7NEu3lhLVf8kI5ZN/ES2MrNOf9o5Lt1toczR2A6W7SYsIIDNqH5vKlmB19QV/VHdQ2uvCso41QN3Pco0rJveLMB39WxUdcNwc9+PKDL3ENm4/2Qk1sEMvX7uWN7dszg7xIvS3hYq2yDDnHaEQ0skd1ObuTpZHEK+42KLnESawcyz6FnIUnd28Fs+a3H2PjLW3rhl/+K8t3XF+oY8nSmCnnZR1Wx6NTfLVmN5VTMNyYz7WjgRzeacPnn5nz8Hk6FnImnM9cJNhnm9itqcA//6+PWOdyeyHf19RmaS1N58SxQHydtfj98p1U9zXirWPI3utlklTVsYdZZXJOMsGcP+1ZiAtfGx2VRj+A/BPuqOgHUV/5AAs1beJlW5qeBBij6HpK2m/2ZOG8xoWM5lec0/6KT9XsCAwKJGCLLr/5VJ7b+S/wVl+FT6o0Qjd/LRjktK0ppr4p0p+mK/Db4EBU8RCMd5AeGUpgkB8aX/4em1vFDBSEsX7FZnJb6zikrcveSGk55vOrTTiAnMFxyb6lzqTjfL1sK/MrVr2PDvOFihNP5xHODpIYcRR71z1cCE+jV6ynxvLYrCzPqUJZ3zfRSfqNSwQG+qH65VI2ncljri8T7XWGhObK+rOJIraoyBGcN9+/zVsDIy2FXD4fTNBeOz7+SJOwvPkJ9UKaX+I3QQj9TWplhgc77LHaJp2tvb7k7DQjQyNMTr+1Jwd4LYSmujlopozpyTzZae34Kqqz91YVIyVXWbl+G3mSPruVC47mOO47T2zUVcwU1mB3Ku8vCqH7hy1Zbhn6OmydsNMWA9cIxkZLsNMw4kjyW413pAAbOT0uZEqdOuHwghDapboS3zRx+knOudqjsz1JYmfP42DkbfcQd/ckcp98y46QO8TGxvEwLY38ZpnQGmshKXw/KqqbuZ0vncG/ZjPRTPLlA2ibbiKqMJ8AvVVsu98iOZx/zh8H60sMz3XhbaqDU0iJ5Pfp4qvIr3PibNAuli1ZhV9YlOSaSY/SKesa5FmgOSpuJ14Lofwwf1QMT9BQ9wTz5es4VyQb/FrvoyTvyO20JJz0LTj26PtCqDfzCutXuiJZdKu6jfK3ykTKhNBMxQ1WrrAnsW5eakJ2kB2r9fxed8CPT25FzjqMzIQjrNM9TJO4BOOV+Gw140JRG2kBxny0ehM3omOJjb/Po0cFdAwuLCYVh/uyYt1upERGuGzlSNCFVOLPH8LYwp+omCgOmK5kmWMw4uh45lEXdOxcMDKwYH9CI3NT44yMTryezYkvL2p5hLWePtZ7duMVn8WTc4fx2ebOJksvXkzAdO55VFWMSJMEYAa5YulG6K3HnN2iz3cqW7h9L5a4hAdkZBXRNzlO1FZl9A/ek9RNW9op/vyhHPsu35XUSXLaY6pf9S9EC5jilqcd+u7S9NI9Qlt4LEE/zCUfM3YlVVN9ezt/+ESP05H3iI1LIDX1OQ0di9ZV+7KxW7eSoJfSNYEUHw9ctkTI9nVM8CI1DEs9Ww5cjmKXyles23yEe7GxxD9I4XFpDX01D7BUUuRKxULdSQoApPjoorrjomTpsiXlNMvlfJBsrRgtwslYi/2Z7VIhpH+MqrpM7L77Cg0Le6xtd3M1qQYRE1z0NEfPVyqERl9ewWjLHqrHJrjhZoWVX+r8pV5/ioXQSu15/6jA292K01mFRG6zwcHvLLFR4ZivX4PpkRygmwMOJui77EBP2YWnXdMUXHTmwyUmXLgj5pVIWuoLmroXylZ97yDfLNtCuSzwNTPRwd3dm7B2P0T0vTtsN5RHweUeM+LJiNpKvFPEkn2KkK0OaHlIN333PjnBOptdxNw9hfwnX7P9wkJbL3i1qF13ZmCwXp8TGdKRuTbKl+9UDvAs+w6WNg4EXrzH7dPb+fZrax4+T8NshTpHU2QqRDTB5EQtXlp6mFptRttwE2G5smMyWlXRJ7Ax3MSZezFc9rfkz2t2U9MrFkJG+NwolaSqSjjJOquLLL7vLOvcJr7WDWLe0oyDruhYh9BYdg99RU0SZQfEe4SUtpyW3iTS+Yyd67eS2dLKReOlfGnixd2YWOISk0jNK6W34yXbVNdw6Onbu7uGOW9niO5O6V44hvPYvn4T8dkvCdrkwmbvC8TcvYLZ8o+xvlogXk/ksJU+1jvdUNPbxqNXC32AuECld/awTCdYskTdmXSUb5a5USILPr2K9WGlnidFb+mV/rJsgt3ssN58iebOXJwV13JW0pG1cdTLGovdocREX8V4hRybz+VD31N0lKwIL5TNuPuycVi/iuDCBT8S29JfFMdWHVP2hcdzN3QXXy7R42q+IIRk7il8gIjErYZ8ucyC0OvXuX79Ovdy6phoSUX5KxWOvS08xLOSS3tYunYvbcxRce84egoWBF+/TuhhD9RtfMnqmGWuLRWttapsDY6mqLWCYHN1zLed5n7KHcwU12F4+DnNT86y7Ns37xrrL0nEXkEPr6AwroccxMDEkUvPOmH8BTqrVfBNkA6vr2tuupVAQy3UnYPIyG/i9n5LVtqKl8aqcVv1CdvuizvHCY5ZG6KwSTpL7Eo5wKeabmTXlxHotxWPwGskJiaSmJhJ+9Ak3eUviL4TTUL4QdZvtOP6ouWNtqocbt+JJvZSAJo6FtwpfcWjc1tYb72b67fCsV/7NWuMLzDOIAGmy/howyZCrl1lt6ku9odj6WkvZO9ON3YH35Re80E2nWMinvhpstwq4PXGwhfnd7Jsgz+dsyNEH3JCwWSXpG4OOlrhuP82nV05GK5Vw//+W/tpxBOpuhQsVijieTKGilfVXNhti7KNn+R8HysznA/fpXeRvh2vT8FaVx9H/xCuXzmBvY4FFx43UBWzl88UvKkTwx4txd1ajaDcfvpzY3Ax2MGlqDhJGR68KGFoYZWG4YpErBTksN8fSmRYIHK/XcLOkHTij+1AXn0nsSmPOGm7mq+tDkg6+JnmBFb/v/8Pv1vvQ+ccZJzwRNny/GtRKK3rEUIcl/NP//QbzhaPM1F0jt//+7+g6SweCGEoQ3bXmCQw1c8ZDTMOXy+kLiOcLS7buXBXXL+JpGbXM8UMN22Xs2H3DUnWs90lBG9xYM+5CJkfZNHYN79cIE4yy4vze1i72oIrcbk0Zp3nm6W2SAMQg5x2V8MpqoKZV8/YYejOifA70nwycuhYHLwRdXFprxUqLgFE3ApB/6vP0Np6h/6uepIi7hAXdxkzLWP2Xs8hIy4IY/dAohOkdudVdDLZmIDWd99xpmiRuJLCIXHbBlY5n5LsiWhODOTjJR4UifXWSB5mquvYnd5K7W1/1ijtJ+dFPHryOmzfv4+AoBCeNorjkKOcdtZiw7YHkhyHs8+iZO1G8YSI3BOeyCnYcy3uJYOLlolLInbyybp5/yjB3VaHoIw8wuy0MHU/yf3Uu1gorUNtr3SjdekVD/6vf/onvt0dIxGZQ+UpeOi7c/pGlJRXZi7di7DPtOewQ3sj5nuCuXb2LJduXCXI2QJDqz0kpt7Hy0KZpdbitl6H++pPcE8Qq/1JTtoZsdZeKlq7Uw/yqfpmsurKOLZvK+5H5tv6E5p7F21S6cxA7ds/o2B/hPDwM9ipqrLndj5thbfYqKbLgZsPSAzxZ9kf9Uis7eLhfhuUTdy4dO0Kp4+HUFSXz2Z5TQKiyymKP8AaRStiShfEUEVkAOryBlyKS+XGMUc+XLad8q4aPNar4HFRLCqgLOogX+meZiG2CqN16WxW1MN9fwjXLx/DzMSG4LRGZgdy2aQmj2XAdfJaB8gQ9x82R5AM7W2Pcf7KiuTmSapST6G/2Y9b0VI/epbfxPRgPvYrPmVP6lt9KXOU3tnHBnkNDl2KIGS/Ix9/oMq9F3nsNzLEyP0cqSl3sJP/MwYXsiQ2V9zbxf/6p/8b/YNJC/txJEegPfsSa1dqc/hWMvWNBRx01MNsdzDXr5/DQd8Sn9Cshc3doiEK0+OIionjlJs9xjZneNXfzBErRbR2niWj4jl+Trpo7DxPakoU1kvX4hCUzVzPI9Yv0+H8C1ksfbyeAMuNqLkfI7Wk5fVkpr/gLmarFfELT+BhxD4+/1yLc9nz4SiZwb/QDyEi9DeqmJbnDzkWsA9vb2/Jf8fiChgdbibySiQ5DW9JdvHcrvw5d+49l21GnaEi6Tr+3t74Hb9Gec98TzZJaXIYfj5HSasZZqa/nKsHffE5E86de4mkFnYy3FbC3cgMet6cSNBdmsZJH2+8fY+TWibrFibbuB+dwIvGN5eqxIh6KtPZ7+/PrYelVBZkcC+9hlkGeBp9k6wmcXoRhWlJxDxukBAdf/WSm/EZdIkH7+EGooIPy8p+itzmAV5lxRMgZuF/lNjCNzuL2ucx0rS+x0gqkomQ8TbuXTyM95Er3I97QEpqOdOiFrwt9THbfYGTAfsIvpT0+nn1ETCOAAAgAElEQVRJk92V3Ao8IMvnPIWdY3TmPyQqbWEDZ2fpM+7E5Eg2LSPq5sHVk5L0Jy49kt4iK+rkQXQ8uU3fHxTFg0Fx6jX8fI6RWT0MM53cCwmUnH/+RvZffLTAYN1zTviL6z+I+zmSxTAGap9xKyZH2rlO95KZlkBeu3Tw6ChO5cQBqb/4XYxGskq4yF/7qtIJ9PXm+JUYkqISyCnrRlyO+JCjeAecJjouipisItkSaAf71ZZhcChDPHfjtKsJdieefq9j7Sp4yPnDt6XPChpt5GroBe5XSKfEE60FREfFI90LPUlJYjIvyqXHmvLvs89XauuhC+kSv617HEXcc9mypdhD+qoJP3dEWifeZ8mU7MJdVKCRZm6dPsj+EwnUN5YRHZVOswT9FMWZiaTXSPcCDTe95PJRP2k+xy9SJN7YvujfbH8t107tZ9/JmzyMvc/T5w30NxVyXtL2fDj/sEASJYNxChNusF/WJq8mFjM20kLS3TuUvN1ggMasWKIziiVRtOHGAm5EZEn3X0x3kZIQw/PWUcTP7YqKe0lFzk20VHXxPXqcY0G70DB05WpGLWVPHhCXJYn/MdVRQnzaEzolKrOOK8f2E3Ayka5FbbW35hk33/CPRAq6p5ntLSP8kC8+p6Vt/WGutJ3MdJVyLfgsj6sWlrcH6p4TcsRXyuvUVcrfeijRVGcJF4/54u13nhcNQ4jGW4g96Y934AUiYxOIyahnlkEyo2+S2SiOCogoSk8mRvY8pPFXedyMT5fefTnSSPSJ+ToO5ukiOxht4UFyIgn3oznk7c2ZyKey/m2W6qw7+Pns5/L1WOJvp9AoURuDPI46g7e3P5GPKhCJhsmIjie7RtxfTvDs7jUScqUspdU/Rt698/h6HyTsXhwRcbn0jw+QFZtAVrk0BtRXl0fkg+LvLQ0P1GZx3k/sv0e4XyBtm+Jy1qTfYZ/vAR5Ud9KRn0TUI9nNHqOtZESm0ije7C1OlxHLYZkfnb2ZydBEH0+jb/H81ff7UvEjSEpTruLjfYDwe0ncj0ymYVDEdHshZ/19OXz+OrEJ0aRVSiPRc03xqH26iqNPF+2Fm/d30SCZkSfwPXCR4p5ZGKgk7IQ/3t6+XHpU8UbEl+leUsOPSvwg4OhdamUTkc7CFAL9fLiV3cB4VzmhQf4cPH6NuNvxZBd2MDvRQuzdB5R2LojarpI0gvx8CMuoXHSNORqz73HAx5vTEfe4HZVG2RuzlHmjf3mfghD65dWJYNFPJTBVhbO6CpuuSOIpP/Ws/5Hphivj0F2qwdWSESZbMzkYcPUHnnXzPxLPey/087BtfG3hzbO6eupLH2Cpb8z229K7F9/7xYQMf8UERBRc3cs6RU+K/9J87Fdc8r9l0QQh9LekLVzr/RIQdRF5/iw3M9/a0/R+r/KryK3tRRQ++2/yalJ8m/EMokXLdr+KAv7CCjE73EL0xQDprfP2HlxJLWbRDWi/MGsFc365BCbJuH6SwKs5f2Fz+C/X6n80ywQh9I9WY4K9AgGBgEBAICAQEAi8NwKCEHpvKIWMBAICAYGAQEAgIBD4RyMgCKF/tBoT7BUICAQEAgIBgYBA4L0REITQe0P50zMarX2Ep/9N6sbFL5rsp39Eev9v2/MI7DV08ApNY2SgidOeVugbBZDfNn+X2E+/hpBSICAQEAgIBAQCAoEfJyAIoR9n9N5TDOWHs1ztAJVTQ4RZrUZh512YbWOftgaelzLpHRrn8Vkv1usGUdHey8TMG29Tei/2dNeWkVPQvOjWx/eSrZCJQEAgIBAQCAgE/qEICELob1ldc9OMj03QV3ibDYZHKBuboiItmpjsWqY7nqK/XJ/QrC6mJkcI9TRCxTOWqdev4phjYmyMiem3RdEs4+MTzD+cenZqnLHxhec9zBdPNDXBxJTsiXyzU9zdY4uczlHaxicRvZ2l+AWGM5OMTXw/EjU9Mc7kvDCbm2ZsbOz1teevxewUY2NvPrWY6QnJb4svJbmGuExT88+BETE+Niax/y/Z9Dp/4YtAQCAgEBAICATeEwFBCL0nkD+WzUBdFgctddA2tMLJwYhlqgHUikRknt/D4evx3DzuzG/+v//ka3kN9PR0+O7jD/i3j1ZiGhBJa28bMUe3o6unh4GpJ7HF4odc1ROwyx5Tx01o2Htwr6KbxsfX2Wymg56WCftCHzA0M0deVAB6Th54brZFdZ0OQXcLaa9MQvXrP/CvH3yFvm0AeR0LT3AruR7Idvsd+Pp5oq2qzo7AB4zPTpN6YAs21k7YW9hy7GEpHQ25BG62Rk9PD0Oz7cQVSW9h7ytNYo+xGrp6pnifTGZoaoqm3Fjc9XTR09PHPSCGnrEphuqzOWxvjr6eHntDHjE80kvskd3oG+hjsvmo9OFgPwZVOC4QEAgIBAQCAoG/koAghP5KgD/p9OkWjphqYbzzHn1j/SQF2vD5Gm8amOGOszwaAQlM973EZI0+59JbGBsb4oqXGarbYhifHCfxoBsaVqGSVyV0ph9HxciLF9X5OCl8jvzWW3SMT9BfdhdtOVvuVQzCWDW7zLXxi6ngyQVb/vNrKzJqu2lIOILcehteDEyRHrgVFbNTtL8VEXoeaMJHH6oSU9bNQFMq9vJahLys5rb1cj4Sv225e5zJ/nycVddhcy5LEhHKOu/CV+u2UdBYzC5NHdzPZjEy2sHTuExq8mIw1TbgZKb4Ufg9nDDUZc+lOMI9PHHZmyh7wi80JpxHZ70/5ePCA25+kk8JiQQCAgGBgEDgvRAQhNB7wfgjmQzkYqVnyOEM6esI5hruo2xyjKq5Ce6JX0wZlASjJVjKm3AlR/w+lzlu+VijtVv8EsYhDhp8w+9WaGNraYmVgSIffuVEcl4mmw3MCEyRPjq+MsKT//qvrzG0tcHSyozVS5bhfPYZSZe3o7pZ+kZvXiVh42hHSucMz0/uQMMm9HuvgsgOMkdt+1nZ+2mGOLVZA8urSUR4qGF2Kk1S0NHccDS/00N2aeh4hOLKTVy8dgZlbQfiF70xo+vBEb745/9C09IWS0trFL/5EO3jsTTnZ3HEwwVb1/2kVnQz0t5AxGEfbG3dOB2dI4lm/QhV4bBAQCAgEBAICAT+agKCEPqrEf6EDMbKcVLeiFNYlSRxc/xBliruo3ZuiugtSugFPoThIszljLiYLRZLM1zfa4nGTvHLGce54KjFOssQ6ju76e4dYHR0ClF/LjYahhx8IF2Sak07yrdLzLib30h3dw9Dw+NMT8+QeMwZBYfr0shL40NsnZ1I7ZwmO2grGlZXvmd8zjFLlittoUayWlbBptVr8EnKJXKrMqbB0jfLT9TEoblcgdP50rvd+p+eYpXSDtKzY9FcqcrRp9K3FPc1ttLw6CxyK9Zz8kkt3d3dDIwMMzq/JYgZim/t4Tt1e7Jkr1sbrU3GVG09u+9X0lVXSmFtl7Ch+3u1JPwgEBAICAQEAu+LgCCE3hfJd+YzwfObh1FbqcZmL2+2mm3g4xV7JEtjd10U0Dz0AIYLMF6hS0iW+MV6M4TvMkXJQ/om9/YXD/C23oz7rt3s3r2bw1FPGekvwEZFh32JshcEDjcRvnsvbm7ukjS7D54kt2uctGBH1tiES4VQw30s7GxI7JyjJ/MqqksVcNgdRu3AwnLUy1P2fPaf3+KwcxeOhsaYulymZWyEa3Zy6AVJ35oNw6Rc9ENJ3RwPDw9sdOwIji1gjjEenvNBT0WPre5b2elzi1ftjUReEr9qYKvUrj2nyatpJT36LNt3eLHVzgzHA2FkPktih+cOvDycMLXfSXJtE5fs5Pna6drC25PfyVg4KBAQCAgEBAICgZ9PQBBCP5/Zf/MMEU0v0om/n0ZZQxOVdR2I76vqa6ykum0ARGPUltfQNSwOl8zR86qOqqaFN0iPtJeTHB9HXFwcyQW1TEyP01hdQ+vAoju7ZvoofPJQkiYu6TFNQ1OMdjVSXt8jjapMDlDXUE+/5JRJqvIek/Agl57xhXu5co5ZoWTvTWbuIxIePqdLGvShq76cmnbxst38v0mqXjySXOtZUfv8j4jfrFz/IoW4uGTK26SRIeZGKX8i/i2OuPjHNHUNUFuSJfn7fvpLBqZhvLOKeMnxZCrapW8X7KqvoKyxhwXrFl1G+CoQEAgIBAQCAoH3QEAQQu8B4q8pi8z92iy3PPC9vUO/pjIKZREICAQEAgIBgcA8AUEIzZMQPiUEukufkpxdgiwQJFARCAgEBAICAYHAr5qAIIR+1dUrFE4gIBAQCAgEBAICgXcREITQu+gIxwQCAgGBgEBAICAQ+FUTEITQr7p6hcIJBAQCAgGBgEBAIPAuAoIQehcd4ZhAQCAgEBAICAQEAr9qAoIQ+lVXr1A4gYBAQCAgEBAICATeRUAQQu+iIxwTCAgEBAICAYGAQOBXTUAQQr/q6hUKJxAQCAgEBAICAYHAuwgIQuhddIRjAgGBgEBAICAQEAj8qgkIQuhXXb1C4QQCAgGBgEBAICAQeBcBQQi9i45wTCAgEBAICAQEAgKBXzUBQQj9qqtXKJxAQCAgEBAICAQEAu8iIAihd9ERjgkEBAICAYGAQEAg8KsmIAihX3X1CoUTCAgEBAICAYGAQOBdBAQh9C46wjGBgEBAICAQEAgIBH7VBAQh9KuuXqFwAgGBgEBAICAQEAi8i8D/YCE0y9TkOFOiuXfx+XUcm51hfGyC6dmfV9Y50TRj41PMvpPCND1tLXQPT78z1U89OCu+5sQ077JUNDXJ+I+k+anXgzmmJ8aYmBb9tFPmZpkYH2dy5m0qc0yPTzD1vd9/Wrb/sKlmZ5iYmOBdxZb60SS/hKYmsWXs/7wtgz0dtHUOMfNzK3ZOxITYj34JsH6u7f/d9OL+afxH6kTsZ2NjP7sP+++a9Es6b2Z6kvHJn+1Jv6QifM8WcR8++d768O9l/7N/+IUKoTl6aop4EB9NREQEUY/yGfrZRfuRE6ZeccrHnmOZrT+S8O9zeGaolbycfNpH3x5wf749ouYkzPTduFcx+rNO7s2LQNvuLDWTP3CaaIRHp7ahqKzL4YgUCl7k0jgw9QOJf9rPr56GoeN8mR+ulTmenvfDZHMYAz8tyx9JNcT1LTq4XM78kXSyw2Pl7LS248j9V2+l7ybMzoOQ2Oq3fv/hPyV1XFJF3+S7ZN8Pn/9LOCJqzWDb9q0kNP6wEO4vuI6WwV6yu/96X/5ry9yReQ19rb0Uv/cOZd4yEdX3Q1Fdo4yTVxQ9P7dq+3JwNHIiJKtnPsP3/jk92EZuTjFdY3//+hAXbro+CSOrIzzr/GEfmm5KYZOeHreqx38Cj0nqiwsoaej9CWl/6UlmeXTlMOb7kn++qH5H0QZbqnlRUMvfywVeng9k947I9z+uv6PM7zr0CxVCE0TYavDpt9rs3r0bAx1NrP3u0f0TJ+3vKvDCsRYObtHBJ7V54adf0LeR3PMs+2Q1YRVjf7VVovp7KMqZcb345+U18CKMldqHKP+hvqflEcarDIgVq5beZFQ+/ZL9jzv+Kntb08+yyvAkb9TKUD03Q2Ook+m4lCNb2Ghy9j01okHOma/C+HT6T7N7pBAHdW12RzW8lb6PszrWBN0qfev3H/6z/9kZvlWz4WHbL2NAElvanRdPWOxTfnhIeqs8bWnY2lkQWfvmGRWp8UQmVUkSD+WeZ8VaVzJ/AeNSa+o51q50pfDnNYW3Cv2OP+ea8dIzwjO85h2J3nGo5wl6CgYEP+l7R6K/7lBfdihffaLO3cr/UxB+pn0N8Sio7Sa9bbEPzVGSEMbdnEZJZrP1ceivkeNK1eI0P3SdFnZrrEPbJ/GdkeUfOvuX9nvymT0oucf+dUJoqo27l+5S0iVV5s9Ob+aztZ5UTfx9Sptz1BtnuyvvaTL715fhFyqERrlpZ8bW47mSEo5lBPHnr7dQNCL+U0RHYzl5BcW0Dy00irHuJvLz8ygsa36tcvtbqsjLK+BVz6LanuiltCCfytpcArYZsz/97Zk9zA60UZyXR1FVK1LtJWJgoJ/+gR6qigqoaOr+XgObGhlieHiY3vZ68gtK6RyRhjKnx4foHuinpaGc/Np2aXna6sjLy6e2QzqyD/R00js+H/qcoaezh+6Wap48ekLTiGyQnOqlrCCPgrI65ruvyaFeOnsHpTbOTjHQ2cuYDEl3YwX5eXmUv+plqiEBTUVbbhV00dXTg8w0EI3T3tbL2PylZf40+KqS/IIyilJCUDA+SqUkIjRHd2MZefli7mIqU5TFH2f559qEPCyjo62J54/Tqe6bZGZ8hL7eIXqaq8gvKqdnYtG0eHpQWo6KBhbVCn2NZeQXVpATd4r1Fud4XSuzE9Qmn+TL/1rLoahcWrpHSAv2QsPyFNVNVRSU1jIks39qeICBgV5eVZdS0SidUfe3VEt8oKlvQc2JZ8RF+fnkl9QxPD3AZfv1WJxKoLGqlJLKtjc6nN5X4vPzqW2XOB+MFeOsY4DPPWkHzVQ/5YUFVNQWc8rAkRN3xIP/LF11ZRL+1c09Mh+SwV30MZATwmpdJ1La3xZCUzSVF5JXUs3AfDRuWnydPPJLa5BZwkjfEMODgzSVF1DS2CXJeaitloLiWkZkk4bx0UF6x0bpaawkv6iMXhn0ob5uugelf8xODtMzMMjoYC93XTfwp3WW3C+qpFcS3JuhpbqIvIJyescW6nGy7xWF+YXU5UXj6GxPVN1CWxzvb8BXdwNLNf0pqGim/flF1qu486C0keKCEtrfWEYdo74sn/zCGt74WVwa0SSDfX0M9rdTWlBIXeuwpIxzk8N0dXYzISnjLCM9vQyNzjA3PUbPyDD9nY0UFJbRJy7e3DAVxYVUd0jPbX8UiuK6rTytaaKwsJhXiy86O0pVsdgvaphvdsN9gwz0dFFdUEJD69thpCmaxWzyi15HbvsqY9GS24Bj8EOq2wcX1Tb0i9tDXh4VDZ3MzM0hroPeYWkEVSTpJ4aY6c7CVM2Mo4nlVOYXUNO2kMdodyMF+XnkVzUxJqvfyf5mCvLyqGpaEE6TA2L/ziOvrE7WNsaoK80nL6+Q5v5JRIPNpKdk0zZfyLFuyvPzKChtfN0mhwb76Rvso66siJKaRW1idoz68gLy8opo6no7wjxHZ32FhEezzHGnRobp6x2ku7GSgqIKeuf9GRjrrKcgr4janNso6/mR0b7gQ6OdVezd+BErnIIorH3FUO19LJU2ciGnnpKCYho7F11bNExlUT754r5R4qKTlGdn8qKyC0QT9A70093eQH5pNb3jb7a1/pZa8sR+LCnLHAPtHQxLHQvmJunp7kDS3TG+4Key/mZkqJ+e/h6qyoupkvTlIjokbaWUzuGFTnW0q4GCgiKqaqupqW6TMR6nUexrhTUMLiRd5C9TtFYUkl9eS+QJb7R23Wdqeoyujl4mJXUvkrSN/tFp5qbHGezvo7ullpKKekn+w53iMaaAhi7xaDFHW+41VvxuBV6XHtHYPkhPQymPnpa+9vPJ7kaJb5bVd8tsmGWod0CSb2NZAcW1i3xgkZXTQ50U5eVRUtcu7efmpujvHmSot53y/EKq2he3mRlaa0vIL6ol6aA3W52vseDdizL9O3z9hQqhCe46G7JK0Z6TJ0/ibKiD45l05pig9MEd9u/egp25FgZ2/rzsGme0NRvvHVuwtrfDedc1mmemqU68ipulGXZ2lti7+JDaMMD0QCWHt9qjbGCOm7MVS1et4dATqTiRsp+jtSwZLwd7rK2s0FfVZeeZBHrG2znkqsoKfUdc7c1YL6fLsdiyNwbMypv70Fumgbu3DxaGahiZB1IzMEtLWhBfy21A39oOu+BYnmXFsNXECjs7a0zN/Xn0spwrPo6YHnwkMWGuKREDQ2cuRlxhk4U1yV0w2pBLsLszplZWGOtpYOV7i+axWYovbELZ6TCSIXCwAG9FFx7UjtD+/DY7XGyxt7PD+9YzhhsfoKPmTHT2MzytrAlIkMqM1tQg5PR8KBuZH+BmqE66ipOKCmb2LljobuArlSO0MkVR5FmcLKQ8N+04zsvaakJ2G/Af//sPKBp4E5cYzTZzA27VTNCdcpovlyjh5OqMqbo8Sq6nqBO3x8EqQve5oW1mh4WlOdsuPmZgZoryuAvYKalg4bQZU411LNM9yetamWwjdK8xv/nn36Og40REehWZF7348DMltu31RF9ZAX2fCMSrLmUXt6PwxVpMrZzwuZJE3sMw7O1tsLMzw3Drfh7WDDDRW8M5D3es7O1w8DxNxUA/t2zX8vVqE7btdGH9dxrsufKCqblxCmNPYmNrg5WVGarqTlxMr2d2qgpXXUP8E9qYG2nk/F4blLQtcXOwR36JEmeSa2nIimWHqSX2drYcvv6UBQn2ZgsXC6E1epveFEIzfSSc9UNVSQcrWxv8I5/xqrKQCzs2Y2pthameOhY+N2geHOKW1yaWbbRjl5s5G5TU8Nh9mEM+XhioarPJP45BEeTc2MZXupb4bPPEXHMtut4XaR0dInS7FeaHpcuB/dkXMN91gOcFmexY8RH/9oevMPTw51lrN88uHsbWwhw7CwvcfM9RNTjFQF0qLqbG6FnZ4WqpyWeKRiS+WhhgXuVGIv/ZR/z2k7W4+VwlLyMM+aXLMXXxYpO+EsrG3rzonISJLu4e9MLK0hI7Q0t2HrtJ07yCE3ff/bl4rlyOlqUrTpa6rJFzIKq8l9H8y2irm5Im6bMHuGLhzImoOsbrYlDSVsHSbTsWeuqoG7tzMCgQ100GrDXcQkLtICN5YSz543KstnnhaK6OvKk3T1smYbKNiKOe6JjZYGdhgsup+3SNj3DN04olKzSx1N/K+btlrydAs8Nt3Av0wcbaAitzddTt/cio6STnhhd/+uC3fLHOgAMxRbL0Il7lJLLHwhY7Ozt8zyczKurhiKMpTucKJU7RkXoMY5/TNLcV4aC0FHkTd3bamKGibkxodjMDTc84usMJS7HfHrxK0yR0l6bhY2+FhZ0dVhZuXM9pYLC9nBBfVyxs7bDdc5KSzj5ybhzCwcYaO9vNXHvZyUxdEsaq7mR1wmBTDvu2uGBtboWxmg4u+8NpGRkizMeAr9WtcHO2QXGNKj7hL5iaHibjTjCmVpbY2blxNaVuwaFFY9Q8vo2/1zbsLLVYb+fHi44x6uOOseQLFZxdN2GiKo+qxwVax2foKYjDQ1MDIytH7MzV+GyFBzl9Cz5U9/AKSh/9G7/7dj1Ox29SV5OO3ecfoW6/k02WesgpbCauaghGmwk/7C7pU2wsTHE7n0bvZD8hrs7sulIMPc8w1JBjvb4FZp5HyGydV2IzNL+IJ9DHCzs7I9aZ7eB+eRVh7sY4hmZLyjVeEoWJuh2JlS08PL4XSwsriZ96Bd+mY3yS6CMWfKqgi4nzFg7EZvL86R38tzphZ6KJgWUwlf0T9ObH4mltgqmpJn/699+jaBVO92Q3kcG+WOpYYmdszTafSFrnZ3PiK88MknzSB2MlLSxdXVBbtRp938f0VMWgKb+ZZ5I5Xg+B27axI7KWqeZELJZ8jaaJA+7ep0hITOLcAXG5TNA29iC5uJ7oM5v58F9+xyo1C0LjCiiIPoOR5Ul6mKP+RTRbLa0kY56emgH+1zMZZ5SQzaZ8qWDGtk1mbNygiufVZ68n4WIzBxvzuHFyP052dqhoGeEbU4loogI7hY1sNHbCzVyPZapWhOWIVwlGeXrVF009fWxsXNFbtRZT99tv5LfgTH/7b39fITQ3w5h45tHXx8Dg2KLNlFIhtHKDDSdOnGC/x2aMbPaT2dxPbUEpTV0jiIaL2LLuG7zuN9CcfISVzsE0zE+V+7IwXqGCX2QlItEoN3fpst7jGmkhrizT9pbsP5lre4yphgL70hftRhG1EKC7Gs2DKZKamG2IZsNXqpy9/4x9loqoeMVLxM/LE3astQuia6HdUnHVjS+/0CKlRSzvuwjQU8LjbgVNyQF89LkBD1tFMFvPVuWV2F7ORySaJM3HlPXmB0i5fQItzT00zUJxyF7MXC9TUxyFoZIW91v6idppxAarMCRzx9E8LL+VxzexgqIQJ9bbHJAJoTy85J14WN9D8j5LnAPvvY4c0BiH2kZ7EhoHSPa3ZJ3teUZnBznrYILd8bSFZZCxclwVlXANLZGUP/+yJ0s1g6mofojucm1OprUgmunnlJMiKnvTmOl4jI6cE9niyfbQU6zWrSG0fIyu+4f506cGJInX/Eey0VxnyIW8Ll5c3Iac5h6qRkSM1cSwdqkRV5Mf4KKkzp470qWmjBMuLNUOfnOP0Ks0dOXsSZWpoycn3fhkjSuF4us23GX1amvu94goD7HjkyXGZIsnIaNFmK9aj19sFSLRCJfdjZB3DKcq6w4m63bzsn9+GjZKqNlK1tqek4Rp6+4cQHHjAUrL09BZrsiZnH4Ji5IrHnym6EHBq1I8jU05ktxMRbQfy5U8qRXryMGXuMjpEvIwlxvu29jsk/iDAmi+mf8lITSQfYF1cnrESNYGhymtKuLsVmMUTC9IO42JUhxXbcD3+mPCtpnwjUGwZFZVGmLHv39hwOMuEbSloP+FAQmNY+RfdOGj1VspFk+9pkux0dHjQMwLLnhZYnzgicSU/szTaG/eQy3QdM0NZcdAie2jBZdZ87Up0RUDiMZq2a63AftzyVzbronizruSc3sen2athhGxjbIQheTXOWK8N2O6M0Hy10ThJZZ9o0ZorpjlK3ZqrGNXUiNtKUdZusyFZx3jzPQ+w1RBnu2RiwbXnkyslvwJpyvi5cY5wh1NsfRJoiM/DDUlfVJkQijUyI6jkTWM195hxRcbOZU9CLMlGP/hY4wPP5bYcHOnFUqeD2gruM63n6oTXipxEk6b6OIQ8IC8e0dYu8GFFz1TzHQ/QX2ZBudSiriyRYfP9YN4e1WvOm4/3y114oVkSjvFFUdtNjiEM0Ub243MCEhavMdnkrg927HcdHPRUkArPtaq24EAACAASURBVBZ62JzKl9jXnnwEnV3BNLUWYLNBHqeQPMnveRe3sNwiiIRLPti5HKRmPhw818YBIw0M9yQyJhJRctOT77T3cD/6NI5W28jpkXVOY8X4GGpx6vHCYvNI4R0UlzvwtLOfO27KyG25Ju0DBrIwXL6OvdefcWG7DiusLyJuYs2Ru1lj7E1zdy3b3KzZ85f2wc1O0lxaQF3PKKLRMpw1lNl6q5LaxIN8vMSU9B4RDGSgqmDGlewSgu11MPKVTv5a7h/k21XuZL2x90HEbVclLM5K64+Whxh99jle0eJI7AQnTQxwC0rl+c19yKlso2hghqnWZDZ+q8XVJ4WcsrNk8+mXzPVkoPL1MjwjpMu0EqiS/4noqCyiqrUf0UwbAdZqGAQ9oSjxEHI6QYg9NeOMJ7o7Ism7f5TVK13J7pxgpicTs/Ub8I8t5c4+fT7XCkQaQ5mgoryEhp5JRD3ZmHynxYW0YsKczbA+lCW54jENPXzuVtLyIIBvN9iS3j7OzEAujt98w/aYytemjZRHsP4bPSIqxRGyAU47GqC1N42uiiiUVjiQKRNCB93ccL9Vy0zjbRQ++IzDGVIv7ayqoKq+F5Goh1MmK9E9lgFT5Vivs+R2qTQCWRDmywbtINqHavFUXIltmLTPH3lxjm8+M+RhRTMXHLVYbnlW4rPNcX58ruRLlfR0ia0jrTWUVtYzLhLxLNSVz3VO0D1QivnSVdidz5GkidhlxvodDxhpT0NjqQqXi8Rh2hEuO5ti7nJjYYx6Xfq/z5e/rxAaqSVkszF6enrYuFym4fXUeYxb9mY4B6TJqFRhv/QzbK5mU/siAW8ncwyMtfny939ge2I9ook+ksMDsdE2w+9iOrU54az58++R0zLGwMAQbTVlbA9EE+ljhoX3TdksbYAQXwv2pS10EPTn4PitPGdz5sPMzbioW+J7KQEfRxu8IqSDdXPiPkmn1boQyaXssisqmw4iPVPETS8NNE6kUZ0SKGlYErnVkoTOv/9vVmgYYWBggJ7GejT8rtDVXcYWTTOORjzE19YY3wcd0BSNgbIeidWV+Fuq4RQpHqbE/0YJ1dNl+5Us8s45ouhwWNpJT5bjv9GZ+MpRJnorCQ/0RMvUnrMPaxiqT0RT0QbxGDPbFI3yBhfuJd5EX8OS21WvoUP3Uwx1TDgj7d2ZqopH3SmUx8mn+fYPf0TRwBQDAyM0lZXYFJTJQMMDNFbZktYm3iP0BNuN67hUMUpr3DGUNQ8i2S0kqmaz1TZCH1dzbY8+//GntZgaG2BoqIuikgsx8TcxMLTneoV0pjZQEMFGq3Nv7BGark5AfZU1CbLll9Sj29G2uyIVGgPZGOntJL51ktILDig6B0n2DokqIvnkN39kvbbMB1Q24uQXzeDEGEWxITiZWeB+JILGwR7CHDdgc/mZhG7Pkxts1TtCUtwFVq7yQmYWooprrNN14GFFATtMzDiaVEv66d1o2d1Aavk4EVZbOBtVzmhXDeEHt2Fk4kxIUtH3l3ykFclfEkKloTtQ1txDiyyNuCP0s1TGMrxc9ssk1yyM2XH0DiEeLjjJIonVd3axyuWEVBR3PmPTch0iygbIvbwdJZdomc/34m9mgVNgPCd32WIRKJv55l/G2MMX8TbvivMObLA5IOn86u968V8fLEHL1AQDQwNUN+jgH/6AE9Zq7Lor7TgZzMXT3ZE7tYt6SCa4sd0eA48oyXWH80KRV95BriRKPkDoHhO8H1WRd8Gef/lwOYZmRhgY6rNR3ogTibIlR3FpOzKwV1bgXJl0Ce/J/j14+SbSnHsFDRUjHks06jg3rTYTHFnDaE0k65XceSIeD0SV7JbX5dxT6ZJhzAF3lOzuUPX8BtrKPtTLgqBP9rli4XCSsCPO/OtvV2BkaoiBkR6KcuZEZZcQ6mqP0+Hv7x97GGjJcrdr0smJmNuFPWjpBdE7Woe7vtHC0qms1sY767kbvAcTY3uCY3IZnGhjn7UBjhekHMVi1MT7JI2vcrDWsuNKvrRd9r+4wncrtpPzqo2nN4MwMjZh96XHdLfns0nhz3y2ThcjAwMMdFTZYHqC6r4BChMuYGlqhHPgHZp6hugpTWGvqxV6zv6kVPQxVhGD2hoXMhsqCdggj0/M/Ab/AQIsrXE8HMfJ3Y7YBkvF2ODz8+hv8aZ8dIbuuqcc2mSFsYU3DwtaFiZRM+PUPYlmu6sNBkY6fPH7peyNrKI87hjqukFIxu6pchwtdxL6IJ3tTmbslkWm6XmKptE+Hrcu9qFRwuzXYXL8gYSgqD4BUyUlbkq64Dke7NzBwUP3CDtgw7/9fjUmJgaSetsgb0PCyzJO2VvjdjaP2a5Hkm0Bt9/e6Dg3RdvLJPbtcJT49vJPPsc8MIfZkQJsNY0Ivv8IX10DTr3sJC/Eln99w09NCUkuJfyAAwZ+UjHH5DAFj27iYWKKgZEGf/qNPJefN5B2wBkNI2/i4q5ho2zHjWcNZAda87sPl2Ag9nsjfZQVFTn0aGHPYdfTk6zS202RTPRmRxxFzzeNjtI7KK1yQTo3GybYawcet2qZqhH7tB7JUsg0FDwi0MNe0lev/tN/oH02CwbzMJEzIVwyGYGC8H2oGARTU5mCxVI1ohplwnm8AJ3V1oQ/LeX8Jlu2BEv7xcH86yjoHaHs9XAxx0hzKdeP7ULLwAD1tUv4TOMM3QMlOCiYcVU2gUy/tA9NryQ6S++itGob+bKVssqLx/B0urpoYiBrKH+nj7+vEGKOWZEIkeS/WVlnLSYxxg0bQ6x3x0qwTDbeR2+5IkE3rmLwnSZBya3MDuazSe5TXO+WLaBrT8fsSzVORUTgrGjKkZg3Nyy+OG3Ll0oeVE/BWHU8Ggor8H20MOQw9YoA43XoHE6R2CKufNWN1kTn5uNtaYDrZelgVB/jg/qOYywWQpXXPPjmMzVia0eYGyzAcYUcPvfraHgYwHdq+6mXFKsMd731bIooXrBZ8m2GtIMufPHbj1mptJ2SUZgtv4GGgjqJr/qI3mGGst1ViXoWtadhtFaP8887aYjaxXKDXTTMQNuzEBQ/1SW6fH7KCG2px1iybAtJWVFob7TiumQ2MMRFR12+/PMXGLpdZH7iKDFjvALnjQpYnXgujs/y+LgDSxQDKa9NwWSVKaFvLCOKgy532PidJSlildfzGEv51YSUj9IaG8jaDXuQNO3pCuyN3Tib1crLK16oG++jfsFEGMnDXE4BtzDxrH+ceH9zvlANeiMiNFP3AJ1vjYmulirPlMCtbDQ5LZm10ZuJjpYnca2TlJy1Qd56v1QM9L3ATkGNY0nzAvIt5KPFOKmvxu3eU264rMfkZKokQWfaVTapHSCvOAVjOTXOZIt7lzmeBruxwTyI5r4K3HT0CXj4iqoob75d6SDpsCZb0zH/ej0Bdxd8rjnBlyWKVmT3TlGaEk9MevUbjyIYyD7Hck17khZtlu55eoYVS1W5Id4kP93Bs8JsTruaoWQRKl1P787EfKMBISn5XN5ig+meRInd5Tc9+MYqQCog2zKw/UaT2+VDFIW58tGqTeR0TDL1KgkDeQ3OZVQT4WuH2hZx+5rh6TFrPjfcLqmvmisuyFnukzAcLbzKxqUOJNbIei/Jlca45KCAnGu4ZC9CU/xBvtmgQ8wbEaEp7my3Rc9ZOukYeXmeFfKbyZBokj7O7tBnZ1IdHWnByK3ewUvpZqS3KkgshB5jLb+So7nSnQSPfHbguSeBnto41BS1iayfYaYrG5vvNnAgupGJ6gjWrHUkSeyP02W4L1cmKEk60bnj68IGu7s05F7ly483EFbUCxON7DTQwPHcU0pij6KmsY3C/sWRrUFOWhtj4ffgjXoTG1oVE8CqFZt53itWVN0cdzDE1D+ZKVENmzR0/sJmemnxBp6dZZmCLon17VxyM0PfRzyQTvBgnyFfOwbR1lGA+ZpVOJzJQcQ0SQFWrDE9LvVpcRatD9n4tTanU3I56WSBjV+KbM/JW/hG8zBdsRHnsArZgRlue5my1DycluoEVJfb8bStl9seGqxzvy6JNk43JmGsaMD59CLObjPDKOCp5Nz+zFNouuySRmAlv8xxf48F69UPLSxhd2Vi8+UKDoh5jxbjoKyEx7UyymOOoKDsL93zN1GCtbEHlx4XcMxeE7Ud8ZJ9JRURXnzyjQuZb0SExgh32YjOEal/z9bHYyAnx8VysVgSEbd1K36HH/As4iDqenuoGJpf3hcb2MshYwM2nXrJbGcqKvJmhEvCxzIU4o/panauXs7mS7kw3YavqTLavuLok4h7/g787vdL+NbgMK8moOn+Edau2Ule35tCLWSbMWpeSVIi1VGsWatEcM4gs/1ZknHqTOILQnfaoaDjyI4d/tzKkIqdljh/lum4kNm5OL8F28bKI1j9lToXXw7CVAsHjZVR2ZnMUGsyut/pE9s4g6jrKcYrFdkW2chU9TXU5NVIkLSvOpzWKGIXnAOzvf8/e+8dVXWS9f3+e+9ad91717rv+zzPvPNODs90T+xuu+22u81ZESTnJAgcQDICCiJBBAMqOSgKgqCCqBhQREFUJCMZyTnnnD53/c7vgNBp7Bkde2Y4f3A459Rv165du3bt2lW1v5xQXYH88fswXIT+Z0pEPBWX6vnn3Ngg70trfzX2cuswiSqSMtCaepK1W63J72gjwFATQ2/RLvY9j+JLBZ9FjtAMydZKbNY6Ti+zZASb8Wc5f9p6izD4UonAdDF8nxriyjb72wx33Efuj6s586QXZjrw15FHxTR6OSL0qtu/6b8Jbu434KMV61FXV2eX+h4ORz6if7CPFP+D7NypgqXjfvQ1duOTWUtjeiT6GhpoKmth5XSB+v4hau5fwclQGw1NTTQ19QjMrGeir5YTtnqsU1Bnv6012+V34f+0YwkDPRX3sNBSR0ldHdVdpoTdLmZithVvM0MOXBJXTg13/NDzDKV9UUSo8qIjK99bicE+CUrblTH3SKJ3AurvnmC7tj/iPDFDXdFN7AwM0ZLyZUBwsugUjZdc5I+//E92+orbFeOlV9BT1uZOB0y2F+BroI6CwJOaHocvZtA3C7MjLzmxX48tuw2wtTJHYZM5GfWdpPu7oqGhgbKmPgejs+mpu4euyj4SZdfn2+558X//Pz/D9c7CSRyZDKZ5+TAavXWbUNljjvVeDTaqnaZVOBh97QK2+oIsNdHU20tMUS8zNXdR325FhhD66X2KlbICMVWjtN8NRkndV5yUp6qxN3Uh5GkPs8MNJJzcj4K6SEff9hwNU5NU3otAc/UG1Mz2YWGgyjb9cJb0ykQ75+x1WLNdn/iHL8k8ewRN83OiY9CbzR6Dw6S2T1B+3gZlG3/EixFT1D2MZp+wepXKWsL5B020ld9EV9AVdRX2Op+hqKuDeDslzCJFo9/1OAEHzeM0zE5SfvMkqsoKqKsrsdvEiwflfTBTjaPeHvxS25kdaiLcUZv1cmpY2dujtlGLqNuFJIYfQkNDE3V1Pbxisxib6eGQ4mbknO8ucvaFRdoFdhrY87Bj0R7r9AD3Ir2Q2yKHuo4eR67l0dVUwmlTLeTVhP7XxTU6g/7pcWKdLDE/KhqqqiR3tlqfFh3IjmfYbjUguXqYomgbfr9iB0YSExQ2KuIWeoeRORiquo+F4m6UdaxwMFJinZm31KEeb0rDdMs6du31IL+jl5yYQCQ66mK/m9hzu26c3sZHWGjtZpe6MS77DFmrtpfUlkVtYI72rFh2r16Prt0FirIuoqJ2kGfSyH0fUZ7GHE6thfFeUvy92aOtJtK38+JZx/yWpeBfPMVGeRchhaIj9tjPE1ePO8zOjnA7zJkN21WwsHNAbYMyAXdbmKi9xm4lR6QXF6cqObRTi+CH0lgsN465oG53k6bia+zaoIqVjQUauzaw3TaASuHQ8HgrKSGuKGvIdFwSRE1/D9H7Ldl3/MHXHCHGu0jytkN5qxLqyqqYeEZQ2jcFUxXY6xpxNGVRpJkxUqO9pWNSTUULl5Cb9EzM0ld0EyM5edQMbLE1lGerczidnSXYGamgYe6Agdpudihbk17fTXVyGIaC3qqpYehxkcbBcforsvCzMEZNqt+aHEp6TE3mNfZJy6mgdSCC3KIcAvbqoaGpwU5De2KetDJWfQeN7dY87oDRzhxcjHWRU1dHZecejl/MZHhmmAhnE0xOi9sb/dnn2HPoBKUtdUQe3COlpbbbhgupZQsRMSb7SQ1wRnWHCnscHFFVNsA7qZqqO0Goap1ACBozUY6VyUGi8/rorrqL+bZtKGoZY2ulx9rtruQKRm3hNUttWhC7Vq7H1O8yjVXpWKkqEyusYpkh1fUgXv4ZTI10cD3QBSVZv2lbRdA01E24lQTns0XMdmeirWzB5dL5cxOyCuZGyY71RWeHAprWjuhp6WJyUoyQ9mWFs+J//AiDKDEiNjfaQYq/1ys9tT9CYfcAST6W6HrLooWj7cSdsGWrvAa2Nk7obTUmPvMFFw+Zsn6HDubmEowdvUjMaWZqrIurkUfRl1eV6r2e6VEKFk8m04Okhhxi15c70LO3QV9hN3peQj0jPDhlj8KW3UicrZFfr4p3SjOTtVfRVdblntRojpEd54/S1t3ssXXCQk8Ok3OPYW6Ua56mfL5ZldDkEoquBaCmd0oaqWvPvYq+kpJ0rlVXtCbuieCwjRJmaYrNadEu9hfEo2AYsOiW2RztwvknlR2oG1iyz8qI7SbRdPWXYqNgTNQTMRL76IIfGm6CszjKsyg35LZtQ0fiyN7dipgeTFo+I7Sg79/yz/T4CF0drdTX19PYsThjzCQdzY20dPYxMi4kRJxlcriHxvp66hvbFm5TCGTH+jtoEL6vb6BrWOZ9z4zQ0thAZ/8Ik5Pj35AYD6ZHeqXPtXTOD55ZxkZHGZsUV4uzU+OMjk8sMY5lZy3ZpO3Ii852Gpo6FwzEzNQ4wyNLy071d8n4aqR7YD7WOMvwyBBjskRqczOTjI6MMDVvGyYGaBJk0S6eWVkQ2+QgzY1N9AyOMSkkJZudYbirTZRbW6/sxtI0I8OjTMlod2adY+tqC572Ll5FLVBkvKeNhqZWhsYnlyRUHO4R6dY3NNEr3HKbE+iOicn05qYZGxmRJoKbnZpgZGRcJh9BdmNMTMnqmh2ntalB5K+lh0nZ16NdLTQ0tzM8MSlNqDjf7Hmu5qaHaW1qpn94gunJCUZGJ0WnQjhnJk0WCTOTY4yMLZX1SN+8DjTROzTJ1PigqCsNzQzKVGJydJjRSXECnpueZGyBdxjqbpHqT/eYLFIwN8PYiJCAUcbh3BitjQ209w4zOT7J9NQkAz3t0vY1tfdJeewtvoaZiTPpDfN9LbZK6OPhUZn85hsqfZ+jt62R+uYO2c0o4ZLeIM0N9TS29S44UxNjo4yOi3xL9Wy+7UKCOqG/Z+d4EGTFWr1wGrpaaWxeeoNtcrCLhoY2hsfGGZ94ldBuoq+TpqZ22e3LOfo7mqXtqW9qYXBSbPfMaC+NDUJ/jDExISTrXNIA6YfBnnaaWnuZmBJ0eZxpaV/PMbkkgaWQkLNRpN/SzohYSCQm1alhJmR6Oz0+ztjY/Opjko6WRlq7h5gcn2Byapa52SlGRublOcP48MjC+J4aF3RjitmZacbHJhnt76ShsZlFF0+FMIGUpmBz6pu7mZiZRXhuTCbjr7dwkq7mBuob2li4jPRV/ZA+NMtQb4dM57uXXLKQ2qjGdkbGJxifnGR2doaxiQnGRoX+blxIVDoxILNxTW0Lt2IF0jNjvaI+19fT1j/MxPAALQL/DS2ytk3R3STIt4G2fpn+zUyJ9mBehccHpDSa2l7ZWaluyZL4CWNCsHczM5P0CHop0OpZHNadl8wU3c2NNHb0Mjw6Lh0jM1JbIBuTczOMCrZANpSmBrtEHRoVEqROfkNSzjkG21tp6uxnambevoh1Le2XCdqFfqivp6G5R5wTxsZEey3YqJHRb0lQKdwSa6K+tZuh0bFFSQtnGBscZmmO1cV62sHY9BzTE2OMLNaNuXHamxpo7ehnbGSMqc5s9LSUOJBYKr1RnBlhx/ubDlIm3UufoqdZ1PuGpg5G5+3jvCiZpa+1icb2HsYmBfnPLxCm6GpupLVnkPGJSdEOSfV+0VwhPNveTGNrF8NSOcienR2jraWJnoFxZqYnGRl9ZSvHBzql8muXXrUUmJhjQpjz5nVgRiwvG4oLXE4Ic2xjC31Do4yOTTEn0/9J2TienhyXjrv5B/o7mmho7WFsXEioKLPh8z++w/d3vDX2Dlv+hqsujTRnvcZ+Gr7Zt3jDtf095IY4v0+OjVZx3xxS/3tILz/7jRLoqC4kM2/RFuw3lno7X94PsORL3bM/mBD022nlMtVlCfwAJTDSQLi3BTt09mJjY4PEYh8Hz2fSP+/T/ABZ/ndladkRekM9P97bQm1j20KE4w2RfQtkJmmtLqexd1EejrdQyzLJH4YEhntaqWmajwz+MHha5mJZAv82Epjsp+DpQ9LS0nhe1rRkF+HfRgb/BA1ddoT+CTppmcVlCSxLYFkCyxJYlsCyBN6OBJYdobcj12WqyxJYlsCyBJYlsCyBZQn8E0hg2RH6h3bSFM0vK6mWQQX8Q6t+W5VND1NdVkFz33zG1rdV0Q+b7nhXvZhc7BsODb8Nzkc6mygpa5LlMHr9GgRYg5LKehajnrz+0z+MkoNtDZRWtL7KYfPDYOt7cdFbnc2NG6mUd4k5kr7Xw2+x8GBDA7W1Qr7h73511WRz/VoadV3/xuN+bpy66loa53FrviayKZqrKqlpeXtAEgPtNVS29PzV/voaa9/5xTTtdVVUNL46PP+dxf8Fflx2hGSd2F10m4DQBBqXXux5w13cjqf+bjRliezeMPF3Q67/OTpbFDg8nxzt3XAhq3WIh9GBxDyaTxD37cxMtBYQciaa4m/J5fHtT37zL9XRNqyWl1D2D5rXCs65sXqzG/N50L6Zq69/+yLUhC9V7FkEDfb1Qj/wbzJPO7Be4ZiYsPOt8DpFfmIE4Tdyl9zwelNVDdffx1B5J1q2ftyrWZyj6U3V8DfSmW7Dz2Qv9iG5C2dZ2gqv4+IXQqGQGVr2Gqh+wJ5tcuhb+/NsSVKw+RJv832MJ4kXOHuj5Fsx/N5m7UtoT73EUtuEg4mvkiEu+Z0uvFSVMfL5ekLOpeX+9k8PA/ag6HflDetpPwEWquw6kPqajE2SlxhO+M28N8zHa1b/Bor9GztCrUQ47yOhWryOW5fkwRYFS4QcVm/v1Y6PsRp6J4SEhf+8r4KkM+wPfi42YDgXg51q+KaJ6d3fZKtGSu/iYBcpS2H/zZT7nkbh6CVLNkg3/nrbMAyQZXtd8sgESUePEHxTNFrjJVfYtUmf5Ir5FAlLCn/vD9WxDmxUs2VRXuTvTUN4YKwkkf0HT74CnZ2nMlnHUesjPJSh0RZdOMxGOe+l+Zbmy37He2mEBRs0naidv4X+HWXf5E/ld8KwPS6DS/g7CT8OcGKb+hlpBvG/k9S3PD5KvJ0yigffzs3KyvMWrDUN+Ja6393Xg4UJqG7X50bT/LWmERKtNvJ//J+/xjpMBMAWuCuMcWG1VozI6Fg+Xo4uPPsbh9Fswz0OOnlS9tqR1DHO2umgfuDmQoqSdyexNhz3WOJ+7dscoW6OamlgduzN6P03tTM7QoL6icQ37ID0E2yjhdKheWSHb6p58XfjXLJVQsn10veOUC+m8i7/f/eO0EQ3DxKjCA4OISVLnEbm+l+SfD6Y4LBEKjuFZC9z1FUXkl1VSdbl84ScTaCiW5YEhlFe3L1EcHAYt6SJoGCstZq8Z09Jv36JmBtPGJmboyEnVVpHzANhJTFNRfJJPv/5f7HJ3JMrOVX0N5VwP/0pfdKY8ASlqfEEBwdz9X6JbMCN8OJpPvnPn5IYEcLZ288Z/I7B217/gieVleTejCck7Dy5zcItrR6O7lXH4HQucxPtZD8S0OWFCmdpKSigpFLIYjxNeVoiIcHBxKY8lyEfv1KR9hePiAgOJizmNk2yi1810rYFcy7xKQNSnqZ5WVVITlkRN2MiiU7KZnhqgrKMK4REJVG1kCF1gtJHV6TtvPXk5TessCapeHpd+nvMvVzpdfuxhudYy63gZ5/oEhCdTmtrDmbKauwPu0VieBgJ9wtlCNAC/lgDtyNDCA5JoLhVDLV1lOaT8zyLGzFRXM+uWVLnaFsJ8eHBBJ+NJ6e8nPNuWvzkf38uBeMsah6FiQ7uxEYQHBZNTsuIlH6E7pf89L1VHAy7RHFnP3XPUsmqEtB/pil9KMrx4v3nvMi/zrY//J6VcvuIu5FLb28rj+5k0TwkbgK0F6cTGhzMpfQiEbpjrJm750MJDg7n4YuliSfnRlq5fVHkI7tBXNHXXnJii6IRiQ9uERwSzbOKV45hV9VTIoODCb1wlybZhNFWmcejvAZx5T3STl5hIU1tTVy1luNnv/oAW/8onshoMzfCs8Qj/OFH76Nmc4z7ufUUxPuxZcd+bqdfJyQihmcNrzz4lqJUqf5cSsn72rX50khLNmo5UStd4M9Sl3db2r/nbj6WJukUktU15D+noDCXm3ERREQ/oGM+yjUzwONbcQSHRhBzMYabWRXSkHzrc7G+mDtFCwnSRtvLSIgIJvhcLGlPMjis/Rk//rMaxyNvU7eA8/ZKr4X/xjvLuRIZTHDoBZ43jzA70EjGw0KEPIVC9uWygkJKW4bIjnRjm6I799ISCY6I5XmTiCzPUBM3YsMIDo4kvUhMyTnRUcyl8GBCom7ROD9gJ7t5kLTU5tTn3JXKLCLuMX1zc7TkPeBBgWyCG27mfoygx1E8lY5RmOlv4VlmAQWZt4kICedm4TelR5ij8dktqV5dSHoq7YvptnKO7l7Je1/u5nTCPVoXp+OZHST3fjzBIWHcK2j6ynbHFLU5D3n+UkxUN95ZT35mmYgJ15BHTEgwweFXqegSPdzGogfS3foZxAAAIABJREFU9kSn5iCaiXFqc5+Rk/2IhKgLZFS90k+xF+Z4FunONtWABVy1uc7HSDScCPTej7y2G5XTMNH+gsM6a/nNZ9qcCg4m0FWf9376C7QPBXC7VAqqQ1fVE2mbI5If0Sv4VHODFGbl8TwjlfPBCRQ1ygzXeCc3XTX51c9/h4nvObKqG3iZX0xO1kMuBV8i9d4THj6ulCYAFXjsrSomO7uUF3lPyShuZ25mgLKnzyjIz+BCaChX7pUtTMQzfTVcvhBOWOR5LsbE86RSlJtAZ6yjjpK8QvKzUggJiyWveYTx9hfEh4RyM7t2IRo21VlJslQfL1Estd+ipAZqnxMdEszFlMsY6VjgeUNMnjnZVcFFwX5dSOKl1BD34aetidlxMSlhe5lou4NjU6gfWjp5dJY84lxwMOcuP5GNw3EqSnJ5VpBDUlQ4UYkZLCRgH20h5UIE4XE3OedlgPap5CV2VOCyvfyJdJ6ISH5Mj9AHU33kPc6nMPshF0NCicssX9hanhmoJfliKCHhCZS0C3Z6hBBbHdQ979FUnUtG+bz9G6csN4+n2TlcjY4kNPwsF+OvkNfWS2tBOunFTTAzSEFWPgXPM4gLCSUm/cVCmpbpwTpSLoYRGhnFxYsJPC4U9UWU6rv9+24doZl+rkceRtPWk8DAMySl1zDRWshRIwlO3v4EHnbCzNGXos4BLrru4MdrtfE/7o+zwU622QXSODBEQUY8J/yDCDrjyu51xsTltNNy+wgr/t9foGp5mNCEdPIfXCMsKJigoGMoq2pxKCmPFzdOseZ3P2ezsQsXssp4mejGup3GlAx2c9XfGXV9W3x9vTGW34HkdCoTM01I1qzg1xv2cNzHDbktWzALzVpQpqXdOMddf21+9Okujhw9jYeFMhv3Hqa4s53TlloYh7xgtv0G8itXca5KGBBTXDLay8GjtylOu4yVlj3+gQGcT3pC/6uIND2laThqWOEZEEDg2WTqh0fJuOCGuvE+vHx9MVNVQ8sxirbxEcLtN/Kz9fr4+R1BZ9sG1u8wxTvgFC4mamy3iaBtYoTM0KOYmDgTFHQKB1NTTt16sWAEoI/rRw5gaGCNj+9RDDSVMDpyncaaJ9jJf8pvP9PEJ+Q2Ta1FWO78kBVKDgT6HEThiy24Xi5ldrAST9t9WDsdJ8jHDVNdXwo6Brljs4Nf/3Q1Nu4niM+oXBjAU10lBDiY4Oh5hoDQGLKKi6WYVL/+1WpsvMPJKS4hPS6EU8FhnD5gxEYBhLeqirOGG/jtn77A7mQkuW3NhGl/jv65DGrvhWO1z55TgQFE3coi79lVtn3wF1btNCUi4QkdL66zbYUWd5qmaX52EaVdOth5euN0xI+k50UkeR7GxuowgQFB3Ct4NcnN9Ddx70IAp4JEPtbpHiKnZ4b2Wx6s+M/32esRgI+LhK2bzbhb00vN/WB095jgfMQXR0Md5PWP8KJngru+BqzUOScaiZrraBrocbW8jmRbBX773seYewWQXiPbo58b4tGlw3zwiz9L8aJuZr2kLNmHn/zsEyx9TuFuocwnik4U9Izx8u55zHStOBYUhLulCa5nU2XOsaihUkdIx5U2JskKPcIebQs8fX0x0VNEw/Ei7bMjnFP5hPf+pIzHiSPobNyOhksyI3Nj3A1yYKfxfjwdtPn1j36JfWw2RWln0dOz52RQEPsN9+ET8pjevpdEOJniIPRl+HlupafipvUFv1yhzOFTiVT1fD0cNd1bSZiTKfYepwgIiCCrYZiex2Gs+siYZ1IxtOJkuJf98ZWUJ7nxo59/gf3xM3jb67J29wGeV1QTF+SKvtMRAgNCuJvbykBFJgd1TXE7FsRxFxssDodQ29PH/RhPNG09RJvzsIam/MvoWzriFxhI8Pl0euamSbLaxA73q4y157Pf1ASJrSu+HjYo7VAhJKOB6cor/OF/vY+cuSu+B/eycoMW5/NeTbYCsOT9816oaFhw1NcXK3V5dA9E8rKpiKO7P+G3K7fhde4GjQuRlAGy4mMJCAwmyN8ZNXkdYnLnJyCh7/o4o/IRyidFQOjWuxEYrHeluKGUY3tscfUN4ExQHC86JqlMDcbQ1Aa/oCCc7MzZF/qYcbo4vv593vtEFfdjQaSWLuZVoD/JpcNGbLVJktm0OfLCnVE9fI2ZyQqM5Q05m9fHREs+B9W/5JcfKuHh64uPvTZ/+s3v0HA4SmJhC81P4jEzNedQQBDuThYYn7zHwGAJmh/+kfc2GeB99Bw5dTLHdayNRCcN3vvvP7Hn8BkelBXgsvNz/vcnKnh4R5J8MRC5z9RJEjCEGCbIVAtt52gCDhiy2zWduZlC9v7yJ6xWdcDviAMbP1HA50YtcyMv8bHdg5ajOzbKn/GjX68jpuCVLNsfnGb9f/wOg0MncLfSY9Xqjew56EOAhyPKctqcz29nqPoeJrpG2Lt44+toiry8AVdLehiuvs++7UqYHziCt6sRf/zlRvwze5lue4a75V6sfYI442WDhvNZqnvbOWWgi1VwNr2V6bhbmnH4VCCnz1+jRlyxSgdlW/l9/M8EEBl0BqOdGticyGAKAfdtJT9bp4ePnxfaGzax98R9xkaaOG1vxE5dB04e92DXZ++z7ej1JU5ze+E9IgLPEBgUiJG2CoZBT5gcyGXn+7/nY1UbTng4sHa9HF4pNcyMN5MYEEJgRAi+VnqoGnlR2T/EBSd9tH0f8vTyQT7deVSEeOnJQnubPK4X04gODcDHRo3//L/+wMmcGm7bb2X74WQYL0fpT3/kL7stOeHpxIYNOzmYWMncRAMBEl32Orphr7GO//qvTVzIErO+i5bp3f59t47QbDchvlboesdRJVvRFl+w4b0P9LialU/hkxg2//kTHGNzueSlz0azOHHiHM1Gfr06gRkdjA22UVr4gsKCe+xdsxGrs/k03fXh88+UeSibR2YH26kof0Fh4XO8DLawxvIG0MohhXUczxMjFc3Jh9ihYcXjJ0kof7aVsxWiB9KX6c+f/mxGTm0F++V2Yh4qhogLzzuxUivsW0Dj5rh7wpiVyidlIKz1SBTVcIvL4JS9AXtDipntvIPmxi1cfCk6Qon7bPA5k8rjC8HsNThGZuXXlaT9cQJGco5cza4QV3ljhait3IzHfDr/uiTWf7GD8Pw6oh3V2G4v4vS8OG3BZ59bUyMEP3rusf5zU+Lv30R39RqM/a5TWJhP8L5N/HrzkQXsoOnGW2xfJUdApijE8dzzrPu9Imldc+SE27LT7paouSP57Nm+A/s4EdPryXEDFH3iKIg9wJ9WyhOVkUdhzjXU3v8VZteySXPdzRd6/rJV6ivln2zJwn2PHseTntEiYEAIgO5Z59m25SAN0k9z9DRVUVDygoK7Qaz6YBdnK2cYfOjNDh1n2RbRIEE66zCLzaQo1hNTO18elsv2khjjjKE+9mEipMlsRTI7v9jLw+Y2ovdsQfWYLAw8M0xXTyWn9K04eCqZGukK6RWfzE7T21z9io8P5YkoG6MtxY01G/XJkdr4aUIsFDE8cZYDaooY+j8WCUwVo79xLXYpFWSGW7HJRAbYWnebPSbG3BFEnRfETiUJ8whRCzWPFmO4QY+EMlEvS2LdWbnGhlJhjpgtRGOnIcFp2Xhrb2aLWRi5hYXcOmXIT/5oQJYUD0ukJDhCWww9aWzLR3/TNg5fl+lZ7XV2/FGOhIoG4ozXIncwSfpA190AFDYconagjgPKa/HOFb5uZK+iMgGPc/GT/4jN+8+SX1hI8mF1/vszbR5X5XFKoo9f4lOapRFPyInazyaThIXmfPWfmc4cvI11OHo5iybZarnzUSSb1lrJtqvbOWxhjXtSFYVx7nyxzVXE76ObIzuVOHjqEt5H7LA6c4OadjGEdddHh/e+tCItp5C8u6dY8bs1nEot42LofvS84qhsEHW75v4Ztkk8uPe8VhZRmCPRVg7NU1d5HmbLKrn9srrg6gFNPlO/QHP5DbZ8rMKVGmH8juAl4DIFFSw0a7brKXs+XYXLHSm4BDRe48v3FIh9OUHdRSt27DvzlUWUkEW5mYoXRRTm38Zk9R/Yc0GEeBCJ9hOmvxa9IPG8SfuDC1go+FBUnoWjvBWRd/PpkZ5b7sBh+2p2WgZJdeDmcTN+/r4Rxf3tnN79MSq+37bd0ctpK0VUA2W6OtuEi6IcmvvP8ujhHcy//BhlN9GeFFx0YaNxnMhW5110titwUyrKEY7rbmONtjfPCgt5HOXCr36jTnpRDmYbNmN7cR44eEFMTJVGo7RLm6dSte7CadcWNHzmt7Z7Oam7C90jmQw13kdnky6367tJOGSA8uFHzE3mYbzqIw6lik7ddXsTjJxT6CmPZ+cOLfKFaioiWa1oKQP8lbH84DhrV+3ijgC7NVvAtj+sxzlJjOpcclJB4XQyt9y1WGMYIEaHGeOErjzy9te4FW7Nl5rB4i7B1AuMd+/hVFo9WeFW/PkLI1KyCyl4FMnKX6wh+G4uAXsNsQ59TkdePNZGlsRmVSBzAxeEIICGV5WVUVxYQIStOqt3+zM0N4CfwS5UvUTIpdbEA2yz9KUg/Rzb1yhzV4YLnuypgeKxpIUFpUB0ZqSX2qoSCgoLOX9QjT8pBdHTk4/Wqh0cTRX18aq7MVschP6cobO2mtIXhTy9coQvVm4kqbaL+AP6aPg8YbonC/XPtxBc2EPlVS82qfqJcCnAbR8JanZxjMzMct1+J4pHbsJYObpfbONQshhNveMnYaNtCgNNd1D81EDsk5or7FopIVcWGFwQxDv85906QkLDZ/t4ePY4xipG+EWlcs3fmJ+/twGJnS02tnbY2/mRVlzLWTcjNLyzRFFNFKK5Vo2jSfk8SD6DqZEV1jbmrH7/E5ziXtB4y5utavuQ4vMxRkF8MLZW+7C2tkH+iw/ZZiuAKFZit2UV3pnCNgo0Jbsjp2XF7aRQdq/V45msk6arrvL5KhueVJfgLK/J0SRxwi9JPsmGPedljo7I1qu/c9w6KWHrvkTZV03YK6phG3SHkw6GmAiOUEcKqms3kSCDJLppbYOrr2jkKh9exNHYABOPcEq/snruKU/jqL0EfXs/bt2LY/unuiSUym5u9GWhrahAUHY1550N0D0mYgXlnXREXVvmlLXdZ+c6S6KuxKDwyR/YpG0hzXpqb2/P0fDMhUE6XHCWVRv1SJHZcepS0f5IjTuNIzzwN2GL5VWxbYO57Nmlgd890RgVxDhgEHKJh/7m/PdvP2avrawfnVy5VtHMHZfdKHpeXrKCmZfbZFcpQT62KOvZcDGzgZZH4Wxc70ClgKvWXcGFw47ssbbHxlyd3/1WgdjKcVqSndmkZitDE+8nWHcNBmGCnsxQcj8aKxNdDF0TaOhrk4ap950Rz2dNV1xHbrUpj2qrOL5zPbaxMjR1GTNzIy1cDz/KHm1DPC8/RYCjEl7j7WVEfwMfrdcPsFV7v4ivBiQ4K6Pg4Ib2Fk28k+edsWZc9bZjfb2Eh8EWbDCNF4m2pGEiMeF2D4w8OMomuT3kLd4yEUp1ZqH+hToXZIfYiqI92aogA72cKsPMwInglDQcd6/gg+2G2NrYYGdvj7NPIs2LLgAIjtA2Yy8qy28jt0WVC8J+h/DqfY7JJ8rEvaglTrIJ/TAxnN/5MAaLnV7UTQwQYb2Fz9Wt8HSwYq+tPy8aC7H/8Od8rLhnob79YZdFDL7+SkKO2qGia0PMoxoeRNiy3vCCbGIRq/zqXyEqFO7rgIrOPs4+qKXzWRQbV1tTLPVrevG2tsM9qYK8GA8UdENk237DnFJRwPRkBnPTXdw8fRh9FTNCrj4gykWRn3wgh42tDTZ29tg7nOGpFOZkmIxzx9mrasDhgLsISDONT5M4tHcPxhZnKOscIsVZER3/WG66GiBnFrZwHuVx6H4+V4+ivvQ6imslZEkRvwc4td8WsxDp1Ctt1mT1DVQ+2kLsS5l8h7OR/1yHs8X9vAgzZfNe2Sp7Xgjj7Vw9cwwrMwusbcxY8/5vMI1fDM7cR5DW5+iHio5K3+M4zLe7Uz0Hk625BB62Q9f0INcfp2G08VM+3a6/0CeeJxJpG2vlpMZqrC4vpjlfufA+QIi9GooyGzRemoTm2lVoSSwxN7fAQleOj1daUzoyS06kHWt0w6W2YqYiAeUN27kitRNd7N/9JX9co469jQ22dva4el+ktjEfyWZNgmRAnItr7XsSxI4tKjyQ7uy24rJbHdcYAYBZfNVd82O3ij1n/J2lGIRjzBLtpCs6QuO5Uly8oGJxsDzycGH/wRSGep5jsP1TNOzcOWC8B9uTiXTLukGg2nH/GNvkDckR9GooG8XVe4h4IjAwxyUPfRRPxBBhrICOt2yxB1w8YMYumwQuB1uyxWHerrdzwNyRk3cquXHMgJ++v5l9dqKuOTj6k1dbw0kDXSQnxLHUXf6Aww5GqJocIa1c5skwQ1VWHNYW1lKZaW3+lHXawQzP9XHUSAPzcFEW7WnH0fQ4xZPkAJR3GJEv267Ou2CNln/SojNCM9Tci+OgtSWmNtbo7ljJh6qR9PTkYbBOh4sy+PeUAFeUXO8z1FHG6f3OWNnYYGMkz+8+2crN+m4uHdBHxeOR9IhBrMNedO2C8DFXx+xcobRj6m+dYt3WfWSI0ydXbXaIjtBoGXvWaxApDgweRHgg53ibibFC9q38GA1rN+xNzNl3KJElGLuy/n5Xb+/WEZqbZqC7g67efjLP2LNlkxN378aiJ+fCw5pOKT6LgD0FE1x0lONXa81JK64m66wLWxUdeFr2HFPlDRicy2WkrxTLNZuxDM+hLtmVz7cZUiAdH92ckF+D+oEEBgdbOWEqxxcmiczSxCHlNRiHP6JjYIz6K06s3mFMfl0+Nio7MQlKp76+hrgDhshbRTE4VovF2p0ciBXR7gvivflUK5IR5ngY5YNzyOMlXvmD0wb8/CN1rjyroCD5JHJbDUgpq8ZvrxKaJ/KYm3iBhfI27C/lUv/iDup/WcHeo2kMD/bQ3tVDS2YIq9fv4nzpqxlxanSA1vYu+hsz2LNrAw6X7hJiqYKWe6wUJ+Z2gBM7lA9RPthLoEQR+UOCIkP2EXO2yXmKUZOmFL78iwEJz3I5vkeCq7CVMTTE0NDwkhXq7Egp+3coYOadTH19HVePWbJZz5/2yVkyg635VMmHstYeJnqz0dwoh9t1cfvoebgpCr7xNOfEIq9nybWiVrEfRwVLNMdl8/Vs3H9+0cAVVX92cpSu1nb6+mvx1FFA7kAqbS+ElYM2Nypb6XocwfY/bSa6qJfekous+lCekIIRejKPs267LjfL2hie6uG0ygo0Au4x1tdDR1cvrVlhfPShHndfNhIt0UHNOoqWjkHGyhLZ8BdN7jUNkXZMl5Uqh8iuriHz/jWuP6+np7uD7r4+bvlo8aGeD80yQ9rz9Czb/7iZmOJXfIQWj9B204Xf//hTTt9/QVXOFdQ/kyckrZBkrz1sNzlGUX09OddOsWuzCfdaRqlOPMKXm53JrqnjwUljfvLpLu72wVR+OJs3K3Mxt5mB8UX7ogOFSL7ciWtMNt0D4+RHubJq/QExWjZRhJaiOUEZ5Vz1csDY4TItsj6dmBOja/MGpjjYiM9U9tM81s5JbVX0nGKpq6/nbsh+Nqof4eVoP2Gan6B0QtyCaUuNxGCjG6XtVfgoyKFr7cohz0CypIj041xw00PFN5muQVGHZgSWp8dlfVmHj74ick43yEz0ZNVON/Kau6Q4TfP8zL/PTY3RLe3/Ro4bKbPJ5gb9bRkYrlUkJL2cyqwIvvzVp7hdq6Uo1oH/9d87iH1WTnl6GOs3aRCe1UxfZxvd/b0kuxiyS82XO1dD0VI8QkFrn1QHR6aFTpxlSGZzsgId2PClNbmdfXR0dtNTfgP1P2znfH4jN+22sNPzMk1ZkazdpM25zErqyzNxVFXAMeYFw6WXWfeBDvelDkAvPhYm6J+WhsvEJo3X4WUoh/yBS9Kx+SDAgW3qbpSPzZB/UotV2u5LD7r3ZqPy4Wbszxcw1FnAvvXvo3vu1QFlYfv8prcO6y0DqKyrINxqNx9/4UDF8AjtHR309ZbhqrUevZAbJHruw9zrEk0DYp+IcFFNuG//C8axJdCTh5OBDVdLFuMWTpN0RMImsyvSRcTtwyZs1418ZRNmyzH+eAXONyrJPmvFCuVAKejxXONdNLdsxOtuFT0jo6Qet8PAPoTqbqHuIcYEDK2RfDQ+2YHfbTG2O9/nwvtISRy7Nu0k6EkzA6N12G+RwybsVSRsbqgEW4UP+P/+YyV+6YKwJwnep8w25zTmxrLR/ewj/J6L5+NSnayx2Z9IXW4y+mt3Yuvujm/gFeq/EoJpv+PFF+tUyBS2JQces/kvKvg/EDzaWc7v380Gn+sUJXuxaoc5t4rrqXuejNEuFU6m1VN5w5sVKw25WVxLyX1/Pvrpl/g+aKcpPRRdHSceN4i6Niwdu914KCpgeCSNqdFBOtq7GGh+hNqX27CNmY/5jhPjosgHewPpHerlyn59Vu86Tj+9uGvuRMdflEXzLQ/kHHwpL0lFc+067GOf01SRhfnG9/ji0JVFC8tJrlruZqu2H23D/Vzz0eMP8oF0dj1DdYUCYU/Fs2GJfnbscLlP4/MIPv69Dil1g7Smn2Ltp2tJeNnBBTtVtjuJt8b6n15k42/+g//9gRm5A9PMtGahsWIFe47foam1ha7hIS6Zr2OLWxKMvED9452cShNX0HcCnNhknUJ77U3kV8tjc8gdz1MJVH/ljNRinXgX/79bR2i6k8tHLaWot1q67tzKb5GCDpbdvoCNobqIhmvnTWH3IFfcdVilYImDhREaWo7cLhEiELPUZcVhrKPOXsvDeNke5tKDGtqfx+HsEUCtNFAyS1dpKu4GKqibO+F62INDEUKkZI6KlCA0dqvgfSOf1ux4XA6foXEWhqseYG+ohbq6GtYu53k5IhjQdkJcPLmYIa7uax9fYb//A2Zm+/BT3YLq8UeLlBHun5HwyRYjHO0lqCiZc+mxECoc4copb44lite7G58lYKilisl+H7wcDhF7PZ+M5DNiu7XMCLtVwOgilLvG5wloqQty0eZwxC06p+aYbsvlmJOR9BkNx1Nk1wuO0xjJQUfwuSQ6bVVXw/Hwvixu43Xn4rzvJJlN40y0viDsoAQ1KU0N/O6K5ecVsb86Ex9jsR/M3UMpkh5ch7GmZ7gaKaLmEEFNWyUBHj5cyhEHWPW9ELziHzLLLOUZCdhJaaujtcebwt4x8qLcORSdvsRpFOobq3vCYQ2hLjUMvaIo655ibqaDGE9zlNQcSCtu4GnsUbTV1LHy8Mba8SR3qsaZm2km3NYQZW1nMps7SDvtQlBaLrlRx0VZ6Zlz5tYLJmdn6c67hp6CItbeKbQ35uFhe5zcTgE7to1Lx11QUlPD5Fg05S/LOOMukcp0j80R0it7Fs5OzU4PkhHlhdYCH/7cbxijN+cqnnYH8fF2RE1JE4/wLHGbZaiGKF9rVNTVUTJz43q+7IDgZDsJR+1RVjPh6FFPrD2OkyvMSzOdxLpJUFQ1J7lsftUoSGiK3Hg/5BW1CLn2gurHV3FxixVv1E3Vc9InmBvlQ8yNt5J43BlNmdztou4vicI03AnE0eecFHV6si0ffwttaTv3Op3kabOwzBzn1jF7fK8XSdWgt/AeZ1zjaOlt4Li2PDu0TTA3N8NQYz9xGTWMjjcQc8QZbZkOHY1+Sn9LEUe0xb408DxLWfck0z3FHDFTQdX8JEWLrmLP69pkcy7e0mfU0XcPp1B6uH6WkusBGCipYu19BCdbTxKet1GbcRk7O2+OuZihuluDoyml0rMOAjK6uro6hnuPkfmyj9mZcXIuB2Kqqyb9XudwKDV93aT4W0s/a+kcJrWkmbL74egL/Kvt5eT5J4xOz/IswhX3GCH6Mktecig6Sqqoqxpx8kKm9DLAZG0GB2xOUSTtomGuhodwOkWMFs+3abw1Hx9rY2ldRhJ/cprFA0FVScfZ7x+/dFt9bprK+9HsUVHD1MkDD3cngjNr50lJ32d6y/F32YOqjh0+nl54eV2hojyDfUairB2Px1IzOMPcUB3xAQelOifIw+nMY6YY5IqXDcGPm6E7BzstcxKKF+sXFMV4sV2IMk4NEnP0IH43qxfVP8i1kwdwj3pKYXoUjn63xIjc7DBpIa4oKGsR9rgJprq4fc4LZVXRblgcucPwWCOnHb24li8LHyyiymwvyX527FYxIym3mLgjvpxNrVlcgkfeKvzstzoUSSObE9yO9MUjppi5ySpO77fjWrW4WCyMPkvk+Ww6Su9isHETOubmSCTGSMyOk1UvboMKhPvyL+N80E9MdTFajruNHzdeCJce5ki/cATnS4JDO0ZalC+qKuqoK1ly9kah6BTO9HHntBsqKmo4+vpgb+3F5XyB9iSFKaHo6WhK+1vTMozGoT6unTxGWEopzU+SsJCOEW0cwu/QOTq/yJljtCkHH0dDNNRt8D7gid+xFEYYJv6kF6duiLLoyUvAI+IyvczSmBWHpqIye+288HG3x+PqsyVzz0hLHqf3aaFuYIWbtxf2J9IYHKzkmL0PqZWiV/jsWhSHzxcwOz3E7UB3VNW1OejpibO3L0/b+nkYdQzP6Pmt3lbsN77HX0zFm4IDJddQ2rkVFS0tNNQNOZ1RxrMLh/G49AwmGjhu78VNmW7l34rGLTKH3pb7aK3bgI6pOeYSAzRtjvGwYrEjvqTL/+Ef3q0j9NrNHSTISo1dB79tf/u1Cb3xgr0Fl7C28adyQBYykNYwx01fI9YYXXy1onrjNS8TXJbAP04Cg7kXWfdnA1LqhAjtJAkW2uzSDJFGBf5xXCzX9DYlMFV/F42tCgTnvnIa3mZ9r0d7iMt2Wqi6XFri0H/Xsxkn7Ply21HxLMtMBfafbcYhdFG07rseXv7taxKY68/HZKMqPslLHf2vFfyOL55WnT8jAAAgAElEQVSft+HPul40CNPkVAUShR1onRaPbnzHY/+wn/5JHKERLvnYYnpSdpDvHyaev17RWG8LjX1fPfU1x8OzB9E+cO21B+9fr2m5xLIE3p0EpoYaiTvigrq8MioqSujYn+FpWedCpOzdcbZc85uTwCCXD7tzJDznB9Ovc725WCsZEJA6f87ur7e2v/4ZPnuNUFJRQUVDFwe/ROp7ZYdq/vrjyyW+IoH2BwHIq9rxdNGli68U+asfBxue4e1sgryyCirKWjicuUxZ56LDi3+Vwtst8E/iCCHdMpuZXXre4e2K5u+jPjc7w8yM7ITt30dq+ellCfxAJDDLcH8fvb19LET2fyCcLbPxhiQwN8fM1Py2zRui+feQmZ1mcmpxtP01ic2M09/bS2//0NfOI74mheViMgnMTk0y9SbmstkJ+vt66e0b+trRiHct7H8aR+hdC2q5/mUJLEtgWQLLEliWwLIE/vUksOwI/ev16XKLliWwLIFlCSxLYFkCyxJ4TQn8sByhyU5ux10jp/YVXMBrtuN7FBsmI+EMB1zCedH2b4yc/D0k9rpFh15mEX/lNv/KYh2sKeLulScyKJbXlczrleuqyiHuVvHbO1c21cntS5d5ULr0ttDrcfcPLDXZwZ2ryWQ3jjHenEP8lRRaX/OIx3RPKRFuBzkRm/4tEDizvMy6x9U7xQu5gf6BLVta1Vw/afEJpP2AoAaWMvj3fJqjOv0KVzNKvtd5o76ap0RfkcFC/D3Vf8uzYy0viL+YuhTa5FvKMtVNatI1HlUsPTw+219NwqVblHd/PUP6t5H6vt8P1RdwKTaNjjc4Rc0O1HLjUhyFXfPwVN+Xq3/d8u/cEZqdGKF/YIhp4fjPUD7qH23lyPWl10bfpPgrbwWyZa0eAXFpNIogRq9FfmZimP6BYZHP13ri7y00SOxhW6z906R73KODgwyPvb2B9zdxOzfN8EAfI5PimYKmRGdWrlHj6ev4sXPTDPUPMjb5Fs9RjVbiZWrGCdkV1L+pjV95qC4pAK01LlR9yzGKqTFBn0e/l/Gfr6Iw3psPVYK/E2R2vuzf9N6ZgfzHqzlwuwnmphgcGGRs6i3K/29iUsCoy0Fj3Xbc73fR99Cbz1Yrk/k6N23nerloq4Wivhs3H5cyJjtSODc9wUDfEKKqTZPobMg6jeC3CNr6mg0fzkP54zWLcsq85nPfUmxybIj+IZnHOFTCIWMzTt3+e2GAv6Wyv/r1LFckq1lrE/GVm7OT3DnjhNGh5K9llxdIVl1z5fer91Pyls7Rdj4KZeWf9MgUoei+uxUjReht2orVxcVpBGC6OoHPV6hwoWgBH+W76fwNvzbd9mfFB8Z/Jwj4HOND/QyOit7UdO11FFZ8xOmCryRW+hv4+1d75J07Qn0P/VHWdRQTw82VY7RejcD0b8g38YYkf9vPlG129783tY67R1A0OrQAQfG9CXzvB4a5EeiDd7SQVG2CEDNT3GIqvjeVt/tAPV4a2zj+XBxYrTc82KxgwotvcRKW8DJVjY3CXi7mv0oYueT3N/FhvJbgQ+6cS5el734DNHvSLmAm58nLb2ljecJxVPZELAANfp8qa28HsN7w3ALo5fd59q+XnaHoyjFMrMNoFnyfyWIk6qacL/qBOddCQwbz2augjt+jHvqzTrJVzkCGN/ZXWjlThek6NSLzv9Km+nto7LAjRzZv3fCwRNEs5m9yVv8KB9/r58qUQIxsTlLxOguH16D89JwzCnbXxZJj1Zw56M6FjFc4ea9B4o0WuWG/EwX3r8KqTJEZfQLXgLQFgN7FldbeOsLnu7x5W+5bV9Z5tqzZR+FXL/ouZmL+/5ESJEpquF1/hVMm/DRdm8z2DQbEl7+9yEpzWigb19lQKGI6z3P0vd9TXFQwlmWJp+k22hs3ck5IR778WiKBd+oITXeW4rvrY370k/9Gxcadu4WPsd6hiLlHIL5OEiyOxVEny0A511dF+DEXJBIzTiZnixPNeBtXQ7wwl0hwD7wvTfA11VZAqIc1Eok9MakvloS/OwqSUV/1Hj/901bMT1+jY3qWl+kXsJVIsHYJprBNWIbMMdSYy+mDtkgktpx/UsdERwleW//Mf/3896jbePCgoZ38y0FcfCzmVRioyCYh4j6dI108iAwhIvQ0B/Z7kt44woSQ3MpGgkTiTGy6mBxrqrucc262Ur5D5xN1LekW4cMkeSnXufWonMJHEaz4xS/4/ee78Thzk8X56HorMzhmZYFEsp+kHHHAVmXGYymRYOZ2kqfzqI6zAzy8HIBEIsHhdBy1giEYriU6MJ4rsWHsl0jwu/qY5sps/ByssXOPQ4pGwBjPE4KwMJdg6xnFy4XFxBhZoc786cf/gw926HDkRja1d06wfYM8vpHBSMxsCL1WJJX/7Hg3D+L9pXW7Bd2gd3SYe1H7+c1//pzP5fQJTHi+gBottHyg9iknXYQ2WXHuiejE1GYkckAiQWJ3iscvxZlD6JcIb3sp3VN3BRyjETIv+Ut5tT59hfbBHtKuXuFeqRja7qvO4Mj+fUgkNoReL5LeXJhuzSUk6hxRkacxN5Pgn/AUGTzWQo/MDdQQc8oZieQQx+xt0VfypWl2lsGXWRx3E+i5kJzfzkhLLsZbP+RHP1uJvs0J8trGmeguJ9rTBonEmvDk4iXtFCoY7ywl6qAFEgdP3J3M2Wh0XhqpmGwtIsLXUarv3nHp9Msuzoy35HHMTaBnRWS6LDttfzURfk5SOfjHFTBFHw8iQ4m+GIWbrQRb91hqhsZ4WfiYvBah44dIC5Lwyx//gs92GXEqvnDJzZrx1jyC9pshkRzmWrYo/8a8m7hYSpCYHSThiTC5dnMlMIr7xWIizam2Ys4ej+Xl6CydubdwN5MgsfLjQZkQyhGSQZ4jIiIED0cnojJeRXznZieozEzAwUKCxOk0ua2TMF78Vx2hvpePOeokyN6a4OsCPMoE9y8487sf/5ov5Uw4m1wuJpkbbybYWZUf/8/fslN3Pzef13LnhD0bdjsSGeCBmZUr1wrFLLhCEr3cW5GYSSTsOxrOC1kC0XlF6K1I42RoCm2CnzXby73E89yrG4GBKqKOOkrHs9/1fGm9093lnD8q6KY1Ecl50qhId1kqpyLPctLHGcvAa2Tn5ZFfJYa6GnOvc9DSHIlgB6sXeUZzswzU5xLoJdgjey4+rJI5cHNUpp7DRiLB8cRlsh4lsWfje/znb9dh5BxFRUszd69eJb1CnEm7Kx7iZS+MKTsiUsTEqa1Z14kKPUf4mUOYmR3g6hMZqt9gHfGnDkrb43Ep8xu3amd7igg6eY5nLYJXPcSNAH8uPBLtW3PBfQITMog/oMx2fUeCT7tjZubN/TJRVyoyr3NBxsNsVzGnD1shkbhyI7eRynsn+GKLMaeDT2Ftto+zqaVLdJOpTtLPneP6zSS8nPZh7hDEi05hVdLLjavnOBMWgKXzYa6WddFfk4W/nWB77Th/u0hKZ+B5NBs+U+dEWAj2lhI8Lj2WJYacpuZJIk77JEgcTvCscVQI/WCtIo/OwSCO21ph7xVJpdA1TTfZuc2EhKeFxJyP5lG9GL4abcjiREAS9aPzjsYQ6XGJXIiO55SThH2+5yivqyE59AhmEq8FecyOtpISeUw6fp0jb9M7C53pYWza4Ej1NFTfjeVE8D0pn1V3orEX7OCBMFnSUWh4eg1XC3Mk+7zJePnKc6pPj0X+vR/x80+2YhMQT03VA0w3fIFtQARO+yxx80+hQ2ZX2opu4Si03d6d22VS3BgGa57g5STOLQmZYvqCoZrHeDhaILFw4FL223JX50fcP+79nTpCs2M9pPkYsOILOSLSs2noLMJozYd8qOPNg/RkzHZvRu1YBrNTLZwx18c27A4lJY9wsTDn0KVs0hMOs8splPziQorLWxjrLcRF1ZijF9MpyU/F2cSA43dfhTVHu17ia7yTTxQPk1FYQ05CALoah7hfWELGeQ/0bP3Iq6kjPT6a1JxSCm6cYP1uCcmV7Tw8qsuKtcqcT39O81AHAaofoegvJnhsTglBd70bVX0VWP36P/hQyZ27Wc+pr7iHheFe/C49piQnBbvd5iRm5RJj54itWxyFRflUNb7KWry02wc5raeCiuMNulqK2LthA0r7AnleVLcQ8me0AlclM3zP3qMov5D6rmFepgSiY+BAck4Jjy/7sWuPH6VDY2QFO6Ftd4pnJSXEn3RE1TWJnsaHfPnT/2abQzgPU8LY+cffskHbgxv3buOmoYXl0VRK0uMxlHflTkERBS9eMriwCJqmLe8q6p/+AV2/eHLr2mlOO8ln//E7rIJvcifBjzUfapBQ2EzZg9tcuvqQkpInuGvsxDoig8aSa+z4cB1WJ65QXN3x6jrlWC2nTTVxP59KcUEeVe3DND0KR1HbkeQnJTy5EoiR4kFyOtpJdtHH7vQVigvzKWvpo/zKEYzNXXlQUER+RT2jgy8w3rYdhysNDJUnoqWogldsKg9vRaG5fjtOl14wVBrNH3/1G7Q8Y0m9Fsiuz7Zw8uGiCNJMB2HWqshbnyA97Q5umltZo3CU2p5GbkTGk1FYwhMB+0rehEf1bVw+ZMDHa0xJzCygs7eBmzfiuZ5ZSEn6WXav0iPm2SLU74lafDRV0bMOIO3RdWzkPmeVTjRdQubfLao4B1zm4cMrmCvLoed1m4HeEv7/9u47KMssT/T41K26df+9tXdr707t7uzsdPdMd09373SybVvbiAEEFTChmBVEAUWUKDmjCBiISs45R8kCSpBsxATmLCZA/d563wdRe+/c+27Vztjz9q+ruhus4/s+53POc57fc855np/HutW4p9fT3VbA5g3WhJW0knrQlqXeKXR0ttF3/jYvR/uw/uTXfGPoTtHRXLbM02WFa8lb3WuYK42HmfXdTLbuy+Xk2VvjsyOvHnTiuHAJWz1iqSzO4UhEEVUZgRgvWUdYbjWVSUHoTV1CeH0bhzcuZLGnko+pN9WZKUZ+NDUks8J0O6nVHbQURGO2yJ6GG9eIXvA5v/nTShJLGugbfHOhv97bSEJ0Lie7u0lyXI2x9SGu3+9jq9HyPzsjdLctjZWGxngkllBdHIfpLD1sY49zqTcP/a+mszUgk97+sX1Qo0O0Zvox8Qs9AtPquXDjIRVBZvzDH/QIL6wkzXcDX+k50P18lO4Ub0zMPajs7KY42g2DLQc5/+TN0mF/oQd/nGzDSdV170U/zpsW4FrdQ6W3Gdv2ptDR0Ub3pVu8fHwKr1VmuISX0N1Vi8eWtQSUnOF0nj1//89fsSs8m5rOi+PmTy9UYW9qSlhxKyfbOxl4MH6S8fLxJXKiUqhs6aQtdx/GuisovPSM61VR6pyIkfkVZMYkkJpSQLD9Er7Wc6D0WC/3bp1g9Ww9nPIGeNCVxnLDpfilllOdH83S6QZ45HfSsn8Dv/uf3+KXVkrWPhsmTbam5e4jagIt2OIRxcmOdjovXH83EBnrRa+GOtk4eR6OqRdhpJcV3/4rnyyJ5BmvKPRez8pDhRS6GPPp7xcQXVJFtMNafpjnwcWRV+S6r2TShjRGRlUpWBayxiuG6qIsEtPyqMgK4ItPv8MhIp+SWHdm/LCY1J43/YWRPmw++xe+M/akuOEo+8yWs9I6jnvPB7HR/Zh/m2NL9rHjtJRHYGCwisDEIqrzozCZNRPH1B6e9KXy2b9+zvqgNOrK4lg6YwFuaV3cudJBUnQ2bT3dZLitx9A8iKtDAziqcvctcaOy5ih7zPWZtyuRq+dLWKhKv9HVjcdSA1b5K7nEagM3MHn1Xq6NP+1/B0+jKfzvSZspqCzCedlkPv7KmLCsClIDbdHT96Dv0TCnSlNIL2mgu7MccxNjdqT2cvtEPHqzrEjNiGfDMmtiqs/TU7yPhWvcqGzvpjLaF7PVe2npqmenvhWHS47T3tbN9bf6zsOBbtwXfss0M2/qOs7yYLCGVR/8Bj3rSCorklk2SQ+HxG5ud+dhbmpOTE0nHRVRGK9zp+J4I672FtjGVNLRfpL+a0M8OVeJjelagoqO092YxspV2zjS+O5s2VuDzN/Uj+81EFJJ3SzxZp7xVtRJJ16olsaM2VOsTOcei3ZCxyqXG2ey+OZ3X7LeeS+hocGYTvmSGWsjqK9Lw3ybPfsj87g8DLdq9/LpB99j6R1MaEgABhM+Zbp1wTuvHy8MtGD+TtVF4SXhG6bz8YxNBIeEEuxsyj/9yzwSu58yfOcUybFhhHpZ8sXH84k7PcLdck/mmuwcy4T+kEOrp7EmXDkBrlfGsWWhH+du92A7eyIuFUrn6E/cxacffcuOgBBCQ3zR+8OvWXown5rIg2y3dCEqvY4Hb8bZn3ScR0RYrMHUVZXzaZigVabYRioJ78YLDg8SZ78bW0c/0itUswOqJbT5fDrZlCBVndw28eE/zyWjvhHreT8wbZktIaGheGzS54MvNtPcUc3KqctJ6VHd4t7Dfc08VsQoSRl7DzlgtNSPk211eG7aieeBJFov/WRNfPQMjgZT8KxT7vSuFniio7eOFvUN0k28560gOP8CvHpEW2mKuu3WTf0DOl5F8LKfzbNXEtX47kZERq6Tv9cOS0cfYsuU+mZvnslHUxazNySUEM/N/PG3HxPQfJnWJG+sdroQnlXDg1dw9VgyTtuscT2YTJcqy+KLM1gvWYZ3/hkqQncwZclB5e4PqNm7im+sYujvTEJn1haOqvcMPCPMegFb05T0EmrnW8dYPNGY6OPKndbVkmjMxqbuhy6fJC16P0G71/P519PJHnzFpTRf9JaFjr9x+dntcxREhxMaaMd3H0xjb+mbfEuj/Tno6KwkZWzD0am8fcyzTKGhwJMJ8x04NTag9ie5ozvHjvzMED77cBI2fqr+7Yfe559jsjuTspIoNlrvJiqhklvqZa8edsz7HudyZaajJcSZ1avCeWebzaMTrNY3Jaz53TWCG7X7mDBv2/gyEtwneP0yFtiOLbkwyuFt+swOKGegKQwdfWdO3R5gz5qVBFZ2U+WymA+/M8BX1VYB2/nqtx/hXttBstkslu17nVV8vAerkzpebi0nan8ou1fP4HNjO/pv9mFtbPJnAqEXFPtu5Qfj/eN7fBpC1vHFpgiGR/qxmrOCsBrljvb1t4yeycdg2mbqx2KjAk9L9DdEK7Nzt8rR1d9FzfnzeCybwbd6m9XnyJ4dy/nNP+tTeOHNMtvFsgB+0HNBneP41RX8dpji33Cek2n+WNk6cyDjqLrdh1oi+fqjb9iwex+hIcEsn/oZk7dm01rqyxQ99/+w7DNyq4tIZyu2e4aQ0/If77IfX+0hJ+agejya8KfviewcJNd9BXN3l76uovr/VYes0dk8thT1tANzw+UElpyhZK8V003fLNeW+63iB8cjVBzczOz1Pkri6KFWLCevp+D8Q3pygthmY09QUtH/48GHl1QHmGHokkRvVRZ7nW2xW+dH24VO3BZvJa//JhXOi9B3jFcf26szhayZvJW2h6OU7TFHz7aAwe40pk6woPmtOOdcoQ+T9FyV6wEXcVq3AM+aty62T3vZpTcJhxLlZmW0KxYdQzOOnuvDycQI61jlxrfWZQWz14WOn+/5nmZMMUngfHsGelO30Dw27NS5W2C0Jkzdl651HiX6QCjuG+bwmYE1Z26dY9eyZThlKufsi95UJk+zpbA6HSNdM/KuvGAg14WJBrs5e7UT8wUmBJa+vRR5G/+Vy9gUqLwIuD16C19t2KeMDVfKWPH1YrLOj6LalF1blExoqD+Lf/yO5X5N3O7NZMa/fcQ//Nt8QmtUHXeUMONv+WTeOoJDQwlyWMkHH39PZF0b8TudcPDaT/Hxt27g1OovyLDWxWSfkjeQKyWsnDGd8G5lYMmztcLBI4eMoK188IUBPsGhhOzdyRe//g6/1GriD/tgYetDcnGnOmjvSHTgXz6YgdO+EEKD3Zny28/YEHxM/U1/6/9574HQ5SxnZi7agrr7vuxlw8wlBJcq03DHEnyYb1vIzfM5fP/7CWwLPEJqaho5+QW0nVZ2u41ebifOcwerV/uQkxrAhD/OxPFgIqlpaeTll9FxVrlIKw01Spb3RuZa56hzKoVv0uGLeTYkpKSSlpFDUXk7F9pLcFq5CqeIVJLCHfnm3xeRcOoZV3MdmbFsJ8qRPeTAysmsCFdeET5YHM6GBb6cu9XNLv0f8atX7vrPJtrx2WeTcY9OIjUtnbzCYtrVy29wo6+efTtWY2h/iAtPXjL87Dkjo29HRUogtEodCA3htXgJtlH/t8zRLznVWITjphXsCE9h79bFfKOzmdhkVZ2yKT3ayq3bfVjoTGLuek+SU1PJyM6jpvkUD84fZckUUzJ6VBssr+K6cSEbkpVp85Ohdhga+ykbd4cvU3rEF+NlaznS+taMxuMOts/9Ho965RJ7tcCD2Qs20qK+tl4n1MiCuPwmEjwdWbvFj9TkeCx1PkPXtxie9bL2x6VEN701Cr51Np1uKsJ+0zo2+6cTs20+n81ZyxFVndKzKKiq59LYEt1gZy2+O9axYHMMqiN7df882eHOzDd2pLiliV2rVMt2pyjdZ8U0k4jxvTvl3iuY5ZzOQGcyOnOsqVKnAHvEERcTtme9lYn+diOLv11A2NgO8Et5BzE3DqSlvRxzI3MCDycTv9eKb77TIWdghFMxu5mzOERZTrjRyHaLtdj4xpIU68uUT3QILn8zWL24kMvM6ctIOKVsOOpM92euZRK12a5M0HXmdcal3hhXFi70orLgIH/6wzTcIlT9W9WfSui5rEA86G0g1Mac1RsP0H+nD+cFU3CrVAbltgNeWK6PUi54r41v1bJk9nLCjivT+q//+GplAF9ONefYmO+rkesErDbGyL54rMhzIrbMxzikDkav4LZ8EWbOO9BdtJPmB8+pdTXm9z8uIzwphbT0TAoq67hw/xqR62awLuqnb4Z/yYmUfSwxtiUmPYUgi3l8tczx/xsIFXiZM2XpofE9JlUBq5lqm8jwk1OYz1pKcOkbY9VBP+5IY+6kjTSMXfwKPKxYZBaj/P3rR1m01I26/n68TXSYbLyLJNV4kJlDRW07b7+Q+HKZH9/qOCnt8uoCLhbGeFYr58P1nnr27NqA0bYkOhqOMPnTyWzfGzs2XpXQdvoWHdluTF28d2wMeS3++v/PaCqLYd1iU+yiW8Zv3p6cO8omw014HYonIcyRH76ZTHTXAJkOxszcmf/6LzPyfITCvWZMN/tJIFR8mgJ/C2atjhmf2Sl0X4G+fxo1By2YZ+6vzjvHgzacZpqT26v0h3vnjnPIzQJd07103xtl5Pkzht8Zn+BhVwoL5q5mu7kvsdEVJMb5ss3NluU7DnD15StKHAxY6JKoPsbnp0vYNnMHJx+OUrrHnPk7C7jckcCkL9eOB6iMDnOqwJfJBh7Kwwgj/XjamOBbN5afT/VJT3uxm/c9u/KVgPFRbRCTddZSd/EUTqtWYJ+m/HnxrsXMMgsb36id6b4JHcscBjrSmTt5Iw1jdwV5DmtZaBFFXUEspkt2EJ2RQqi1AV8u2s6Z2+fZtWQxdqnKUu7jExFMmmpDaV0WhvM2knbmFYz2YqVvys5tW1i0fNdPNjerAiETtgQ1qA2aoiz5wUpJSzN6ppDVk1ZRcPoC2fZmbHTaR2rSYVbNmsKqPU1c70hFd5IxZmYbMLaP5xbDxJlO4nNDK+V6lZlDQV0z6lVBnnCiLAHzFcbsSns7lchT4s1msjR4LDXV2B6hSHUkDyX2dnj55pEZbMUn3ywlLDGF1LRMCotquDK2wna+Lg/HFaY47i2kLsWLjz/VJTA2mdS0DAqKKjl7dXyvxHhf/Fv84b0HQvdaY9GfPgfX+HLODzZjOkEXnzxVglKojnDk+/WpPHsxwOGd5tiFJFFZWUllZRMXbw8x2NtAbmEJGcEuLJq9g5qOEwSus8EnLF0pV9vIpUfj85TqqDrZaRkT1yWpI9y+nAg2mbiQVqr6zErq+i5yuyef1VNm455QRnVuIF//uz4HWx7zsCuGudN08Yovp//BKMfiHJhusp3EjAwclkzny2m7uXCrky1TPse5clB9/KNXarHathXP8GzleGo6uPfwAZ1NlRQUl3LEbS1zrILpHziOubEpobVvBRk8JHiVEYt2qAa7UTJs1jDL0J7imlNv1uyf3qSmopCi0hJ8LQwxCcyivTyWbVt2cThPqVPtiQs8Y5iaMBcs7ALIKlf+vFWVSHSgjNl/NCDhpGrD8gC2S6ex5LAyC3PCfytzdV1pu9BNTl4hZWkhGC8wJPTYW3dnIwMEbZjDPKsgqvuucjHbmYnTltKoPjcG8ZllSkRWHQe3rkV37R6qm6rYvehPTN+dAS+v42NogPH2EOpPDo4vE/D8DieKVHUqxdNyFQts0+loSmTlFgfiMsvUjsda+hkefULv0VIKi8s45GrOzFVBnOhooTC/iPJkf2bNVS1D1rBloQE70y/y+FwRaw0XsfNACunx+1iuv4GYuqsMdUbz9YS1lKib7AEHtuuxMfl1skHVxOENIi0MmGNqR3pWBrsMf+Tb2R60NedgMHExgVmVVMY68/2EKcRfeMGto2HMmWjMgYxabpwuY4XhfLYcyqOhKJq5v5+O39tPRD7tx3OVEQam7qTlJ7FF50v+uCCCW3c6cNA3xtI1jPT0CMxMTXFK7WD4Xjd7tm7C7fBYfzrazrX7jzjXUkl+cSkxu60wNPLmzK1ubKZ9hm2RcifbHODAmiX7lQve61HqyWl2LFnIwh0HqO55c6F5eeckNkaGrLEJIjXuCIcOFFBfcECdSNYnNp3kQx4YGViR16VcSeoPreRXv/oVi7zL1G14py0JEwtbIpOLlXOq6QxPX95ln9GXGL0ekF8fAy+oD3Nk0tStZB09RrL9Av5kuJ3T17pYP3v+n31q7H53LusMF7EjNJn0hGBM9NcTUXlFvQFc9dSprw43XzUAABWHSURBVGoW8q1/Rgbq2TBlLtb7sjk1cI9s543MMDmkzBYMFjNdx5qigSf0ZO7BwtqV5GLlHGnsvDoePKg+7tnFKlbPXsau/YlkhOzio48/x7XyLGdrK9Tnc7SXBT8uC+bcrTOEmO3ANShROe+r6rjwaITuJFs+13Gn//UWkrFjHL57iersPErL0jBbvJhN++rHA6Gh3nz0JyzENb6YmowApn/7LcEnVZnCI5k7dRkBR5IJ3xNGdnkfrQX+fD91NYdLTnD7diurdXRxyBng0ak8Vi0yxP5QGumxe1hmsJmU1kFagkyYsNwF9S3lvWasvjElp/sm/ceqyC8qISVoO1MMfem9fpqdhqb4ZCvJosdpXw7iNvHv+NXf/UjxwDDni7z4X//t11glHlcXyd7yI9NsotR1edqTy7qvzdTZy/M9VqjH9eHhc/gsncOyXXtIjztMVEI2BQlufDXdjl7VsP38DPYb9Nh99PUeLtWS5FkcJ37E13q2JGTFsd14KWZeRTwb7Wez7jy2xCgPlNw9mcqi+aqEs8mkRwex1nANMU3XedIew4f/+Cmb/A6TEeWFznwTDtX3057qw+Qpm0mvbCDddTFf6m+m50Y/2/T+xNdLXEjOiGfnUn027S3lTn8uU79bQpySBZb6oFX89//x95gd+GnurJu4GsxnlWeV2qMudA2frt2rnpkd7cvG8NNFZPeeIXqtASY2B6isLWCD3gwWutcy0BTF5Inb6Lp2Br+N81npmUxd0QGWW7uTnq/0z5auQYbuDVBWlEdJWTo2JrpsilKCLqWNRjkatJ4fDLaSV9fF/bMFGE34hmD12u4rcraYs925gIHOEuzNt7I/s1TdX6uaznL/4S1aqwooKivG19SE9fbpDFw4jreFOX6JhUq/ru7k1ltLx+P94m/wh/ceCMEQxxJDcXAKpvlsP5WpOTSfV2YJrnTWk1TSq1wkVRv4IgOws7PDzs6f0vYrdFXEqH+3dzxA/Sll5uf5zT6Sgt2Vcq5+VJx/s3lMtRx2qr6QpNK+sT0pLzhfn4mXo+oz7XCPL1VPWw42ZeHuYMee2FTik4toV23gZIiaI0E4OAdz/LrqLL1PaXwAds4hZGblkZfVzP0nt6hMjaXh9QZl1d8a7OCw+27lOF0i6LpwhaLEferf3YLiOXX3BXeOxWGou5nSwbfvzodpK84jt1qZ6lVvknV2JDCyenxJgAfnCd/rqv6swCOFY+/GeMXFlgJ2j9XJLaRIWS7hMc3FseqyqrruT+/k+dNBsmNz6L2pqs8jagrSKOgeu8M9UUVuXiPdraU4qMztPcluPPdmL89YZ7/dcxR/Rwciqnq5e76JlPRC1FwM0ZxWSPuFR7x6cJbDPrtx8g8jIyuFnOPKJvMbnSU4OzoRW/DWhsjHl0nzVurkEpnHpbHN8ldaSghQt70d3qH53Hx8l8oD/ur6OIQkc+7hUy4dzcBVVcbZj5yOa/DqHuVZWVT1KVMBN7vL8XG2w87Bh5yTSkA3cqODhMRSLqpX/Z5zsjqb8lNvB6SqKYVLpO93xc5lP1mqts5uVs8mnKtOxdHekbCEVFJy8lDvyX51h4LDAdg7RHP27giqDbJujg4EHUohKzaH9vNj0xJjfi/unibe3R47/4Nk5eWRVNilvvg+uXyCCFd77OxcSK5+3V9h+EY3kfs8lHZ0OEjT2QGOZYaof3d2j6VTPeN4h8qUGGouKH3/2ok6Sgra3wTQY999tU3VTxyIKD/9ztD1/GYP8d722Nnvo6JLsTh/LANnla3Hfmrees/Xk0vNBLmGUnf2zXmmWmIIsh87pwLTGXz6lM7CBPLa3p2pUX/pizuUxwVj7+BLUnoqqRWN3B26RVlGNo2XnvLsSjPJqfkM/uQ9Qjd7K/BVt6U3mW3KjQfDNyhIyOT42PjxplKj9FTG4+jgTXXXVc43HyWjqEOZLRi6QHrGUc6q1lYZpqcmFfuxfuYfXffmXHtt1lqIi70TEYnZZObm0HL5CvVRQUo/DIrj5HXlKciRe+fJOuSttJOTB8Xn7vPgXD2xmY3qZdw3xwZPr7RxSP2d9uzJbOCd/M285GJTDrsd7AmNTSElO4vW68py3cX6DNzs7HDbn8flx6/g2VWyD7piH5jOxdvXqMjOpmYs2/i1jmJlnHPyJ3+sTa+fKCCx8JgyM/bsGlWJpVy6e5fj8QfUx23vF0HT4FOens3BUH8dKR3vLK6qq3C6KpE90fnqIPvl1ROEexyi6ZLSWGcrU0mr7lIHQqO3z1GaUMGN5y8531SkHtdV4q/uniY22AU7uwAqu29w+0IzcWm13FFNjr+4R11Z9jvjKc/6cNL/gXW+h9jj7ohXRAV31YHlXcoyM6nsfrMCcPVkGZ7qfhhIeZtyvj8b7CEtPp+ClHAc7ewJK+8ZCzrvU5W4H3s7LxLSU0kpq+f2o7tUl+eSkZ9NoLM9XodyUA/9Q+dIScynZ+x9PEMtMXzzyRySTr89fqt4nnAsJ5viJmUdYbC9hJjSVvWs9Ms7Z8k7ko3qtBm92clhd0fs9kaRlJZN4fGrDF3rJCm+XD2L+2LgBLGR6fQPPePSsVy8x/rnvphqBi53stdTNU7YE57dwIM3K7nq9lFt84hxccLzSCnXb12kOCWRNvV4/4pzlRVU1o5ltz9djY+bg7rdHf0zOXvlHJkHlHHYL7SQgbEN4I9VDxL5qdpLNc5G0f7TE/Ptjv039PPPIBD6G9L6ixzqY8piAjhY8HN7NP4vUln5UBEQgb8pgWHqkg4RnNz8zuzYe6vCky62Tv2CXWVvZjHf27Gov3iUqmBLfjDwZ/DPvFLj/R6ffLsmAhIIaaL0Fy3zkuGR4fGp8L/oV8mHi4AIiMB/SuAVw8OjP5/xaXiAZH9XUjt+Mmv7n6rTf2XhB+QFOROQ+9YDFv+VHy+f9VcRkEDor8IsXyICIiACIiACIvBzFJBA6OfYKnJMIiACIiACIiACfxWBn0UgNNCSj5eHD+ntbz2R9Fep/i/lS4bpLS+j9cy771f5pdRe6ikCIiACIiACf07gvQdCw5cqWWO8EHP/WGrPaZ4V++XIMx4NPePFTx5F/XMV/WX/+QiV/puYaR7FHfH6ZXcFqb0IiIAIiMA7Au89ELpX6cssI+v/dDLT202R6JsG83N5duAd1Z/hL4/7slk4ZSMVl5VMxD/DQ5RDEgEREAEREIG/usB7DYRe3OolYOFEfvO7zzDZGUzH9cdcbs7E2tKSrZ77abmqvI/i0dVOYty3YWlpR2rtRZ7d68N/zST+/p++YvnmAGp7B2kuTSOxUnkD6NNLjcTnV3Dj3k2KchMIjz6IpZMPheeGeHWnk3CP7VhaOpJRe1b9NMTLe2dJ2OOIpaUle/LafvKY6DPaSmPYammJzZ5YTqteAzN6nazIRGLDQ3C0DKKx+zylRSmEHw5jm5MXuafv8OhiEyG7LNXHnFTZp34X0rPL7UQfTCYtOohtWy3Zm9c2noTz7plqXHdaYrnDlcJu5a3ZvBqipSACK0tLLNUeShDTmRdFbIXylMLzqz1khxeo89vc6SrDy9oKS0sPKvp+Mrv2/Czui+fjWfLuy+b+6j1OvlAEREAEREAEfkYC7zUQevnkFqUeq/hq0nwOVx+nJTOEtRvtyGhopTzBh4UW++m5eI7c7GTyq49zPDeEBdMsKOga5OgBc/44YQWRhY1cvn2VPZsWoOekvEr8Xm0Q88wc6Lpyii06v+cPBnakVDdw6uwxnFdsJiCxnNa6bHaYmRPT2EOJnwXb/OM43txIe/+NN2855gVtCV6s2OxBSUsrWYecMdqVxI2bbSz89EM+X+JMQWkzA9e62TrvY343x4bU6nqaSyMwXLQav5gcSjMOsHSmDm5Zp3h0MpZ//bvfs9o3jsJkH3780ZCw1rsMX6zAatVGQgobaS2PZslaJ0pOXabEfyfLTJzJLC0l0sucqfPtOXFviMzNU9BxSFB3o0etGaybuI3G0624GFkSmlZF87FWLt/56cu9brLHTJ8lQbU/o+4nhyICIiACIiAC71fgvQZCqqrfKvVBd5mN+jXvsZYGfD5tPYciIgjz2szv/nEGiZ2PGLlzjsKYw0QE2fHthzrEdDzjfvNBflzgPZYE9QEhlstZ5qMkQX3YHMEyW096B3vZvmgh9ulK/plrJZ784cOp2AWFERG+h/lffc4Ct0IasgLZvsuNqLyfvEn2xQD2C39k4gJrwiMiCLFbwW8/WE5NRxPmOosIHEtqychprBboYx2rvDG51mk5Om8l/Mt22cCPK5Pob0tj3o8WNKtTUNzFdcNGHNP6aE6w5Xef6OETFkFEmBsTfvMddsFRbDA2wrlgLInfs07MvplDaMMZSuwNMPJKV/ecx10FWM9xovXiGaKs7XDwPkjpf0i+pyr6hDin1SywK/r5vBPk/fZ9+XYREAEREAER4L0HQldy3ZhttJX+4WdEbzHgy1lmRMbEEZeQTG5hA5d6KrGxMmOXVxSHDzgy4WNd4jsec/1oAN/peowHQvvMF7PYu1HdpPfrQjHc5kHfQA/bF5vgORZMXCz04JPfz8Rp/xHi4uJJSy+g7aySNG7w5FF8bdezyDySC68nU14M4rBoKpONbDkSG0d8UgqFlW3cvXqCDTNNiKwbW8J62ouV8RIc05XcTvnbjZhtETmejiLDbROzLbO53J7G/BnWY4n5buJlbYNLximOJ+zkw88WsCc6hri4RDKyKzjdXYrJHH08Ksae9Hrcjtl3i4hpvUjRTl0MPFSJY+FxeyabptvQqk50+pim0gS2mi5lR1ITL16MMjzy+mVodwndaoiRz/8tA7icCSIgAiIgAiLwyxR474HQpbSdfDdjJV0v4GLJQTZbOJBc3kBDQwPHu6/y6Gw+83Xn45B4lObCcGZ+pEN44wMe9aYw/Qcj/FNr6L/3nPoYd3R0bUgrKMR35ST+cf4Ozl3vZuMcPezSlX0xo9eacVhqxd74AvXnN7R0cuvpEP2NtZQfrSHB35LvF3jRpw4qVB3iBSdivTDf7kVWlXJM7adv8+pBM8Zf6hJUMZbj6Ekn62bPwTJOydl0uyUBfd1luERkkRcfytpFphxuvMb9pigm/mndWObjazisWY9lwhke95djv8GC/blVynEdP8PDkcfkeW9j0SJb0vPyiPDcir7ZPs49f8HpXC9mLLEgIauAQAsDPvl8A01XrlFXVU5VbTG71+qz/nAVJ5Mc+H6BE33q/DOX8TCZzbZ0Jbv8L7O7S61FQAREQARE4F2B9x4IPeg7SkxiLtfUF+tRzhzLxM7WBhsbG5z3lXD/FVw+noWd7U72HEgkJSqTjiuqTdRD1CT6s2PXHuouq36/T1GEHzY7A0jPTCG2qIY7j25SlJI2nnRTVfWhK+0c9nNUf76NSyANFweoCw9Q/77DN4oTA8oM0TjTqye0l8cr5W1s8Ilu5OnzG+QeTuP4hbGyIzcpTE6hrOtNwr/LJwpxtlHVw4fiE8ry1tNLbcREFzKg3gM+RHVBIcUnlRmfu6dr8HbdpXyP8xH61PkN71MZ5av+M9eQFPofqjIRqjIVPqQ6dS82Nt4kpGaRkVjNpYtdBHmq/v4OghIq1BmOr7fksTeykBsvYWSwCtMpy0juUhLajtdPfhABERABERCBX7DAew+EfsH2f8Wqv6QlegcTlwZyRZVoXv4RAREQAREQARFQC0gg9IvoCM+oizxA8tEzv4jaSiVFQAREQAREQFMBCYQ0lZJyIiACIiACIiACWicggZDWNalUSAREQAREQAREQFMBCYQ0lZJyIiACIiACIiACWicggZDWNalUSAREQAREQAREQFMBCYQ0lZJyIiACIiACIiACWicggZDWNalUSAREQAREQAREQFMBCYQ0lZJyIiACIiACIiACWicggZDWNalUSAREQAREQAREQFMBCYQ0lZJyIiACIiACIiACWicggZDWNalUSAREQAREQAREQFMBCYQ0lZJyIiACIiACIiACWicggZDWNalUSAREQAREQAREQFMBCYQ0lZJyIiACIiACIiACWicggZDWNalUSAREQAREQAREQFMBCYQ0lZJyIiACIiACIiACWicggZDWNalUSAREQAREQAREQFMBCYQ0lZJyIiACIiACIiACWicggZDWNalUSAREQAREQAREQFMBCYQ0lZJyIiACIiACIiACWicggZDWNalUSAREQAREQAREQFMBCYQ0lZJyIiACIiACIiACWicggZDWNalUSAREQAREQAREQFMBCYQ0lZJyIiACIiACIiACWicggZDWNalUSAREQAREQAREQFMBCYQ0lZJyIiACIiACIiACWicggZDWNalUSAREQAREQAREQFMBCYQ0lZJyIiACIiACIiACWicggZDWNalUSAREQAREQAREQFMBCYQ0lZJyIiACIiACIiACWicggZDWNalUSAREQAREQAREQFMBCYQ0lZJyIiACIiACIiACWicggZDWNalUSAREQAREQAREQFMBCYQ0lZJyIiACIiACIiACWicggZDWNalUSAREQAREQAREQFMBCYQ0lZJyIiACIiACIiACWicggZDWNalUSAREQAREQAREQFMBCYQ0lZJyIiACIiACIiACWicggZDWNalUSAREQAREQAREQFMBCYQ0lZJyIiACIiACIiACWicggZDWNalUSAREQAREQAREQFMBCYQ0lZJyIiACIiACIiACWicggZDWNalUSAREQAREQAREQFMBCYQ0lZJyIiACIiACIiACWicggZDWNalUSAREQAREQAREQFMBCYQ0lZJyIiACIiACIiACWicggZDWNalUSAREQAREQAREQFMBCYQ0lZJyIiACIiACIiACWicggZDWNalUSAREQAREQAREQFMBCYQ0lZJyIiACIiACIiACWicggZDWNalUSAREQAREQAREQFMBCYQ0lZJyIiACIiACIiACWicggZDWNalUSAREQAREQAREQFMBCYQ0lZJyIiACIiACIiACWicggZDWNalUSAREQAREQAREQFMBCYQ0lZJyIiACIiACIiACWicggZDWNalUSAREQAREQAREQFMBCYQ0lZJyIiACIiACIiACWicggZDWNalUSAREQAREQAREQFMBCYQ0lZJyIiACIiACIiACWicggZDWNalUSAREQAREQAREQFMBCYQ0lZJyIiACIiACIiACWicggZDWNalUSAREQAREQAREQFMBCYQ0lZJyIiACIiACIiACWicggZDWNalUSAREQAREQAREQFMBCYQ0lZJyIiACIiACIiACWicggZDWNalUSAREQAREQAREQFOBX/X19SH/ioH0AekD0gekD0gfkD7wS+sDp0+f5v8AMqn7q9F42uwAAAAASUVORK5CYII=)"
      ]
    },
    {
      "cell_type": "markdown",
      "metadata": {
        "id": "hnD79X4DWhL8"
      },
      "source": [
        "Reference link:\n",
        "\n",
        "https://www.kaggle.com/c/airbnb-recruiting-new-user-bookings/discussion/18973"
      ]
    },
    {
      "cell_type": "code",
      "execution_count": null,
      "metadata": {
        "colab": {
          "base_uri": "https://localhost:8080/"
        },
        "id": "v3rjfQYD_JPg",
        "outputId": "7cce801f-2f7c-419f-8ad9-d7a154d990f2"
      },
      "outputs": [
        {
          "name": "stderr",
          "output_type": "stream",
          "text": [
            "100%|██████████| 62742/62742 [27:14<00:00, 38.39it/s]\n"
          ]
        }
      ],
      "source": [
        "from tqdm import tqdm\n",
        "index_of_action=sessions_train.action.value_counts().argsort()\n",
        "index_of_action_details=sessions_train.action_detail.value_counts().argsort()\n",
        "index_of_action_type=sessions_train.action_type.value_counts().argsort()\n",
        "index_of_device_type=sessions_train.device_type.value_counts().argsort()\n",
        "\n",
        "sess_id_group=sessions_train.groupby(['user_id'])\n",
        "\n",
        "samples = []\n",
        "cont = 0\n",
        "ln = len(sess_id_group)\n",
        "for id_session in tqdm(sess_id_group):\n",
        "    details_of_id = id_session[1]\n",
        "    l = []\n",
        "      \n",
        "    #the id\n",
        "    l.append(id_session[0])\n",
        "      \n",
        "    #The actual first feature is the number of values.\n",
        "    l.append(len(details_of_id))\n",
        "\n",
        "    #For Action \n",
        "    #Number of times unique action value occurs\n",
        "    feature_action=[0]*len(index_of_action)\n",
        "    for i,action in enumerate(details_of_id.action.values):\n",
        "      feature_action[index_of_action[action]]+=1\n",
        "    l=l+feature_action\n",
        "\n",
        "    #For action_detail\n",
        "    #Number of times unique action_detail value occurs\n",
        "    feature_action_detail=[0]*len(index_of_action_details)\n",
        "    for i,action in enumerate(details_of_id.action_detail.values):\n",
        "      feature_action_detail[index_of_action_details[action]]+=1\n",
        "    l=l+feature_action_detail\n",
        "\n",
        "\n",
        "    #For action_type \n",
        "    #Number of times unique action_type value occurs\n",
        "    feature_action_type=[0]*len(index_of_action_type)\n",
        "    for i,action in enumerate(details_of_id.action_type.values):\n",
        "      feature_action_type[index_of_action_type[action]]+=1\n",
        "    l=l+feature_action_type\n",
        "\n",
        "    #For Device type\n",
        "    #Number of times unique device_type value occurs\n",
        "    feature_device_type=[0]*len(index_of_device_type)\n",
        "    for i,device in enumerate(details_of_id.device_type.values):\n",
        "      feature_device_type[index_of_device_type[device]]+=1\n",
        "    l=l+feature_device_type\n",
        "\n",
        "    #For seconds elapsed \n",
        "    secs=details_of_id.secs_elapsed.fillna(0).values\n",
        "    feature_secs=[0]*4\n",
        "    if len(secs)>0:\n",
        "      feature_secs[0]=np.sum(secs)\n",
        "      feature_secs[1]=np.mean(secs)\n",
        "      feature_secs[2]=np.std(secs)\n",
        "      feature_secs[3]=np.median(secs)\n",
        "    l=l+feature_secs\n",
        "\n",
        "    #Secs elapsed representation\n",
        "    feature_action_secs_elapsed_represent=[0]*5\n",
        "    details_of_id.secs_elapsed.fillna(0,inplace=True)\n",
        "    if len(secs)>0:\n",
        "      for i,action in enumerate(details_of_id.action.unique()):\n",
        "        sec_elapsed_sum=details_of_id[details_of_id.action==action]['secs_elapsed'].values.sum()\n",
        "        if sec_elapsed_sum<=60:#less than a minute\n",
        "          feature_action_secs_elapsed_represent[0]+=1\n",
        "        elif sec_elapsed_sum>60 and sec_elapsed_sum<=600:#between 1 minute to 10 minute\n",
        "          feature_action_secs_elapsed_represent[1]+=1\n",
        "        elif sec_elapsed_sum>600 and sec_elapsed_sum<=7200:#between 10 minutes to 2 hours\n",
        "          feature_action_secs_elapsed_represent[2]+=1\n",
        "        elif sec_elapsed_sum>7200 and sec_elapsed_sum<=86400:#between 2 hours to 24 hours\n",
        "          feature_action_secs_elapsed_represent[3]+=1\n",
        "        elif sec_elapsed_sum>86400: #greater than 24 hours\n",
        "          feature_action_secs_elapsed_represent[4]+=1        \n",
        "    l=l+feature_action_secs_elapsed_represent\n",
        "\n",
        "    #Percentage of presence of an action in the id\n",
        "    feature_action_presence=[0]*len(index_of_action)\n",
        "    for i,action in enumerate(details_of_id.action.unique()):\n",
        "      feature_action_presence[index_of_action[action]]+=details_of_id[details_of_id.action==action].count()['action']/len(details_of_id.action)\n",
        "    l=l+feature_action_presence\n",
        "\n",
        "    #percentage of presence of action type in id\n",
        "    #Here the nan values are filled as 'unkown_action_type' while calculating the presence of the given action type we will exclude this value as it does not make sense for calculating the ratios fo the given action type.\n",
        "    action_type_unique_counts=np.unique(details_of_id.action_type,return_counts=True)#This returns count of each unique action type\n",
        "    unknown_action_index=np.where(action_type_unique_counts[0]=='unkown_action_type')#Here we get the index of the value 'unkown_action_type'.\n",
        "    unique_action_type=np.delete(action_type_unique_counts[0],unknown_action_index)#We delete the 'unkown_action_type' value and save the unique actions in the variable 'unique_action_type'\n",
        "    unique_action_type_count=np.delete(action_type_unique_counts[1],unknown_action_index)#In the variable 'unique_action_type_count' we save the count of each unique action type except for 'unkown_action_type.'\n",
        "    feature_action_type_presence=[0]*len(index_of_action_type)\n",
        "    for i,action in enumerate(details_of_id.action_type.unique()):\n",
        "      if action!='unkown_action_type':\n",
        "        action_type_index=np.where(unique_action_type==action)#Gets the index of the action type so that we could get the corresponding count of the action type\n",
        "        action_type_count=unique_action_type_count[action_type_index]\n",
        "        feature_action_type_presence[index_of_action_type[action]]+=action_type_count[0]/np.sum(unique_action_type_count)#Counts only the percentage of presence of the action type within the given action type.\n",
        "    l=l+feature_action_type_presence\n",
        "    samples.append(l)"
      ]
    },
    {
      "cell_type": "code",
      "execution_count": null,
      "metadata": {
        "id": "d3S9HjwCqaKF"
      },
      "outputs": [],
      "source": [
        "samples=np.array(samples)"
      ]
    },
    {
      "cell_type": "code",
      "execution_count": null,
      "metadata": {
        "colab": {
          "base_uri": "https://localhost:8080/"
        },
        "id": "x8oE67VbqhQB",
        "outputId": "3015030c-bee5-4368-f895-6eb54abf14b0"
      },
      "outputs": [
        {
          "data": {
            "text/plain": [
              "(62742, 668)"
            ]
          },
          "execution_count": 30,
          "metadata": {},
          "output_type": "execute_result"
        }
      ],
      "source": [
        "samples.shape"
      ]
    },
    {
      "cell_type": "markdown",
      "metadata": {
        "id": "QIoxc-J56Lya"
      },
      "source": [
        "We get the expected 667+id feature."
      ]
    },
    {
      "cell_type": "code",
      "execution_count": null,
      "metadata": {
        "colab": {
          "base_uri": "https://localhost:8080/"
        },
        "id": "6XqIonSC7Crr",
        "outputId": "9e51fb04-2a31-4c63-d91c-b3dac2648c87"
      },
      "outputs": [
        {
          "name": "stdout",
          "output_type": "stream",
          "text": [
            "668\n"
          ]
        }
      ],
      "source": [
        "#Setting Column names\n",
        "column_names=[]\n",
        "\n",
        "index_of_action=sessions_train.action.value_counts().argsort()\n",
        "index_of_action_details=sessions_train.action_detail.value_counts().argsort()\n",
        "index_of_action_type=sessions_train.action_type.value_counts().argsort()\n",
        "index_of_device_type=sessions_train.device_type.value_counts().argsort()\n",
        "\n",
        "\n",
        "#count\n",
        "column_names.append('id')\n",
        "column_names.append('no_of_records')\n",
        "to_add_list=[0]*len(index_of_action)\n",
        "for i in index_of_action.keys():\n",
        "  to_add_list[index_of_action[i]]=i+' (count)'\n",
        "column_names=column_names+to_add_list\n",
        "to_add_list=[0]*len(index_of_action_details)\n",
        "for i in index_of_action_details.keys():\n",
        "  to_add_list[index_of_action_details[i]]=i+' (count)'\n",
        "column_names=column_names+to_add_list\n",
        "to_add_list=[0]*len(index_of_action_type)\n",
        "for i in index_of_action_type.keys():\n",
        "  to_add_list[index_of_action_type[i]]=i+' (count)'\n",
        "column_names=column_names+to_add_list\n",
        "to_add_list=[0]*len(index_of_device_type)\n",
        "for i in index_of_device_type.keys():\n",
        "  to_add_list[index_of_device_type[i]]=i+' (count)'\n",
        "column_names=column_names+to_add_list\n",
        "column_names.append('sum_of_secs_elapsed')\n",
        "column_names.append('mean_of_secs_elapsed')\n",
        "column_names.append('std_of_secs_elapsed')\n",
        "column_names.append('median_of_secs_elapsed')\n",
        "column_names.append('less_than_equal_60sec_count')\n",
        "column_names.append('1min_to_10min_count')\n",
        "column_names.append('10min_to_1hr_count')\n",
        "column_names.append('1hr_to_1day_count')\n",
        "column_names.append('more_than_1day_count')\n",
        "to_add_list=[0]*len(index_of_action)\n",
        "for i in index_of_action.keys():\n",
        "  to_add_list[index_of_action[i]]=i+' (action presence)%'\n",
        "column_names=column_names+to_add_list\n",
        "to_add_list=[0]*len(index_of_action_type)\n",
        "for i in index_of_action_type.keys():\n",
        "  to_add_list[index_of_action_type[i]]=i+' (action type presence)%'\n",
        "column_names=column_names+to_add_list\n",
        "print(len(column_names))"
      ]
    },
    {
      "cell_type": "code",
      "execution_count": null,
      "metadata": {
        "colab": {
          "base_uri": "https://localhost:8080/"
        },
        "id": "lSrhxegd5NEo",
        "outputId": "77255415-3889-4d02-c0b0-23d8266594b3"
      },
      "outputs": [
        {
          "data": {
            "text/plain": [
              "10"
            ]
          },
          "execution_count": 38,
          "metadata": {},
          "output_type": "execute_result"
        }
      ],
      "source": [
        "len(index_of_action_type)"
      ]
    },
    {
      "cell_type": "markdown",
      "metadata": {
        "id": "wE_fIfuT6U0b"
      },
      "source": [
        "Lets convert it into Pandas Dataframe."
      ]
    },
    {
      "cell_type": "code",
      "execution_count": null,
      "metadata": {
        "id": "W1DREYmK7eJ3"
      },
      "outputs": [],
      "source": [
        "sessions_train_preprocessed=pd.DataFrame(samples,columns=column_names)"
      ]
    },
    {
      "cell_type": "markdown",
      "metadata": {
        "id": "6oZBkQs_8dOq"
      },
      "source": [
        "We have seen that the value in the action type 'unkown_action_type' has not been considered for the presence. So we just drop the column because it only has the value 0."
      ]
    },
    {
      "cell_type": "code",
      "execution_count": null,
      "metadata": {
        "id": "GKubIcOXtoLJ"
      },
      "outputs": [],
      "source": [
        "sessions_train_preprocessed.drop(['unkown_action_type (action type presence)%'],inplace=True,axis=1)"
      ]
    },
    {
      "cell_type": "code",
      "execution_count": null,
      "metadata": {
        "colab": {
          "base_uri": "https://localhost:8080/"
        },
        "id": "6QCpLzRTNiTo",
        "outputId": "7042e586-b628-4f1a-be25-b08bea6506ad"
      },
      "outputs": [
        {
          "name": "stdout",
          "output_type": "stream",
          "text": [
            "(62742, 667)\n"
          ]
        }
      ],
      "source": [
        "print(sessions_train_preprocessed.shape)"
      ]
    },
    {
      "cell_type": "code",
      "execution_count": null,
      "metadata": {
        "id": "O-nLMr3P8I_r"
      },
      "outputs": [],
      "source": [
        "preprocessed_train=sessions_train_preprocessed.merge(X_train_data,how='inner',left_on='id',right_on='id')\n",
        "preprocessed_train.to_csv('/content/drive/MyDrive/Airbnb trail/overall_preprocessed_train.csv')"
      ]
    },
    {
      "cell_type": "code",
      "execution_count": null,
      "metadata": {
        "id": "uqLC3JoH8gMF"
      },
      "outputs": [],
      "source": [
        "index_of_action.to_csv('/content/drive/MyDrive/Airbnb trail/index_of_action.csv')\n",
        "index_of_action_type.to_csv('/content/drive/MyDrive/Airbnb trail/index_of_action_type.csv')\n",
        "index_of_action_details.to_csv('/content/drive/MyDrive/Airbnb trail/index_of_action_details.csv')\n",
        "index_of_device_type.to_csv('/content/drive/MyDrive/Airbnb trail/index_of_device_type.csv')"
      ]
    },
    {
      "cell_type": "markdown",
      "metadata": {
        "id": "DjHk1ynfu6gs"
      },
      "source": [
        "###Analysis of train sessions data###"
      ]
    },
    {
      "cell_type": "markdown",
      "metadata": {
        "id": "FcSOZnCXDXUF"
      },
      "source": [
        "Let us analyse the sessions dataset"
      ]
    },
    {
      "cell_type": "code",
      "execution_count": null,
      "metadata": {
        "colab": {
          "base_uri": "https://localhost:8080/",
          "height": 470
        },
        "id": "aTpbR19BZZz5",
        "outputId": "67184876-b8eb-403f-fef2-8cebd2221f5c"
      },
      "outputs": [
        {
          "data": {
            "text/html": [
              "<div>\n",
              "<style scoped>\n",
              "    .dataframe tbody tr th:only-of-type {\n",
              "        vertical-align: middle;\n",
              "    }\n",
              "\n",
              "    .dataframe tbody tr th {\n",
              "        vertical-align: top;\n",
              "    }\n",
              "\n",
              "    .dataframe thead th {\n",
              "        text-align: right;\n",
              "    }\n",
              "</style>\n",
              "<table border=\"1\" class=\"dataframe\">\n",
              "  <thead>\n",
              "    <tr style=\"text-align: right;\">\n",
              "      <th></th>\n",
              "      <th>id</th>\n",
              "      <th>no_of_records</th>\n",
              "      <th>change_availability (count)</th>\n",
              "      <th>create_paypal (count)</th>\n",
              "      <th>departments (count)</th>\n",
              "      <th>host_2013 (count)</th>\n",
              "      <th>locations (count)</th>\n",
              "      <th>unread (count)</th>\n",
              "      <th>slideshow (count)</th>\n",
              "      <th>phone_verification_call_taking_too_long (count)</th>\n",
              "      <th>badge (count)</th>\n",
              "      <th>p4_terms (count)</th>\n",
              "      <th>invalid_action (count)</th>\n",
              "      <th>hospitality (count)</th>\n",
              "      <th>social (count)</th>\n",
              "      <th>founders (count)</th>\n",
              "      <th>show_code (count)</th>\n",
              "      <th>detect_fb_session (count)</th>\n",
              "      <th>how_it_works (count)</th>\n",
              "      <th>ajax_worth (count)</th>\n",
              "      <th>payoneer_account_redirect (count)</th>\n",
              "      <th>request_photography (count)</th>\n",
              "      <th>phone_verification_phone_number_removed (count)</th>\n",
              "      <th>hospitality_standards (count)</th>\n",
              "      <th>home_safety_landing (count)</th>\n",
              "      <th>multi_message_attributes (count)</th>\n",
              "      <th>reputation (count)</th>\n",
              "      <th>press_release (count)</th>\n",
              "      <th>multi_message (count)</th>\n",
              "      <th>clear_reservation (count)</th>\n",
              "      <th>concierge (count)</th>\n",
              "      <th>add_guests (count)</th>\n",
              "      <th>widget (count)</th>\n",
              "      <th>office_location (count)</th>\n",
              "      <th>check (count)</th>\n",
              "      <th>place_worth (count)</th>\n",
              "      <th>change_password (count)</th>\n",
              "      <th>become_user (count)</th>\n",
              "      <th>p4_refund_policy_terms (count)</th>\n",
              "      <th>why_host (count)</th>\n",
              "      <th>...</th>\n",
              "      <th>show_personalize (action presence)%</th>\n",
              "      <th>identity (action presence)%</th>\n",
              "      <th>other_hosting_reviews_first (action presence)%</th>\n",
              "      <th>listings (action presence)%</th>\n",
              "      <th>ask_question (action presence)%</th>\n",
              "      <th>requested (action presence)%</th>\n",
              "      <th>unavailabilities (action presence)%</th>\n",
              "      <th>confirm_email (action presence)%</th>\n",
              "      <th>ajax_check_dates (action presence)%</th>\n",
              "      <th>calendar_tab_inner2 (action presence)%</th>\n",
              "      <th>qt2 (action presence)%</th>\n",
              "      <th>campaigns (action presence)%</th>\n",
              "      <th>unkown_action (action presence)%</th>\n",
              "      <th>edit (action presence)%</th>\n",
              "      <th>collections (action presence)%</th>\n",
              "      <th>track_page_view (action presence)%</th>\n",
              "      <th>dashboard (action presence)%</th>\n",
              "      <th>header_userpic (action presence)%</th>\n",
              "      <th>create (action presence)%</th>\n",
              "      <th>active (action presence)%</th>\n",
              "      <th>reviews (action presence)%</th>\n",
              "      <th>lookup (action presence)%</th>\n",
              "      <th>social_connections (action presence)%</th>\n",
              "      <th>search (action presence)%</th>\n",
              "      <th>update (action presence)%</th>\n",
              "      <th>similar_listings (action presence)%</th>\n",
              "      <th>ajax_refresh_subtotal (action presence)%</th>\n",
              "      <th>search_results (action presence)%</th>\n",
              "      <th>personalize (action presence)%</th>\n",
              "      <th>index (action presence)%</th>\n",
              "      <th>show (action presence)%</th>\n",
              "      <th>booking_response (action type presence)%</th>\n",
              "      <th>partner_callback (action type presence)%</th>\n",
              "      <th>booking_request (action type presence)%</th>\n",
              "      <th>message_post (action type presence)%</th>\n",
              "      <th>submit (action type presence)%</th>\n",
              "      <th>-unknown- (action type presence)%</th>\n",
              "      <th>click (action type presence)%</th>\n",
              "      <th>data (action type presence)%</th>\n",
              "      <th>view (action type presence)%</th>\n",
              "    </tr>\n",
              "  </thead>\n",
              "  <tbody>\n",
              "    <tr>\n",
              "      <th>0</th>\n",
              "      <td>00023iyk9l</td>\n",
              "      <td>40</td>\n",
              "      <td>0</td>\n",
              "      <td>0</td>\n",
              "      <td>0</td>\n",
              "      <td>0</td>\n",
              "      <td>0</td>\n",
              "      <td>0</td>\n",
              "      <td>0</td>\n",
              "      <td>0</td>\n",
              "      <td>0</td>\n",
              "      <td>0</td>\n",
              "      <td>0</td>\n",
              "      <td>0</td>\n",
              "      <td>0</td>\n",
              "      <td>0</td>\n",
              "      <td>0</td>\n",
              "      <td>0</td>\n",
              "      <td>0</td>\n",
              "      <td>0</td>\n",
              "      <td>0</td>\n",
              "      <td>0</td>\n",
              "      <td>0</td>\n",
              "      <td>0</td>\n",
              "      <td>0</td>\n",
              "      <td>0</td>\n",
              "      <td>0</td>\n",
              "      <td>0</td>\n",
              "      <td>0</td>\n",
              "      <td>0</td>\n",
              "      <td>0</td>\n",
              "      <td>0</td>\n",
              "      <td>0</td>\n",
              "      <td>0</td>\n",
              "      <td>0</td>\n",
              "      <td>0</td>\n",
              "      <td>0</td>\n",
              "      <td>0</td>\n",
              "      <td>0</td>\n",
              "      <td>0</td>\n",
              "      <td>...</td>\n",
              "      <td>0</td>\n",
              "      <td>0</td>\n",
              "      <td>0</td>\n",
              "      <td>0</td>\n",
              "      <td>0</td>\n",
              "      <td>0.125</td>\n",
              "      <td>0</td>\n",
              "      <td>0.025</td>\n",
              "      <td>0</td>\n",
              "      <td>0</td>\n",
              "      <td>0</td>\n",
              "      <td>0</td>\n",
              "      <td>0.025</td>\n",
              "      <td>0</td>\n",
              "      <td>0</td>\n",
              "      <td>0</td>\n",
              "      <td>0.1</td>\n",
              "      <td>0.05</td>\n",
              "      <td>0</td>\n",
              "      <td>0</td>\n",
              "      <td>0</td>\n",
              "      <td>0</td>\n",
              "      <td>0</td>\n",
              "      <td>0</td>\n",
              "      <td>0</td>\n",
              "      <td>0.075</td>\n",
              "      <td>0.05</td>\n",
              "      <td>0.025</td>\n",
              "      <td>0.1</td>\n",
              "      <td>0.1</td>\n",
              "      <td>0.225</td>\n",
              "      <td>0</td>\n",
              "      <td>0.02702702702702703</td>\n",
              "      <td>0.02702702702702703</td>\n",
              "      <td>0.02702702702702703</td>\n",
              "      <td>0</td>\n",
              "      <td>0</td>\n",
              "      <td>0.10810810810810811</td>\n",
              "      <td>0.24324324324324326</td>\n",
              "      <td>0.5675675675675675</td>\n",
              "    </tr>\n",
              "    <tr>\n",
              "      <th>1</th>\n",
              "      <td>0028jgx1x1</td>\n",
              "      <td>31</td>\n",
              "      <td>0</td>\n",
              "      <td>0</td>\n",
              "      <td>0</td>\n",
              "      <td>0</td>\n",
              "      <td>0</td>\n",
              "      <td>0</td>\n",
              "      <td>0</td>\n",
              "      <td>0</td>\n",
              "      <td>0</td>\n",
              "      <td>0</td>\n",
              "      <td>0</td>\n",
              "      <td>0</td>\n",
              "      <td>0</td>\n",
              "      <td>0</td>\n",
              "      <td>0</td>\n",
              "      <td>0</td>\n",
              "      <td>0</td>\n",
              "      <td>0</td>\n",
              "      <td>0</td>\n",
              "      <td>0</td>\n",
              "      <td>0</td>\n",
              "      <td>0</td>\n",
              "      <td>0</td>\n",
              "      <td>0</td>\n",
              "      <td>0</td>\n",
              "      <td>0</td>\n",
              "      <td>0</td>\n",
              "      <td>0</td>\n",
              "      <td>0</td>\n",
              "      <td>0</td>\n",
              "      <td>0</td>\n",
              "      <td>0</td>\n",
              "      <td>0</td>\n",
              "      <td>0</td>\n",
              "      <td>0</td>\n",
              "      <td>0</td>\n",
              "      <td>0</td>\n",
              "      <td>0</td>\n",
              "      <td>...</td>\n",
              "      <td>0</td>\n",
              "      <td>0</td>\n",
              "      <td>0</td>\n",
              "      <td>0</td>\n",
              "      <td>0</td>\n",
              "      <td>0</td>\n",
              "      <td>0</td>\n",
              "      <td>0</td>\n",
              "      <td>0</td>\n",
              "      <td>0</td>\n",
              "      <td>0</td>\n",
              "      <td>0</td>\n",
              "      <td>0</td>\n",
              "      <td>0</td>\n",
              "      <td>0</td>\n",
              "      <td>0</td>\n",
              "      <td>0</td>\n",
              "      <td>0</td>\n",
              "      <td>0.03225806451612903</td>\n",
              "      <td>0.03225806451612903</td>\n",
              "      <td>0.16129032258064516</td>\n",
              "      <td>0</td>\n",
              "      <td>0</td>\n",
              "      <td>0.2903225806451613</td>\n",
              "      <td>0</td>\n",
              "      <td>0</td>\n",
              "      <td>0</td>\n",
              "      <td>0</td>\n",
              "      <td>0</td>\n",
              "      <td>0</td>\n",
              "      <td>0.4838709677419355</td>\n",
              "      <td>0</td>\n",
              "      <td>0</td>\n",
              "      <td>0</td>\n",
              "      <td>0</td>\n",
              "      <td>0.03225806451612903</td>\n",
              "      <td>0.03225806451612903</td>\n",
              "      <td>0.2903225806451613</td>\n",
              "      <td>0.16129032258064516</td>\n",
              "      <td>0.4838709677419355</td>\n",
              "    </tr>\n",
              "    <tr>\n",
              "      <th>2</th>\n",
              "      <td>002qnbzfs5</td>\n",
              "      <td>789</td>\n",
              "      <td>0</td>\n",
              "      <td>0</td>\n",
              "      <td>0</td>\n",
              "      <td>0</td>\n",
              "      <td>0</td>\n",
              "      <td>0</td>\n",
              "      <td>0</td>\n",
              "      <td>0</td>\n",
              "      <td>0</td>\n",
              "      <td>0</td>\n",
              "      <td>0</td>\n",
              "      <td>0</td>\n",
              "      <td>0</td>\n",
              "      <td>0</td>\n",
              "      <td>0</td>\n",
              "      <td>0</td>\n",
              "      <td>0</td>\n",
              "      <td>0</td>\n",
              "      <td>0</td>\n",
              "      <td>0</td>\n",
              "      <td>0</td>\n",
              "      <td>0</td>\n",
              "      <td>0</td>\n",
              "      <td>0</td>\n",
              "      <td>0</td>\n",
              "      <td>0</td>\n",
              "      <td>0</td>\n",
              "      <td>0</td>\n",
              "      <td>0</td>\n",
              "      <td>0</td>\n",
              "      <td>0</td>\n",
              "      <td>0</td>\n",
              "      <td>0</td>\n",
              "      <td>0</td>\n",
              "      <td>0</td>\n",
              "      <td>0</td>\n",
              "      <td>0</td>\n",
              "      <td>0</td>\n",
              "      <td>...</td>\n",
              "      <td>0</td>\n",
              "      <td>0.0025348542458808617</td>\n",
              "      <td>0</td>\n",
              "      <td>0.044359949302915085</td>\n",
              "      <td>0</td>\n",
              "      <td>0</td>\n",
              "      <td>0.026615969581749048</td>\n",
              "      <td>0.0012674271229404308</td>\n",
              "      <td>0</td>\n",
              "      <td>0</td>\n",
              "      <td>0</td>\n",
              "      <td>0.035487959442332066</td>\n",
              "      <td>0.008871989860583017</td>\n",
              "      <td>0</td>\n",
              "      <td>0</td>\n",
              "      <td>0</td>\n",
              "      <td>0.0025348542458808617</td>\n",
              "      <td>0.0025348542458808617</td>\n",
              "      <td>0.026615969581749048</td>\n",
              "      <td>0.036755386565272496</td>\n",
              "      <td>0.016476552598225603</td>\n",
              "      <td>0</td>\n",
              "      <td>0.09125475285171103</td>\n",
              "      <td>0.15842839036755388</td>\n",
              "      <td>0.016476552598225603</td>\n",
              "      <td>0</td>\n",
              "      <td>0</td>\n",
              "      <td>0</td>\n",
              "      <td>0</td>\n",
              "      <td>0.14575411913814956</td>\n",
              "      <td>0.29404309252217997</td>\n",
              "      <td>0</td>\n",
              "      <td>0</td>\n",
              "      <td>0.0014044943820224719</td>\n",
              "      <td>0.02247191011235955</td>\n",
              "      <td>0.021067415730337078</td>\n",
              "      <td>0.25842696629213485</td>\n",
              "      <td>0.19662921348314608</td>\n",
              "      <td>0.19662921348314608</td>\n",
              "      <td>0.30337078651685395</td>\n",
              "    </tr>\n",
              "    <tr>\n",
              "      <th>3</th>\n",
              "      <td>0035hobuyj</td>\n",
              "      <td>489</td>\n",
              "      <td>0</td>\n",
              "      <td>0</td>\n",
              "      <td>0</td>\n",
              "      <td>0</td>\n",
              "      <td>0</td>\n",
              "      <td>0</td>\n",
              "      <td>0</td>\n",
              "      <td>0</td>\n",
              "      <td>0</td>\n",
              "      <td>0</td>\n",
              "      <td>0</td>\n",
              "      <td>0</td>\n",
              "      <td>0</td>\n",
              "      <td>0</td>\n",
              "      <td>0</td>\n",
              "      <td>0</td>\n",
              "      <td>0</td>\n",
              "      <td>0</td>\n",
              "      <td>0</td>\n",
              "      <td>0</td>\n",
              "      <td>0</td>\n",
              "      <td>0</td>\n",
              "      <td>0</td>\n",
              "      <td>0</td>\n",
              "      <td>0</td>\n",
              "      <td>0</td>\n",
              "      <td>0</td>\n",
              "      <td>0</td>\n",
              "      <td>0</td>\n",
              "      <td>0</td>\n",
              "      <td>0</td>\n",
              "      <td>0</td>\n",
              "      <td>0</td>\n",
              "      <td>0</td>\n",
              "      <td>0</td>\n",
              "      <td>0</td>\n",
              "      <td>0</td>\n",
              "      <td>0</td>\n",
              "      <td>...</td>\n",
              "      <td>0.002044989775051125</td>\n",
              "      <td>0</td>\n",
              "      <td>0.00408997955010225</td>\n",
              "      <td>0</td>\n",
              "      <td>0.00408997955010225</td>\n",
              "      <td>0</td>\n",
              "      <td>0</td>\n",
              "      <td>0.002044989775051125</td>\n",
              "      <td>0.00408997955010225</td>\n",
              "      <td>0</td>\n",
              "      <td>0.010224948875255624</td>\n",
              "      <td>0</td>\n",
              "      <td>0.006134969325153374</td>\n",
              "      <td>0</td>\n",
              "      <td>0</td>\n",
              "      <td>0</td>\n",
              "      <td>0.006134969325153374</td>\n",
              "      <td>0.00408997955010225</td>\n",
              "      <td>0.002044989775051125</td>\n",
              "      <td>0</td>\n",
              "      <td>0</td>\n",
              "      <td>0.30265848670756645</td>\n",
              "      <td>0</td>\n",
              "      <td>0</td>\n",
              "      <td>0.010224948875255624</td>\n",
              "      <td>0.024539877300613498</td>\n",
              "      <td>0.04294478527607362</td>\n",
              "      <td>0.36809815950920244</td>\n",
              "      <td>0.053169734151329244</td>\n",
              "      <td>0.04703476482617587</td>\n",
              "      <td>0.09611451942740286</td>\n",
              "      <td>0</td>\n",
              "      <td>0</td>\n",
              "      <td>0</td>\n",
              "      <td>0.009433962264150943</td>\n",
              "      <td>0.012578616352201259</td>\n",
              "      <td>0.02830188679245283</td>\n",
              "      <td>0.6477987421383647</td>\n",
              "      <td>0.1289308176100629</td>\n",
              "      <td>0.17295597484276728</td>\n",
              "    </tr>\n",
              "    <tr>\n",
              "      <th>4</th>\n",
              "      <td>00389675gq</td>\n",
              "      <td>177</td>\n",
              "      <td>0</td>\n",
              "      <td>0</td>\n",
              "      <td>0</td>\n",
              "      <td>0</td>\n",
              "      <td>0</td>\n",
              "      <td>0</td>\n",
              "      <td>0</td>\n",
              "      <td>0</td>\n",
              "      <td>0</td>\n",
              "      <td>0</td>\n",
              "      <td>0</td>\n",
              "      <td>0</td>\n",
              "      <td>0</td>\n",
              "      <td>0</td>\n",
              "      <td>0</td>\n",
              "      <td>0</td>\n",
              "      <td>0</td>\n",
              "      <td>0</td>\n",
              "      <td>0</td>\n",
              "      <td>0</td>\n",
              "      <td>0</td>\n",
              "      <td>0</td>\n",
              "      <td>0</td>\n",
              "      <td>0</td>\n",
              "      <td>0</td>\n",
              "      <td>0</td>\n",
              "      <td>0</td>\n",
              "      <td>0</td>\n",
              "      <td>0</td>\n",
              "      <td>0</td>\n",
              "      <td>0</td>\n",
              "      <td>0</td>\n",
              "      <td>0</td>\n",
              "      <td>0</td>\n",
              "      <td>0</td>\n",
              "      <td>0</td>\n",
              "      <td>0</td>\n",
              "      <td>0</td>\n",
              "      <td>...</td>\n",
              "      <td>0.005649717514124294</td>\n",
              "      <td>0.022598870056497175</td>\n",
              "      <td>0</td>\n",
              "      <td>0.005649717514124294</td>\n",
              "      <td>0.011299435028248588</td>\n",
              "      <td>0</td>\n",
              "      <td>0</td>\n",
              "      <td>0</td>\n",
              "      <td>0.011299435028248588</td>\n",
              "      <td>0</td>\n",
              "      <td>0.011299435028248588</td>\n",
              "      <td>0.005649717514124294</td>\n",
              "      <td>0.011299435028248588</td>\n",
              "      <td>0.1016949152542373</td>\n",
              "      <td>0.01694915254237288</td>\n",
              "      <td>0</td>\n",
              "      <td>0.011299435028248588</td>\n",
              "      <td>0.011299435028248588</td>\n",
              "      <td>0.011299435028248588</td>\n",
              "      <td>0.01694915254237288</td>\n",
              "      <td>0</td>\n",
              "      <td>0</td>\n",
              "      <td>0.005649717514124294</td>\n",
              "      <td>0</td>\n",
              "      <td>0.005649717514124294</td>\n",
              "      <td>0.096045197740113</td>\n",
              "      <td>0.06779661016949153</td>\n",
              "      <td>0.03389830508474576</td>\n",
              "      <td>0.06779661016949153</td>\n",
              "      <td>0.11864406779661017</td>\n",
              "      <td>0.1864406779661017</td>\n",
              "      <td>0</td>\n",
              "      <td>0</td>\n",
              "      <td>0</td>\n",
              "      <td>0.012269938650306749</td>\n",
              "      <td>0.049079754601226995</td>\n",
              "      <td>0.1411042944785276</td>\n",
              "      <td>0.13496932515337423</td>\n",
              "      <td>0.2085889570552147</td>\n",
              "      <td>0.4539877300613497</td>\n",
              "    </tr>\n",
              "    <tr>\n",
              "      <th>...</th>\n",
              "      <td>...</td>\n",
              "      <td>...</td>\n",
              "      <td>...</td>\n",
              "      <td>...</td>\n",
              "      <td>...</td>\n",
              "      <td>...</td>\n",
              "      <td>...</td>\n",
              "      <td>...</td>\n",
              "      <td>...</td>\n",
              "      <td>...</td>\n",
              "      <td>...</td>\n",
              "      <td>...</td>\n",
              "      <td>...</td>\n",
              "      <td>...</td>\n",
              "      <td>...</td>\n",
              "      <td>...</td>\n",
              "      <td>...</td>\n",
              "      <td>...</td>\n",
              "      <td>...</td>\n",
              "      <td>...</td>\n",
              "      <td>...</td>\n",
              "      <td>...</td>\n",
              "      <td>...</td>\n",
              "      <td>...</td>\n",
              "      <td>...</td>\n",
              "      <td>...</td>\n",
              "      <td>...</td>\n",
              "      <td>...</td>\n",
              "      <td>...</td>\n",
              "      <td>...</td>\n",
              "      <td>...</td>\n",
              "      <td>...</td>\n",
              "      <td>...</td>\n",
              "      <td>...</td>\n",
              "      <td>...</td>\n",
              "      <td>...</td>\n",
              "      <td>...</td>\n",
              "      <td>...</td>\n",
              "      <td>...</td>\n",
              "      <td>...</td>\n",
              "      <td>...</td>\n",
              "      <td>...</td>\n",
              "      <td>...</td>\n",
              "      <td>...</td>\n",
              "      <td>...</td>\n",
              "      <td>...</td>\n",
              "      <td>...</td>\n",
              "      <td>...</td>\n",
              "      <td>...</td>\n",
              "      <td>...</td>\n",
              "      <td>...</td>\n",
              "      <td>...</td>\n",
              "      <td>...</td>\n",
              "      <td>...</td>\n",
              "      <td>...</td>\n",
              "      <td>...</td>\n",
              "      <td>...</td>\n",
              "      <td>...</td>\n",
              "      <td>...</td>\n",
              "      <td>...</td>\n",
              "      <td>...</td>\n",
              "      <td>...</td>\n",
              "      <td>...</td>\n",
              "      <td>...</td>\n",
              "      <td>...</td>\n",
              "      <td>...</td>\n",
              "      <td>...</td>\n",
              "      <td>...</td>\n",
              "      <td>...</td>\n",
              "      <td>...</td>\n",
              "      <td>...</td>\n",
              "      <td>...</td>\n",
              "      <td>...</td>\n",
              "      <td>...</td>\n",
              "      <td>...</td>\n",
              "      <td>...</td>\n",
              "      <td>...</td>\n",
              "      <td>...</td>\n",
              "      <td>...</td>\n",
              "      <td>...</td>\n",
              "      <td>...</td>\n",
              "    </tr>\n",
              "    <tr>\n",
              "      <th>62737</th>\n",
              "      <td>zzx5wp3lqu</td>\n",
              "      <td>52</td>\n",
              "      <td>0</td>\n",
              "      <td>0</td>\n",
              "      <td>0</td>\n",
              "      <td>0</td>\n",
              "      <td>0</td>\n",
              "      <td>0</td>\n",
              "      <td>0</td>\n",
              "      <td>0</td>\n",
              "      <td>0</td>\n",
              "      <td>0</td>\n",
              "      <td>0</td>\n",
              "      <td>0</td>\n",
              "      <td>0</td>\n",
              "      <td>0</td>\n",
              "      <td>0</td>\n",
              "      <td>0</td>\n",
              "      <td>0</td>\n",
              "      <td>0</td>\n",
              "      <td>0</td>\n",
              "      <td>0</td>\n",
              "      <td>0</td>\n",
              "      <td>0</td>\n",
              "      <td>0</td>\n",
              "      <td>0</td>\n",
              "      <td>0</td>\n",
              "      <td>0</td>\n",
              "      <td>0</td>\n",
              "      <td>0</td>\n",
              "      <td>0</td>\n",
              "      <td>0</td>\n",
              "      <td>0</td>\n",
              "      <td>0</td>\n",
              "      <td>0</td>\n",
              "      <td>0</td>\n",
              "      <td>0</td>\n",
              "      <td>0</td>\n",
              "      <td>0</td>\n",
              "      <td>0</td>\n",
              "      <td>...</td>\n",
              "      <td>0</td>\n",
              "      <td>0</td>\n",
              "      <td>0</td>\n",
              "      <td>0</td>\n",
              "      <td>0.019230769230769232</td>\n",
              "      <td>0</td>\n",
              "      <td>0</td>\n",
              "      <td>0.019230769230769232</td>\n",
              "      <td>0</td>\n",
              "      <td>0.21153846153846154</td>\n",
              "      <td>0.038461538461538464</td>\n",
              "      <td>0</td>\n",
              "      <td>0.019230769230769232</td>\n",
              "      <td>0</td>\n",
              "      <td>0</td>\n",
              "      <td>0</td>\n",
              "      <td>0</td>\n",
              "      <td>0.019230769230769232</td>\n",
              "      <td>0</td>\n",
              "      <td>0</td>\n",
              "      <td>0</td>\n",
              "      <td>0</td>\n",
              "      <td>0</td>\n",
              "      <td>0</td>\n",
              "      <td>0.019230769230769232</td>\n",
              "      <td>0.038461538461538464</td>\n",
              "      <td>0.038461538461538464</td>\n",
              "      <td>0.23076923076923078</td>\n",
              "      <td>0.09615384615384616</td>\n",
              "      <td>0.11538461538461539</td>\n",
              "      <td>0.11538461538461539</td>\n",
              "      <td>0</td>\n",
              "      <td>0</td>\n",
              "      <td>0</td>\n",
              "      <td>0.02</td>\n",
              "      <td>0.04</td>\n",
              "      <td>0.24</td>\n",
              "      <td>0.3</td>\n",
              "      <td>0.16</td>\n",
              "      <td>0.24</td>\n",
              "    </tr>\n",
              "    <tr>\n",
              "      <th>62738</th>\n",
              "      <td>zzy7t0y9cm</td>\n",
              "      <td>8</td>\n",
              "      <td>0</td>\n",
              "      <td>0</td>\n",
              "      <td>0</td>\n",
              "      <td>0</td>\n",
              "      <td>0</td>\n",
              "      <td>0</td>\n",
              "      <td>0</td>\n",
              "      <td>0</td>\n",
              "      <td>0</td>\n",
              "      <td>0</td>\n",
              "      <td>0</td>\n",
              "      <td>0</td>\n",
              "      <td>0</td>\n",
              "      <td>0</td>\n",
              "      <td>0</td>\n",
              "      <td>0</td>\n",
              "      <td>0</td>\n",
              "      <td>0</td>\n",
              "      <td>0</td>\n",
              "      <td>0</td>\n",
              "      <td>0</td>\n",
              "      <td>0</td>\n",
              "      <td>0</td>\n",
              "      <td>0</td>\n",
              "      <td>0</td>\n",
              "      <td>0</td>\n",
              "      <td>0</td>\n",
              "      <td>0</td>\n",
              "      <td>0</td>\n",
              "      <td>0</td>\n",
              "      <td>0</td>\n",
              "      <td>0</td>\n",
              "      <td>0</td>\n",
              "      <td>0</td>\n",
              "      <td>0</td>\n",
              "      <td>0</td>\n",
              "      <td>0</td>\n",
              "      <td>0</td>\n",
              "      <td>...</td>\n",
              "      <td>0</td>\n",
              "      <td>0</td>\n",
              "      <td>0</td>\n",
              "      <td>0</td>\n",
              "      <td>0</td>\n",
              "      <td>0</td>\n",
              "      <td>0</td>\n",
              "      <td>0.125</td>\n",
              "      <td>0</td>\n",
              "      <td>0</td>\n",
              "      <td>0</td>\n",
              "      <td>0</td>\n",
              "      <td>0</td>\n",
              "      <td>0</td>\n",
              "      <td>0</td>\n",
              "      <td>0</td>\n",
              "      <td>0.125</td>\n",
              "      <td>0.125</td>\n",
              "      <td>0.125</td>\n",
              "      <td>0</td>\n",
              "      <td>0</td>\n",
              "      <td>0</td>\n",
              "      <td>0</td>\n",
              "      <td>0</td>\n",
              "      <td>0</td>\n",
              "      <td>0</td>\n",
              "      <td>0.125</td>\n",
              "      <td>0</td>\n",
              "      <td>0.25</td>\n",
              "      <td>0</td>\n",
              "      <td>0.125</td>\n",
              "      <td>0</td>\n",
              "      <td>0</td>\n",
              "      <td>0</td>\n",
              "      <td>0</td>\n",
              "      <td>0.14285714285714285</td>\n",
              "      <td>0</td>\n",
              "      <td>0.2857142857142857</td>\n",
              "      <td>0.42857142857142855</td>\n",
              "      <td>0.14285714285714285</td>\n",
              "    </tr>\n",
              "    <tr>\n",
              "      <th>62739</th>\n",
              "      <td>zzysuoqg6x</td>\n",
              "      <td>3</td>\n",
              "      <td>0</td>\n",
              "      <td>0</td>\n",
              "      <td>0</td>\n",
              "      <td>0</td>\n",
              "      <td>0</td>\n",
              "      <td>0</td>\n",
              "      <td>0</td>\n",
              "      <td>0</td>\n",
              "      <td>0</td>\n",
              "      <td>0</td>\n",
              "      <td>0</td>\n",
              "      <td>0</td>\n",
              "      <td>0</td>\n",
              "      <td>0</td>\n",
              "      <td>0</td>\n",
              "      <td>0</td>\n",
              "      <td>0</td>\n",
              "      <td>0</td>\n",
              "      <td>0</td>\n",
              "      <td>0</td>\n",
              "      <td>0</td>\n",
              "      <td>0</td>\n",
              "      <td>0</td>\n",
              "      <td>0</td>\n",
              "      <td>0</td>\n",
              "      <td>0</td>\n",
              "      <td>0</td>\n",
              "      <td>0</td>\n",
              "      <td>0</td>\n",
              "      <td>0</td>\n",
              "      <td>0</td>\n",
              "      <td>0</td>\n",
              "      <td>0</td>\n",
              "      <td>0</td>\n",
              "      <td>0</td>\n",
              "      <td>0</td>\n",
              "      <td>0</td>\n",
              "      <td>0</td>\n",
              "      <td>...</td>\n",
              "      <td>0</td>\n",
              "      <td>0</td>\n",
              "      <td>0</td>\n",
              "      <td>0</td>\n",
              "      <td>0</td>\n",
              "      <td>0</td>\n",
              "      <td>0</td>\n",
              "      <td>0</td>\n",
              "      <td>0</td>\n",
              "      <td>0</td>\n",
              "      <td>0</td>\n",
              "      <td>0</td>\n",
              "      <td>0</td>\n",
              "      <td>0</td>\n",
              "      <td>0</td>\n",
              "      <td>0</td>\n",
              "      <td>0</td>\n",
              "      <td>0.3333333333333333</td>\n",
              "      <td>0.3333333333333333</td>\n",
              "      <td>0</td>\n",
              "      <td>0</td>\n",
              "      <td>0</td>\n",
              "      <td>0</td>\n",
              "      <td>0</td>\n",
              "      <td>0</td>\n",
              "      <td>0</td>\n",
              "      <td>0</td>\n",
              "      <td>0</td>\n",
              "      <td>0</td>\n",
              "      <td>0</td>\n",
              "      <td>0</td>\n",
              "      <td>0</td>\n",
              "      <td>0</td>\n",
              "      <td>0</td>\n",
              "      <td>0</td>\n",
              "      <td>0.3333333333333333</td>\n",
              "      <td>0.3333333333333333</td>\n",
              "      <td>0</td>\n",
              "      <td>0.3333333333333333</td>\n",
              "      <td>0</td>\n",
              "    </tr>\n",
              "    <tr>\n",
              "      <th>62740</th>\n",
              "      <td>zzywmcn0jv</td>\n",
              "      <td>51</td>\n",
              "      <td>0</td>\n",
              "      <td>0</td>\n",
              "      <td>0</td>\n",
              "      <td>0</td>\n",
              "      <td>0</td>\n",
              "      <td>0</td>\n",
              "      <td>0</td>\n",
              "      <td>0</td>\n",
              "      <td>0</td>\n",
              "      <td>0</td>\n",
              "      <td>0</td>\n",
              "      <td>0</td>\n",
              "      <td>0</td>\n",
              "      <td>0</td>\n",
              "      <td>0</td>\n",
              "      <td>0</td>\n",
              "      <td>0</td>\n",
              "      <td>0</td>\n",
              "      <td>0</td>\n",
              "      <td>0</td>\n",
              "      <td>0</td>\n",
              "      <td>0</td>\n",
              "      <td>0</td>\n",
              "      <td>0</td>\n",
              "      <td>0</td>\n",
              "      <td>0</td>\n",
              "      <td>0</td>\n",
              "      <td>0</td>\n",
              "      <td>0</td>\n",
              "      <td>0</td>\n",
              "      <td>0</td>\n",
              "      <td>0</td>\n",
              "      <td>0</td>\n",
              "      <td>0</td>\n",
              "      <td>0</td>\n",
              "      <td>0</td>\n",
              "      <td>0</td>\n",
              "      <td>0</td>\n",
              "      <td>...</td>\n",
              "      <td>0</td>\n",
              "      <td>0</td>\n",
              "      <td>0.0392156862745098</td>\n",
              "      <td>0</td>\n",
              "      <td>0.0392156862745098</td>\n",
              "      <td>0</td>\n",
              "      <td>0</td>\n",
              "      <td>0</td>\n",
              "      <td>0.0196078431372549</td>\n",
              "      <td>0</td>\n",
              "      <td>0</td>\n",
              "      <td>0</td>\n",
              "      <td>0.0392156862745098</td>\n",
              "      <td>0</td>\n",
              "      <td>0</td>\n",
              "      <td>0</td>\n",
              "      <td>0</td>\n",
              "      <td>0.0196078431372549</td>\n",
              "      <td>0.0196078431372549</td>\n",
              "      <td>0</td>\n",
              "      <td>0</td>\n",
              "      <td>0</td>\n",
              "      <td>0</td>\n",
              "      <td>0</td>\n",
              "      <td>0</td>\n",
              "      <td>0.21568627450980393</td>\n",
              "      <td>0.21568627450980393</td>\n",
              "      <td>0.0196078431372549</td>\n",
              "      <td>0.0196078431372549</td>\n",
              "      <td>0.0196078431372549</td>\n",
              "      <td>0.3137254901960784</td>\n",
              "      <td>0</td>\n",
              "      <td>0</td>\n",
              "      <td>0</td>\n",
              "      <td>0.046511627906976744</td>\n",
              "      <td>0.06976744186046512</td>\n",
              "      <td>0.046511627906976744</td>\n",
              "      <td>0.32558139534883723</td>\n",
              "      <td>0.3023255813953488</td>\n",
              "      <td>0.20930232558139536</td>\n",
              "    </tr>\n",
              "    <tr>\n",
              "      <th>62741</th>\n",
              "      <td>zzzlylp57e</td>\n",
              "      <td>74</td>\n",
              "      <td>0</td>\n",
              "      <td>0</td>\n",
              "      <td>0</td>\n",
              "      <td>0</td>\n",
              "      <td>0</td>\n",
              "      <td>0</td>\n",
              "      <td>0</td>\n",
              "      <td>0</td>\n",
              "      <td>0</td>\n",
              "      <td>0</td>\n",
              "      <td>0</td>\n",
              "      <td>0</td>\n",
              "      <td>0</td>\n",
              "      <td>0</td>\n",
              "      <td>0</td>\n",
              "      <td>0</td>\n",
              "      <td>0</td>\n",
              "      <td>0</td>\n",
              "      <td>0</td>\n",
              "      <td>0</td>\n",
              "      <td>0</td>\n",
              "      <td>0</td>\n",
              "      <td>0</td>\n",
              "      <td>0</td>\n",
              "      <td>0</td>\n",
              "      <td>0</td>\n",
              "      <td>0</td>\n",
              "      <td>0</td>\n",
              "      <td>0</td>\n",
              "      <td>0</td>\n",
              "      <td>0</td>\n",
              "      <td>0</td>\n",
              "      <td>0</td>\n",
              "      <td>0</td>\n",
              "      <td>0</td>\n",
              "      <td>0</td>\n",
              "      <td>0</td>\n",
              "      <td>0</td>\n",
              "      <td>...</td>\n",
              "      <td>0</td>\n",
              "      <td>0</td>\n",
              "      <td>0.013513513513513514</td>\n",
              "      <td>0</td>\n",
              "      <td>0.013513513513513514</td>\n",
              "      <td>0.06756756756756757</td>\n",
              "      <td>0</td>\n",
              "      <td>0</td>\n",
              "      <td>0.013513513513513514</td>\n",
              "      <td>0</td>\n",
              "      <td>0</td>\n",
              "      <td>0</td>\n",
              "      <td>0.013513513513513514</td>\n",
              "      <td>0</td>\n",
              "      <td>0</td>\n",
              "      <td>0</td>\n",
              "      <td>0</td>\n",
              "      <td>0.02702702702702703</td>\n",
              "      <td>0.013513513513513514</td>\n",
              "      <td>0</td>\n",
              "      <td>0</td>\n",
              "      <td>0.013513513513513514</td>\n",
              "      <td>0</td>\n",
              "      <td>0</td>\n",
              "      <td>0</td>\n",
              "      <td>0.12162162162162163</td>\n",
              "      <td>0.10810810810810811</td>\n",
              "      <td>0.13513513513513514</td>\n",
              "      <td>0.08108108108108109</td>\n",
              "      <td>0.06756756756756757</td>\n",
              "      <td>0.1891891891891892</td>\n",
              "      <td>0</td>\n",
              "      <td>0</td>\n",
              "      <td>0.014705882352941176</td>\n",
              "      <td>0.014705882352941176</td>\n",
              "      <td>0.04411764705882353</td>\n",
              "      <td>0.058823529411764705</td>\n",
              "      <td>0.3235294117647059</td>\n",
              "      <td>0.25</td>\n",
              "      <td>0.29411764705882354</td>\n",
              "    </tr>\n",
              "  </tbody>\n",
              "</table>\n",
              "<p>62742 rows × 667 columns</p>\n",
              "</div>"
            ],
            "text/plain": [
              "               id  ... view (action type presence)%\n",
              "0      00023iyk9l  ...           0.5675675675675675\n",
              "1      0028jgx1x1  ...           0.4838709677419355\n",
              "2      002qnbzfs5  ...          0.30337078651685395\n",
              "3      0035hobuyj  ...          0.17295597484276728\n",
              "4      00389675gq  ...           0.4539877300613497\n",
              "...           ...  ...                          ...\n",
              "62737  zzx5wp3lqu  ...                         0.24\n",
              "62738  zzy7t0y9cm  ...          0.14285714285714285\n",
              "62739  zzysuoqg6x  ...                            0\n",
              "62740  zzywmcn0jv  ...          0.20930232558139536\n",
              "62741  zzzlylp57e  ...          0.29411764705882354\n",
              "\n",
              "[62742 rows x 667 columns]"
            ]
          },
          "execution_count": 42,
          "metadata": {},
          "output_type": "execute_result"
        }
      ],
      "source": [
        "sessions_train_preprocessed"
      ]
    },
    {
      "cell_type": "code",
      "execution_count": null,
      "metadata": {
        "id": "P3Wl0KMsFwAP"
      },
      "outputs": [],
      "source": [
        "sessions_train_analysis=sessions_train_preprocessed.merge(train_data[['id','country_destination']],on='id')"
      ]
    },
    {
      "cell_type": "markdown",
      "metadata": {
        "id": "v5xBxXEyCPXi"
      },
      "source": [
        "Let us check how much percentage of user id in train users data is covered in sessions data."
      ]
    },
    {
      "cell_type": "code",
      "execution_count": null,
      "metadata": {
        "colab": {
          "base_uri": "https://localhost:8080/",
          "height": 608
        },
        "id": "Q-dZlZCe81rv",
        "outputId": "223fda6d-b858-433b-bceb-72f4c3ad7be2"
      },
      "outputs": [
        {
          "data": {
            "text/plain": [
              "Text(0.5, 1.0, 'Number of users in and not in train sessions dataset')"
            ]
          },
          "execution_count": 44,
          "metadata": {},
          "output_type": "execute_result"
        },
        {
          "data": {
            "image/png": "[encoded data removed]",
            "text/plain": [
              "<Figure size 1080x720 with 1 Axes>"
            ]
          },
          "metadata": {},
          "output_type": "display_data"
        }
      ],
      "source": [
        "overall_sessions_id=(set(sessions_train['user_id']).union(sessions_cv['user_id']))\n",
        "train_users_id=set(train_data['id'])\n",
        "number_left_out=len(train_users_id.difference(overall_sessions_id))\n",
        "number_included=len(overall_sessions_id)\n",
        "\n",
        "plt.figure(figsize=(15,10))\n",
        "plt.pie([number_left_out,number_included],labels=['number of users not in sessions','number of users in sessions'],autopct='%1.2f%%')\n",
        "plt.title(\"Number of users in and not in train sessions dataset\")"
      ]
    },
    {
      "cell_type": "markdown",
      "metadata": {
        "id": "r-6oeH-rB2OV"
      },
      "source": [
        "We can see that 34.58% of users in training data are covered in sessions dataset. Which chows we had discarded about 65% of users data in the train_user csv file."
      ]
    },
    {
      "cell_type": "markdown",
      "metadata": {
        "id": "66GjjHhyGTI1"
      },
      "source": [
        "Let us check how much sessions data cover test users dataset"
      ]
    },
    {
      "cell_type": "code",
      "execution_count": null,
      "metadata": {
        "colab": {
          "base_uri": "https://localhost:8080/",
          "height": 608
        },
        "id": "ml7ucJs5NcU9",
        "outputId": "7d490ec7-76c5-4e3b-8508-72b6de87ae27"
      },
      "outputs": [
        {
          "data": {
            "text/plain": [
              "Text(0.5, 1.0, 'Number of users in and not in test sessions dataset')"
            ]
          },
          "execution_count": 45,
          "metadata": {},
          "output_type": "execute_result"
        },
        {
          "data": {
            "image/png": "[encoded data removed]",
            "text/plain": [
              "<Figure size 1080x720 with 1 Axes>"
            ]
          },
          "metadata": {},
          "output_type": "display_data"
        }
      ],
      "source": [
        "overall_sessions_id=set(sessions_test['user_id'])\n",
        "test_users_id=set(test_data['id'])\n",
        "number_left_out=len(test_users_id.difference(overall_sessions_id))\n",
        "number_included=len(sessions_test['user_id'])\n",
        "\n",
        "plt.figure(figsize=(15,10))\n",
        "plt.pie([number_left_out,number_included],labels=['number of users not in sessions','number of users in sessions'],autopct='%1.2f%%')\n",
        "plt.title(\"Number of users in and not in test sessions dataset\")"
      ]
    },
    {
      "cell_type": "markdown",
      "metadata": {
        "id": "Rp3ebtekENjd"
      },
      "source": [
        "We could see that almost 99.99% of user id in test data are covered in sessions data. This shows us how important the sessions data can be useful. "
      ]
    },
    {
      "cell_type": "code",
      "execution_count": null,
      "metadata": {
        "colab": {
          "base_uri": "https://localhost:8080/",
          "height": 368
        },
        "id": "4zLW1sZrTmtV",
        "outputId": "e40d4fd8-c6d9-41b6-d102-f972b9cb7edd"
      },
      "outputs": [
        {
          "data": {
            "text/plain": [
              "Text(0.5, 1.0, 'Top 10 actions based on number of occurances')"
            ]
          },
          "execution_count": 46,
          "metadata": {},
          "output_type": "execute_result"
        },
        {
          "data": {
            "image/png": "[encoded data removed]",
            "text/plain": [
              "<Figure size 1080x360 with 1 Axes>"
            ]
          },
          "metadata": {},
          "output_type": "display_data"
        }
      ],
      "source": [
        "plt.figure(figsize=(15,5))\n",
        "sns.countplot(data=sessions_train,x='action',order=pd.value_counts(sessions_train['action']).iloc[:10].index)\n",
        "plt.xlabel(\"action\")\n",
        "plt.ylabel('Number of occurances')\n",
        "plt.title(\"Top 10 actions based on number of occurances\")"
      ]
    },
    {
      "cell_type": "markdown",
      "metadata": {
        "id": "xKSkJylP8Hz-"
      },
      "source": [
        "We can see that the action 'show' occurs a lot of time in our dataset. The other actions are much lower compared to the 'show' action."
      ]
    },
    {
      "cell_type": "code",
      "execution_count": null,
      "metadata": {
        "colab": {
          "base_uri": "https://localhost:8080/",
          "height": 368
        },
        "id": "5bmlk1mAVG9W",
        "outputId": "fd68cd2e-0d1a-4cae-af3d-124fd25fab2e"
      },
      "outputs": [
        {
          "data": {
            "text/plain": [
              "Text(0.5, 1.0, 'Top 10 action type based on number of occurances')"
            ]
          },
          "execution_count": 47,
          "metadata": {},
          "output_type": "execute_result"
        },
        {
          "data": {
            "image/png": "[encoded data removed]",
            "text/plain": [
              "<Figure size 1080x360 with 1 Axes>"
            ]
          },
          "metadata": {},
          "output_type": "display_data"
        }
      ],
      "source": [
        "plt.figure(figsize=(15,5))\n",
        "sns.countplot(data=sessions_train,x='action_type',order=pd.value_counts(sessions_train['action_type']).iloc[:10].index)\n",
        "plt.xlabel(\"action type\")\n",
        "plt.ylabel('Number of occurances')\n",
        "plt.title(\"Top 10 action type based on number of occurances\")"
      ]
    },
    {
      "cell_type": "markdown",
      "metadata": {
        "id": "4RmXRQD88omV"
      },
      "source": [
        "We can see that view,click,data,submit are the more frequent occuring action type in the dataset."
      ]
    },
    {
      "cell_type": "code",
      "execution_count": null,
      "metadata": {
        "colab": {
          "base_uri": "https://localhost:8080/",
          "height": 367
        },
        "id": "auxy9xGgVZu_",
        "outputId": "50e357ad-cbec-4e79-eb43-09ab639aa127"
      },
      "outputs": [
        {
          "data": {
            "text/plain": [
              "Text(0.5, 1.0, 'Top 10 device type based on number of occurances')"
            ]
          },
          "execution_count": 48,
          "metadata": {},
          "output_type": "execute_result"
        },
        {
          "data": {
            "image/png": "[encoded data removed]",
            "text/plain": [
              "<Figure size 1080x360 with 1 Axes>"
            ]
          },
          "metadata": {},
          "output_type": "display_data"
        }
      ],
      "source": [
        "plt.figure(figsize=(15,5))\n",
        "sns.countplot(data=sessions_train,x='device_type',order=pd.value_counts(sessions_train['device_type']).iloc[:10].index)\n",
        "plt.xlabel(\"device type\")\n",
        "plt.ylabel('Number of occurances')\n",
        "plt.title(\"Top 10 device type based on number of occurances\")"
      ]
    },
    {
      "cell_type": "markdown",
      "metadata": {
        "id": "DxTBpUJ09JqN"
      },
      "source": [
        "As we done this analysis before in the train_user dataset we can see that here. The desktops are the most prefered ones for the user to access the site followed by iphone and ipad. This graph is almost the same as we saw in the train_user dataset. "
      ]
    },
    {
      "cell_type": "markdown",
      "metadata": {
        "id": "wUuMDFLtOAZv"
      },
      "source": [
        "Lets check how some feature interact with bookings done by the user"
      ]
    },
    {
      "cell_type": "markdown",
      "metadata": {
        "id": "ggiGTWkfPCLY"
      },
      "source": [
        "Let us analyse how the number of records for a users impacts booking of the users"
      ]
    },
    {
      "cell_type": "code",
      "execution_count": null,
      "metadata": {
        "id": "vBa03tFwOscL"
      },
      "outputs": [],
      "source": [
        "ndf=sessions_train_analysis[sessions_train_analysis['country_destination']=='NDF']['no_of_records'].values.astype(np.int)\n",
        "us=sessions_train_analysis[sessions_train_analysis['country_destination']=='US']['no_of_records'].values.astype(np.int)\n",
        "other=sessions_train_analysis[sessions_train_analysis['country_destination']=='other']['no_of_records'].values.astype(np.int)\n",
        "au=sessions_train_analysis[sessions_train_analysis['country_destination']=='AU']['no_of_records'].values.astype(np.int)\n",
        "ca=sessions_train_analysis[sessions_train_analysis['country_destination']=='CA']['no_of_records'].values.astype(np.int)\n",
        "de=sessions_train_analysis[sessions_train_analysis['country_destination']=='DE']['no_of_records'].values.astype(np.int)\n",
        "es=sessions_train_analysis[sessions_train_analysis['country_destination']=='ES']['no_of_records'].values.astype(np.int)\n",
        "fr=sessions_train_analysis[sessions_train_analysis['country_destination']=='FR']['no_of_records'].values.astype(np.int)\n",
        "gb=sessions_train_analysis[sessions_train_analysis['country_destination']=='GB']['no_of_records'].values.astype(np.int)\n",
        "it=sessions_train_analysis[sessions_train_analysis['country_destination']=='IT']['no_of_records'].values.astype(np.int)\n",
        "nl=sessions_train_analysis[sessions_train_analysis['country_destination']=='NL']['no_of_records'].values.astype(np.int)\n",
        "pt=sessions_train_analysis[sessions_train_analysis['country_destination']=='PT']['no_of_records'].values.astype(np.int)\n",
        "\n",
        "data=[ndf,us,other,au,ca,de,es,fr,gb,it,nl,pt]"
      ]
    },
    {
      "cell_type": "code",
      "execution_count": null,
      "metadata": {
        "colab": {
          "base_uri": "https://localhost:8080/",
          "height": 312
        },
        "id": "M6eTOOk2PnxT",
        "outputId": "de0c9923-27aa-45a9-a7d8-be8b0382ca9d"
      },
      "outputs": [
        {
          "data": {
            "text/plain": [
              "Text(0.5, 0, 'Countries')"
            ]
          },
          "execution_count": 50,
          "metadata": {},
          "output_type": "execute_result"
        },
        {
          "data": {
            "image/png": "[encoded data removed]",
            "text/plain": [
              "<Figure size 432x288 with 1 Axes>"
            ]
          },
          "metadata": {},
          "output_type": "display_data"
        }
      ],
      "source": [
        "plt.boxplot(data,labels=['NDF','US','Other','AU','CA','DE','ES','FR','GB','IT','NL','PT'])\n",
        "plt.title(\"Box plot of Users booking based on the contents in sessions\")\n",
        "plt.ylabel(\"Number of contents users had\")\n",
        "plt.xlabel(\"Countries\")"
      ]
    },
    {
      "cell_type": "markdown",
      "metadata": {
        "id": "Kgl6I-TVT1jo"
      },
      "source": [
        "From the above box plot we can see that people who done booking to any countries have lot of records than the persons wo didn't book to any countries.\n",
        "\n",
        "Median value of people who booked to countries other than US is higher than the US which show that many users who wish to go to other countries other than US used to have a lot of check ups on the website and thereby their record increases.\n",
        "\n",
        "Thus this feature can be very much usefull for our prediction since the person who doesnt book would have just skimmed through the website and there by he would be having low contents in sessions. Wherelse a person who is intrested in going out checks a lot on the website and thus have many contents in sessions."
      ]
    },
    {
      "cell_type": "markdown",
      "metadata": {
        "id": "hNSjS4UQSV6v"
      },
      "source": [
        "Lets analyse how the total time elapsed by a user helps us in predicting users preference. "
      ]
    },
    {
      "cell_type": "code",
      "execution_count": null,
      "metadata": {
        "id": "ufIFwPzcSNP7"
      },
      "outputs": [],
      "source": [
        "ndf=sessions_train_analysis[sessions_train_analysis['country_destination']=='NDF']['sum_of_secs_elapsed'].values.astype(np.float)\n",
        "us=sessions_train_analysis[sessions_train_analysis['country_destination']=='US']['sum_of_secs_elapsed'].values.astype(np.float)\n",
        "other=sessions_train_analysis[sessions_train_analysis['country_destination']=='other']['sum_of_secs_elapsed'].values.astype(np.float)\n",
        "au=sessions_train_analysis[sessions_train_analysis['country_destination']=='AU']['sum_of_secs_elapsed'].values.astype(np.float)\n",
        "ca=sessions_train_analysis[sessions_train_analysis['country_destination']=='CA']['sum_of_secs_elapsed'].values.astype(np.float)\n",
        "de=sessions_train_analysis[sessions_train_analysis['country_destination']=='DE']['sum_of_secs_elapsed'].values.astype(np.float)\n",
        "es=sessions_train_analysis[sessions_train_analysis['country_destination']=='ES']['sum_of_secs_elapsed'].values.astype(np.float)\n",
        "fr=sessions_train_analysis[sessions_train_analysis['country_destination']=='FR']['sum_of_secs_elapsed'].values.astype(np.float)\n",
        "gb=sessions_train_analysis[sessions_train_analysis['country_destination']=='GB']['sum_of_secs_elapsed'].values.astype(np.float)\n",
        "it=sessions_train_analysis[sessions_train_analysis['country_destination']=='IT']['sum_of_secs_elapsed'].values.astype(np.float)\n",
        "nl=sessions_train_analysis[sessions_train_analysis['country_destination']=='NL']['sum_of_secs_elapsed'].values.astype(np.float)\n",
        "pt=sessions_train_analysis[sessions_train_analysis['country_destination']=='PT']['sum_of_secs_elapsed'].values.astype(np.float)\n",
        "\n",
        "data=[ndf,us,other,au,ca,de,es,fr,gb,it,nl,pt]"
      ]
    },
    {
      "cell_type": "code",
      "execution_count": null,
      "metadata": {
        "colab": {
          "base_uri": "https://localhost:8080/",
          "height": 312
        },
        "id": "3L_oEpLxZ0HZ",
        "outputId": "38e0a83a-6fd3-4d3e-b465-a5e79d7e12e8"
      },
      "outputs": [
        {
          "data": {
            "text/plain": [
              "Text(0.5, 0, 'Countries')"
            ]
          },
          "execution_count": 52,
          "metadata": {},
          "output_type": "execute_result"
        },
        {
          "data": {
            "image/png": "[encoded data removed]",
            "text/plain": [
              "<Figure size 432x288 with 1 Axes>"
            ]
          },
          "metadata": {},
          "output_type": "display_data"
        }
      ],
      "source": [
        "plt.boxplot(data,labels=['NDF','US','Other','AU','CA','DE','ES','FR','GB','IT','NL','PT'])\n",
        "plt.title(\"Box plot of Users booking based on the sum of secs elapsed in sessions\")\n",
        "plt.ylabel(\"seconds elapsed\")\n",
        "plt.xlabel(\"Countries\")"
      ]
    },
    {
      "cell_type": "markdown",
      "metadata": {
        "id": "1OySoUHuaF4y"
      },
      "source": [
        "This box plot shows the 50th percentile value of secs elapsed by the users who prefered a destination(ie US,AU,other,etc) is higher than that of the 50th percentile value of users who did not book to any destination(ie NDF). When we plot it in terms of distribution we can see some seperation between the distribution of one who booked to a country destination (ie US,other,FR,IT,etc) to that of one who didn't make any bookings(ie NDF).\n",
        "\n",
        "This feature would indeed help us in giving good prediction."
      ]
    },
    {
      "cell_type": "markdown",
      "metadata": {
        "id": "YG28EkYfJka8"
      },
      "source": [
        "Let us also check how standard deviation helps us."
      ]
    },
    {
      "cell_type": "code",
      "execution_count": null,
      "metadata": {
        "id": "BA3bHHObJpSa"
      },
      "outputs": [],
      "source": [
        "ndf=sessions_train_analysis[sessions_train_analysis['country_destination']=='NDF']['std_of_secs_elapsed'].values.astype(np.float)\n",
        "us=sessions_train_analysis[sessions_train_analysis['country_destination']=='US']['std_of_secs_elapsed'].values.astype(np.float)\n",
        "other=sessions_train_analysis[sessions_train_analysis['country_destination']=='other']['std_of_secs_elapsed'].values.astype(np.float)\n",
        "au=sessions_train_analysis[sessions_train_analysis['country_destination']=='AU']['std_of_secs_elapsed'].values.astype(np.float)\n",
        "ca=sessions_train_analysis[sessions_train_analysis['country_destination']=='CA']['std_of_secs_elapsed'].values.astype(np.float)\n",
        "de=sessions_train_analysis[sessions_train_analysis['country_destination']=='DE']['std_of_secs_elapsed'].values.astype(np.float)\n",
        "es=sessions_train_analysis[sessions_train_analysis['country_destination']=='ES']['std_of_secs_elapsed'].values.astype(np.float)\n",
        "fr=sessions_train_analysis[sessions_train_analysis['country_destination']=='FR']['std_of_secs_elapsed'].values.astype(np.float)\n",
        "gb=sessions_train_analysis[sessions_train_analysis['country_destination']=='GB']['std_of_secs_elapsed'].values.astype(np.float)\n",
        "it=sessions_train_analysis[sessions_train_analysis['country_destination']=='IT']['std_of_secs_elapsed'].values.astype(np.float)\n",
        "nl=sessions_train_analysis[sessions_train_analysis['country_destination']=='NL']['std_of_secs_elapsed'].values.astype(np.float)\n",
        "pt=sessions_train_analysis[sessions_train_analysis['country_destination']=='PT']['std_of_secs_elapsed'].values.astype(np.float)\n",
        "\n",
        "data=[ndf,us,other,au,ca,de,es,fr,gb,it,nl,pt]"
      ]
    },
    {
      "cell_type": "code",
      "execution_count": null,
      "metadata": {
        "colab": {
          "base_uri": "https://localhost:8080/",
          "height": 312
        },
        "id": "b1RzlPjgJ7hQ",
        "outputId": "4a3ea5f8-1002-4cb2-c2e4-37b13f72a2c2"
      },
      "outputs": [
        {
          "data": {
            "text/plain": [
              "Text(0.5, 0, 'Countries')"
            ]
          },
          "execution_count": 54,
          "metadata": {},
          "output_type": "execute_result"
        },
        {
          "data": {
            "image/png": "[encoded data removed]",
            "text/plain": [
              "<Figure size 432x288 with 1 Axes>"
            ]
          },
          "metadata": {},
          "output_type": "display_data"
        }
      ],
      "source": [
        "plt.boxplot(data,labels=['NDF','US','Other','AU','CA','DE','ES','FR','GB','IT','NL','PT'])\n",
        "plt.title(\"Box plot of Users booking based on the standard deviation of secs elapsed in sessions\")\n",
        "plt.ylabel(\"std of seconds elapsed\")\n",
        "plt.xlabel(\"Countries\")"
      ]
    },
    {
      "cell_type": "markdown",
      "metadata": {
        "id": "ETamkY_t-kah"
      },
      "source": [
        "Standard deviation box plot shows even more better seperation than the count of recods and the sum of seconds elapsed. The person who prefers a country destination usuall have higher standard deviation to that of those who does'nt make bookings."
      ]
    },
    {
      "cell_type": "markdown",
      "metadata": {
        "id": "pchmL9bDKPBd"
      },
      "source": [
        "From the above three box plot it is evident that the box (ie 25th to 75th percentile) is smaller for NDF and somewhat bigger than NDF for all other destinations. This shows that the majority of people who do not prefer any destination just skim through the website wherelse the ones who decides to go out does an indepth scan."
      ]
    },
    {
      "cell_type": "markdown",
      "metadata": {
        "id": "13qC7NGFIigc"
      },
      "source": [
        "Let us see how the feature 'less_than_equal_60sec_count' helps in users prediction. 'less_than_equal_60sec_count' is the number of actions less than 60 sec count."
      ]
    },
    {
      "cell_type": "code",
      "execution_count": null,
      "metadata": {
        "colab": {
          "base_uri": "https://localhost:8080/",
          "height": 826
        },
        "id": "HemrizWYCHj8",
        "outputId": "d9a21ed6-5a95-4bba-ed1b-923b2297b195"
      },
      "outputs": [
        {
          "data": {
            "text/plain": [
              "Text(0, 0.5, 'Number of users')"
            ]
          },
          "execution_count": 64,
          "metadata": {},
          "output_type": "execute_result"
        },
        {
          "data": {
            "image/png": "[encoded data removed]",
            "text/plain": [
              "<Figure size 2160x1800 with 4 Axes>"
            ]
          },
          "metadata": {},
          "output_type": "display_data"
        }
      ],
      "source": [
        "plt.figure(figsize=(30,25))\n",
        "plt.subplot(2,2,1)\n",
        "sns.histplot(data=sessions_train_analysis,x='less_than_equal_60sec_count',hue='country_destination')\n",
        "plt.title(\"Histogram on number of unique action that have less than 60secs impact on destination choice\")\n",
        "plt.xlabel('Number of actions')\n",
        "plt.ylabel('Number of users')\n",
        "\n",
        "plt.subplot(2,2,2)\n",
        "sns.histplot(data=sessions_train_analysis,x='1min_to_10min_count',hue='country_destination')\n",
        "plt.title(\"Histogram on number of unique action that secs elapsed between 1 min to 10 min impact on destination choice\")\n",
        "plt.xlabel('Number of actions')\n",
        "plt.ylabel('Number of users')\n",
        "\n",
        "plt.subplot(2,2,3)\n",
        "sns.histplot(data=sessions_train_analysis,x='10min_to_1hr_count',hue='country_destination')\n",
        "plt.title(\"Histogram on number of unique action that secs elapsed between 10 min to 2 hr impact on destination choice\")\n",
        "plt.xlabel('Number of actions')\n",
        "plt.ylabel('Number of users')\n",
        "\n",
        "plt.subplot(2,2,4)\n",
        "sns.histplot(data=sessions_train_analysis,x='1hr_to_1day_count',hue='country_destination')\n",
        "plt.title(\"Histogram on number of unique action that secs elapsed between 1 hr to 24 hr impact on destination choice\")\n",
        "plt.xlabel('Number of actions')\n",
        "plt.ylabel('Number of users')"
      ]
    },
    {
      "cell_type": "code",
      "execution_count": null,
      "metadata": {
        "colab": {
          "base_uri": "https://localhost:8080/",
          "height": 312
        },
        "id": "Mkm-qg3pNT_7",
        "outputId": "28d20c01-1c24-4e02-dbd5-593f218c9f4b"
      },
      "outputs": [
        {
          "data": {
            "text/plain": [
              "Text(0, 0.5, 'Number of users')"
            ]
          },
          "execution_count": 65,
          "metadata": {},
          "output_type": "execute_result"
        },
        {
          "data": {
            "image/png": "[encoded data removed]",
            "text/plain": [
              "<Figure size 432x288 with 1 Axes>"
            ]
          },
          "metadata": {},
          "output_type": "display_data"
        }
      ],
      "source": [
        "sns.histplot(data=sessions_train_analysis,x='more_than_1day_count',hue='country_destination')\n",
        "plt.title(\"Histogram on number of unique action that secs elapsed more than 1 day impact on destination choice\")\n",
        "plt.xlabel('Number of actions')\n",
        "plt.ylabel('Number of users')"
      ]
    },
    {
      "cell_type": "markdown",
      "metadata": {
        "id": "puCrg76JI-AO"
      },
      "source": [
        "From all the above 5 diagrams we can see that as the number of counts of action increases the possibility that the users makes booking increases. "
      ]
    },
    {
      "cell_type": "markdown",
      "metadata": {
        "id": "zIKL_zCN_73w"
      },
      "source": [
        "#Cross Validation Sessions#"
      ]
    },
    {
      "cell_type": "code",
      "execution_count": null,
      "metadata": {
        "id": "5i0-fybnANK3"
      },
      "outputs": [],
      "source": [
        "index_of_action=pd.read_csv('/content/drive/MyDrive/Airbnb trail/index_of_action.csv',index_col=0)\n",
        "index_of_action_details=pd.read_csv('/content/drive/MyDrive/Airbnb trail/index_of_action_details.csv',index_col=0)\n",
        "index_of_action_type=pd.read_csv('/content/drive/MyDrive/Airbnb trail/index_of_action_type.csv',index_col=0)\n",
        "index_of_device_type=pd.read_csv('/content/drive/MyDrive/Airbnb trail/index_of_device_type.csv',index_col=0)\n",
        "\n",
        "index_of_action=index_of_action.T\n",
        "index_of_action_details=index_of_action_details.T\n",
        "index_of_action_type=index_of_action_type.T\n",
        "index_of_device_type=index_of_device_type.T"
      ]
    },
    {
      "cell_type": "markdown",
      "metadata": {
        "id": "S6kxmsoVCAGR"
      },
      "source": [
        "We should only have the same category(either in action, action type,action detail, device type) that we had for train data. If there are any new category it will be added as 'OTHER' category for action feature and 'unknown_action_detail','unknown_action_type','unknown_device_type' for action details, action type, device type."
      ]
    },
    {
      "cell_type": "code",
      "execution_count": null,
      "metadata": {
        "id": "RmF_moNLA4Px"
      },
      "outputs": [],
      "source": [
        "sessions_cv.action.fillna(\"unkown_action\",inplace=True)\n",
        "sessions_cv.action_detail.fillna('unknow_action_detail',inplace=True)\n",
        "sessions_cv.action_type.fillna('unkown_action_type',inplace=True)\n",
        "sessions_cv.device_type.fillna('unkown_device_type',inplace=True)"
      ]
    },
    {
      "cell_type": "markdown",
      "metadata": {
        "id": "-8lLB-fxDxMk"
      },
      "source": [
        "We will create a dictionary that has the keys of all unique values of action in both train and cv data. The value of the corresponding keys will be either 1 or 0 which shows whether the action is train sessions or not. This is followed for action type, action details and device type. If any new categorical value occurs in set we will treat it as a nan which means we will change those to 'unkown_action_type' for a  new value in action type feature and similarly for action detail and device type."
      ]
    },
    {
      "cell_type": "markdown",
      "metadata": {
        "id": "_cwYyISSEcdX"
      },
      "source": [
        "####For action####"
      ]
    },
    {
      "cell_type": "code",
      "execution_count": null,
      "metadata": {
        "id": "ztpsyId3A7gz"
      },
      "outputs": [],
      "source": [
        "is_in_train={}\n",
        "for i in sessions_cv.action.unique():\n",
        "  is_in_train[i]=0\n",
        "for i in index_of_action.columns:\n",
        "  is_in_train[i]=1"
      ]
    },
    {
      "cell_type": "code",
      "execution_count": null,
      "metadata": {
        "id": "m_P04VdiB5s1"
      },
      "outputs": [],
      "source": [
        "sessions_cv.action=sessions_cv.action.apply(lambda x: 'OTHER' if is_in_train[x]==0 else x)"
      ]
    },
    {
      "cell_type": "markdown",
      "metadata": {
        "id": "sLvx9tk_EfSc"
      },
      "source": [
        "####For action type####"
      ]
    },
    {
      "cell_type": "code",
      "execution_count": null,
      "metadata": {
        "id": "S1rEusehDpLv"
      },
      "outputs": [],
      "source": [
        "is_in_train={}\n",
        "for i in sessions_cv.action_type.unique():\n",
        "  is_in_train[i]=0\n",
        "for i in index_of_action_type.columns:\n",
        "  is_in_train[i]=1"
      ]
    },
    {
      "cell_type": "code",
      "execution_count": null,
      "metadata": {
        "id": "EyWjwtLREiS5"
      },
      "outputs": [],
      "source": [
        "sessions_cv.action_type=sessions_cv.action_type.apply(lambda x: 'unkown_action_type' if is_in_train[x]==0 else x)"
      ]
    },
    {
      "cell_type": "markdown",
      "metadata": {
        "id": "WyRpCZrXEq3B"
      },
      "source": [
        "####For action detail####"
      ]
    },
    {
      "cell_type": "code",
      "execution_count": null,
      "metadata": {
        "id": "TS2-fldKEx31"
      },
      "outputs": [],
      "source": [
        "is_in_train={}\n",
        "for i in sessions_cv.action_detail.unique():\n",
        "  is_in_train[i]=0\n",
        "for i in index_of_action_details.columns:\n",
        "  is_in_train[i]=1"
      ]
    },
    {
      "cell_type": "code",
      "execution_count": null,
      "metadata": {
        "id": "xm_MjTYRE1jd"
      },
      "outputs": [],
      "source": [
        "sessions_cv.action_detail=sessions_cv.action_detail.apply(lambda x: 'unknow_action_detail' if is_in_train[x]==0 else x)"
      ]
    },
    {
      "cell_type": "markdown",
      "metadata": {
        "id": "lOs082irE_W5"
      },
      "source": [
        "####For device type####"
      ]
    },
    {
      "cell_type": "code",
      "execution_count": null,
      "metadata": {
        "id": "Nf9zU6C8FCac"
      },
      "outputs": [],
      "source": [
        "is_in_train={}\n",
        "for i in sessions_cv.device_type.unique():\n",
        "  is_in_train[i]=0\n",
        "for i in index_of_device_type.columns:\n",
        "  is_in_train[i]=1"
      ]
    },
    {
      "cell_type": "code",
      "execution_count": null,
      "metadata": {
        "id": "p7BBk1KWFCjD"
      },
      "outputs": [],
      "source": [
        "sessions_cv.device_type=sessions_cv.device_type.apply(lambda x: 'unkown_device_type' if is_in_train[x]==0 else x)"
      ]
    },
    {
      "cell_type": "code",
      "execution_count": null,
      "metadata": {
        "colab": {
          "base_uri": "https://localhost:8080/"
        },
        "id": "lEpa60vuFpR2",
        "outputId": "70f39bd8-f972-42d0-a47f-bd36589ff67c"
      },
      "outputs": [
        {
          "name": "stdout",
          "output_type": "stream",
          "text": [
            "Unique Values in train set:\n",
            "For device_type: 14\n",
            "For action: 247\n",
            "For action_type: 10\n",
            "For action_detail: 129\n",
            "**********\n",
            "Unique Values in cv data:\n",
            "For device_type: 13\n",
            "For action: 247\n",
            "For action_type: 10\n",
            "For device_detail: 126\n"
          ]
        }
      ],
      "source": [
        "print(\"Unique Values in train set:\")\n",
        "print(\"For device_type:\",len(index_of_device_type.columns))\n",
        "print(\"For action:\",len(index_of_action.columns))\n",
        "print(\"For action_type:\",len(index_of_action_type.columns))\n",
        "print(\"For action_detail:\",len(index_of_action_details.columns))\n",
        "print(\"*\"*10)\n",
        "\n",
        "print(\"Unique Values in cv data:\")\n",
        "print(\"For device_type:\",len(sessions_cv.device_type.unique()))\n",
        "print(\"For action:\",len(sessions_cv.action.unique()))\n",
        "print(\"For action_type:\",len(sessions_cv.action_type.unique()))\n",
        "print(\"For device_detail:\",len(sessions_cv.action_detail.unique()))"
      ]
    },
    {
      "cell_type": "markdown",
      "metadata": {
        "id": "2v7fmKCpNdxx"
      },
      "source": [
        "###Feature Engineering###"
      ]
    },
    {
      "cell_type": "markdown",
      "metadata": {
        "id": "71AgYSzvaACu"
      },
      "source": [
        "The same that we did for training session data is followed for CV sessions data."
      ]
    },
    {
      "cell_type": "code",
      "execution_count": null,
      "metadata": {
        "colab": {
          "base_uri": "https://localhost:8080/"
        },
        "id": "ESByiFDfNgkf",
        "outputId": "ebe32c20-9045-4ce5-b859-d067f4d43da1"
      },
      "outputs": [
        {
          "name": "stderr",
          "output_type": "stream",
          "text": [
            "100%|██████████| 11073/11073 [05:04<00:00, 36.36it/s]\n"
          ]
        }
      ],
      "source": [
        "from tqdm import tqdm\n",
        "\n",
        "index_of_action=pd.read_csv('/content/drive/MyDrive/Airbnb trail/index_of_action.csv',index_col=0).T\n",
        "index_of_action_details=pd.read_csv('/content/drive/MyDrive/Airbnb trail/index_of_action_details.csv',index_col=0).T\n",
        "index_of_action_type=pd.read_csv('/content/drive/MyDrive/Airbnb trail/index_of_action_type.csv',index_col=0).T\n",
        "index_of_device_type=pd.read_csv('/content/drive/MyDrive/Airbnb trail/index_of_device_type.csv',index_col=0).T\n",
        "  \n",
        "sess_id_group=sessions_cv.groupby(['user_id'])\n",
        "\n",
        "samples = []\n",
        "cont = 0\n",
        "ln = len(sess_id_group)\n",
        "for id_session in tqdm(sess_id_group):\n",
        "    details_of_id = id_session[1]\n",
        "    l = []\n",
        "      \n",
        "    #the id\n",
        "    l.append(id_session[0])\n",
        "      \n",
        "    #The actual first feature is the number of values.\n",
        "    l.append(len(details_of_id))\n",
        "\n",
        "    #For Action \n",
        "    #Number of times unique action value occurs\n",
        "    feature_action=[0]*len(index_of_action.columns)\n",
        "    for i,action in enumerate(details_of_id.action.values):\n",
        "      feature_action[index_of_action[action][0]]+=1\n",
        "    l=l+feature_action\n",
        "\n",
        "    #For action_detail\n",
        "    #Number of times unique action_detail value occurs\n",
        "    feature_action_detail=[0]*len(index_of_action_details.columns)\n",
        "    for i,action in enumerate(details_of_id.action_detail.values):\n",
        "      feature_action_detail[index_of_action_details[action][0]]+=1\n",
        "    l=l+feature_action_detail\n",
        "\n",
        "\n",
        "    #For action_type \n",
        "    #Number of times unique action_type value occurs\n",
        "    feature_action_type=[0]*len(index_of_action_type.columns)\n",
        "    for i,action in enumerate(details_of_id.action_type.values):\n",
        "      feature_action_type[index_of_action_type[action][0]]+=1\n",
        "    l=l+feature_action_type\n",
        "\n",
        "    #For Device type\n",
        "    #Number of times unique device_type value occurs\n",
        "    feature_device_type=[0]*len(index_of_device_type.columns)\n",
        "    for i,device in enumerate(details_of_id.device_type.values):\n",
        "      feature_device_type[index_of_device_type[device][0]]+=1\n",
        "    l=l+feature_device_type\n",
        "\n",
        "    #For seconds elapsed \n",
        "    secs=details_of_id.secs_elapsed.fillna(0).values\n",
        "    feature_secs=[0]*4\n",
        "    if len(secs)>0:\n",
        "      feature_secs[0]=np.sum(secs)\n",
        "      feature_secs[1]=np.mean(secs)\n",
        "      feature_secs[2]=np.std(secs)\n",
        "      feature_secs[3]=np.median(secs)\n",
        "    l=l+feature_secs\n",
        "    \n",
        "    #Secs elapsed representation\n",
        "    feature_action_secs_elapsed_represent=[0]*5\n",
        "    details_of_id.secs_elapsed.fillna(0,inplace=True)\n",
        "    if len(secs)>0:\n",
        "      for i,action in enumerate(details_of_id.action.unique()):\n",
        "        sec_elapsed_sum=details_of_id[details_of_id.action==action]['secs_elapsed'].values.sum()\n",
        "        if sec_elapsed_sum<=60:#less than a minute\n",
        "          feature_action_secs_elapsed_represent[0]+=1\n",
        "        elif sec_elapsed_sum>60 and sec_elapsed_sum<=600:#between 1 minute to 10 minute\n",
        "          feature_action_secs_elapsed_represent[1]+=1\n",
        "        elif sec_elapsed_sum>600 and sec_elapsed_sum<=7200:#between 10 minutes to 2 hours\n",
        "          feature_action_secs_elapsed_represent[2]+=1\n",
        "        elif sec_elapsed_sum>7200 and sec_elapsed_sum<=86400:#between 2 hours to 24 hours\n",
        "          feature_action_secs_elapsed_represent[3]+=1\n",
        "        elif sec_elapsed_sum>86400: #greater than 24 hours\n",
        "          feature_action_secs_elapsed_represent[4]+=1        \n",
        "    l=l+feature_action_secs_elapsed_represent\n",
        "\n",
        "    #Percentage of presence of an action in the id\n",
        "    feature_action_presence=[0]*len(index_of_action.columns)\n",
        "    for i,action in enumerate(details_of_id.action.unique()):\n",
        "      feature_action_presence[index_of_action[action][0]]+=details_of_id[details_of_id.action==action].count()['action']/len(details_of_id.action)\n",
        "    l=l+feature_action_presence\n",
        "\n",
        "    #percentage of presence of action type in id\n",
        "    action_type_unique_counts=np.unique(details_of_id.action_type,return_counts=True)\n",
        "    unknown_action_index=np.where(action_type_unique_counts[0]=='unkown_action_type')\n",
        "    unique_action_type=np.delete(action_type_unique_counts[0],unknown_action_index)\n",
        "    unique_action_type_count=np.delete(action_type_unique_counts[1],unknown_action_index)\n",
        "    feature_action_type_presence=[0]*len(index_of_action_type.columns)\n",
        "    for i,action in enumerate(details_of_id.action_type.unique()):\n",
        "      if action!='unkown_action_type':\n",
        "        action_type_index=np.where(unique_action_type==action)\n",
        "        action_type_count=unique_action_type_count[action_type_index]\n",
        "        feature_action_type_presence[index_of_action_type[action][0]]+=action_type_count[0]/np.sum(unique_action_type_count)\n",
        "    l=l+feature_action_type_presence\n",
        "\n",
        "    samples.append(l)"
      ]
    },
    {
      "cell_type": "code",
      "execution_count": null,
      "metadata": {
        "colab": {
          "base_uri": "https://localhost:8080/"
        },
        "id": "YDT893FC9CVt",
        "outputId": "8b3bd22d-296d-4e4d-a0a2-3f77f3c90240"
      },
      "outputs": [
        {
          "name": "stdout",
          "output_type": "stream",
          "text": [
            "668\n"
          ]
        }
      ],
      "source": [
        "#Setting Column names\n",
        "column_names=[]\n",
        "\n",
        "index_of_action=pd.read_csv('/content/drive/MyDrive/Airbnb trail/index_of_action.csv',index_col=0).T\n",
        "index_of_action_details=pd.read_csv('/content/drive/MyDrive/Airbnb trail/index_of_action_details.csv',index_col=0).T\n",
        "index_of_action_type=pd.read_csv('/content/drive/MyDrive/Airbnb trail/index_of_action_type.csv',index_col=0).T\n",
        "index_of_device_type=pd.read_csv('/content/drive/MyDrive/Airbnb trail/index_of_device_type.csv',index_col=0).T\n",
        "\n",
        "\n",
        "#count\n",
        "column_names.append('id')\n",
        "column_names.append('no_of_records')\n",
        "to_add_list=[0]*len(index_of_action.columns)\n",
        "for i in index_of_action.keys():\n",
        "  to_add_list[index_of_action[i][0]]=i+' (count)'\n",
        "column_names=column_names+to_add_list\n",
        "to_add_list=[0]*len(index_of_action_details.columns)\n",
        "for i in index_of_action_details.keys():\n",
        "  to_add_list[index_of_action_details[i][0]]=i+' (count)'\n",
        "column_names=column_names+to_add_list\n",
        "to_add_list=[0]*len(index_of_action_type.columns)\n",
        "for i in index_of_action_type.keys():\n",
        "  to_add_list[index_of_action_type[i][0]]=i+' (count)'\n",
        "column_names=column_names+to_add_list\n",
        "to_add_list=[0]*len(index_of_device_type.columns)\n",
        "for i in index_of_device_type.keys():\n",
        "  to_add_list[index_of_device_type[i][0]]=i+' (count)'\n",
        "column_names=column_names+to_add_list\n",
        "column_names.append('sum_of_secs_elapsed')\n",
        "column_names.append('mean_of_secs_elapsed')\n",
        "column_names.append('std_of_secs_elapsed')\n",
        "column_names.append('median_of_secs_elapsed')\n",
        "column_names.append('less_than_equal_60sec_count')\n",
        "column_names.append('1min_to_10min_count')\n",
        "column_names.append('10min_to_1hr_count')\n",
        "column_names.append('1hr_to_1day_count')\n",
        "column_names.append('more_than_1day_count')\n",
        "to_add_list=[0]*len(index_of_action.columns)\n",
        "for i in index_of_action.keys():\n",
        "  to_add_list[index_of_action[i][0]]=i+' (action presence)%'\n",
        "column_names=column_names+to_add_list\n",
        "to_add_list=[0]*len(index_of_action_type.columns)\n",
        "for i in index_of_action_type.keys():\n",
        "  to_add_list[index_of_action_type[i][0]]=i+' (action type presence)%'\n",
        "column_names=column_names+to_add_list\n",
        "print(len(column_names))"
      ]
    },
    {
      "cell_type": "code",
      "execution_count": null,
      "metadata": {
        "id": "HRgIR-9l9cGa"
      },
      "outputs": [],
      "source": [
        "samples=np.array(samples)"
      ]
    },
    {
      "cell_type": "code",
      "execution_count": null,
      "metadata": {
        "colab": {
          "base_uri": "https://localhost:8080/",
          "height": 269
        },
        "id": "Jeg6rx7VQJh1",
        "outputId": "bd0b5757-1cd7-40c3-deee-8ebb0fc73520"
      },
      "outputs": [
        {
          "data": {
            "text/html": [
              "<div>\n",
              "<style scoped>\n",
              "    .dataframe tbody tr th:only-of-type {\n",
              "        vertical-align: middle;\n",
              "    }\n",
              "\n",
              "    .dataframe tbody tr th {\n",
              "        vertical-align: top;\n",
              "    }\n",
              "\n",
              "    .dataframe thead th {\n",
              "        text-align: right;\n",
              "    }\n",
              "</style>\n",
              "<table border=\"1\" class=\"dataframe\">\n",
              "  <thead>\n",
              "    <tr style=\"text-align: right;\">\n",
              "      <th></th>\n",
              "      <th>id</th>\n",
              "      <th>no_of_records</th>\n",
              "      <th>change_availability (count)</th>\n",
              "      <th>create_paypal (count)</th>\n",
              "      <th>departments (count)</th>\n",
              "      <th>locations (count)</th>\n",
              "      <th>host_2013 (count)</th>\n",
              "      <th>slideshow (count)</th>\n",
              "      <th>unread (count)</th>\n",
              "      <th>phone_verification_call_taking_too_long (count)</th>\n",
              "      <th>badge (count)</th>\n",
              "      <th>invalid_action (count)</th>\n",
              "      <th>p4_terms (count)</th>\n",
              "      <th>hospitality (count)</th>\n",
              "      <th>social (count)</th>\n",
              "      <th>show_code (count)</th>\n",
              "      <th>how_it_works (count)</th>\n",
              "      <th>detect_fb_session (count)</th>\n",
              "      <th>founders (count)</th>\n",
              "      <th>ajax_worth (count)</th>\n",
              "      <th>payoneer_account_redirect (count)</th>\n",
              "      <th>request_photography (count)</th>\n",
              "      <th>phone_verification_phone_number_removed (count)</th>\n",
              "      <th>hospitality_standards (count)</th>\n",
              "      <th>home_safety_landing (count)</th>\n",
              "      <th>multi_message_attributes (count)</th>\n",
              "      <th>reputation (count)</th>\n",
              "      <th>press_release (count)</th>\n",
              "      <th>multi_message (count)</th>\n",
              "      <th>clear_reservation (count)</th>\n",
              "      <th>concierge (count)</th>\n",
              "      <th>add_guests (count)</th>\n",
              "      <th>widget (count)</th>\n",
              "      <th>office_location (count)</th>\n",
              "      <th>check (count)</th>\n",
              "      <th>place_worth (count)</th>\n",
              "      <th>change_password (count)</th>\n",
              "      <th>p4_refund_policy_terms (count)</th>\n",
              "      <th>become_user (count)</th>\n",
              "      <th>why_host (count)</th>\n",
              "      <th>...</th>\n",
              "      <th>x0_seo</th>\n",
              "      <th>x0_bing</th>\n",
              "      <th>x0_craigslist</th>\n",
              "      <th>x0_direct.1</th>\n",
              "      <th>x0_facebook.1</th>\n",
              "      <th>x0_facebook-open-graph</th>\n",
              "      <th>x0_google.1</th>\n",
              "      <th>x0_gsp</th>\n",
              "      <th>x0_meetup</th>\n",
              "      <th>x0_other.1</th>\n",
              "      <th>x0_padmapper</th>\n",
              "      <th>x0_smallcontribution</th>\n",
              "      <th>x0_vast</th>\n",
              "      <th>x0_yahoo</th>\n",
              "      <th>x0_linked</th>\n",
              "      <th>x0_omg</th>\n",
              "      <th>x0_others</th>\n",
              "      <th>x0_product</th>\n",
              "      <th>x0_tracked-other</th>\n",
              "      <th>x0_untracked</th>\n",
              "      <th>x0_Android</th>\n",
              "      <th>x0_Moweb</th>\n",
              "      <th>x0_Web</th>\n",
              "      <th>x0_iOS</th>\n",
              "      <th>x0_Android Phone</th>\n",
              "      <th>x0_Android Tablet</th>\n",
              "      <th>x0_Desktop (Other)</th>\n",
              "      <th>x0_Mac Desktop</th>\n",
              "      <th>x0_Other/Unknown</th>\n",
              "      <th>x0_SmartPhone (Other)</th>\n",
              "      <th>x0_Windows Desktop</th>\n",
              "      <th>x0_iPad</th>\n",
              "      <th>x0_iPhone</th>\n",
              "      <th>x0_-unknown-.1</th>\n",
              "      <th>x0_Chrome</th>\n",
              "      <th>x0_Firefox</th>\n",
              "      <th>x0_IE</th>\n",
              "      <th>x0_Mobile Safari</th>\n",
              "      <th>x0_Other.1</th>\n",
              "      <th>x0_Safari</th>\n",
              "    </tr>\n",
              "  </thead>\n",
              "  <tbody>\n",
              "    <tr>\n",
              "      <th>0</th>\n",
              "      <td>001wyh0pz8</td>\n",
              "      <td>90</td>\n",
              "      <td>0</td>\n",
              "      <td>0</td>\n",
              "      <td>0</td>\n",
              "      <td>0</td>\n",
              "      <td>0</td>\n",
              "      <td>0</td>\n",
              "      <td>0</td>\n",
              "      <td>0</td>\n",
              "      <td>0</td>\n",
              "      <td>0</td>\n",
              "      <td>0</td>\n",
              "      <td>0</td>\n",
              "      <td>0</td>\n",
              "      <td>0</td>\n",
              "      <td>0</td>\n",
              "      <td>0</td>\n",
              "      <td>0</td>\n",
              "      <td>0</td>\n",
              "      <td>0</td>\n",
              "      <td>0</td>\n",
              "      <td>0</td>\n",
              "      <td>0</td>\n",
              "      <td>0</td>\n",
              "      <td>0</td>\n",
              "      <td>0</td>\n",
              "      <td>0</td>\n",
              "      <td>0</td>\n",
              "      <td>0</td>\n",
              "      <td>0</td>\n",
              "      <td>0</td>\n",
              "      <td>0</td>\n",
              "      <td>0</td>\n",
              "      <td>0</td>\n",
              "      <td>0</td>\n",
              "      <td>0</td>\n",
              "      <td>0</td>\n",
              "      <td>0</td>\n",
              "      <td>0</td>\n",
              "      <td>...</td>\n",
              "      <td>0</td>\n",
              "      <td>0</td>\n",
              "      <td>0</td>\n",
              "      <td>1</td>\n",
              "      <td>0</td>\n",
              "      <td>0</td>\n",
              "      <td>0</td>\n",
              "      <td>0</td>\n",
              "      <td>0</td>\n",
              "      <td>0</td>\n",
              "      <td>0</td>\n",
              "      <td>0</td>\n",
              "      <td>0</td>\n",
              "      <td>0</td>\n",
              "      <td>0</td>\n",
              "      <td>0</td>\n",
              "      <td>0</td>\n",
              "      <td>0</td>\n",
              "      <td>0</td>\n",
              "      <td>1</td>\n",
              "      <td>1</td>\n",
              "      <td>0</td>\n",
              "      <td>0</td>\n",
              "      <td>0</td>\n",
              "      <td>0</td>\n",
              "      <td>0</td>\n",
              "      <td>0</td>\n",
              "      <td>0</td>\n",
              "      <td>1</td>\n",
              "      <td>0</td>\n",
              "      <td>0</td>\n",
              "      <td>0</td>\n",
              "      <td>0</td>\n",
              "      <td>1</td>\n",
              "      <td>0</td>\n",
              "      <td>0</td>\n",
              "      <td>0</td>\n",
              "      <td>0</td>\n",
              "      <td>0</td>\n",
              "      <td>0</td>\n",
              "    </tr>\n",
              "    <tr>\n",
              "      <th>1</th>\n",
              "      <td>003iamz20l</td>\n",
              "      <td>163</td>\n",
              "      <td>0</td>\n",
              "      <td>0</td>\n",
              "      <td>0</td>\n",
              "      <td>0</td>\n",
              "      <td>0</td>\n",
              "      <td>0</td>\n",
              "      <td>0</td>\n",
              "      <td>0</td>\n",
              "      <td>0</td>\n",
              "      <td>0</td>\n",
              "      <td>0</td>\n",
              "      <td>0</td>\n",
              "      <td>0</td>\n",
              "      <td>0</td>\n",
              "      <td>0</td>\n",
              "      <td>0</td>\n",
              "      <td>0</td>\n",
              "      <td>0</td>\n",
              "      <td>0</td>\n",
              "      <td>0</td>\n",
              "      <td>0</td>\n",
              "      <td>0</td>\n",
              "      <td>0</td>\n",
              "      <td>0</td>\n",
              "      <td>0</td>\n",
              "      <td>0</td>\n",
              "      <td>0</td>\n",
              "      <td>0</td>\n",
              "      <td>0</td>\n",
              "      <td>0</td>\n",
              "      <td>0</td>\n",
              "      <td>0</td>\n",
              "      <td>0</td>\n",
              "      <td>0</td>\n",
              "      <td>0</td>\n",
              "      <td>0</td>\n",
              "      <td>0</td>\n",
              "      <td>0</td>\n",
              "      <td>...</td>\n",
              "      <td>0</td>\n",
              "      <td>0</td>\n",
              "      <td>0</td>\n",
              "      <td>1</td>\n",
              "      <td>0</td>\n",
              "      <td>0</td>\n",
              "      <td>0</td>\n",
              "      <td>0</td>\n",
              "      <td>0</td>\n",
              "      <td>0</td>\n",
              "      <td>0</td>\n",
              "      <td>0</td>\n",
              "      <td>0</td>\n",
              "      <td>0</td>\n",
              "      <td>0</td>\n",
              "      <td>0</td>\n",
              "      <td>0</td>\n",
              "      <td>0</td>\n",
              "      <td>0</td>\n",
              "      <td>1</td>\n",
              "      <td>0</td>\n",
              "      <td>0</td>\n",
              "      <td>0</td>\n",
              "      <td>1</td>\n",
              "      <td>0</td>\n",
              "      <td>0</td>\n",
              "      <td>0</td>\n",
              "      <td>0</td>\n",
              "      <td>0</td>\n",
              "      <td>0</td>\n",
              "      <td>0</td>\n",
              "      <td>1</td>\n",
              "      <td>0</td>\n",
              "      <td>1</td>\n",
              "      <td>0</td>\n",
              "      <td>0</td>\n",
              "      <td>0</td>\n",
              "      <td>0</td>\n",
              "      <td>0</td>\n",
              "      <td>0</td>\n",
              "    </tr>\n",
              "    <tr>\n",
              "      <th>2</th>\n",
              "      <td>006mls2sjw</td>\n",
              "      <td>195</td>\n",
              "      <td>0</td>\n",
              "      <td>0</td>\n",
              "      <td>0</td>\n",
              "      <td>0</td>\n",
              "      <td>0</td>\n",
              "      <td>0</td>\n",
              "      <td>0</td>\n",
              "      <td>0</td>\n",
              "      <td>0</td>\n",
              "      <td>0</td>\n",
              "      <td>0</td>\n",
              "      <td>0</td>\n",
              "      <td>0</td>\n",
              "      <td>0</td>\n",
              "      <td>0</td>\n",
              "      <td>0</td>\n",
              "      <td>0</td>\n",
              "      <td>0</td>\n",
              "      <td>0</td>\n",
              "      <td>0</td>\n",
              "      <td>0</td>\n",
              "      <td>0</td>\n",
              "      <td>0</td>\n",
              "      <td>0</td>\n",
              "      <td>0</td>\n",
              "      <td>0</td>\n",
              "      <td>0</td>\n",
              "      <td>0</td>\n",
              "      <td>0</td>\n",
              "      <td>0</td>\n",
              "      <td>0</td>\n",
              "      <td>0</td>\n",
              "      <td>0</td>\n",
              "      <td>0</td>\n",
              "      <td>0</td>\n",
              "      <td>0</td>\n",
              "      <td>0</td>\n",
              "      <td>0</td>\n",
              "      <td>...</td>\n",
              "      <td>0</td>\n",
              "      <td>0</td>\n",
              "      <td>0</td>\n",
              "      <td>0</td>\n",
              "      <td>0</td>\n",
              "      <td>0</td>\n",
              "      <td>1</td>\n",
              "      <td>0</td>\n",
              "      <td>0</td>\n",
              "      <td>0</td>\n",
              "      <td>0</td>\n",
              "      <td>0</td>\n",
              "      <td>0</td>\n",
              "      <td>0</td>\n",
              "      <td>0</td>\n",
              "      <td>0</td>\n",
              "      <td>0</td>\n",
              "      <td>0</td>\n",
              "      <td>0</td>\n",
              "      <td>1</td>\n",
              "      <td>0</td>\n",
              "      <td>0</td>\n",
              "      <td>1</td>\n",
              "      <td>0</td>\n",
              "      <td>0</td>\n",
              "      <td>0</td>\n",
              "      <td>0</td>\n",
              "      <td>1</td>\n",
              "      <td>0</td>\n",
              "      <td>0</td>\n",
              "      <td>0</td>\n",
              "      <td>0</td>\n",
              "      <td>0</td>\n",
              "      <td>0</td>\n",
              "      <td>0</td>\n",
              "      <td>0</td>\n",
              "      <td>0</td>\n",
              "      <td>0</td>\n",
              "      <td>0</td>\n",
              "      <td>1</td>\n",
              "    </tr>\n",
              "    <tr>\n",
              "      <th>3</th>\n",
              "      <td>009a40t3dk</td>\n",
              "      <td>26</td>\n",
              "      <td>0</td>\n",
              "      <td>0</td>\n",
              "      <td>0</td>\n",
              "      <td>0</td>\n",
              "      <td>0</td>\n",
              "      <td>0</td>\n",
              "      <td>0</td>\n",
              "      <td>0</td>\n",
              "      <td>0</td>\n",
              "      <td>0</td>\n",
              "      <td>0</td>\n",
              "      <td>0</td>\n",
              "      <td>0</td>\n",
              "      <td>0</td>\n",
              "      <td>0</td>\n",
              "      <td>0</td>\n",
              "      <td>0</td>\n",
              "      <td>0</td>\n",
              "      <td>0</td>\n",
              "      <td>0</td>\n",
              "      <td>0</td>\n",
              "      <td>0</td>\n",
              "      <td>0</td>\n",
              "      <td>0</td>\n",
              "      <td>0</td>\n",
              "      <td>0</td>\n",
              "      <td>0</td>\n",
              "      <td>0</td>\n",
              "      <td>0</td>\n",
              "      <td>0</td>\n",
              "      <td>0</td>\n",
              "      <td>0</td>\n",
              "      <td>0</td>\n",
              "      <td>0</td>\n",
              "      <td>0</td>\n",
              "      <td>0</td>\n",
              "      <td>0</td>\n",
              "      <td>0</td>\n",
              "      <td>...</td>\n",
              "      <td>0</td>\n",
              "      <td>0</td>\n",
              "      <td>0</td>\n",
              "      <td>1</td>\n",
              "      <td>0</td>\n",
              "      <td>0</td>\n",
              "      <td>0</td>\n",
              "      <td>0</td>\n",
              "      <td>0</td>\n",
              "      <td>0</td>\n",
              "      <td>0</td>\n",
              "      <td>0</td>\n",
              "      <td>0</td>\n",
              "      <td>0</td>\n",
              "      <td>0</td>\n",
              "      <td>0</td>\n",
              "      <td>0</td>\n",
              "      <td>0</td>\n",
              "      <td>0</td>\n",
              "      <td>1</td>\n",
              "      <td>0</td>\n",
              "      <td>0</td>\n",
              "      <td>1</td>\n",
              "      <td>0</td>\n",
              "      <td>0</td>\n",
              "      <td>0</td>\n",
              "      <td>0</td>\n",
              "      <td>0</td>\n",
              "      <td>0</td>\n",
              "      <td>0</td>\n",
              "      <td>1</td>\n",
              "      <td>0</td>\n",
              "      <td>0</td>\n",
              "      <td>0</td>\n",
              "      <td>1</td>\n",
              "      <td>0</td>\n",
              "      <td>0</td>\n",
              "      <td>0</td>\n",
              "      <td>0</td>\n",
              "      <td>0</td>\n",
              "    </tr>\n",
              "    <tr>\n",
              "      <th>4</th>\n",
              "      <td>00cyqikqy3</td>\n",
              "      <td>5</td>\n",
              "      <td>0</td>\n",
              "      <td>0</td>\n",
              "      <td>0</td>\n",
              "      <td>0</td>\n",
              "      <td>0</td>\n",
              "      <td>0</td>\n",
              "      <td>0</td>\n",
              "      <td>0</td>\n",
              "      <td>0</td>\n",
              "      <td>0</td>\n",
              "      <td>0</td>\n",
              "      <td>0</td>\n",
              "      <td>0</td>\n",
              "      <td>0</td>\n",
              "      <td>0</td>\n",
              "      <td>0</td>\n",
              "      <td>0</td>\n",
              "      <td>0</td>\n",
              "      <td>0</td>\n",
              "      <td>0</td>\n",
              "      <td>0</td>\n",
              "      <td>0</td>\n",
              "      <td>0</td>\n",
              "      <td>0</td>\n",
              "      <td>0</td>\n",
              "      <td>0</td>\n",
              "      <td>0</td>\n",
              "      <td>0</td>\n",
              "      <td>0</td>\n",
              "      <td>0</td>\n",
              "      <td>0</td>\n",
              "      <td>0</td>\n",
              "      <td>0</td>\n",
              "      <td>0</td>\n",
              "      <td>0</td>\n",
              "      <td>0</td>\n",
              "      <td>0</td>\n",
              "      <td>0</td>\n",
              "      <td>...</td>\n",
              "      <td>0</td>\n",
              "      <td>0</td>\n",
              "      <td>0</td>\n",
              "      <td>0</td>\n",
              "      <td>0</td>\n",
              "      <td>0</td>\n",
              "      <td>1</td>\n",
              "      <td>0</td>\n",
              "      <td>0</td>\n",
              "      <td>0</td>\n",
              "      <td>0</td>\n",
              "      <td>0</td>\n",
              "      <td>0</td>\n",
              "      <td>0</td>\n",
              "      <td>0</td>\n",
              "      <td>0</td>\n",
              "      <td>0</td>\n",
              "      <td>0</td>\n",
              "      <td>0</td>\n",
              "      <td>1</td>\n",
              "      <td>0</td>\n",
              "      <td>0</td>\n",
              "      <td>1</td>\n",
              "      <td>0</td>\n",
              "      <td>0</td>\n",
              "      <td>0</td>\n",
              "      <td>0</td>\n",
              "      <td>0</td>\n",
              "      <td>0</td>\n",
              "      <td>0</td>\n",
              "      <td>1</td>\n",
              "      <td>0</td>\n",
              "      <td>0</td>\n",
              "      <td>0</td>\n",
              "      <td>1</td>\n",
              "      <td>0</td>\n",
              "      <td>0</td>\n",
              "      <td>0</td>\n",
              "      <td>0</td>\n",
              "      <td>0</td>\n",
              "    </tr>\n",
              "  </tbody>\n",
              "</table>\n",
              "<p>5 rows × 760 columns</p>\n",
              "</div>"
            ],
            "text/plain": [
              "           id no_of_records  ... x0_Other.1 x0_Safari\n",
              "0  001wyh0pz8            90  ...          0         0\n",
              "1  003iamz20l           163  ...          0         0\n",
              "2  006mls2sjw           195  ...          0         1\n",
              "3  009a40t3dk            26  ...          0         0\n",
              "4  00cyqikqy3             5  ...          0         0\n",
              "\n",
              "[5 rows x 760 columns]"
            ]
          },
          "execution_count": 35,
          "metadata": {},
          "output_type": "execute_result"
        }
      ],
      "source": [
        "sessions_cv_preprocessed=pd.DataFrame(samples,columns=column_names)\n",
        "sessions_cv_preprocessed.drop(['unkown_action_type (action type presence)%'],axis=1,inplace=True)\n",
        "preprocessed_cv=sessions_cv_preprocessed.merge(X_cv_data,how='inner',left_on='id',right_on='id')\n",
        "preprocessed_cv.head()"
      ]
    },
    {
      "cell_type": "code",
      "execution_count": null,
      "metadata": {
        "id": "y7Tx0nM6IF8p"
      },
      "outputs": [],
      "source": [
        "preprocessed_cv.to_csv('/content/drive/MyDrive/Airbnb trail/overall_preprocessed_cv.csv')"
      ]
    },
    {
      "cell_type": "markdown",
      "metadata": {
        "id": "cHs3fVsctCDX"
      },
      "source": [
        "#Test Sessions#"
      ]
    },
    {
      "cell_type": "markdown",
      "metadata": {
        "id": "nB0wLyprMEm8"
      },
      "source": [
        "The same procedure done for cv is done for test sessions dataset."
      ]
    },
    {
      "cell_type": "code",
      "execution_count": null,
      "metadata": {
        "id": "jj9tRnkIEOlQ"
      },
      "outputs": [],
      "source": [
        "index_of_action=pd.read_csv('/content/drive/MyDrive/Airbnb trail/index_of_action.csv',index_col=0)\n",
        "index_of_action_details=pd.read_csv('/content/drive/MyDrive/Airbnb trail/index_of_action_details.csv',index_col=0)\n",
        "index_of_action_type=pd.read_csv('/content/drive/MyDrive/Airbnb trail/index_of_action_type.csv',index_col=0)\n",
        "index_of_device_type=pd.read_csv('/content/drive/MyDrive/Airbnb trail/index_of_device_type.csv',index_col=0)\n",
        "\n",
        "index_of_action=index_of_action.T\n",
        "index_of_action_details=index_of_action_details.T\n",
        "index_of_action_type=index_of_action_type.T\n",
        "index_of_device_type=index_of_device_type.T"
      ]
    },
    {
      "cell_type": "code",
      "execution_count": null,
      "metadata": {
        "id": "u5tSF0D5tEc5"
      },
      "outputs": [],
      "source": [
        "sessions_test.action.fillna(\"unkown_action\",inplace=True)\n",
        "sessions_test.action_detail.fillna('unknow_action_detail',inplace=True)\n",
        "sessions_test.action_type.fillna('unkown_action_type',inplace=True)\n",
        "sessions_test.device_type.fillna('unkown_device_type',inplace=True)"
      ]
    },
    {
      "cell_type": "markdown",
      "metadata": {
        "id": "h-_UAk1L1pSh"
      },
      "source": [
        "####For action####"
      ]
    },
    {
      "cell_type": "code",
      "execution_count": null,
      "metadata": {
        "id": "1B7zOfaPtI4F"
      },
      "outputs": [],
      "source": [
        "#We need to have unique action values that are used in the train sessions data\n",
        "is_in_train={}\n",
        "for i in sessions_test.action.unique():\n",
        "  is_in_train[i]=0\n",
        "for i in index_of_action.columns:\n",
        "  is_in_train[i]=1"
      ]
    },
    {
      "cell_type": "code",
      "execution_count": null,
      "metadata": {
        "id": "45hobY0ItLvl"
      },
      "outputs": [],
      "source": [
        "sessions_test.action=sessions_test.action.apply(lambda x: 'OTHER' if is_in_train[x]==0 else x)"
      ]
    },
    {
      "cell_type": "markdown",
      "metadata": {
        "id": "wbE0UWn_1sgy"
      },
      "source": [
        "####For action type####"
      ]
    },
    {
      "cell_type": "code",
      "execution_count": null,
      "metadata": {
        "id": "Ygyf-rL7tMdk"
      },
      "outputs": [],
      "source": [
        "is_in_train={}\n",
        "for i in sessions_test.action_type.unique():\n",
        "  is_in_train[i]=0\n",
        "for i in index_of_action_type.columns:\n",
        "  is_in_train[i]=1"
      ]
    },
    {
      "cell_type": "code",
      "execution_count": null,
      "metadata": {
        "id": "eqKn5E9ztR6S"
      },
      "outputs": [],
      "source": [
        "sessions_test.action_type=sessions_test.action_type.apply(lambda x: 'unkown_action_type' if is_in_train[x]==0 else x)"
      ]
    },
    {
      "cell_type": "markdown",
      "metadata": {
        "id": "MxqWNPPd1waf"
      },
      "source": [
        "####For action detail####"
      ]
    },
    {
      "cell_type": "code",
      "execution_count": null,
      "metadata": {
        "id": "h3NZye0otVO-"
      },
      "outputs": [],
      "source": [
        "is_in_train={}\n",
        "for i in sessions_test.action_detail.unique():\n",
        "  is_in_train[i]=0\n",
        "for i in index_of_action_details.columns:\n",
        "  is_in_train[i]=1"
      ]
    },
    {
      "cell_type": "code",
      "execution_count": null,
      "metadata": {
        "id": "YTtKffQrtW5Z"
      },
      "outputs": [],
      "source": [
        "sessions_test.action_detail=sessions_test.action_detail.apply(lambda x: 'unknow_action_detail' if is_in_train[x]==0 else x)"
      ]
    },
    {
      "cell_type": "markdown",
      "metadata": {
        "id": "6dXDtRj410MQ"
      },
      "source": [
        "####For device type####"
      ]
    },
    {
      "cell_type": "code",
      "execution_count": null,
      "metadata": {
        "id": "4u_cGq4rtYww"
      },
      "outputs": [],
      "source": [
        "is_in_train={}\n",
        "for i in sessions_test.device_type.unique():\n",
        "  is_in_train[i]=0\n",
        "for i in index_of_device_type.columns:\n",
        "  is_in_train[i]=1"
      ]
    },
    {
      "cell_type": "code",
      "execution_count": null,
      "metadata": {
        "id": "b9KmBgzZtbBD"
      },
      "outputs": [],
      "source": [
        "sessions_test.device_type=sessions_test.device_type.apply(lambda x: 'unkown_device_type' if is_in_train[x]==0 else x)"
      ]
    },
    {
      "cell_type": "markdown",
      "metadata": {
        "id": "_4CmCG2LjPQh"
      },
      "source": [
        "####Feature Engineering####"
      ]
    },
    {
      "cell_type": "code",
      "execution_count": null,
      "metadata": {
        "colab": {
          "base_uri": "https://localhost:8080/"
        },
        "id": "FOZDxPBsU5bs",
        "outputId": "155cb7a7-d7a6-4905-cc3c-19f0d8ad488f"
      },
      "outputs": [
        {
          "name": "stderr",
          "output_type": "stream",
          "text": [
            "100%|██████████| 61668/61668 [34:31<00:00, 29.77it/s]\n"
          ]
        }
      ],
      "source": [
        "from tqdm import tqdm\n",
        "\n",
        "index_of_action=pd.read_csv('/content/drive/MyDrive/Airbnb trail/index_of_action.csv',index_col=0).T\n",
        "index_of_action_details=pd.read_csv('/content/drive/MyDrive/Airbnb trail/index_of_action_details.csv',index_col=0).T\n",
        "index_of_action_type=pd.read_csv('/content/drive/MyDrive/Airbnb trail/index_of_action_type.csv',index_col=0).T\n",
        "index_of_device_type=pd.read_csv('/content/drive/MyDrive/Airbnb trail/index_of_device_type.csv',index_col=0).T\n",
        "  \n",
        "sess_id_group=sessions_test.groupby(['user_id'])\n",
        "\n",
        "samples = []\n",
        "ln = len(sess_id_group)\n",
        "for id_session in tqdm(sess_id_group):\n",
        "    details_of_id = id_session[1]\n",
        "    l = []\n",
        "      \n",
        "    #the id\n",
        "    l.append(id_session[0])\n",
        "      \n",
        "    #The actual first feature is the number of values.\n",
        "    l.append(len(details_of_id))\n",
        "\n",
        "    #For Action \n",
        "    #Number of times unique action value occurs\n",
        "    feature_action=[0]*len(index_of_action.columns)\n",
        "    for i,action in enumerate(details_of_id.action.values):\n",
        "      feature_action[index_of_action[action][0]]+=1\n",
        "    l=l+feature_action\n",
        "\n",
        "    #For action_detail\n",
        "    #Number of times unique action_detail value occurs\n",
        "    feature_action_detail=[0]*len(index_of_action_details.columns)\n",
        "    for i,action in enumerate(details_of_id.action_detail.values):\n",
        "      feature_action_detail[index_of_action_details[action][0]]+=1\n",
        "    l=l+feature_action_detail\n",
        "\n",
        "\n",
        "    #For action_type \n",
        "    #Number of times unique action_type value occurs\n",
        "    feature_action_type=[0]*len(index_of_action_type.columns)\n",
        "    for i,action in enumerate(details_of_id.action_type.values):\n",
        "      feature_action_type[index_of_action_type[action][0]]+=1\n",
        "    l=l+feature_action_type\n",
        "\n",
        "    #For Device type\n",
        "    #Number of times unique device_type value occurs\n",
        "    feature_device_type=[0]*len(index_of_device_type.columns)\n",
        "    for i,device in enumerate(details_of_id.device_type.values):\n",
        "      feature_device_type[index_of_device_type[device][0]]+=1\n",
        "    l=l+feature_device_type\n",
        "\n",
        "    #For seconds elapsed \n",
        "    secs=details_of_id.secs_elapsed.fillna(0).values\n",
        "    feature_secs=[0]*4\n",
        "    if len(secs)>0:\n",
        "      feature_secs[0]=np.sum(secs)\n",
        "      feature_secs[1]=np.mean(secs)\n",
        "      feature_secs[2]=np.std(secs)\n",
        "      feature_secs[3]=np.median(secs)\n",
        "    l=l+feature_secs\n",
        "\n",
        "    #Secs elapsed representation\n",
        "    feature_action_secs_elapsed_represent=[0]*5\n",
        "    details_of_id.secs_elapsed.fillna(0,inplace=True)\n",
        "    if len(secs)>0:\n",
        "      for i,action in enumerate(details_of_id.action.unique()):\n",
        "        sec_elapsed_sum=details_of_id[details_of_id.action==action]['secs_elapsed'].values.sum()\n",
        "        if sec_elapsed_sum<=60:#less than a minute\n",
        "          feature_action_secs_elapsed_represent[0]+=1\n",
        "        elif sec_elapsed_sum>60 and sec_elapsed_sum<=600:#between 1 minute to 10 minute\n",
        "          feature_action_secs_elapsed_represent[1]+=1\n",
        "        elif sec_elapsed_sum>600 and sec_elapsed_sum<=7200:#between 10 minutes to 2 hours\n",
        "          feature_action_secs_elapsed_represent[2]+=1\n",
        "        elif sec_elapsed_sum>7200 and sec_elapsed_sum<=86400:#between 2 hours to 24 hours\n",
        "          feature_action_secs_elapsed_represent[3]+=1\n",
        "        elif sec_elapsed_sum>86400: #greater than 24 hours\n",
        "          feature_action_secs_elapsed_represent[4]+=1        \n",
        "    l=l+feature_action_secs_elapsed_represent\n",
        "\n",
        "    #Percentage of presence of an action in the id\n",
        "    feature_action_presence=[0]*len(index_of_action.columns)\n",
        "    for i,action in enumerate(details_of_id.action.unique()):\n",
        "      feature_action_presence[index_of_action[action][0]]+=details_of_id[details_of_id.action==action].count()['action']/len(details_of_id.action)\n",
        "    l=l+feature_action_presence\n",
        "\n",
        "    #percentage of presence of action type in id\n",
        "    action_type_unique_counts=np.unique(details_of_id.action_type,return_counts=True)\n",
        "    unknown_action_index=np.where(action_type_unique_counts[0]=='unkown_action_type')\n",
        "    unique_action_type=np.delete(action_type_unique_counts[0],unknown_action_index)\n",
        "    unique_action_type_count=np.delete(action_type_unique_counts[1],unknown_action_index)\n",
        "    feature_action_type_presence=[0]*len(index_of_action_type.columns)\n",
        "    for i,action in enumerate(details_of_id.action_type.unique()):\n",
        "      if action!='unkown_action_type':\n",
        "        action_type_index=np.where(unique_action_type==action)\n",
        "        action_type_count=unique_action_type_count[action_type_index]\n",
        "        feature_action_type_presence[index_of_action_type[action][0]]+=action_type_count[0]/np.sum(unique_action_type_count)\n",
        "    l=l+feature_action_type_presence\n",
        "\n",
        "    samples.append(l)"
      ]
    },
    {
      "cell_type": "code",
      "execution_count": null,
      "metadata": {
        "colab": {
          "base_uri": "https://localhost:8080/"
        },
        "id": "asjisYXFlnIr",
        "outputId": "a564164d-449b-40ba-c9a3-c2ba7f90c1c5"
      },
      "outputs": [
        {
          "name": "stdout",
          "output_type": "stream",
          "text": [
            "668\n"
          ]
        }
      ],
      "source": [
        "#Setting Column names\n",
        "column_names=[]\n",
        "\n",
        "index_of_action=pd.read_csv('/content/drive/MyDrive/Airbnb trail/index_of_action.csv',index_col=0).T\n",
        "index_of_action_details=pd.read_csv('/content/drive/MyDrive/Airbnb trail/index_of_action_details.csv',index_col=0).T\n",
        "index_of_action_type=pd.read_csv('/content/drive/MyDrive/Airbnb trail/index_of_action_type.csv',index_col=0).T\n",
        "index_of_device_type=pd.read_csv('/content/drive/MyDrive/Airbnb trail/index_of_device_type.csv',index_col=0).T\n",
        "\n",
        "\n",
        "#count\n",
        "column_names.append('id')\n",
        "column_names.append('no_of_records')\n",
        "to_add_list=[0]*len(index_of_action.columns)\n",
        "for i in index_of_action.keys():\n",
        "  to_add_list[index_of_action[i][0]]=i+' (count)'\n",
        "column_names=column_names+to_add_list\n",
        "to_add_list=[0]*len(index_of_action_details.columns)\n",
        "for i in index_of_action_details.keys():\n",
        "  to_add_list[index_of_action_details[i][0]]=i+' (count)'\n",
        "column_names=column_names+to_add_list\n",
        "to_add_list=[0]*len(index_of_action_type.columns)\n",
        "for i in index_of_action_type.keys():\n",
        "  to_add_list[index_of_action_type[i][0]]=i+' (count)'\n",
        "column_names=column_names+to_add_list\n",
        "to_add_list=[0]*len(index_of_device_type.columns)\n",
        "for i in index_of_device_type.keys():\n",
        "  to_add_list[index_of_device_type[i][0]]=i+' (count)'\n",
        "column_names=column_names+to_add_list\n",
        "column_names.append('sum_of_secs_elapsed')\n",
        "column_names.append('mean_of_secs_elapsed')\n",
        "column_names.append('std_of_secs_elapsed')\n",
        "column_names.append('median_of_secs_elapsed')\n",
        "column_names.append('less_than_equal_60sec_count')\n",
        "column_names.append('1min_to_10min_count')\n",
        "column_names.append('10min_to_1hr_count')\n",
        "column_names.append('1hr_to_1day_count')\n",
        "column_names.append('more_than_1day_count')\n",
        "to_add_list=[0]*len(index_of_action.columns)\n",
        "for i in index_of_action.keys():\n",
        "  to_add_list[index_of_action[i][0]]=i+' (action presence)%'\n",
        "column_names=column_names+to_add_list\n",
        "to_add_list=[0]*len(index_of_action_type.columns)\n",
        "for i in index_of_action_type.keys():\n",
        "  to_add_list[index_of_action_type[i][0]]=i+' (action type presence)%'\n",
        "column_names=column_names+to_add_list\n",
        "print(len(column_names))"
      ]
    },
    {
      "cell_type": "markdown",
      "metadata": {
        "id": "z1la3Ah4QlgH"
      },
      "source": [
        "We have certain test data user who are not present in sessions dataset. We can fill all session features to 0 for those who are not in sessions dataset."
      ]
    },
    {
      "cell_type": "code",
      "execution_count": null,
      "metadata": {
        "id": "0qKw0jwlw4L3"
      },
      "outputs": [],
      "source": [
        "#getting left out ids\n",
        "left_out_ids=list((set(test_data['id'])).difference(set(sessions_data['user_id'])))"
      ]
    },
    {
      "cell_type": "code",
      "execution_count": null,
      "metadata": {
        "id": "VP3217PUw-KG"
      },
      "outputs": [],
      "source": [
        "#filling all sessions value to 0 for test users who are not in sessions data\n",
        "for id in range(len(left_out_ids)):\n",
        "  left_out=[left_out_ids[id]]+[0]*(len(column_names)-1)\n",
        "  samples.append(left_out)"
      ]
    },
    {
      "cell_type": "code",
      "execution_count": null,
      "metadata": {
        "colab": {
          "base_uri": "https://localhost:8080/"
        },
        "id": "wnryUxHvgMhH",
        "outputId": "bc8d5abc-c4a0-4b48-c0a0-a8229b243260"
      },
      "outputs": [
        {
          "name": "stdout",
          "output_type": "stream",
          "text": [
            "(62096, 668)\n"
          ]
        }
      ],
      "source": [
        "samples=np.array(samples)\n",
        "print(samples.shape)"
      ]
    },
    {
      "cell_type": "code",
      "execution_count": null,
      "metadata": {
        "colab": {
          "base_uri": "https://localhost:8080/",
          "height": 269
        },
        "id": "IcGsl9RJkpXj",
        "outputId": "179e58d3-3b31-44c1-dbd0-dfdbcbc06b71"
      },
      "outputs": [
        {
          "data": {
            "text/html": [
              "<div>\n",
              "<style scoped>\n",
              "    .dataframe tbody tr th:only-of-type {\n",
              "        vertical-align: middle;\n",
              "    }\n",
              "\n",
              "    .dataframe tbody tr th {\n",
              "        vertical-align: top;\n",
              "    }\n",
              "\n",
              "    .dataframe thead th {\n",
              "        text-align: right;\n",
              "    }\n",
              "</style>\n",
              "<table border=\"1\" class=\"dataframe\">\n",
              "  <thead>\n",
              "    <tr style=\"text-align: right;\">\n",
              "      <th></th>\n",
              "      <th>id</th>\n",
              "      <th>no_of_records</th>\n",
              "      <th>change_availability (count)</th>\n",
              "      <th>create_paypal (count)</th>\n",
              "      <th>departments (count)</th>\n",
              "      <th>locations (count)</th>\n",
              "      <th>host_2013 (count)</th>\n",
              "      <th>slideshow (count)</th>\n",
              "      <th>unread (count)</th>\n",
              "      <th>phone_verification_call_taking_too_long (count)</th>\n",
              "      <th>badge (count)</th>\n",
              "      <th>invalid_action (count)</th>\n",
              "      <th>p4_terms (count)</th>\n",
              "      <th>hospitality (count)</th>\n",
              "      <th>social (count)</th>\n",
              "      <th>show_code (count)</th>\n",
              "      <th>how_it_works (count)</th>\n",
              "      <th>detect_fb_session (count)</th>\n",
              "      <th>founders (count)</th>\n",
              "      <th>ajax_worth (count)</th>\n",
              "      <th>payoneer_account_redirect (count)</th>\n",
              "      <th>request_photography (count)</th>\n",
              "      <th>phone_verification_phone_number_removed (count)</th>\n",
              "      <th>hospitality_standards (count)</th>\n",
              "      <th>home_safety_landing (count)</th>\n",
              "      <th>multi_message_attributes (count)</th>\n",
              "      <th>reputation (count)</th>\n",
              "      <th>press_release (count)</th>\n",
              "      <th>multi_message (count)</th>\n",
              "      <th>clear_reservation (count)</th>\n",
              "      <th>concierge (count)</th>\n",
              "      <th>add_guests (count)</th>\n",
              "      <th>widget (count)</th>\n",
              "      <th>office_location (count)</th>\n",
              "      <th>check (count)</th>\n",
              "      <th>place_worth (count)</th>\n",
              "      <th>change_password (count)</th>\n",
              "      <th>p4_refund_policy_terms (count)</th>\n",
              "      <th>become_user (count)</th>\n",
              "      <th>why_host (count)</th>\n",
              "      <th>...</th>\n",
              "      <th>x0_seo</th>\n",
              "      <th>x0_bing</th>\n",
              "      <th>x0_craigslist</th>\n",
              "      <th>x0_direct.1</th>\n",
              "      <th>x0_facebook.1</th>\n",
              "      <th>x0_facebook-open-graph</th>\n",
              "      <th>x0_google.1</th>\n",
              "      <th>x0_gsp</th>\n",
              "      <th>x0_meetup</th>\n",
              "      <th>x0_other.1</th>\n",
              "      <th>x0_padmapper</th>\n",
              "      <th>x0_smallcontribution</th>\n",
              "      <th>x0_vast</th>\n",
              "      <th>x0_yahoo</th>\n",
              "      <th>x0_linked</th>\n",
              "      <th>x0_omg</th>\n",
              "      <th>x0_others</th>\n",
              "      <th>x0_product</th>\n",
              "      <th>x0_tracked-other</th>\n",
              "      <th>x0_untracked</th>\n",
              "      <th>x0_Android</th>\n",
              "      <th>x0_Moweb</th>\n",
              "      <th>x0_Web</th>\n",
              "      <th>x0_iOS</th>\n",
              "      <th>x0_Android Phone</th>\n",
              "      <th>x0_Android Tablet</th>\n",
              "      <th>x0_Desktop (Other)</th>\n",
              "      <th>x0_Mac Desktop</th>\n",
              "      <th>x0_Other/Unknown</th>\n",
              "      <th>x0_SmartPhone (Other)</th>\n",
              "      <th>x0_Windows Desktop</th>\n",
              "      <th>x0_iPad</th>\n",
              "      <th>x0_iPhone</th>\n",
              "      <th>x0_-unknown-.1</th>\n",
              "      <th>x0_Chrome</th>\n",
              "      <th>x0_Firefox</th>\n",
              "      <th>x0_IE</th>\n",
              "      <th>x0_Mobile Safari</th>\n",
              "      <th>x0_Other.1</th>\n",
              "      <th>x0_Safari</th>\n",
              "    </tr>\n",
              "  </thead>\n",
              "  <tbody>\n",
              "    <tr>\n",
              "      <th>0</th>\n",
              "      <td>0010k6l0om</td>\n",
              "      <td>63</td>\n",
              "      <td>0</td>\n",
              "      <td>0</td>\n",
              "      <td>0</td>\n",
              "      <td>0</td>\n",
              "      <td>0</td>\n",
              "      <td>0</td>\n",
              "      <td>0</td>\n",
              "      <td>0</td>\n",
              "      <td>0</td>\n",
              "      <td>0</td>\n",
              "      <td>0</td>\n",
              "      <td>0</td>\n",
              "      <td>0</td>\n",
              "      <td>0</td>\n",
              "      <td>1</td>\n",
              "      <td>0</td>\n",
              "      <td>0</td>\n",
              "      <td>0</td>\n",
              "      <td>0</td>\n",
              "      <td>0</td>\n",
              "      <td>0</td>\n",
              "      <td>0</td>\n",
              "      <td>0</td>\n",
              "      <td>0</td>\n",
              "      <td>0</td>\n",
              "      <td>0</td>\n",
              "      <td>0</td>\n",
              "      <td>0</td>\n",
              "      <td>0</td>\n",
              "      <td>0</td>\n",
              "      <td>0</td>\n",
              "      <td>0</td>\n",
              "      <td>0</td>\n",
              "      <td>0</td>\n",
              "      <td>0</td>\n",
              "      <td>0</td>\n",
              "      <td>0</td>\n",
              "      <td>0</td>\n",
              "      <td>...</td>\n",
              "      <td>1</td>\n",
              "      <td>0</td>\n",
              "      <td>0</td>\n",
              "      <td>0</td>\n",
              "      <td>0</td>\n",
              "      <td>0</td>\n",
              "      <td>1</td>\n",
              "      <td>0</td>\n",
              "      <td>0</td>\n",
              "      <td>0</td>\n",
              "      <td>0</td>\n",
              "      <td>0</td>\n",
              "      <td>0</td>\n",
              "      <td>0</td>\n",
              "      <td>1</td>\n",
              "      <td>0</td>\n",
              "      <td>0</td>\n",
              "      <td>0</td>\n",
              "      <td>0</td>\n",
              "      <td>0</td>\n",
              "      <td>0</td>\n",
              "      <td>0</td>\n",
              "      <td>1</td>\n",
              "      <td>0</td>\n",
              "      <td>0</td>\n",
              "      <td>0</td>\n",
              "      <td>0</td>\n",
              "      <td>1</td>\n",
              "      <td>0</td>\n",
              "      <td>0</td>\n",
              "      <td>0</td>\n",
              "      <td>0</td>\n",
              "      <td>0</td>\n",
              "      <td>0</td>\n",
              "      <td>1</td>\n",
              "      <td>0</td>\n",
              "      <td>0</td>\n",
              "      <td>0</td>\n",
              "      <td>0</td>\n",
              "      <td>0</td>\n",
              "    </tr>\n",
              "    <tr>\n",
              "      <th>1</th>\n",
              "      <td>0031awlkjq</td>\n",
              "      <td>8</td>\n",
              "      <td>0</td>\n",
              "      <td>0</td>\n",
              "      <td>0</td>\n",
              "      <td>0</td>\n",
              "      <td>0</td>\n",
              "      <td>0</td>\n",
              "      <td>0</td>\n",
              "      <td>0</td>\n",
              "      <td>0</td>\n",
              "      <td>0</td>\n",
              "      <td>0</td>\n",
              "      <td>0</td>\n",
              "      <td>0</td>\n",
              "      <td>0</td>\n",
              "      <td>0</td>\n",
              "      <td>0</td>\n",
              "      <td>0</td>\n",
              "      <td>0</td>\n",
              "      <td>0</td>\n",
              "      <td>0</td>\n",
              "      <td>0</td>\n",
              "      <td>0</td>\n",
              "      <td>0</td>\n",
              "      <td>0</td>\n",
              "      <td>0</td>\n",
              "      <td>0</td>\n",
              "      <td>0</td>\n",
              "      <td>0</td>\n",
              "      <td>0</td>\n",
              "      <td>0</td>\n",
              "      <td>0</td>\n",
              "      <td>0</td>\n",
              "      <td>0</td>\n",
              "      <td>0</td>\n",
              "      <td>0</td>\n",
              "      <td>0</td>\n",
              "      <td>0</td>\n",
              "      <td>0</td>\n",
              "      <td>...</td>\n",
              "      <td>1</td>\n",
              "      <td>0</td>\n",
              "      <td>0</td>\n",
              "      <td>0</td>\n",
              "      <td>1</td>\n",
              "      <td>0</td>\n",
              "      <td>0</td>\n",
              "      <td>0</td>\n",
              "      <td>0</td>\n",
              "      <td>0</td>\n",
              "      <td>0</td>\n",
              "      <td>0</td>\n",
              "      <td>0</td>\n",
              "      <td>0</td>\n",
              "      <td>1</td>\n",
              "      <td>0</td>\n",
              "      <td>0</td>\n",
              "      <td>0</td>\n",
              "      <td>0</td>\n",
              "      <td>0</td>\n",
              "      <td>0</td>\n",
              "      <td>0</td>\n",
              "      <td>1</td>\n",
              "      <td>0</td>\n",
              "      <td>0</td>\n",
              "      <td>0</td>\n",
              "      <td>0</td>\n",
              "      <td>0</td>\n",
              "      <td>0</td>\n",
              "      <td>0</td>\n",
              "      <td>0</td>\n",
              "      <td>0</td>\n",
              "      <td>1</td>\n",
              "      <td>0</td>\n",
              "      <td>0</td>\n",
              "      <td>0</td>\n",
              "      <td>0</td>\n",
              "      <td>1</td>\n",
              "      <td>0</td>\n",
              "      <td>0</td>\n",
              "    </tr>\n",
              "    <tr>\n",
              "      <th>2</th>\n",
              "      <td>00378ocvlh</td>\n",
              "      <td>75</td>\n",
              "      <td>0</td>\n",
              "      <td>0</td>\n",
              "      <td>0</td>\n",
              "      <td>0</td>\n",
              "      <td>0</td>\n",
              "      <td>0</td>\n",
              "      <td>0</td>\n",
              "      <td>0</td>\n",
              "      <td>0</td>\n",
              "      <td>0</td>\n",
              "      <td>0</td>\n",
              "      <td>0</td>\n",
              "      <td>0</td>\n",
              "      <td>0</td>\n",
              "      <td>0</td>\n",
              "      <td>0</td>\n",
              "      <td>0</td>\n",
              "      <td>0</td>\n",
              "      <td>0</td>\n",
              "      <td>0</td>\n",
              "      <td>0</td>\n",
              "      <td>0</td>\n",
              "      <td>0</td>\n",
              "      <td>0</td>\n",
              "      <td>0</td>\n",
              "      <td>0</td>\n",
              "      <td>0</td>\n",
              "      <td>0</td>\n",
              "      <td>0</td>\n",
              "      <td>0</td>\n",
              "      <td>0</td>\n",
              "      <td>0</td>\n",
              "      <td>0</td>\n",
              "      <td>0</td>\n",
              "      <td>0</td>\n",
              "      <td>0</td>\n",
              "      <td>0</td>\n",
              "      <td>0</td>\n",
              "      <td>...</td>\n",
              "      <td>1</td>\n",
              "      <td>0</td>\n",
              "      <td>0</td>\n",
              "      <td>0</td>\n",
              "      <td>0</td>\n",
              "      <td>0</td>\n",
              "      <td>1</td>\n",
              "      <td>0</td>\n",
              "      <td>0</td>\n",
              "      <td>0</td>\n",
              "      <td>0</td>\n",
              "      <td>0</td>\n",
              "      <td>0</td>\n",
              "      <td>0</td>\n",
              "      <td>0</td>\n",
              "      <td>0</td>\n",
              "      <td>0</td>\n",
              "      <td>0</td>\n",
              "      <td>0</td>\n",
              "      <td>1</td>\n",
              "      <td>0</td>\n",
              "      <td>0</td>\n",
              "      <td>1</td>\n",
              "      <td>0</td>\n",
              "      <td>0</td>\n",
              "      <td>0</td>\n",
              "      <td>0</td>\n",
              "      <td>1</td>\n",
              "      <td>0</td>\n",
              "      <td>0</td>\n",
              "      <td>0</td>\n",
              "      <td>0</td>\n",
              "      <td>0</td>\n",
              "      <td>0</td>\n",
              "      <td>0</td>\n",
              "      <td>0</td>\n",
              "      <td>0</td>\n",
              "      <td>0</td>\n",
              "      <td>0</td>\n",
              "      <td>1</td>\n",
              "    </tr>\n",
              "    <tr>\n",
              "      <th>3</th>\n",
              "      <td>0048rkdgb1</td>\n",
              "      <td>46</td>\n",
              "      <td>0</td>\n",
              "      <td>0</td>\n",
              "      <td>0</td>\n",
              "      <td>0</td>\n",
              "      <td>0</td>\n",
              "      <td>0</td>\n",
              "      <td>0</td>\n",
              "      <td>0</td>\n",
              "      <td>0</td>\n",
              "      <td>0</td>\n",
              "      <td>0</td>\n",
              "      <td>0</td>\n",
              "      <td>0</td>\n",
              "      <td>0</td>\n",
              "      <td>0</td>\n",
              "      <td>0</td>\n",
              "      <td>0</td>\n",
              "      <td>0</td>\n",
              "      <td>0</td>\n",
              "      <td>0</td>\n",
              "      <td>0</td>\n",
              "      <td>0</td>\n",
              "      <td>0</td>\n",
              "      <td>0</td>\n",
              "      <td>0</td>\n",
              "      <td>0</td>\n",
              "      <td>0</td>\n",
              "      <td>0</td>\n",
              "      <td>0</td>\n",
              "      <td>0</td>\n",
              "      <td>0</td>\n",
              "      <td>0</td>\n",
              "      <td>0</td>\n",
              "      <td>0</td>\n",
              "      <td>0</td>\n",
              "      <td>0</td>\n",
              "      <td>0</td>\n",
              "      <td>0</td>\n",
              "      <td>...</td>\n",
              "      <td>0</td>\n",
              "      <td>0</td>\n",
              "      <td>0</td>\n",
              "      <td>1</td>\n",
              "      <td>0</td>\n",
              "      <td>0</td>\n",
              "      <td>0</td>\n",
              "      <td>0</td>\n",
              "      <td>0</td>\n",
              "      <td>0</td>\n",
              "      <td>0</td>\n",
              "      <td>0</td>\n",
              "      <td>0</td>\n",
              "      <td>0</td>\n",
              "      <td>0</td>\n",
              "      <td>0</td>\n",
              "      <td>0</td>\n",
              "      <td>0</td>\n",
              "      <td>0</td>\n",
              "      <td>1</td>\n",
              "      <td>0</td>\n",
              "      <td>0</td>\n",
              "      <td>0</td>\n",
              "      <td>1</td>\n",
              "      <td>0</td>\n",
              "      <td>0</td>\n",
              "      <td>0</td>\n",
              "      <td>0</td>\n",
              "      <td>0</td>\n",
              "      <td>0</td>\n",
              "      <td>0</td>\n",
              "      <td>0</td>\n",
              "      <td>1</td>\n",
              "      <td>1</td>\n",
              "      <td>0</td>\n",
              "      <td>0</td>\n",
              "      <td>0</td>\n",
              "      <td>0</td>\n",
              "      <td>0</td>\n",
              "      <td>0</td>\n",
              "    </tr>\n",
              "    <tr>\n",
              "      <th>4</th>\n",
              "      <td>0057snrdpu</td>\n",
              "      <td>28</td>\n",
              "      <td>0</td>\n",
              "      <td>0</td>\n",
              "      <td>0</td>\n",
              "      <td>0</td>\n",
              "      <td>0</td>\n",
              "      <td>0</td>\n",
              "      <td>0</td>\n",
              "      <td>0</td>\n",
              "      <td>0</td>\n",
              "      <td>0</td>\n",
              "      <td>0</td>\n",
              "      <td>0</td>\n",
              "      <td>0</td>\n",
              "      <td>0</td>\n",
              "      <td>0</td>\n",
              "      <td>0</td>\n",
              "      <td>0</td>\n",
              "      <td>0</td>\n",
              "      <td>0</td>\n",
              "      <td>0</td>\n",
              "      <td>0</td>\n",
              "      <td>0</td>\n",
              "      <td>0</td>\n",
              "      <td>0</td>\n",
              "      <td>0</td>\n",
              "      <td>0</td>\n",
              "      <td>0</td>\n",
              "      <td>0</td>\n",
              "      <td>0</td>\n",
              "      <td>0</td>\n",
              "      <td>0</td>\n",
              "      <td>0</td>\n",
              "      <td>0</td>\n",
              "      <td>0</td>\n",
              "      <td>0</td>\n",
              "      <td>0</td>\n",
              "      <td>0</td>\n",
              "      <td>0</td>\n",
              "      <td>...</td>\n",
              "      <td>1</td>\n",
              "      <td>0</td>\n",
              "      <td>0</td>\n",
              "      <td>0</td>\n",
              "      <td>1</td>\n",
              "      <td>0</td>\n",
              "      <td>0</td>\n",
              "      <td>0</td>\n",
              "      <td>0</td>\n",
              "      <td>0</td>\n",
              "      <td>0</td>\n",
              "      <td>0</td>\n",
              "      <td>0</td>\n",
              "      <td>0</td>\n",
              "      <td>1</td>\n",
              "      <td>0</td>\n",
              "      <td>0</td>\n",
              "      <td>0</td>\n",
              "      <td>0</td>\n",
              "      <td>0</td>\n",
              "      <td>0</td>\n",
              "      <td>0</td>\n",
              "      <td>1</td>\n",
              "      <td>0</td>\n",
              "      <td>1</td>\n",
              "      <td>0</td>\n",
              "      <td>0</td>\n",
              "      <td>0</td>\n",
              "      <td>0</td>\n",
              "      <td>0</td>\n",
              "      <td>0</td>\n",
              "      <td>0</td>\n",
              "      <td>0</td>\n",
              "      <td>0</td>\n",
              "      <td>0</td>\n",
              "      <td>0</td>\n",
              "      <td>0</td>\n",
              "      <td>0</td>\n",
              "      <td>1</td>\n",
              "      <td>0</td>\n",
              "    </tr>\n",
              "  </tbody>\n",
              "</table>\n",
              "<p>5 rows × 759 columns</p>\n",
              "</div>"
            ],
            "text/plain": [
              "           id no_of_records  ... x0_Other.1 x0_Safari\n",
              "0  0010k6l0om            63  ...          0         0\n",
              "1  0031awlkjq             8  ...          0         0\n",
              "2  00378ocvlh            75  ...          0         1\n",
              "3  0048rkdgb1            46  ...          0         0\n",
              "4  0057snrdpu            28  ...          1         0\n",
              "\n",
              "[5 rows x 759 columns]"
            ]
          },
          "execution_count": 35,
          "metadata": {},
          "output_type": "execute_result"
        }
      ],
      "source": [
        "sessions_test_preprocessed=pd.DataFrame(samples,columns=column_names)\n",
        "sessions_test_preprocessed.drop(['unkown_action_type (action type presence)%'],axis=1,inplace=True)\n",
        "preprocessed_test=sessions_test_preprocessed.merge(X_test_data,how='inner',left_on='id',right_on='id')\n",
        "preprocessed_test.head()"
      ]
    },
    {
      "cell_type": "code",
      "execution_count": null,
      "metadata": {
        "id": "ZENMDGK0gqsQ"
      },
      "outputs": [],
      "source": [
        "preprocessed_test.to_csv('/content/drive/MyDrive/Airbnb trail/overall_preprocessed_test.csv')"
      ]
    }
  ],
  "metadata": {
    "colab": {
      "collapsed_sections": [
        "DjHk1ynfu6gs",
        "zIKL_zCN_73w",
        "2v7fmKCpNdxx"
      ],
      "name": "sessions feature extraction,analysis,engineering .ipynb",
      "provenance": []
    },
    "kernelspec": {
      "display_name": "Python 3",
      "name": "python3"
    },
    "language_info": {
      "name": "python"
    }
  },
  "nbformat": 4,
  "nbformat_minor": 0
}